{
 "cells": [
  {
   "cell_type": "code",
   "execution_count": 2,
   "metadata": {},
   "outputs": [],
   "source": [
    "import numpy as np  # NumPy: For numerical and array operations.\n",
    "import pandas as pd  # Pandas: For data manipulation and analysis.\n",
    "import matplotlib.pyplot as plt  # Matplotlib: For creating various types of plots and charts.\n",
    "import seaborn as sns  # Seaborn: For making data visualizations more attractive and informative.\n",
    "import re \n",
    "import glob"
   ]
  },
  {
   "cell_type": "code",
   "execution_count": 3,
   "metadata": {},
   "outputs": [],
   "source": [
    "brizo_US = pd.read_csv(\"../data/SAM/November SAM List - Brizo - US (1-47669).csv\")\n",
    "brizo_CAN = pd.read_csv(\"../data/SAM/November SAM List - Brizo - CAN (47670-54533).csv\")\n",
    "   \n",
    "all_data_brizo = pd.concat([brizo_US, brizo_CAN], ignore_index=True)"
   ]
  },
  {
   "cell_type": "code",
   "execution_count": 4,
   "metadata": {},
   "outputs": [],
   "source": [
    "all_data_brizo = all_data_brizo.dropna(subset=['Snowball Map'])\n",
    "extracted_ids_brizo = all_data_brizo['Snowball Map'].tolist()\n",
    "all_data_brizo['Snowball Map'] = [str(int(id)).zfill(5) if isinstance(id, (int, float)) else id for id in extracted_ids_brizo]"
   ]
  },
  {
   "cell_type": "code",
   "execution_count": 5,
   "metadata": {},
   "outputs": [],
   "source": [
    "all_data_brizo['Business Phone'] = all_data_brizo['Business Phone'] .str.replace(r'\\D', '', regex=True)"
   ]
  },
  {
   "cell_type": "code",
   "execution_count": 6,
   "metadata": {},
   "outputs": [],
   "source": [
    "all_data_brizo.to_csv(\"../data/Clean/all_brizo.csv\")"
   ]
  }
 ],
 "metadata": {
  "kernelspec": {
   "display_name": "Python 3",
   "language": "python",
   "name": "python3"
  },
  "language_info": {
   "codemirror_mode": {
    "name": "ipython",
    "version": 3
   },
   "file_extension": ".py",
   "mimetype": "text/x-python",
   "name": "python",
   "nbconvert_exporter": "python",
   "pygments_lexer": "ipython3",
   "version": "3.12.0"
  }
 },
 "nbformat": 4,
 "nbformat_minor": 2
}
