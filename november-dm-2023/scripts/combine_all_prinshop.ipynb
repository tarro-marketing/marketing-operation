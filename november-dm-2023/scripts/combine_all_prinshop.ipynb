{
 "cells": [
  {
   "cell_type": "code",
   "execution_count": 2,
   "metadata": {},
   "outputs": [],
   "source": [
    "import numpy as np  # NumPy: For numerical and array operations.\n",
    "import pandas as pd  # Pandas: For data manipulation and analysis.\n",
    "import matplotlib.pyplot as plt  # Matplotlib: For creating various types of plots and charts.\n",
    "import seaborn as sns  # Seaborn: For making data visualizations more attractive and informative.\n",
    "import re \n",
    "import glob"
   ]
  },
  {
   "cell_type": "code",
   "execution_count": 3,
   "metadata": {},
   "outputs": [],
   "source": [
    "printshop_CAN = pd.read_csv(\"../data/SAM/November SAM List - Print Shop - CAN (88976-89501).csv\")\n",
    "printshop_US =pd.read_csv(\"../data/SAM/November SAM List - Print Shop - US (54534-88975).csv\",low_memory= False)\n",
    "\n",
    "all_data_printshop = pd.concat([printshop_CAN, printshop_US], ignore_index=True)"
   ]
  },
  {
   "cell_type": "code",
   "execution_count": 4,
   "metadata": {},
   "outputs": [],
   "source": [
    "all_data_printshop = all_data_printshop.dropna(subset=['Snowball Map'])\n",
    "extracted_ids_printshop = all_data_printshop['Snowball Map'].tolist()\n",
    "all_data_printshop['Snowball Map'] = [str(int(id)).zfill(5) if isinstance(id, (int, float)) else id for id in extracted_ids_printshop]"
   ]
  },
  {
   "cell_type": "code",
   "execution_count": 5,
   "metadata": {},
   "outputs": [],
   "source": [
    "all_data_printshop.to_csv(\"../data/Clean/all_prinshop.csv\")"
   ]
  }
 ],
 "metadata": {
  "kernelspec": {
   "display_name": "Python 3",
   "language": "python",
   "name": "python3"
  },
  "language_info": {
   "codemirror_mode": {
    "name": "ipython",
    "version": 3
   },
   "file_extension": ".py",
   "mimetype": "text/x-python",
   "name": "python",
   "nbconvert_exporter": "python",
   "pygments_lexer": "ipython3",
   "version": "3.12.0"
  }
 },
 "nbformat": 4,
 "nbformat_minor": 2
}
