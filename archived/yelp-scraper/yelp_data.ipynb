{
 "cells": [
  {
   "cell_type": "code",
   "execution_count": 2,
   "metadata": {},
   "outputs": [],
   "source": [
    "import requests\n",
    "import pandas as pd\n",
    "\n",
    "# your api key from yelp\n",
    "api_key = \"4aW9J9oK_d4dDOdyM-cEv08qGoQGwfNx2EMXDmHUbmZivWTWUNi0dKLHhPW79txJMw9nP4X4Vq1MTOYb8ygbnsmcH2eDPQG22vb902qd5cdKp4ZasUhdpp2eboI2Z3Yx\"\n",
    "headers = {\"Authorization\": f\"Bearer {api_key}\"}\n",
    "\n",
    "# define the search parameters (e.g., term, location, etc.)\n",
    "url = \"https://api.yelp.com/v3/businesses/search\"\n",
    "params = {\n",
    "    \"term\": \"restaurant\",\n",
    "    \"location\": \"Cupertino, CA\",  # replace with your location\n",
    "    \"limit\": 10                    # limit the number of results\n",
    "}\n",
    "\n",
    "# make the request\n",
    "response = requests.get(url, headers=headers, params=params)\n",
    "data = response.json()\n",
    "\n"
   ]
  },
  {
   "cell_type": "code",
   "execution_count": 5,
   "metadata": {},
   "outputs": [
    {
     "name": "stdout",
     "output_type": "stream",
     "text": [
      "                         name           phone  rating  review_count  \\\n",
      "0                Siam Station  (408) 495-9959     4.3           919   \n",
      "1                    Home Eat  (408) 982-3988     4.5           643   \n",
      "2  Marufuku Ramen - Cupertino  (408) 982-3028     4.5           618   \n",
      "3               The City Fish  (408) 320-1434     4.4          1232   \n",
      "4      Uzumakiya Udon Izakaya  (408) 490-4017     4.5          1329   \n",
      "5                 Sweet Maple  (408) 216-0759     4.1          1055   \n",
      "6           四姐 Special Noodle  (408) 320-1966     4.4           548   \n",
      "7                 Curry Hyuga  (408) 352-5368     4.3           506   \n",
      "8                  Cap't Loui  (669) 242-7449     4.6           987   \n",
      "9                     Bon Mot  (408) 645-5747     4.2           263   \n",
      "\n",
      "  price_range  \n",
      "0          $$  \n",
      "1          $$  \n",
      "2          $$  \n",
      "3          $$  \n",
      "4          $$  \n",
      "5          $$  \n",
      "6          $$  \n",
      "7          $$  \n",
      "8          $$  \n",
      "9        None  \n"
     ]
    }
   ],
   "source": [
    "# extract desired fields\n",
    "business_info = []\n",
    "for business in data[\"businesses\"]:\n",
    "    name = business.get(\"name\")\n",
    "    phone = business.get(\"display_phone\")  # phone number\n",
    "    rating = business.get(\"rating\")        # rating\n",
    "    review_count = business.get(\"review_count\")\n",
    "    price_range = business.get(\"price\")    # price range (optional field)\n",
    "\n",
    "    # append to list\n",
    "    business_info.append({\n",
    "        \"name\": name,\n",
    "        \"phone\": phone,\n",
    "        \"rating\": rating,\n",
    "        \"review_count\": review_count,\n",
    "        \"price_range\": price_range\n",
    "    })\n",
    "\n",
    "# convert to a dataframe for easy viewing\n",
    "df = pd.DataFrame(business_info)\n",
    "print(df)\n"
   ]
  },
  {
   "cell_type": "code",
   "execution_count": 7,
   "metadata": {},
   "outputs": [],
   "source": [
    "df.to_csv(\"yelp_restaurant_info_example.csv\", index=False)"
   ]
  }
 ],
 "metadata": {
  "kernelspec": {
   "display_name": "Python 3",
   "language": "python",
   "name": "python3"
  },
  "language_info": {
   "codemirror_mode": {
    "name": "ipython",
    "version": 3
   },
   "file_extension": ".py",
   "mimetype": "text/x-python",
   "name": "python",
   "nbconvert_exporter": "python",
   "pygments_lexer": "ipython3",
   "version": "3.10.10"
  }
 },
 "nbformat": 4,
 "nbformat_minor": 2
}
