{
 "cells": [
  {
   "cell_type": "code",
   "execution_count": 1,
   "metadata": {},
   "outputs": [],
   "source": [
    "import pandas as pd\n",
    "import janitor"
   ]
  },
  {
   "cell_type": "code",
   "execution_count": 2,
   "metadata": {},
   "outputs": [],
   "source": [
    "oct_dm = pd.read_csv(\"/Users/yukachen/marketing-operation/direct-mail/2024-october/csv-marketing_campaign_members-2024-11-12-21-51-51-9390.csv\")"
   ]
  },
  {
   "cell_type": "code",
   "execution_count": 3,
   "metadata": {},
   "outputs": [],
   "source": [
    "oct_sfdc_data = pd.read_csv(\"/Users/yukachen/marketing-operation/direct-mail/2024-october/2024-october-sfdc-leads.csv\")"
   ]
  },
  {
   "cell_type": "code",
   "execution_count": 23,
   "metadata": {},
   "outputs": [],
   "source": [
    "oct_sam_list_a_western = pd.read_csv(\"/Users/yukachen/marketing-operation/direct-mail/2024-october/October 2024 DM SAM List - A - Western 1-26130.csv\")\n",
    "oct_sam_list_b_chinese = pd.read_csv(\"/Users/yukachen/marketing-operation/direct-mail/2024-october/October 2024 DM SAM List - B - Chinese 26131-51680.csv\")"
   ]
  },
  {
   "cell_type": "code",
   "execution_count": 24,
   "metadata": {},
   "outputs": [],
   "source": [
    "oct_sam_list_a_western['test_group'] = \"A - Western Style\"\n",
    "oct_sam_list_b_chinese['test_group'] = \"B - Chinese Style\"\n",
    "\n",
    "oct_sam_list = pd.concat([oct_sam_list_a_western, oct_sam_list_b_chinese], ignore_index=True)\n",
    "\n",
    "oct_sam_list = oct_sam_list.clean_names()\n",
    "\n",
    "del oct_sam_list_a_western, oct_sam_list_b_chinese"
   ]
  },
  {
   "cell_type": "code",
   "execution_count": null,
   "metadata": {},
   "outputs": [],
   "source": [
    "oct_sfdc_data['mobile_primary_sfdc'] = oct_sfdc_data['mobile_primary_sfdc'].astype(str)\n",
    "oct_sfdc_data['business_phone_sfdc'] = oct_sfdc_data['business_phone_sfdc'].astype(str)\n",
    "\n",
    "oct_sam_list['phone'] = oct_sam_list['phone'].astype(str)\n",
    "oct_sam_list_unique = oct_sam_list.drop_duplicates(subset=['phone'])\n",
    "\n",
    "oct_lead_brizo_matched2 = pd.merge(oct_sfdc_data, oct_sam_list_unique, left_on='mobile_primary_sfdc', right_on='phone', how='inner')\n",
    "oct_lead_brizo_matched3 = pd.merge(oct_sfdc_data, oct_sam_list_unique, left_on='business_phone_sfdc', right_on='phone', how='inner')\n",
    "\n",
    "oct_lead_brizo_matched = pd.concat([oct_lead_brizo_matched2, oct_lead_brizo_matched3], ignore_index=True)\n",
    "\n",
    "oct_lead_brizo_unmatched = pd.merge(oct_sfdc_data, oct_lead_brizo_matched, left_on='')\n"
   ]
  },
  {
   "cell_type": "code",
   "execution_count": null,
   "metadata": {},
   "outputs": [],
   "source": [
    "del oct_lead_brizo_matched2, oct_lead_brizo_matched3, oct_sam_list\n"
   ]
  },
  {
   "cell_type": "code",
   "execution_count": 7,
   "metadata": {},
   "outputs": [],
   "source": [
    "scans_id = pd.read_csv(\"/Users/yukachen/marketing-operation/direct-mail/2024-october/Google Analytics Report (Daily Updates) - Q4 QR Scans.csv\")\n",
    "\n",
    "selected_scans_id = scans_id[['date_c', 'campaign_c', 'unique_id','region','country']].dropna(subset='unique_id')\n",
    "\n",
    "del scans_id\n",
    "\n"
   ]
  },
  {
   "cell_type": "code",
   "execution_count": 8,
   "metadata": {},
   "outputs": [],
   "source": [
    "joined_scans_w_brizo = pd.merge(selected_scans_id, oct_sam_list, left_on='unique_id', right_on='snowball_map', how='left')\n",
    "\n",
    "del selected_scans_id"
   ]
  },
  {
   "cell_type": "code",
   "execution_count": 9,
   "metadata": {},
   "outputs": [
    {
     "name": "stdout",
     "output_type": "stream",
     "text": [
      "Index(['date_c', 'campaign_c', 'unique_id', 'region', 'country_x',\n",
      "       'snowball_map', 'brizo_id', 'name', 'street', 'city_town',\n",
      "       'zip_postal_code', 'state_province_code', 'country_y',\n",
      "       'cuisines_regional_', 'price_range', 'opening_hours', 'vitality_score',\n",
      "       'established', 'status', 'phone', 'most_common_email', 'density_@5mi',\n",
      "       'time_zone_name', 'median_price', 'full_name', 'role', 'test_group'],\n",
      "      dtype='object')\n"
     ]
    }
   ],
   "source": [
    "print(joined_scans_w_brizo.columns)"
   ]
  },
  {
   "cell_type": "code",
   "execution_count": 10,
   "metadata": {},
   "outputs": [],
   "source": [
    "selected_scans_brizo = joined_scans_w_brizo[['unique_id','cuisines_regional_','date_c']]\n",
    "\n",
    "del joined_scans_w_brizo"
   ]
  },
  {
   "cell_type": "code",
   "execution_count": 11,
   "metadata": {},
   "outputs": [],
   "source": [
    "scans_summary = selected_scans_brizo.groupby('cuisines_regional_').agg(\n",
    "    value_count=('unique_id', 'count')\n",
    ").reset_index().sort_values(by='value_count', ascending=False)\n",
    "\n",
    "del selected_scans_brizo, scans_summary"
   ]
  },
  {
   "cell_type": "code",
   "execution_count": null,
   "metadata": {},
   "outputs": [],
   "source": []
  }
 ],
 "metadata": {
  "kernelspec": {
   "display_name": "Python 3",
   "language": "python",
   "name": "python3"
  },
  "language_info": {
   "codemirror_mode": {
    "name": "ipython",
    "version": 3
   },
   "file_extension": ".py",
   "mimetype": "text/x-python",
   "name": "python",
   "nbconvert_exporter": "python",
   "pygments_lexer": "ipython3",
   "version": "3.10.10"
  }
 },
 "nbformat": 4,
 "nbformat_minor": 2
}
