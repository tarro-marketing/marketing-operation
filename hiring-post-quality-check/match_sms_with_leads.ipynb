{
 "cells": [
  {
   "cell_type": "code",
   "execution_count": 65,
   "metadata": {},
   "outputs": [],
   "source": [
    "import gspread\n",
    "import numpy as np\n",
    "import pandas as pd\n",
    "import janitor\n",
    "\n",
    "gc = gspread.oauth()\n",
    "\n",
    "sht1 = gc.open_by_key('1xy2bw5ckuUod-5In2iZZuWxuIxvMqzI-fF_jODddGVg')\n",
    "\n",
    "worksheet = sht1.worksheet(\"[all time] Marketing MEL/MQL Report\")\n",
    "\n",
    "all_time_lead = worksheet.get(\"A2:AL\")\n",
    "\n",
    "df_all_time_lead = pd.DataFrame(all_time_lead[1:], columns=all_time_lead[0])\n",
    "\n",
    "df_all_time_lead = df_all_time_lead.clean_names()\n",
    "\n",
    "df_all_time_lead.replace('', np.nan, inplace=True)"
   ]
  },
  {
   "cell_type": "code",
   "execution_count": 66,
   "metadata": {},
   "outputs": [],
   "source": [
    "import re\n",
    "import pandas as pd\n",
    "\n",
    "def clean_phone_number(phone):\n",
    "\n",
    "    if pd.isna(phone):\n",
    "\n",
    "        return 'NA'  \n",
    "\n",
    "    return re.sub(r'[^\\d]', '', str(phone))\n",
    "\n",
    "df_all_time_lead[\"mobile_primary\"] = df_all_time_lead[\"mobile_primary\"].apply(clean_phone_number)\n",
    "df_all_time_lead[\"business_phone\"] = df_all_time_lead[\"business_phone\"].apply(clean_phone_number)"
   ]
  },
  {
   "cell_type": "code",
   "execution_count": 67,
   "metadata": {},
   "outputs": [],
   "source": [
    "sht2 = gc.open_by_key('1-WkE7rGsIxYMLjVCZNEKYYliqXau71wNwwCXBjq_b0c')\n",
    "\n",
    "sms_sam_list_sheet = sht2.worksheet(\"SMS List\")\n",
    "\n",
    "sms_sam_list_gsheet = sms_sam_list_sheet.get(\"A1:AH\")\n",
    "\n",
    "sms_sam_list = pd.DataFrame(sms_sam_list_gsheet[1:], columns=sms_sam_list_gsheet[0]).clean_names()\n",
    "\n",
    "phone_list_source = sms_sam_list[[\"phone_clean\",\"source\"]]"
   ]
  },
  {
   "cell_type": "code",
   "execution_count": 68,
   "metadata": {},
   "outputs": [],
   "source": [
    "def determine_metrics(row):\n",
    "    if row['stage'] == 'Onboarded':\n",
    "        return 'Onboarded'\n",
    "    elif pd.notna(row['opportunity_id']):\n",
    "        return 'SQL'\n",
    "    elif pd.notna(row['latest_mql_timestamp']) and row['unqualified_reason'] not in ['Current Client', 'Duplicate', 'Not a Restaurant', 'Incorrect Phone Number']:\n",
    "        return 'MQL'\n",
    "    elif pd.notna(row['first_mel_timestamp']) and row['unqualified_reason'] not in ['Current Client', 'Duplicate']:\n",
    "        return 'MEL'\n",
    "    else:\n",
    "        return 'Dead Lead' \n",
    " \n",
    "\n",
    "df_all_time_lead['metrics'] = df_all_time_lead.apply(determine_metrics, axis=1)"
   ]
  },
  {
   "cell_type": "code",
   "execution_count": 69,
   "metadata": {},
   "outputs": [],
   "source": [
    "df_merged = df_all_time_lead.merge(\n",
    "    phone_list_source,\n",
    "    how='left',\n",
    "    left_on='mobile_primary',\n",
    "    right_on='phone_clean',\n",
    "    suffixes=('', '_mobile')\n",
    ")\n",
    "\n",
    "df_merged.rename(columns={'source': 'source_mobile', 'phone_clean':'primary_sms'}, inplace=True)\n",
    "\n",
    "df_merged = df_merged.merge(\n",
    "    phone_list_source,\n",
    "    how='left',\n",
    "    left_on='business_phone',\n",
    "    right_on='phone_clean',\n",
    "    suffixes=('', '_business')\n",
    ")\n",
    "\n",
    "df_merged.rename(columns={'source': 'source_business', 'phone_clean':'business_sms'}, inplace=True)\n",
    "\n",
    "df_merged['final_source'] = df_merged['source_mobile'].combine_first(df_merged['source_business'])\n",
    "\n",
    "df_merged['final_source'] = df_merged['final_source'].fillna('No Match')\n"
   ]
  },
  {
   "cell_type": "code",
   "execution_count": 70,
   "metadata": {},
   "outputs": [
    {
     "name": "stdout",
     "output_type": "stream",
     "text": [
      "\n",
      "Campaign Map Dictionary:\n",
      "Mkt_DM_Snowflake_OctoberV1: Brizo\n",
      "Mkt_DM_Snowflake_OctoberV2: Brizo\n",
      "Mkt_DM_Snowflake_AirfryerV1: Brizo\n",
      "Mkt_DM_Snowflake_AirfryerV3: Brizo\n",
      "Mkt_DM_Snowflake_AirfryerV2: Brizo\n"
     ]
    }
   ],
   "source": [
    "sht3 = gc.open_by_key('1IYMZ0a-yL7LQUgCsy6EZnSjHLBKXC48P9QRE9Kh8Jzo')\n",
    "worksheet = sht3.worksheet(\"campaign_list\")\n",
    "campaign_list_sheet = worksheet.get(\"A:B\")\n",
    "campaign_list = pd.DataFrame(campaign_list_sheet[1:], columns=campaign_list_sheet[0])\n",
    "campaign_list = campaign_list.clean_names()\n",
    "\n",
    "campaign_map_dict = dict(zip(campaign_list['sub_campaign_tags'], campaign_list['list']))\n",
    "\n",
    "# Display the created mapping dictionary (optional)\n",
    "print(\"\\nCampaign Map Dictionary:\")\n",
    "for key, value in list(campaign_map_dict.items())[:5]:  # Display first 5 mappings for brevity\n",
    "    print(f\"{key}: {value}\")\n",
    "\n",
    "# Update 'final_source' in df_merged using the mapping dictionary\n",
    "df_merged['final_source'] = df_merged['latest_campaign'].map(campaign_map_dict).fillna(df_merged['final_source'])\n",
    "df_merged.loc[df_merged['latest_campaign'].str.contains('brizo', case=False, na=False), 'final_source'] = 'Brizo'\n",
    "\n",
    "\n",
    "\n"
   ]
  },
  {
   "cell_type": "code",
   "execution_count": 71,
   "metadata": {},
   "outputs": [],
   "source": [
    "\n",
    "# can add more columns if needed\n",
    "df_result = df_merged[['first_mel_timestamp','latest_mql_timestamp','lead_id',\n",
    "                       'mobile_primary', 'business_phone', 'lead_channel',\n",
    "                       'final_source','metrics','latest_campaign','unqualified_reason','rejected_reason']]"
   ]
  },
  {
   "cell_type": "code",
   "execution_count": 72,
   "metadata": {},
   "outputs": [
    {
     "name": "stderr",
     "output_type": "stream",
     "text": [
      "/var/folders/8c/z2jj76jx2wq4dxt7jlmgxknm0000gn/T/ipykernel_37216/2140202701.py:3: SettingWithCopyWarning: \n",
      "A value is trying to be set on a copy of a slice from a DataFrame\n",
      "\n",
      "See the caveats in the documentation: https://pandas.pydata.org/pandas-docs/stable/user_guide/indexing.html#returning-a-view-versus-a-copy\n",
      "  df_result.replace(to_replace=[np.nan, 'NA'], value='', inplace=True)\n"
     ]
    }
   ],
   "source": [
    "import numpy as np\n",
    "\n",
    "df_result.replace(to_replace=[np.nan, 'NA'], value='', inplace=True)\n",
    "\n",
    "df_result.to_csv(\"/Users/yukachen/Documents/ad-hoc/sms/sms_sam_list.csv\")"
   ]
  },
  {
   "cell_type": "code",
   "execution_count": 73,
   "metadata": {},
   "outputs": [
    {
     "name": "stdout",
     "output_type": "stream",
     "text": [
      "existing worksheet 'SMS SAM List <> Leads' deleted.\n",
      "sms lead list has been added\n"
     ]
    }
   ],
   "source": [
    "from gspread_dataframe import set_with_dataframe\n",
    "\n",
    "spreadsheet_key = '1HDKnaLuPzP_-GWX0gGNsl72w5rd0H-YroC8g7RmVZtA'\n",
    "\n",
    "gc = gspread.oauth()\n",
    "\n",
    "quality_check = gc.open_by_key(spreadsheet_key)\n",
    "\n",
    "\n",
    "try:\n",
    "    worksheet = quality_check.worksheet(\"SMS SAM List <> Leads\")\n",
    "    quality_check.del_worksheet(worksheet)\n",
    "    print(\"existing worksheet 'SMS SAM List <> Leads' deleted.\")\n",
    "except gspread.exceptions.WorksheetNotFound:\n",
    "    print(\"worksheet 'SMS SAM List <> Leads' not found, creating a new one.\")\n",
    "\n",
    "worksheet = quality_check.add_worksheet(title=\"SMS SAM List <> Leads\", rows=df_result.shape[0], cols=df_result.shape[1])\n",
    "print(\"sms lead list has been added\")\n",
    "\n",
    "set_with_dataframe(worksheet, df_result)"
   ]
  },
  {
   "cell_type": "code",
   "execution_count": 74,
   "metadata": {},
   "outputs": [
    {
     "name": "stdout",
     "output_type": "stream",
     "text": [
      "existing worksheet 'Raw Data' deleted.\n",
      "raw data list has been added\n"
     ]
    }
   ],
   "source": [
    "\n",
    "\n",
    "try:\n",
    "    worksheet = quality_check.worksheet(\"Raw Data\")\n",
    "    quality_check.del_worksheet(worksheet)\n",
    "    print(\"existing worksheet 'Raw Data' deleted.\")\n",
    "except gspread.exceptions.WorksheetNotFound:\n",
    "    print(\"worksheet 'Raw Data' not found, creating a new one.\")\n",
    "\n",
    "worksheet = quality_check.add_worksheet(title=\"Raw Data\", rows=df_merged.shape[0], cols=df_merged.shape[1])\n",
    "print(\"raw data list has been added\")\n",
    "\n",
    "set_with_dataframe(worksheet, df_merged)"
   ]
  }
 ],
 "metadata": {
  "kernelspec": {
   "display_name": ".venv",
   "language": "python",
   "name": "python3"
  },
  "language_info": {
   "codemirror_mode": {
    "name": "ipython",
    "version": 3
   },
   "file_extension": ".py",
   "mimetype": "text/x-python",
   "name": "python",
   "nbconvert_exporter": "python",
   "pygments_lexer": "ipython3",
   "version": "3.10.10"
  }
 },
 "nbformat": 4,
 "nbformat_minor": 2
}
