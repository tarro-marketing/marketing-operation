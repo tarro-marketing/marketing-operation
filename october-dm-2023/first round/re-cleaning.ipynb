{
 "cells": [
  {
   "cell_type": "code",
   "execution_count": 11,
   "metadata": {},
   "outputs": [],
   "source": [
    "import numpy as np  \n",
    "import pandas as pd \n",
    "import matplotlib.pyplot as plt  \n",
    "import seaborn as sns "
   ]
  },
  {
   "cell_type": "code",
   "execution_count": 12,
   "metadata": {},
   "outputs": [],
   "source": [
    "google_analytic = pd.read_csv(\"data/google_analytic.csv\")"
   ]
  },
  {
   "cell_type": "code",
   "execution_count": 13,
   "metadata": {},
   "outputs": [],
   "source": [
    "google_analytic['ID'] = google_analytic['Page location'].str.extract(r'utm_id=(\\d+)').fillna(-1).astype(int)\n"
   ]
  },
  {
   "cell_type": "code",
   "execution_count": 14,
   "metadata": {},
   "outputs": [],
   "source": [
    "sam_us = pd.read_csv(\"data/October-Target-SAM-List-US-All.csv\")\n",
    "sam_canada = pd.read_csv(\"data/October-Target-SAM-List-CAN-All.csv\")\n",
    "\n",
    "sam_list = pd.concat([sam_us, sam_canada], ignore_index=True)\n",
    "sam_list['Snowball Map'] = sam_list['Snowball Map'].astype(int)\n"
   ]
  },
  {
   "cell_type": "code",
   "execution_count": 15,
   "metadata": {},
   "outputs": [],
   "source": [
    "merged_df = pd.merge(google_analytic, sam_list, left_on='ID', right_on='Snowball Map', how='left')\n",
    "\n",
    "merged_df['ID'] = merged_df['ID'].astype(str).str.zfill(5)\n",
    "\n",
    "\n",
    "merged_df['Date'] = pd.to_datetime(merged_df['Date'], format='%Y%m%d')\n",
    "\n",
    "# If you want to keep the date in the 'YYYY-MM-DD' format, you can format it accordingly\n",
    "merged_df['Date'] = merged_df['Date'].dt.strftime('%Y-%m-%d')\n",
    "\n",
    "\n",
    "# Count the number of occurrences of each ID\n",
    "id_counts = merged_df['ID'].value_counts()\n",
    "\n",
    "# Create the 'visit_again' column based on the ID counts\n",
    "merged_df['visit_again'] = merged_df['ID'].map(id_counts) > 1\n",
    "\n",
    "# Fill any NaN values with False (for IDs that only appear once)\n",
    "merged_df['visit_again'] = merged_df['visit_again'].fillna(False)\n",
    "\n",
    "merged_df2 = merged_df.drop_duplicates(subset='Page location', keep='last').copy()\n"
   ]
  },
  {
   "cell_type": "code",
   "execution_count": 16,
   "metadata": {},
   "outputs": [],
   "source": [
    "merged_df2.to_csv(\"final_data.csv\", index=False)\n"
   ]
  }
 ],
 "metadata": {
  "kernelspec": {
   "display_name": "Python 3",
   "language": "python",
   "name": "python3"
  },
  "language_info": {
   "codemirror_mode": {
    "name": "ipython",
    "version": 3
   },
   "file_extension": ".py",
   "mimetype": "text/x-python",
   "name": "python",
   "nbconvert_exporter": "python",
   "pygments_lexer": "ipython3",
   "version": "3.12.0"
  }
 },
 "nbformat": 4,
 "nbformat_minor": 2
}
