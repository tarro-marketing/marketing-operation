{
 "cells": [
  {
   "cell_type": "code",
   "execution_count": 8,
   "metadata": {},
   "outputs": [],
   "source": [
    "import numpy as np  # NumPy: For numerical and array operations.\n",
    "import pandas as pd  # Pandas: For data manipulation and analysis.\n",
    "import matplotlib.pyplot as plt  # Matplotlib: For creating various types of plots and charts.\n",
    "import seaborn as sns  # Seaborn: For making data visualizations more attractive and informative.\n",
    "\n",
    "## for tables\n",
    "from tabulate import tabulate\n",
    "from IPython.display import display, HTML"
   ]
  },
  {
   "cell_type": "code",
   "execution_count": 9,
   "metadata": {},
   "outputs": [],
   "source": [
    "df = pd.read_csv(\"data/clean_data.csv\")\n",
    "SAM_US = pd.read_csv(\"data/October-Target-SAM-List-US-All.csv\")\n",
    "SAM_CAN = pd.read_csv(\"data/October-Target-SAM-List-CAN-All.csv\")\n",
    "\n",
    "df_id = df['ID']\n",
    "\n",
    "SAM_US_2 = SAM_US[SAM_US['Snowball Map'].isin(df_id)]\n",
    "SAM_CAN_2 = SAM_CAN[SAM_CAN['Snowball Map'].isin(df_id)]\n",
    "\n",
    "df22 = df[['ID','drop', 'submit_form','visit_again','inbound_call','Date']]\n",
    "\n",
    "combined_df = pd.concat([SAM_US_2, SAM_CAN_2], ignore_index=True)\n",
    "combined_df = combined_df.merge(df22, left_on = 'Snowball Map', right_on = 'ID')\n",
    "\n",
    "\n",
    "combined_df.to_csv(\"data/combined_df.csv\")"
   ]
  },
  {
   "cell_type": "code",
   "execution_count": 10,
   "metadata": {},
   "outputs": [
    {
     "data": {
      "image/png": "[encoded data removed]",
      "text/plain": [
       "<Figure size 640x480 with 1 Axes>"
      ]
     },
     "metadata": {},
     "output_type": "display_data"
    }
   ],
   "source": [
    "import matplotlib.pyplot as plt\n",
    "\n",
    "country_counts = combined_df['Country'].value_counts()\n",
    "\n",
    "# Plotting the bar chart\n",
    "country_counts.plot(kind='bar', color='#123d8d')\n",
    "plt.title('Distribution of Countries')\n",
    "plt.xlabel('Country')\n",
    "plt.ylabel('Count')\n",
    "plt.xticks(rotation=0)\n",
    "plt.savefig(\"plot/counts_by_country.png\")  # Save as PNG image\n",
    "plt.show()\n"
   ]
  },
  {
   "cell_type": "code",
   "execution_count": 11,
   "metadata": {},
   "outputs": [
    {
     "data": {
      "text/html": [
       "<style type=\"text/css\">\n",
       "</style>\n",
       "<table id=\"T_5ba35\">\n",
       "  <thead>\n",
       "    <tr>\n",
       "      <th class=\"blank level0\" >&nbsp;</th>\n",
       "      <th id=\"T_5ba35_level0_col0\" class=\"col_heading level0 col0\" >Country</th>\n",
       "      <th id=\"T_5ba35_level0_col1\" class=\"col_heading level0 col1\" >Count</th>\n",
       "    </tr>\n",
       "  </thead>\n",
       "  <tbody>\n",
       "    <tr>\n",
       "      <th id=\"T_5ba35_level0_row0\" class=\"row_heading level0 row0\" >0</th>\n",
       "      <td id=\"T_5ba35_row0_col0\" class=\"data row0 col0\" >United States</td>\n",
       "      <td id=\"T_5ba35_row0_col1\" class=\"data row0 col1\" >53</td>\n",
       "    </tr>\n",
       "    <tr>\n",
       "      <th id=\"T_5ba35_level0_row1\" class=\"row_heading level0 row1\" >1</th>\n",
       "      <td id=\"T_5ba35_row1_col0\" class=\"data row1 col0\" >Canada</td>\n",
       "      <td id=\"T_5ba35_row1_col1\" class=\"data row1 col1\" >26</td>\n",
       "    </tr>\n",
       "  </tbody>\n",
       "</table>\n"
      ],
      "text/plain": [
       "<pandas.io.formats.style.Styler at 0x25141cc2690>"
      ]
     },
     "execution_count": 11,
     "metadata": {},
     "output_type": "execute_result"
    }
   ],
   "source": [
    "# Assuming your DataFrame is named SAM_CAN_2\n",
    "country_counts = combined_df['Country'].value_counts().reset_index()\n",
    "country_counts.columns = ['Country', 'Count']\n",
    "\n",
    "country_counts.style  ##.background_gradient(cmap=cm)\n"
   ]
  },
  {
   "cell_type": "code",
   "execution_count": 12,
   "metadata": {},
   "outputs": [
    {
     "data": {
      "text/html": [
       "<style type=\"text/css\">\n",
       "</style>\n",
       "<table id=\"T_4fd7d\">\n",
       "  <thead>\n",
       "    <tr>\n",
       "      <th class=\"index_name level0\" >drop</th>\n",
       "      <th id=\"T_4fd7d_level0_col0\" class=\"col_heading level0 col0\" >drop1</th>\n",
       "      <th id=\"T_4fd7d_level0_col1\" class=\"col_heading level0 col1\" >drop1-prospect</th>\n",
       "      <th id=\"T_4fd7d_level0_col2\" class=\"col_heading level0 col2\" >drop2</th>\n",
       "    </tr>\n",
       "    <tr>\n",
       "      <th class=\"index_name level0\" >Country</th>\n",
       "      <th class=\"blank col0\" >&nbsp;</th>\n",
       "      <th class=\"blank col1\" >&nbsp;</th>\n",
       "      <th class=\"blank col2\" >&nbsp;</th>\n",
       "    </tr>\n",
       "  </thead>\n",
       "  <tbody>\n",
       "    <tr>\n",
       "      <th id=\"T_4fd7d_level0_row0\" class=\"row_heading level0 row0\" >Canada</th>\n",
       "      <td id=\"T_4fd7d_row0_col0\" class=\"data row0 col0\" >6.000000</td>\n",
       "      <td id=\"T_4fd7d_row0_col1\" class=\"data row0 col1\" >13.000000</td>\n",
       "      <td id=\"T_4fd7d_row0_col2\" class=\"data row0 col2\" >7.000000</td>\n",
       "    </tr>\n",
       "    <tr>\n",
       "      <th id=\"T_4fd7d_level0_row1\" class=\"row_heading level0 row1\" >United States</th>\n",
       "      <td id=\"T_4fd7d_row1_col0\" class=\"data row1 col0\" >14.000000</td>\n",
       "      <td id=\"T_4fd7d_row1_col1\" class=\"data row1 col1\" >22.000000</td>\n",
       "      <td id=\"T_4fd7d_row1_col2\" class=\"data row1 col2\" >17.000000</td>\n",
       "    </tr>\n",
       "  </tbody>\n",
       "</table>\n"
      ],
      "text/plain": [
       "<pandas.io.formats.style.Styler at 0x25141c41490>"
      ]
     },
     "execution_count": 12,
     "metadata": {},
     "output_type": "execute_result"
    }
   ],
   "source": [
    "# Assuming your DataFrame is named SAM_CAN_2\n",
    "country_counts = combined_df.groupby(['Country', 'drop']).size().reset_index(name='Count')\n",
    "\n",
    "# Use pivot_table to reshape the DataFrame\n",
    "summary_table = country_counts.pivot_table(index='Country', columns='drop', values='Count', fill_value=0)\n",
    "\n",
    "# Display the summary table\n",
    "summary_table.style"
   ]
  },
  {
   "cell_type": "code",
   "execution_count": 13,
   "metadata": {},
   "outputs": [
    {
     "ename": "FileNotFoundError",
     "evalue": "[Errno 2] No such file or directory: '/Users/yuka/Desktop/Wonders/October-DM-Analysis/plot/counts_by_stats_us.png'",
     "output_type": "error",
     "traceback": [
      "\u001b[1;31m---------------------------------------------------------------------------\u001b[0m",
      "\u001b[1;31mFileNotFoundError\u001b[0m                         Traceback (most recent call last)",
      "\u001b[1;32mc:\\Users\\skt\\Desktop\\October-DM-Analysis\\Analysis.ipynb Cell 6\u001b[0m line \u001b[0;36m1\n\u001b[0;32m      <a href='vscode-notebook-cell:/c%3A/Users/skt/Desktop/October-DM-Analysis/Analysis.ipynb#W5sZmlsZQ%3D%3D?line=7'>8</a>\u001b[0m plt\u001b[39m.\u001b[39mylabel(\u001b[39m'\u001b[39m\u001b[39mCount\u001b[39m\u001b[39m'\u001b[39m)\n\u001b[0;32m      <a href='vscode-notebook-cell:/c%3A/Users/skt/Desktop/October-DM-Analysis/Analysis.ipynb#W5sZmlsZQ%3D%3D?line=8'>9</a>\u001b[0m plt\u001b[39m.\u001b[39mxticks(rotation\u001b[39m=\u001b[39m\u001b[39m75\u001b[39m)\n\u001b[1;32m---> <a href='vscode-notebook-cell:/c%3A/Users/skt/Desktop/October-DM-Analysis/Analysis.ipynb#W5sZmlsZQ%3D%3D?line=9'>10</a>\u001b[0m plt\u001b[39m.\u001b[39;49msavefig(\u001b[39m\"\u001b[39;49m\u001b[39m/Users/yuka/Desktop/Wonders/October-DM-Analysis/plot/counts_by_stats_us.png\u001b[39;49m\u001b[39m\"\u001b[39;49m)  \u001b[39m# Save as PNG image\u001b[39;00m\n\u001b[0;32m     <a href='vscode-notebook-cell:/c%3A/Users/skt/Desktop/October-DM-Analysis/Analysis.ipynb#W5sZmlsZQ%3D%3D?line=10'>11</a>\u001b[0m plt\u001b[39m.\u001b[39mshow()\n",
      "File \u001b[1;32mc:\\Users\\skt\\AppData\\Local\\Programs\\Python\\Python312\\Lib\\site-packages\\matplotlib\\pyplot.py:1119\u001b[0m, in \u001b[0;36msavefig\u001b[1;34m(*args, **kwargs)\u001b[0m\n\u001b[0;32m   1116\u001b[0m fig \u001b[39m=\u001b[39m gcf()\n\u001b[0;32m   1117\u001b[0m \u001b[39m# savefig default implementation has no return, so mypy is unhappy\u001b[39;00m\n\u001b[0;32m   1118\u001b[0m \u001b[39m# presumably this is here because subclasses can return?\u001b[39;00m\n\u001b[1;32m-> 1119\u001b[0m res \u001b[39m=\u001b[39m fig\u001b[39m.\u001b[39;49msavefig(\u001b[39m*\u001b[39;49margs, \u001b[39m*\u001b[39;49m\u001b[39m*\u001b[39;49mkwargs)  \u001b[39m# type: ignore[func-returns-value]\u001b[39;00m\n\u001b[0;32m   1120\u001b[0m fig\u001b[39m.\u001b[39mcanvas\u001b[39m.\u001b[39mdraw_idle()  \u001b[39m# Need this if 'transparent=True', to reset colors.\u001b[39;00m\n\u001b[0;32m   1121\u001b[0m \u001b[39mreturn\u001b[39;00m res\n",
      "File \u001b[1;32mc:\\Users\\skt\\AppData\\Local\\Programs\\Python\\Python312\\Lib\\site-packages\\matplotlib\\figure.py:3390\u001b[0m, in \u001b[0;36mFigure.savefig\u001b[1;34m(self, fname, transparent, **kwargs)\u001b[0m\n\u001b[0;32m   3388\u001b[0m     \u001b[39mfor\u001b[39;00m ax \u001b[39min\u001b[39;00m \u001b[39mself\u001b[39m\u001b[39m.\u001b[39maxes:\n\u001b[0;32m   3389\u001b[0m         _recursively_make_axes_transparent(stack, ax)\n\u001b[1;32m-> 3390\u001b[0m \u001b[39mself\u001b[39;49m\u001b[39m.\u001b[39;49mcanvas\u001b[39m.\u001b[39;49mprint_figure(fname, \u001b[39m*\u001b[39;49m\u001b[39m*\u001b[39;49mkwargs)\n",
      "File \u001b[1;32mc:\\Users\\skt\\AppData\\Local\\Programs\\Python\\Python312\\Lib\\site-packages\\matplotlib\\backend_bases.py:2193\u001b[0m, in \u001b[0;36mFigureCanvasBase.print_figure\u001b[1;34m(self, filename, dpi, facecolor, edgecolor, orientation, format, bbox_inches, pad_inches, bbox_extra_artists, backend, **kwargs)\u001b[0m\n\u001b[0;32m   2189\u001b[0m \u001b[39mtry\u001b[39;00m:\n\u001b[0;32m   2190\u001b[0m     \u001b[39m# _get_renderer may change the figure dpi (as vector formats\u001b[39;00m\n\u001b[0;32m   2191\u001b[0m     \u001b[39m# force the figure dpi to 72), so we need to set it again here.\u001b[39;00m\n\u001b[0;32m   2192\u001b[0m     \u001b[39mwith\u001b[39;00m cbook\u001b[39m.\u001b[39m_setattr_cm(\u001b[39mself\u001b[39m\u001b[39m.\u001b[39mfigure, dpi\u001b[39m=\u001b[39mdpi):\n\u001b[1;32m-> 2193\u001b[0m         result \u001b[39m=\u001b[39m print_method(\n\u001b[0;32m   2194\u001b[0m             filename,\n\u001b[0;32m   2195\u001b[0m             facecolor\u001b[39m=\u001b[39;49mfacecolor,\n\u001b[0;32m   2196\u001b[0m             edgecolor\u001b[39m=\u001b[39;49medgecolor,\n\u001b[0;32m   2197\u001b[0m             orientation\u001b[39m=\u001b[39;49morientation,\n\u001b[0;32m   2198\u001b[0m             bbox_inches_restore\u001b[39m=\u001b[39;49m_bbox_inches_restore,\n\u001b[0;32m   2199\u001b[0m             \u001b[39m*\u001b[39;49m\u001b[39m*\u001b[39;49mkwargs)\n\u001b[0;32m   2200\u001b[0m \u001b[39mfinally\u001b[39;00m:\n\u001b[0;32m   2201\u001b[0m     \u001b[39mif\u001b[39;00m bbox_inches \u001b[39mand\u001b[39;00m restore_bbox:\n",
      "File \u001b[1;32mc:\\Users\\skt\\AppData\\Local\\Programs\\Python\\Python312\\Lib\\site-packages\\matplotlib\\backend_bases.py:2043\u001b[0m, in \u001b[0;36mFigureCanvasBase._switch_canvas_and_return_print_method.<locals>.<lambda>\u001b[1;34m(*args, **kwargs)\u001b[0m\n\u001b[0;32m   2039\u001b[0m     optional_kws \u001b[39m=\u001b[39m {  \u001b[39m# Passed by print_figure for other renderers.\u001b[39;00m\n\u001b[0;32m   2040\u001b[0m         \u001b[39m\"\u001b[39m\u001b[39mdpi\u001b[39m\u001b[39m\"\u001b[39m, \u001b[39m\"\u001b[39m\u001b[39mfacecolor\u001b[39m\u001b[39m\"\u001b[39m, \u001b[39m\"\u001b[39m\u001b[39medgecolor\u001b[39m\u001b[39m\"\u001b[39m, \u001b[39m\"\u001b[39m\u001b[39morientation\u001b[39m\u001b[39m\"\u001b[39m,\n\u001b[0;32m   2041\u001b[0m         \u001b[39m\"\u001b[39m\u001b[39mbbox_inches_restore\u001b[39m\u001b[39m\"\u001b[39m}\n\u001b[0;32m   2042\u001b[0m     skip \u001b[39m=\u001b[39m optional_kws \u001b[39m-\u001b[39m {\u001b[39m*\u001b[39minspect\u001b[39m.\u001b[39msignature(meth)\u001b[39m.\u001b[39mparameters}\n\u001b[1;32m-> 2043\u001b[0m     print_method \u001b[39m=\u001b[39m functools\u001b[39m.\u001b[39mwraps(meth)(\u001b[39mlambda\u001b[39;00m \u001b[39m*\u001b[39margs, \u001b[39m*\u001b[39m\u001b[39m*\u001b[39mkwargs: meth(\n\u001b[0;32m   2044\u001b[0m         \u001b[39m*\u001b[39;49margs, \u001b[39m*\u001b[39;49m\u001b[39m*\u001b[39;49m{k: v \u001b[39mfor\u001b[39;49;00m k, v \u001b[39min\u001b[39;49;00m kwargs\u001b[39m.\u001b[39;49mitems() \u001b[39mif\u001b[39;49;00m k \u001b[39mnot\u001b[39;49;00m \u001b[39min\u001b[39;49;00m skip}))\n\u001b[0;32m   2045\u001b[0m \u001b[39melse\u001b[39;00m:  \u001b[39m# Let third-parties do as they see fit.\u001b[39;00m\n\u001b[0;32m   2046\u001b[0m     print_method \u001b[39m=\u001b[39m meth\n",
      "File \u001b[1;32mc:\\Users\\skt\\AppData\\Local\\Programs\\Python\\Python312\\Lib\\site-packages\\matplotlib\\backends\\backend_agg.py:497\u001b[0m, in \u001b[0;36mFigureCanvasAgg.print_png\u001b[1;34m(self, filename_or_obj, metadata, pil_kwargs)\u001b[0m\n\u001b[0;32m    450\u001b[0m \u001b[39mdef\u001b[39;00m \u001b[39mprint_png\u001b[39m(\u001b[39mself\u001b[39m, filename_or_obj, \u001b[39m*\u001b[39m, metadata\u001b[39m=\u001b[39m\u001b[39mNone\u001b[39;00m, pil_kwargs\u001b[39m=\u001b[39m\u001b[39mNone\u001b[39;00m):\n\u001b[0;32m    451\u001b[0m \u001b[39m    \u001b[39m\u001b[39m\"\"\"\u001b[39;00m\n\u001b[0;32m    452\u001b[0m \u001b[39m    Write the figure to a PNG file.\u001b[39;00m\n\u001b[0;32m    453\u001b[0m \n\u001b[1;32m   (...)\u001b[0m\n\u001b[0;32m    495\u001b[0m \u001b[39m        *metadata*, including the default 'Software' key.\u001b[39;00m\n\u001b[0;32m    496\u001b[0m \u001b[39m    \"\"\"\u001b[39;00m\n\u001b[1;32m--> 497\u001b[0m     \u001b[39mself\u001b[39;49m\u001b[39m.\u001b[39;49m_print_pil(filename_or_obj, \u001b[39m\"\u001b[39;49m\u001b[39mpng\u001b[39;49m\u001b[39m\"\u001b[39;49m, pil_kwargs, metadata)\n",
      "File \u001b[1;32mc:\\Users\\skt\\AppData\\Local\\Programs\\Python\\Python312\\Lib\\site-packages\\matplotlib\\backends\\backend_agg.py:446\u001b[0m, in \u001b[0;36mFigureCanvasAgg._print_pil\u001b[1;34m(self, filename_or_obj, fmt, pil_kwargs, metadata)\u001b[0m\n\u001b[0;32m    441\u001b[0m \u001b[39m\u001b[39m\u001b[39m\"\"\"\u001b[39;00m\n\u001b[0;32m    442\u001b[0m \u001b[39mDraw the canvas, then save it using `.image.imsave` (to which\u001b[39;00m\n\u001b[0;32m    443\u001b[0m \u001b[39m*pil_kwargs* and *metadata* are forwarded).\u001b[39;00m\n\u001b[0;32m    444\u001b[0m \u001b[39m\"\"\"\u001b[39;00m\n\u001b[0;32m    445\u001b[0m FigureCanvasAgg\u001b[39m.\u001b[39mdraw(\u001b[39mself\u001b[39m)\n\u001b[1;32m--> 446\u001b[0m mpl\u001b[39m.\u001b[39;49mimage\u001b[39m.\u001b[39;49mimsave(\n\u001b[0;32m    447\u001b[0m     filename_or_obj, \u001b[39mself\u001b[39;49m\u001b[39m.\u001b[39;49mbuffer_rgba(), \u001b[39mformat\u001b[39;49m\u001b[39m=\u001b[39;49mfmt, origin\u001b[39m=\u001b[39;49m\u001b[39m\"\u001b[39;49m\u001b[39mupper\u001b[39;49m\u001b[39m\"\u001b[39;49m,\n\u001b[0;32m    448\u001b[0m     dpi\u001b[39m=\u001b[39;49m\u001b[39mself\u001b[39;49m\u001b[39m.\u001b[39;49mfigure\u001b[39m.\u001b[39;49mdpi, metadata\u001b[39m=\u001b[39;49mmetadata, pil_kwargs\u001b[39m=\u001b[39;49mpil_kwargs)\n",
      "File \u001b[1;32mc:\\Users\\skt\\AppData\\Local\\Programs\\Python\\Python312\\Lib\\site-packages\\matplotlib\\image.py:1656\u001b[0m, in \u001b[0;36mimsave\u001b[1;34m(fname, arr, vmin, vmax, cmap, format, origin, dpi, metadata, pil_kwargs)\u001b[0m\n\u001b[0;32m   1654\u001b[0m pil_kwargs\u001b[39m.\u001b[39msetdefault(\u001b[39m\"\u001b[39m\u001b[39mformat\u001b[39m\u001b[39m\"\u001b[39m, \u001b[39mformat\u001b[39m)\n\u001b[0;32m   1655\u001b[0m pil_kwargs\u001b[39m.\u001b[39msetdefault(\u001b[39m\"\u001b[39m\u001b[39mdpi\u001b[39m\u001b[39m\"\u001b[39m, (dpi, dpi))\n\u001b[1;32m-> 1656\u001b[0m image\u001b[39m.\u001b[39;49msave(fname, \u001b[39m*\u001b[39;49m\u001b[39m*\u001b[39;49mpil_kwargs)\n",
      "File \u001b[1;32mc:\\Users\\skt\\AppData\\Local\\Programs\\Python\\Python312\\Lib\\site-packages\\PIL\\Image.py:2435\u001b[0m, in \u001b[0;36mImage.save\u001b[1;34m(self, fp, format, **params)\u001b[0m\n\u001b[0;32m   2433\u001b[0m         fp \u001b[39m=\u001b[39m builtins\u001b[39m.\u001b[39mopen(filename, \u001b[39m\"\u001b[39m\u001b[39mr+b\u001b[39m\u001b[39m\"\u001b[39m)\n\u001b[0;32m   2434\u001b[0m     \u001b[39melse\u001b[39;00m:\n\u001b[1;32m-> 2435\u001b[0m         fp \u001b[39m=\u001b[39m builtins\u001b[39m.\u001b[39;49mopen(filename, \u001b[39m\"\u001b[39;49m\u001b[39mw+b\u001b[39;49m\u001b[39m\"\u001b[39;49m)\n\u001b[0;32m   2437\u001b[0m \u001b[39mtry\u001b[39;00m:\n\u001b[0;32m   2438\u001b[0m     save_handler(\u001b[39mself\u001b[39m, fp, filename)\n",
      "\u001b[1;31mFileNotFoundError\u001b[0m: [Errno 2] No such file or directory: '/Users/yuka/Desktop/Wonders/October-DM-Analysis/plot/counts_by_stats_us.png'"
     ]
    },
    {
     "data": {
      "image/png": "[encoded data removed]",
      "text/plain": [
       "<Figure size 640x480 with 1 Axes>"
      ]
     },
     "metadata": {},
     "output_type": "display_data"
    }
   ],
   "source": [
    "# Assuming your DataFrame is named combined_df\n",
    "country_counts = SAM_US_2['State/Province Code'].value_counts()\n",
    "\n",
    "# Plotting the bar chart\n",
    "country_counts.plot(kind='bar', color='#123d8d')\n",
    "plt.title('Distribution of States')\n",
    "plt.xlabel('State/Province Code')\n",
    "plt.ylabel('Count')\n",
    "plt.xticks(rotation=75)\n",
    "plt.savefig(\"/Users/yuka/Desktop/Wonders/October-DM-Analysis/plot/counts_by_stats_us.png\")  # Save as PNG image\n",
    "plt.show()\n"
   ]
  },
  {
   "cell_type": "code",
   "execution_count": null,
   "metadata": {},
   "outputs": [],
   "source": [
    "grouped_summary = (\n",
    "    combined_df[combined_df['Country'] == 'United States']\n",
    "    .groupby(['State/Province Code', 'drop'])\n",
    "    .size()\n",
    "    .reset_index(name='Counts')\n",
    "    .pivot_table(index='State/Province Code', columns='drop', values='Counts', fill_value=0)\n",
    "    .assign(Total=lambda x: x.sum(axis=1))\n",
    "    .sort_values(by='Total', ascending=False)\n",
    ")\n",
    "\n",
    "# Display the summarized DataFrame\n",
    "grouped_summary.style\n"
   ]
  },
  {
   "cell_type": "code",
   "execution_count": null,
   "metadata": {},
   "outputs": [],
   "source": [
    "# Assuming your DataFrame is named combined_df\n",
    "country_counts = SAM_CAN_2['State/Province Code'].value_counts()\n",
    "\n",
    "# Plotting the bar chart\n",
    "country_counts.plot(kind='bar', color='#123d8d')\n",
    "plt.title('Distribution of States')\n",
    "plt.xlabel('State/Province Code')\n",
    "plt.ylabel('Count')\n",
    "plt.xticks(rotation=75)\n",
    "plt.savefig(\"/Users/yuka/Desktop/Wonders/October-DM-Analysis/plot/counts_by_stats_canada.png\")  # Save as PNG image\n",
    "plt.show()\n"
   ]
  },
  {
   "cell_type": "code",
   "execution_count": null,
   "metadata": {},
   "outputs": [],
   "source": [
    "grouped_summary = (\n",
    "    combined_df[combined_df['Country'] == 'Canada']\n",
    "    .groupby(['State/Province Code', 'drop'])\n",
    "    .size()\n",
    "    .reset_index(name='Counts')\n",
    "    .pivot_table(index='State/Province Code', columns='drop', values='Counts', fill_value=0)\n",
    "    .assign(Total=lambda x: x.sum(axis=1))\n",
    "    .sort_values(by='Total', ascending=False)\n",
    ")\n",
    "\n",
    "# Display the summarized DataFrame\n",
    "grouped_summary.style"
   ]
  },
  {
   "cell_type": "code",
   "execution_count": null,
   "metadata": {},
   "outputs": [],
   "source": [
    "# Assuming your DataFrame is named combined_df\n",
    "\n",
    "cuisine_counts = (\n",
    "    combined_df\n",
    "    .groupby(['Cuisines (Regional)','drop'])\n",
    "    .size()\n",
    "    .reset_index(name='Counts')\n",
    "    .pivot_table(index='Cuisines (Regional)', columns='drop', values='Counts', fill_value=0)\n",
    "    .assign(Total=lambda x: x.sum(axis=1))\n",
    "    .sort_values(by='Total', ascending=False)\n",
    ")\n",
    "\n",
    "import seaborn as sns\n",
    "\n",
    "\n",
    "country_counts = combined_df['Cuisines (Regional)'].value_counts()\n",
    "\n",
    "sns.barplot(x=country_counts.index, y=country_counts.values, color='#123d8d')\n",
    "plt.title('Distribution of Cuisine Types')\n",
    "plt.xlabel('Cuisine Types')\n",
    "plt.ylabel('Count')\n",
    "plt.xticks(rotation=75)\n",
    "plt.savefig(\"/Users/yuka/Desktop/Wonders/October-DM-Analysis/plot/cuisines.png\")\n",
    "plt.show()\n",
    "\n"
   ]
  },
  {
   "cell_type": "code",
   "execution_count": null,
   "metadata": {},
   "outputs": [],
   "source": [
    "import matplotlib.pyplot as plt\n",
    "import pandas as pd\n",
    "import textwrap\n",
    "\n",
    "# Assuming your DataFrame is named combined_df\n",
    "cuisine_counts = (\n",
    "    combined_df\n",
    "    .groupby(['Cuisines (Regional)', 'drop'])\n",
    "    .size()\n",
    "    .reset_index(name='Counts')\n",
    "    .pivot_table(index='Cuisines (Regional)', columns='drop', values='Counts', fill_value=0)\n",
    "    .assign(Total=lambda x: x.sum(axis=1))\n",
    "    .sort_values(by='Total', ascending=False)\n",
    ")\n",
    "cuisine_counts.style"
   ]
  },
  {
   "cell_type": "code",
   "execution_count": null,
   "metadata": {},
   "outputs": [],
   "source": [
    "\n",
    "# Use textwrap to wrap long labels\n",
    "wrapped_labels = [textwrap.fill(label, width=15) for label in cuisine_counts.index]\n",
    "\n",
    "# Create a new DataFrame with the wrapped labels and corresponding values\n",
    "wrapped_df = pd.DataFrame({\n",
    "    'Cuisine Types': wrapped_labels,\n",
    "    'Count': cuisine_counts.sum(axis=1).values  # Sum along the columns to get total count\n",
    "})\n",
    "\n",
    "# Plotting the bar chart\n",
    "plt.figure(figsize=(20, 3))  # Adjust the size as needed\n",
    "\n",
    "country_counts = wrapped_df.plot(kind='bar', x='Cuisine Types', y='Count', color='#123d8d')\n",
    "\n",
    "plt.title('Distribution of Cuisine Types')\n",
    "plt.xlabel('Cuisine Types')\n",
    "plt.ylabel('Count')\n",
    "plt.xticks(rotation=70, ha='right')  # Set rotation to 0 and adjust horizontal alignment\n",
    "plt.tight_layout()  # Adjust layout for better spacing\n",
    "plt.savefig(\"/Users/yuka/Desktop/Wonders/October-DM-Analysis/plot/cuisines.png\")  # Save as PNG image\n",
    "plt.show()\n"
   ]
  }
 ],
 "metadata": {
  "kernelspec": {
   "display_name": "Python 3",
   "language": "python",
   "name": "python3"
  },
  "language_info": {
   "codemirror_mode": {
    "name": "ipython",
    "version": 3
   },
   "file_extension": ".py",
   "mimetype": "text/x-python",
   "name": "python",
   "nbconvert_exporter": "python",
   "pygments_lexer": "ipython3",
   "version": "3.12.0"
  }
 },
 "nbformat": 4,
 "nbformat_minor": 2
}
