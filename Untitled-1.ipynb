{
 "cells": [
  {
   "cell_type": "code",
   "execution_count": null,
   "id": "51685d32",
   "metadata": {},
   "outputs": [],
   "source": [
    "import pandas as pd\n",
    "\n",
    "social_form = pd.read_csv(\"/Users/yukachen/Downloads/social-form-jun-2025-07-07.csv\")\n",
    "referral_form = pd.read_csv(\"/Users/yukachen/Downloads/referral-form-2025-07-07.csv\")\n",
    "pricing_form = pd.read_csv(\"/Users/yukachen/Downloads/pricing-form-2025-07-07.csv\")\n",
    "pizza_expo_form = pd.read_csv(\"/Users/yukachen/Downloads/pizza-expo-2025-07-07.csv\")\n",
    "evergreen_sms_form = pd.read_csv(\"/Users/yukachen/Downloads/evergreen-sms-form-2025-07-07.csv\")\n",
    "evergreen_sem_form = pd.read_csv(\"/Users/yukachen/Downloads/evergreen-sem-form-2025-07-07.csv\")\n",
    "email_collection_form = pd.read_csv(\"/Users/yukachen/Downloads/email-collection-form-2025-07-07.csv\")\n",
    "banner_form = pd.read_csv(\"/Users/yukachen/Downloads/banner-form-2025-07-07.csv\")\n",
    "b_sms_form = pd.read_csv(\"/Users/yukachen/Downloads/b-sms-form-2025-07-07.csv\")\n",
    "b_sem_form = pd.read_csv(\"/Users/yukachen/Downloads/b-sem-form-2025-07-07.csv\")\n",
    "b_dm_standard_form = pd.read_csv(\"/Users/yukachen/Downloads/b-dm-standard-form-2025-07-07.csv\")\n"
   ]
  },
  {
   "cell_type": "code",
   "execution_count": 2,
   "id": "dbfb97b9",
   "metadata": {},
   "outputs": [],
   "source": [
    "\n",
    "social_form['form_source'] = 'social_form'\n",
    "referral_form['form_source'] = 'referral_form'\n",
    "pricing_form['form_source'] = 'pricing_form'\n",
    "pizza_expo_form['form_source'] = 'pizza_expo_form'\n",
    "evergreen_sms_form['form_source'] = 'evergreen_sms_form'            \n",
    "evergreen_sem_form['form_source'] = 'evergreen_sem_form'\n",
    "email_collection_form['form_source'] = 'email_collection_form'\n",
    "banner_form['form_source'] = 'banner_form'\n",
    "b_sms_form['form_source'] = 'b_sms_form'\n",
    "b_sem_form['form_source'] = 'b_sem_form'\n",
    "b_dm_standard_form['form_source'] = 'b_dm_standard_form'\n"
   ]
  },
  {
   "cell_type": "code",
   "execution_count": null,
   "id": "fb8e16a8",
   "metadata": {},
   "outputs": [],
   "source": [
    "\n",
    "\n",
    "social_form = social_form[[\"Date\",\"We Chat Alias 3\",\"form_source\"]]\n",
    "referral_form = referral_form[[\"Date\",\"Last Name 4\",\"form_source\"]]\n",
    "pricing_form = pricing_form[[\"Date\",\"Last Name\",\"form_source\"]]\n",
    "pizza_expo_form = pizza_expo_form[[\"Date\",\"Last Name 5\",\"form_source\"]]\n",
    "evergreen_sms_form = evergreen_sms_form[[\"Date\",\"Last Name 5\",\"form_source\"]]\n",
    "evergreen_sem_form = evergreen_sem_form[[\"Date\",\"Last Name 5\",\"form_source\"]]\n",
    "email_collection_form = email_collection_form[[\"Date\",\"Last Name 5\",\"form_source\"]]\n",
    "banner_form = banner_form[[\"Date\",\"Last Name 7\",\"form_source\"]]\n",
    "b_sms_form = b_sms_form[[\"Date\",\"Last Name 5\",\"form_source\"]]\n",
    "b_sem_form = b_sem_form[[\"Date\",\"Last Name 5\",\"form_source\"]]\n",
    "b_dm_standard_form = b_dm_standard_form[[\"Date\",\"Last Name 5\",\"form_source\"]]\n"
   ]
  },
  {
   "cell_type": "code",
   "execution_count": 4,
   "id": "927ee7e1",
   "metadata": {},
   "outputs": [],
   "source": [
    "\n",
    "social_form.rename(columns={\"We Chat Alias 3\": \"Last Name\"}, inplace=True)\n",
    "referral_form.rename(columns={\"Last Name 4\": \"Last Name\"}, inplace=True)\n",
    "pricing_form.rename(columns={\"Last Name\": \"Last Name\"}, inplace=True)\n",
    "pizza_expo_form.rename(columns={\"Last Name 5\": \"Last Name\"}, inplace=True)          \n",
    "evergreen_sms_form.rename(columns={\"Last Name 5\": \"Last Name\"}, inplace=True)\n",
    "evergreen_sem_form.rename(columns={\"Last Name 5\": \"Last Name\"}, inplace=True)\n",
    "email_collection_form.rename(columns={\"Last Name 5\": \"Last Name\"}, inplace=True)\n",
    "banner_form.rename(columns={\"Last Name 7\": \"Last Name\"}, inplace=True)\n",
    "b_sms_form.rename(columns={\"Last Name 5\": \"Last Name\"}, inplace=True)\n",
    "b_sem_form.rename(columns={\"Last Name 5\": \"Last Name\"}, inplace=True)\n",
    "b_dm_standard_form.rename(columns={\"Last Name 5\": \"Last Name\"}, inplace=True)\n"
   ]
  },
  {
   "cell_type": "code",
   "execution_count": 6,
   "id": "4cf1a35e",
   "metadata": {},
   "outputs": [],
   "source": [
    "\n",
    "all_forms = pd.concat([social_form, referral_form, pricing_form, pizza_expo_form, evergreen_sms_form, evergreen_sem_form, email_collection_form, banner_form, b_sms_form, b_sem_form, b_dm_standard_form], ignore_index=True)\n",
    "\n",
    "all_forms.to_csv(\"/Users/yukachen/Downloads/all_forms.csv\", index=False)\n"
   ]
  },
  {
   "cell_type": "code",
   "execution_count": 7,
   "id": "161b8d9a",
   "metadata": {},
   "outputs": [
    {
     "data": {
      "text/plain": [
       "11.299435028248588"
      ]
     },
     "execution_count": 7,
     "metadata": {},
     "output_type": "execute_result"
    }
   ],
   "source": [
    "20/177*100"
   ]
  }
 ],
 "metadata": {
  "kernelspec": {
   "display_name": "Python (venv-marketing-operation)",
   "language": "python",
   "name": "venv-marketing-operation"
  },
  "language_info": {
   "codemirror_mode": {
    "name": "ipython",
    "version": 3
   },
   "file_extension": ".py",
   "mimetype": "text/x-python",
   "name": "python",
   "nbconvert_exporter": "python",
   "pygments_lexer": "ipython3",
   "version": "3.10.10"
  }
 },
 "nbformat": 4,
 "nbformat_minor": 5
}
