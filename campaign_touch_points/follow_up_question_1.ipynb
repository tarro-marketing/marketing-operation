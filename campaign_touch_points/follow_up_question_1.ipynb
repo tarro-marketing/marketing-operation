{
 "cells": [
  {
   "cell_type": "code",
   "execution_count": 1,
   "id": "bce85933",
   "metadata": {},
   "outputs": [
    {
     "name": "stdout",
     "output_type": "stream",
     "text": [
      "80th percentile of DM sends for closed-won/onboarded leads: 13\n"
     ]
    },
    {
     "data": {
      "image/png": "[encoded data removed]",
      "text/plain": [
       "<Figure size 800x400 with 1 Axes>"
      ]
     },
     "metadata": {},
     "output_type": "display_data"
    }
   ],
   "source": [
    "import pandas as pd\n",
    "import matplotlib.pyplot as plt\n",
    "\n",
    "# 1) Load your leads summary (adjust path to wherever you saved it)\n",
    "leads = pd.read_csv(\n",
    "    \"/Users/yukachen/marketing-operation/campaign_touch_points/data/Brizo __ Leads - data.csv\",\n",
    "    dtype={\"brizo_id\": str, \"count\": float},\n",
    "    low_memory=False\n",
    ")\n",
    "\n",
    "# 2) Filter to only the CW group\n",
    "cw = leads[ leads[\"stage\"].str.lower().isin([\"closed won\", \"onboarded\"]) ]\n",
    "\n",
    "# 3) Compute the 80th percentile of their DM counts\n",
    "pct80 = cw[\"count\"].quantile(0.8)\n",
    "print(f\"80th percentile of DM sends for closed-won/onboarded leads: {pct80:.0f}\")\n",
    "\n",
    "# 4) Plot the distribution and mark the 80th percentile\n",
    "plt.figure(figsize=(8,4))\n",
    "plt.hist(cw[\"count\"], bins=30, alpha=0.7, edgecolor='black')\n",
    "plt.axvline(pct80, color='red', linestyle='--', linewidth=2,\n",
    "            label=f'80th percentile = {pct80:.0f}')\n",
    "plt.title(\"Distribution of DM Counts for CW Leads\")\n",
    "plt.xlabel(\"Number of DMs sent\")\n",
    "plt.ylabel(\"Number of Leads\")\n",
    "plt.legend()\n",
    "plt.show()"
   ]
  },
  {
   "cell_type": "code",
   "execution_count": 14,
   "id": "9a0e3c8d",
   "metadata": {},
   "outputs": [],
   "source": [
    "import pandas as pd\n",
    "import janitor\n",
    "\n",
    "landing_date = pd.read_csv('data/brizo_list_landing_date.csv').clean_names()\n",
    "\n",
    "leads = pd.read_csv('data/exported_date/deduped_leads_long.csv').clean_names()\n",
    "brizo = pd.read_csv('data/exported_date/combined.csv').clean_names()"
   ]
  },
  {
   "cell_type": "code",
   "execution_count": 15,
   "id": "207d028b",
   "metadata": {},
   "outputs": [],
   "source": [
    "selected_leads = leads[['lead_id','mobile_primary',\n",
    "                        'business_phone_line_1','brizo_id', \n",
    "                        'created_date',\n",
    "                        'first_mel_timestamp','latest_mql_timestamp',\n",
    "                        'assigned_time_ae_',\n",
    "                        'opportunity_created_date',\n",
    "                        'closed_won_date',\n",
    "                        'stage','unqualified_reason', 'closed_lost_reason']].drop_duplicates()"
   ]
  },
  {
   "cell_type": "code",
   "execution_count": 16,
   "id": "9e306d97",
   "metadata": {},
   "outputs": [],
   "source": [
    "brizo_landing_date = brizo.merge(landing_date, on='list_source', how='left')"
   ]
  },
  {
   "cell_type": "code",
   "execution_count": 19,
   "id": "89bd0a96",
   "metadata": {},
   "outputs": [],
   "source": [
    "match_brizo = brizo_landing_date.merge(\n",
    "    selected_leads,\n",
    "    on='brizo_id',\n",
    "    how='inner'\n",
    ")"
   ]
  },
  {
   "cell_type": "code",
   "execution_count": 18,
   "id": "2ca4a570",
   "metadata": {},
   "outputs": [
    {
     "name": "stdout",
     "output_type": "stream",
     "text": [
      "Index(['lead_id', 'mobile_primary', 'business_phone_line_1', 'brizo_id',\n",
      "       'created_date', 'first_mel_timestamp', 'latest_mql_timestamp',\n",
      "       'assigned_time_ae_', 'opportunity_created_date', 'closed_won_date',\n",
      "       'stage', 'unqualified_reason', 'closed_lost_reason', 'phone_number',\n",
      "       'list_source', 'year_month', 'landing_start_date', 'landing_end_date'],\n",
      "      dtype='object')\n"
     ]
    }
   ],
   "source": [
    "print(match_brizo.columns)"
   ]
  },
  {
   "cell_type": "code",
   "execution_count": null,
   "id": "4775384b",
   "metadata": {},
   "outputs": [
    {
     "data": {
      "application/vnd.microsoft.datawrangler.viewer.v0+json": {
       "columns": [
        {
         "name": "index",
         "rawType": "int64",
         "type": "integer"
        },
        {
         "name": "brizo_id",
         "rawType": "object",
         "type": "string"
        },
        {
         "name": "count",
         "rawType": "int64",
         "type": "integer"
        }
       ],
       "ref": "843e50c4-bd87-4491-8ab5-cb6038f3eabe",
       "rows": [
        [
         "0",
         "020cc38031d71c90",
         "3"
        ],
        [
         "1",
         "02cf7f8f4f6d36f0",
         "6"
        ],
        [
         "2",
         "05c988dd31b8a82d",
         "15"
        ],
        [
         "3",
         "06297172ff7cfa89",
         "3"
        ],
        [
         "4",
         "067e482f037261dc",
         "3"
        ],
        [
         "5",
         "070456444fc36fd6",
         "1"
        ],
        [
         "6",
         "074d8604509fff21",
         "2"
        ],
        [
         "7",
         "07af958d753e5c15",
         "7"
        ],
        [
         "8",
         "09f45c50e2bb45a9",
         "1"
        ],
        [
         "9",
         "0b117c7781f14872",
         "3"
        ],
        [
         "10",
         "0efecae877152bb2",
         "3"
        ],
        [
         "11",
         "125bb2f6a5b0309f",
         "5"
        ],
        [
         "12",
         "127784269c84601e",
         "3"
        ],
        [
         "13",
         "14844c900649d2d7",
         "9"
        ],
        [
         "14",
         "153e190276a8008d",
         "10"
        ],
        [
         "15",
         "188696209acaa27b",
         "2"
        ],
        [
         "16",
         "1a0af4c9ae415fc2",
         "1"
        ],
        [
         "17",
         "1a213d4c152038f3",
         "8"
        ],
        [
         "18",
         "1a884062e095e904",
         "18"
        ],
        [
         "19",
         "1aabee93ec911eeb",
         "1"
        ],
        [
         "20",
         "1bee3fbcc97ec1a2",
         "2"
        ],
        [
         "21",
         "200ebbbde0b5a103",
         "8"
        ],
        [
         "22",
         "212192c8506132a0",
         "7"
        ],
        [
         "23",
         "213968aacc6f2c76",
         "8"
        ],
        [
         "24",
         "225aa790c4a4dcea",
         "3"
        ],
        [
         "25",
         "22a7c0d5952843d7",
         "1"
        ],
        [
         "26",
         "22c9b7a542393111",
         "1"
        ],
        [
         "27",
         "2496e3ce8d550075",
         "2"
        ],
        [
         "28",
         "26bc52764ae416e3",
         "4"
        ],
        [
         "29",
         "2b7426a79d582cb4",
         "11"
        ],
        [
         "30",
         "2d861d3605e2c119",
         "1"
        ],
        [
         "31",
         "2e0350026de61364",
         "6"
        ],
        [
         "32",
         "2e260c201cf6c75f",
         "8"
        ],
        [
         "33",
         "2f0d60c5c74c1d9e",
         "7"
        ],
        [
         "34",
         "302de995f0c1fbc8",
         "6"
        ],
        [
         "35",
         "304abbed247b9ef6",
         "8"
        ],
        [
         "36",
         "30682cd8bd9b17fd",
         "2"
        ],
        [
         "37",
         "30efee4ef0c77292",
         "13"
        ],
        [
         "38",
         "32a1a6ddd83e21d4",
         "6"
        ],
        [
         "39",
         "34855985e1365ea4",
         "7"
        ],
        [
         "40",
         "36e46a83c7972faf",
         "3"
        ],
        [
         "41",
         "383d3cd72edb0d3a",
         "4"
        ],
        [
         "42",
         "39342e819d2779b7",
         "3"
        ],
        [
         "43",
         "396ff6269bfc009a",
         "6"
        ],
        [
         "44",
         "39b780363a4da240",
         "9"
        ],
        [
         "45",
         "3a8b44acad026b2c",
         "5"
        ],
        [
         "46",
         "3bece9c02f299394",
         "9"
        ],
        [
         "47",
         "3cfcf6239f3e93d3",
         "2"
        ],
        [
         "48",
         "3d919be0be7580e8",
         "6"
        ],
        [
         "49",
         "3e09b5d061af943a",
         "8"
        ]
       ],
       "shape": {
        "columns": 2,
        "rows": 186
       }
      },
      "text/html": [
       "<div>\n",
       "<style scoped>\n",
       "    .dataframe tbody tr th:only-of-type {\n",
       "        vertical-align: middle;\n",
       "    }\n",
       "\n",
       "    .dataframe tbody tr th {\n",
       "        vertical-align: top;\n",
       "    }\n",
       "\n",
       "    .dataframe thead th {\n",
       "        text-align: right;\n",
       "    }\n",
       "</style>\n",
       "<table border=\"1\" class=\"dataframe\">\n",
       "  <thead>\n",
       "    <tr style=\"text-align: right;\">\n",
       "      <th></th>\n",
       "      <th>brizo_id</th>\n",
       "      <th>count</th>\n",
       "    </tr>\n",
       "  </thead>\n",
       "  <tbody>\n",
       "    <tr>\n",
       "      <th>0</th>\n",
       "      <td>020cc38031d71c90</td>\n",
       "      <td>3</td>\n",
       "    </tr>\n",
       "    <tr>\n",
       "      <th>1</th>\n",
       "      <td>02cf7f8f4f6d36f0</td>\n",
       "      <td>6</td>\n",
       "    </tr>\n",
       "    <tr>\n",
       "      <th>2</th>\n",
       "      <td>05c988dd31b8a82d</td>\n",
       "      <td>15</td>\n",
       "    </tr>\n",
       "    <tr>\n",
       "      <th>3</th>\n",
       "      <td>06297172ff7cfa89</td>\n",
       "      <td>3</td>\n",
       "    </tr>\n",
       "    <tr>\n",
       "      <th>4</th>\n",
       "      <td>067e482f037261dc</td>\n",
       "      <td>3</td>\n",
       "    </tr>\n",
       "    <tr>\n",
       "      <th>...</th>\n",
       "      <td>...</td>\n",
       "      <td>...</td>\n",
       "    </tr>\n",
       "    <tr>\n",
       "      <th>181</th>\n",
       "      <td>fc05c9cc577242cf</td>\n",
       "      <td>2</td>\n",
       "    </tr>\n",
       "    <tr>\n",
       "      <th>182</th>\n",
       "      <td>fc211d11bfc3cc84</td>\n",
       "      <td>15</td>\n",
       "    </tr>\n",
       "    <tr>\n",
       "      <th>183</th>\n",
       "      <td>fd74c5661bc90b04</td>\n",
       "      <td>2</td>\n",
       "    </tr>\n",
       "    <tr>\n",
       "      <th>184</th>\n",
       "      <td>fd87102fe31eedcd</td>\n",
       "      <td>1</td>\n",
       "    </tr>\n",
       "    <tr>\n",
       "      <th>185</th>\n",
       "      <td>fdf175d8f3705583</td>\n",
       "      <td>10</td>\n",
       "    </tr>\n",
       "  </tbody>\n",
       "</table>\n",
       "<p>186 rows × 2 columns</p>\n",
       "</div>"
      ],
      "text/plain": [
       "             brizo_id  count\n",
       "0    020cc38031d71c90      3\n",
       "1    02cf7f8f4f6d36f0      6\n",
       "2    05c988dd31b8a82d     15\n",
       "3    06297172ff7cfa89      3\n",
       "4    067e482f037261dc      3\n",
       "..                ...    ...\n",
       "181  fc05c9cc577242cf      2\n",
       "182  fc211d11bfc3cc84     15\n",
       "183  fd74c5661bc90b04      2\n",
       "184  fd87102fe31eedcd      1\n",
       "185  fdf175d8f3705583     10\n",
       "\n",
       "[186 rows x 2 columns]"
      ]
     },
     "metadata": {},
     "output_type": "display_data"
    }
   ],
   "source": [
    "after_closed_won = match_brizo[match_brizo['closed_won_date'] > match_brizo['landing_start_date']]\n",
    "\n",
    "after_closed_won_id_phone = after_closed_won[['brizo_id']]\n",
    "\n",
    "after_closed_won_id_phone_counts = (\n",
    "    after_closed_won_id_phone\n",
    "      .groupby(['brizo_id'])\n",
    "      .size()\n",
    "      .reset_index(name='count')\n",
    ")\n",
    "display(after_closed_won_id_phone_counts)"
   ]
  },
  {
   "cell_type": "code",
   "execution_count": 24,
   "id": "d022fc46",
   "metadata": {},
   "outputs": [],
   "source": [
    "check = match_brizo[['brizo_id', 'phone_number', 'landing_start_date', 'closed_won_date']].drop_duplicates().dropna(subset=['closed_won_date'])\n",
    "check.to_csv('data/exported_data/check.csv', index=False)"
   ]
  },
  {
   "cell_type": "code",
   "execution_count": 44,
   "id": "f9c6682d",
   "metadata": {},
   "outputs": [
    {
     "data": {
      "application/vnd.microsoft.datawrangler.viewer.v0+json": {
       "columns": [
        {
         "name": "index",
         "rawType": "int64",
         "type": "integer"
        },
        {
         "name": "brizo_id",
         "rawType": "object",
         "type": "string"
        },
        {
         "name": "count",
         "rawType": "int64",
         "type": "integer"
        }
       ],
       "ref": "89971d13-42e9-489c-9d38-ace992529594",
       "rows": [
        [
         "0",
         "020cc38031d71c90",
         "3"
        ],
        [
         "1",
         "02cf7f8f4f6d36f0",
         "6"
        ],
        [
         "2",
         "05c988dd31b8a82d",
         "15"
        ],
        [
         "3",
         "06297172ff7cfa89",
         "3"
        ],
        [
         "4",
         "067e482f037261dc",
         "3"
        ],
        [
         "5",
         "09f45c50e2bb45a9",
         "1"
        ],
        [
         "6",
         "0b117c7781f14872",
         "3"
        ],
        [
         "7",
         "0efecae877152bb2",
         "3"
        ],
        [
         "8",
         "125bb2f6a5b0309f",
         "5"
        ],
        [
         "9",
         "127784269c84601e",
         "3"
        ],
        [
         "10",
         "14844c900649d2d7",
         "9"
        ],
        [
         "11",
         "153e190276a8008d",
         "10"
        ],
        [
         "12",
         "188696209acaa27b",
         "2"
        ],
        [
         "13",
         "1a0af4c9ae415fc2",
         "1"
        ],
        [
         "14",
         "1aabee93ec911eeb",
         "1"
        ],
        [
         "15",
         "1bee3fbcc97ec1a2",
         "2"
        ],
        [
         "16",
         "200ebbbde0b5a103",
         "8"
        ],
        [
         "17",
         "213968aacc6f2c76",
         "8"
        ],
        [
         "18",
         "225aa790c4a4dcea",
         "3"
        ],
        [
         "19",
         "2496e3ce8d550075",
         "2"
        ],
        [
         "20",
         "26bc52764ae416e3",
         "4"
        ],
        [
         "21",
         "2b7426a79d582cb4",
         "11"
        ],
        [
         "22",
         "2d861d3605e2c119",
         "1"
        ],
        [
         "23",
         "2e0350026de61364",
         "6"
        ],
        [
         "24",
         "2e260c201cf6c75f",
         "8"
        ],
        [
         "25",
         "2f0d60c5c74c1d9e",
         "7"
        ],
        [
         "26",
         "30682cd8bd9b17fd",
         "2"
        ],
        [
         "27",
         "30efee4ef0c77292",
         "13"
        ],
        [
         "28",
         "32a1a6ddd83e21d4",
         "6"
        ],
        [
         "29",
         "34855985e1365ea4",
         "7"
        ],
        [
         "30",
         "36e46a83c7972faf",
         "3"
        ],
        [
         "31",
         "383d3cd72edb0d3a",
         "4"
        ],
        [
         "32",
         "39b780363a4da240",
         "9"
        ],
        [
         "33",
         "3a8b44acad026b2c",
         "5"
        ],
        [
         "34",
         "3bece9c02f299394",
         "9"
        ],
        [
         "35",
         "3cfcf6239f3e93d3",
         "2"
        ],
        [
         "36",
         "3d919be0be7580e8",
         "6"
        ],
        [
         "37",
         "3e09b5d061af943a",
         "8"
        ],
        [
         "38",
         "3ee9926a5fd802dc",
         "10"
        ],
        [
         "39",
         "42078202491b2a13",
         "8"
        ],
        [
         "40",
         "45b72a04f5a42d09",
         "2"
        ],
        [
         "41",
         "48b4034f58e07c5f",
         "11"
        ],
        [
         "42",
         "4b71edbaef494fd9",
         "1"
        ],
        [
         "43",
         "4c96b3fdd943bb8d",
         "2"
        ],
        [
         "44",
         "4d85be4d8f4f7ef9",
         "2"
        ],
        [
         "45",
         "4e722c5b8f409b96",
         "6"
        ],
        [
         "46",
         "4f2b6d7e423e5526",
         "8"
        ],
        [
         "47",
         "4f4c8b95c28f64c7",
         "1"
        ],
        [
         "48",
         "508e1947a995ce51",
         "6"
        ],
        [
         "49",
         "523cebc2a80186cd",
         "2"
        ]
       ],
       "shape": {
        "columns": 2,
        "rows": 123
       }
      },
      "text/html": [
       "<div>\n",
       "<style scoped>\n",
       "    .dataframe tbody tr th:only-of-type {\n",
       "        vertical-align: middle;\n",
       "    }\n",
       "\n",
       "    .dataframe tbody tr th {\n",
       "        vertical-align: top;\n",
       "    }\n",
       "\n",
       "    .dataframe thead th {\n",
       "        text-align: right;\n",
       "    }\n",
       "</style>\n",
       "<table border=\"1\" class=\"dataframe\">\n",
       "  <thead>\n",
       "    <tr style=\"text-align: right;\">\n",
       "      <th></th>\n",
       "      <th>brizo_id</th>\n",
       "      <th>count</th>\n",
       "    </tr>\n",
       "  </thead>\n",
       "  <tbody>\n",
       "    <tr>\n",
       "      <th>0</th>\n",
       "      <td>020cc38031d71c90</td>\n",
       "      <td>3</td>\n",
       "    </tr>\n",
       "    <tr>\n",
       "      <th>1</th>\n",
       "      <td>02cf7f8f4f6d36f0</td>\n",
       "      <td>6</td>\n",
       "    </tr>\n",
       "    <tr>\n",
       "      <th>2</th>\n",
       "      <td>05c988dd31b8a82d</td>\n",
       "      <td>15</td>\n",
       "    </tr>\n",
       "    <tr>\n",
       "      <th>3</th>\n",
       "      <td>06297172ff7cfa89</td>\n",
       "      <td>3</td>\n",
       "    </tr>\n",
       "    <tr>\n",
       "      <th>4</th>\n",
       "      <td>067e482f037261dc</td>\n",
       "      <td>3</td>\n",
       "    </tr>\n",
       "    <tr>\n",
       "      <th>...</th>\n",
       "      <td>...</td>\n",
       "      <td>...</td>\n",
       "    </tr>\n",
       "    <tr>\n",
       "      <th>118</th>\n",
       "      <td>f1d8cf0a7aa3cda6</td>\n",
       "      <td>2</td>\n",
       "    </tr>\n",
       "    <tr>\n",
       "      <th>119</th>\n",
       "      <td>f6bb2314b36d1b70</td>\n",
       "      <td>1</td>\n",
       "    </tr>\n",
       "    <tr>\n",
       "      <th>120</th>\n",
       "      <td>f8d8798d9aeb4875</td>\n",
       "      <td>8</td>\n",
       "    </tr>\n",
       "    <tr>\n",
       "      <th>121</th>\n",
       "      <td>fc211d11bfc3cc84</td>\n",
       "      <td>15</td>\n",
       "    </tr>\n",
       "    <tr>\n",
       "      <th>122</th>\n",
       "      <td>fd87102fe31eedcd</td>\n",
       "      <td>1</td>\n",
       "    </tr>\n",
       "  </tbody>\n",
       "</table>\n",
       "<p>123 rows × 2 columns</p>\n",
       "</div>"
      ],
      "text/plain": [
       "             brizo_id  count\n",
       "0    020cc38031d71c90      3\n",
       "1    02cf7f8f4f6d36f0      6\n",
       "2    05c988dd31b8a82d     15\n",
       "3    06297172ff7cfa89      3\n",
       "4    067e482f037261dc      3\n",
       "..                ...    ...\n",
       "118  f1d8cf0a7aa3cda6      2\n",
       "119  f6bb2314b36d1b70      1\n",
       "120  f8d8798d9aeb4875      8\n",
       "121  fc211d11bfc3cc84     15\n",
       "122  fd87102fe31eedcd      1\n",
       "\n",
       "[123 rows x 2 columns]"
      ]
     },
     "metadata": {},
     "output_type": "display_data"
    }
   ],
   "source": [
    "b4_closed_won = match_brizo[match_brizo['closed_won_date'] > match_brizo['landing_start_date']]\n",
    "\n",
    "b4_closed_won_id_phone = b4_closed_won[['brizo_id']]\n",
    "\n",
    "b4_closed_won_id_phone_counts = (\n",
    "    b4_closed_won_id_phone\n",
    "      .groupby(['brizo_id'])\n",
    "      .size()\n",
    "      .reset_index(name='count')\n",
    ")\n",
    "display(b4_closed_won_id_phone_counts)\n",
    "\n",
    "# Save the results\n",
    "b4_closed_won_id_phone_counts.to_csv('data/exported_data/b4_closed_won_id_phone_counts.csv', index=False)"
   ]
  },
  {
   "cell_type": "code",
   "execution_count": 43,
   "id": "ec5bad3c",
   "metadata": {},
   "outputs": [
    {
     "data": {
      "application/vnd.microsoft.datawrangler.viewer.v0+json": {
       "columns": [
        {
         "name": "index",
         "rawType": "int64",
         "type": "integer"
        },
        {
         "name": "brizo_id",
         "rawType": "object",
         "type": "string"
        },
        {
         "name": "count",
         "rawType": "int64",
         "type": "integer"
        }
       ],
       "ref": "6f252015-99f8-4226-ab39-097e4216de03",
       "rows": [
        [
         "0",
         "020cc38031d71c90",
         "3"
        ],
        [
         "1",
         "02cf7f8f4f6d36f0",
         "6"
        ],
        [
         "2",
         "05c988dd31b8a82d",
         "15"
        ],
        [
         "3",
         "06297172ff7cfa89",
         "3"
        ],
        [
         "4",
         "067e482f037261dc",
         "3"
        ],
        [
         "5",
         "09f45c50e2bb45a9",
         "1"
        ],
        [
         "6",
         "0b117c7781f14872",
         "3"
        ],
        [
         "7",
         "0efecae877152bb2",
         "3"
        ],
        [
         "8",
         "125bb2f6a5b0309f",
         "5"
        ],
        [
         "9",
         "127784269c84601e",
         "3"
        ],
        [
         "10",
         "14844c900649d2d7",
         "12"
        ],
        [
         "11",
         "153e190276a8008d",
         "10"
        ],
        [
         "12",
         "188696209acaa27b",
         "2"
        ],
        [
         "13",
         "1a0af4c9ae415fc2",
         "1"
        ],
        [
         "14",
         "1aabee93ec911eeb",
         "5"
        ],
        [
         "15",
         "1bee3fbcc97ec1a2",
         "2"
        ],
        [
         "16",
         "1e22ddcd529f6edd",
         "2"
        ],
        [
         "17",
         "200ebbbde0b5a103",
         "8"
        ],
        [
         "18",
         "213968aacc6f2c76",
         "8"
        ],
        [
         "19",
         "225aa790c4a4dcea",
         "3"
        ],
        [
         "20",
         "2496e3ce8d550075",
         "3"
        ],
        [
         "21",
         "26bc52764ae416e3",
         "4"
        ],
        [
         "22",
         "2b7426a79d582cb4",
         "9"
        ],
        [
         "23",
         "2d861d3605e2c119",
         "1"
        ],
        [
         "24",
         "2e0350026de61364",
         "6"
        ],
        [
         "25",
         "2e260c201cf6c75f",
         "8"
        ],
        [
         "26",
         "2f0d60c5c74c1d9e",
         "7"
        ],
        [
         "27",
         "30682cd8bd9b17fd",
         "2"
        ],
        [
         "28",
         "30efee4ef0c77292",
         "11"
        ],
        [
         "29",
         "325deae133693ef9",
         "1"
        ],
        [
         "30",
         "32a1a6ddd83e21d4",
         "6"
        ],
        [
         "31",
         "34855985e1365ea4",
         "7"
        ],
        [
         "32",
         "36e46a83c7972faf",
         "3"
        ],
        [
         "33",
         "383d3cd72edb0d3a",
         "4"
        ],
        [
         "34",
         "39b780363a4da240",
         "9"
        ],
        [
         "35",
         "3a8b44acad026b2c",
         "5"
        ],
        [
         "36",
         "3bece9c02f299394",
         "9"
        ],
        [
         "37",
         "3cfcf6239f3e93d3",
         "2"
        ],
        [
         "38",
         "3d919be0be7580e8",
         "6"
        ],
        [
         "39",
         "3e09b5d061af943a",
         "8"
        ],
        [
         "40",
         "3ee9926a5fd802dc",
         "10"
        ],
        [
         "41",
         "42011e1543c803e6",
         "1"
        ],
        [
         "42",
         "42078202491b2a13",
         "7"
        ],
        [
         "43",
         "45b72a04f5a42d09",
         "2"
        ],
        [
         "44",
         "48b4034f58e07c5f",
         "11"
        ],
        [
         "45",
         "4b71edbaef494fd9",
         "2"
        ],
        [
         "46",
         "4c96b3fdd943bb8d",
         "2"
        ],
        [
         "47",
         "4d85be4d8f4f7ef9",
         "2"
        ],
        [
         "48",
         "4e722c5b8f409b96",
         "6"
        ],
        [
         "49",
         "4f2b6d7e423e5526",
         "8"
        ]
       ],
       "shape": {
        "columns": 2,
        "rows": 133
       }
      },
      "text/html": [
       "<div>\n",
       "<style scoped>\n",
       "    .dataframe tbody tr th:only-of-type {\n",
       "        vertical-align: middle;\n",
       "    }\n",
       "\n",
       "    .dataframe tbody tr th {\n",
       "        vertical-align: top;\n",
       "    }\n",
       "\n",
       "    .dataframe thead th {\n",
       "        text-align: right;\n",
       "    }\n",
       "</style>\n",
       "<table border=\"1\" class=\"dataframe\">\n",
       "  <thead>\n",
       "    <tr style=\"text-align: right;\">\n",
       "      <th></th>\n",
       "      <th>brizo_id</th>\n",
       "      <th>count</th>\n",
       "    </tr>\n",
       "  </thead>\n",
       "  <tbody>\n",
       "    <tr>\n",
       "      <th>0</th>\n",
       "      <td>020cc38031d71c90</td>\n",
       "      <td>3</td>\n",
       "    </tr>\n",
       "    <tr>\n",
       "      <th>1</th>\n",
       "      <td>02cf7f8f4f6d36f0</td>\n",
       "      <td>6</td>\n",
       "    </tr>\n",
       "    <tr>\n",
       "      <th>2</th>\n",
       "      <td>05c988dd31b8a82d</td>\n",
       "      <td>15</td>\n",
       "    </tr>\n",
       "    <tr>\n",
       "      <th>3</th>\n",
       "      <td>06297172ff7cfa89</td>\n",
       "      <td>3</td>\n",
       "    </tr>\n",
       "    <tr>\n",
       "      <th>4</th>\n",
       "      <td>067e482f037261dc</td>\n",
       "      <td>3</td>\n",
       "    </tr>\n",
       "    <tr>\n",
       "      <th>...</th>\n",
       "      <td>...</td>\n",
       "      <td>...</td>\n",
       "    </tr>\n",
       "    <tr>\n",
       "      <th>128</th>\n",
       "      <td>f1d8cf0a7aa3cda6</td>\n",
       "      <td>2</td>\n",
       "    </tr>\n",
       "    <tr>\n",
       "      <th>129</th>\n",
       "      <td>f6bb2314b36d1b70</td>\n",
       "      <td>1</td>\n",
       "    </tr>\n",
       "    <tr>\n",
       "      <th>130</th>\n",
       "      <td>f8d8798d9aeb4875</td>\n",
       "      <td>8</td>\n",
       "    </tr>\n",
       "    <tr>\n",
       "      <th>131</th>\n",
       "      <td>fc211d11bfc3cc84</td>\n",
       "      <td>15</td>\n",
       "    </tr>\n",
       "    <tr>\n",
       "      <th>132</th>\n",
       "      <td>fd87102fe31eedcd</td>\n",
       "      <td>1</td>\n",
       "    </tr>\n",
       "  </tbody>\n",
       "</table>\n",
       "<p>133 rows × 2 columns</p>\n",
       "</div>"
      ],
      "text/plain": [
       "             brizo_id  count\n",
       "0    020cc38031d71c90      3\n",
       "1    02cf7f8f4f6d36f0      6\n",
       "2    05c988dd31b8a82d     15\n",
       "3    06297172ff7cfa89      3\n",
       "4    067e482f037261dc      3\n",
       "..                ...    ...\n",
       "128  f1d8cf0a7aa3cda6      2\n",
       "129  f6bb2314b36d1b70      1\n",
       "130  f8d8798d9aeb4875      8\n",
       "131  fc211d11bfc3cc84     15\n",
       "132  fd87102fe31eedcd      1\n",
       "\n",
       "[133 rows x 2 columns]"
      ]
     },
     "metadata": {},
     "output_type": "display_data"
    }
   ],
   "source": [
    "b4_sql = match_brizo[match_brizo['opportunity_created_date'] > match_brizo['landing_start_date']]\n",
    "\n",
    "b4_sql_id_phone = b4_sql[['brizo_id']]\n",
    "\n",
    "b4_sql_id_phone_counts = (\n",
    "    b4_sql_id_phone\n",
    "      .groupby(['brizo_id'])\n",
    "      .size()\n",
    "      .reset_index(name='count')\n",
    ")\n",
    "display(b4_sql_id_phone_counts)\n",
    "\n",
    "b4_sql_id_phone_counts.to_csv('data/exported_data/b4_sql_id_phone_counts.csv', index=False)\n",
    "\n"
   ]
  },
  {
   "cell_type": "code",
   "execution_count": 41,
   "id": "3d18d4d0",
   "metadata": {},
   "outputs": [
    {
     "data": {
      "application/vnd.microsoft.datawrangler.viewer.v0+json": {
       "columns": [
        {
         "name": "index",
         "rawType": "int64",
         "type": "integer"
        },
        {
         "name": "brizo_id",
         "rawType": "object",
         "type": "string"
        },
        {
         "name": "count",
         "rawType": "int64",
         "type": "integer"
        }
       ],
       "ref": "2161b046-9d69-40f4-b514-afc8b011930f",
       "rows": [
        [
         "0",
         "01e43677fc2db22f",
         "1"
        ],
        [
         "1",
         "02cf7f8f4f6d36f0",
         "3"
        ],
        [
         "2",
         "05c988dd31b8a82d",
         "8"
        ],
        [
         "3",
         "06297172ff7cfa89",
         "6"
        ],
        [
         "4",
         "067e482f037261dc",
         "6"
        ],
        [
         "5",
         "07b7618417f3870b",
         "1"
        ],
        [
         "6",
         "09f45c50e2bb45a9",
         "3"
        ],
        [
         "7",
         "0ea2507b0b18f53c",
         "1"
        ],
        [
         "8",
         "125bb2f6a5b0309f",
         "8"
        ],
        [
         "9",
         "127784269c84601e",
         "3"
        ],
        [
         "10",
         "14844c900649d2d7",
         "5"
        ],
        [
         "11",
         "153e190276a8008d",
         "7"
        ],
        [
         "12",
         "188696209acaa27b",
         "3"
        ],
        [
         "13",
         "1a0af4c9ae415fc2",
         "2"
        ],
        [
         "14",
         "1aabee93ec911eeb",
         "3"
        ],
        [
         "15",
         "1bee3fbcc97ec1a2",
         "7"
        ],
        [
         "16",
         "200ebbbde0b5a103",
         "3"
        ],
        [
         "17",
         "213968aacc6f2c76",
         "3"
        ],
        [
         "18",
         "225aa790c4a4dcea",
         "4"
        ],
        [
         "19",
         "26bc52764ae416e3",
         "6"
        ],
        [
         "20",
         "2b7426a79d582cb4",
         "9"
        ],
        [
         "21",
         "2d861d3605e2c119",
         "3"
        ],
        [
         "22",
         "2e0350026de61364",
         "3"
        ],
        [
         "23",
         "2e260c201cf6c75f",
         "3"
        ],
        [
         "24",
         "2f0d60c5c74c1d9e",
         "8"
        ],
        [
         "25",
         "30682cd8bd9b17fd",
         "4"
        ],
        [
         "26",
         "30efee4ef0c77292",
         "9"
        ],
        [
         "27",
         "34855985e1365ea4",
         "8"
        ],
        [
         "28",
         "36e46a83c7972faf",
         "6"
        ],
        [
         "29",
         "383d3cd72edb0d3a",
         "5"
        ],
        [
         "30",
         "39b780363a4da240",
         "4"
        ],
        [
         "31",
         "3a8b44acad026b2c",
         "7"
        ],
        [
         "32",
         "3bece9c02f299394",
         "4"
        ],
        [
         "33",
         "3cfcf6239f3e93d3",
         "4"
        ],
        [
         "34",
         "3d919be0be7580e8",
         "3"
        ],
        [
         "35",
         "3e09b5d061af943a",
         "3"
        ],
        [
         "36",
         "3ee9926a5fd802dc",
         "4"
        ],
        [
         "37",
         "40d050246de52ccc",
         "2"
        ],
        [
         "38",
         "42011e1543c803e6",
         "2"
        ],
        [
         "39",
         "42078202491b2a13",
         "8"
        ],
        [
         "40",
         "441196b5c0aab661",
         "1"
        ],
        [
         "41",
         "45b72a04f5a42d09",
         "4"
        ],
        [
         "42",
         "48b4034f58e07c5f",
         "7"
        ],
        [
         "43",
         "4b71edbaef494fd9",
         "3"
        ],
        [
         "44",
         "4c96b3fdd943bb8d",
         "6"
        ],
        [
         "45",
         "4d85be4d8f4f7ef9",
         "4"
        ],
        [
         "46",
         "4dc5ec6a2c835198",
         "1"
        ],
        [
         "47",
         "4e722c5b8f409b96",
         "6"
        ],
        [
         "48",
         "4f2b6d7e423e5526",
         "8"
        ],
        [
         "49",
         "4f4c8b95c28f64c7",
         "9"
        ]
       ],
       "shape": {
        "columns": 2,
        "rows": 133
       }
      },
      "text/html": [
       "<div>\n",
       "<style scoped>\n",
       "    .dataframe tbody tr th:only-of-type {\n",
       "        vertical-align: middle;\n",
       "    }\n",
       "\n",
       "    .dataframe tbody tr th {\n",
       "        vertical-align: top;\n",
       "    }\n",
       "\n",
       "    .dataframe thead th {\n",
       "        text-align: right;\n",
       "    }\n",
       "</style>\n",
       "<table border=\"1\" class=\"dataframe\">\n",
       "  <thead>\n",
       "    <tr style=\"text-align: right;\">\n",
       "      <th></th>\n",
       "      <th>brizo_id</th>\n",
       "      <th>count</th>\n",
       "    </tr>\n",
       "  </thead>\n",
       "  <tbody>\n",
       "    <tr>\n",
       "      <th>0</th>\n",
       "      <td>01e43677fc2db22f</td>\n",
       "      <td>1</td>\n",
       "    </tr>\n",
       "    <tr>\n",
       "      <th>1</th>\n",
       "      <td>02cf7f8f4f6d36f0</td>\n",
       "      <td>3</td>\n",
       "    </tr>\n",
       "    <tr>\n",
       "      <th>2</th>\n",
       "      <td>05c988dd31b8a82d</td>\n",
       "      <td>8</td>\n",
       "    </tr>\n",
       "    <tr>\n",
       "      <th>3</th>\n",
       "      <td>06297172ff7cfa89</td>\n",
       "      <td>6</td>\n",
       "    </tr>\n",
       "    <tr>\n",
       "      <th>4</th>\n",
       "      <td>067e482f037261dc</td>\n",
       "      <td>6</td>\n",
       "    </tr>\n",
       "    <tr>\n",
       "      <th>...</th>\n",
       "      <td>...</td>\n",
       "      <td>...</td>\n",
       "    </tr>\n",
       "    <tr>\n",
       "      <th>128</th>\n",
       "      <td>f0743ddea15cadc2</td>\n",
       "      <td>2</td>\n",
       "    </tr>\n",
       "    <tr>\n",
       "      <th>129</th>\n",
       "      <td>f1d8cf0a7aa3cda6</td>\n",
       "      <td>4</td>\n",
       "    </tr>\n",
       "    <tr>\n",
       "      <th>130</th>\n",
       "      <td>f8d8798d9aeb4875</td>\n",
       "      <td>8</td>\n",
       "    </tr>\n",
       "    <tr>\n",
       "      <th>131</th>\n",
       "      <td>fc211d11bfc3cc84</td>\n",
       "      <td>8</td>\n",
       "    </tr>\n",
       "    <tr>\n",
       "      <th>132</th>\n",
       "      <td>fd87102fe31eedcd</td>\n",
       "      <td>2</td>\n",
       "    </tr>\n",
       "  </tbody>\n",
       "</table>\n",
       "<p>133 rows × 2 columns</p>\n",
       "</div>"
      ],
      "text/plain": [
       "             brizo_id  count\n",
       "0    01e43677fc2db22f      1\n",
       "1    02cf7f8f4f6d36f0      3\n",
       "2    05c988dd31b8a82d      8\n",
       "3    06297172ff7cfa89      6\n",
       "4    067e482f037261dc      6\n",
       "..                ...    ...\n",
       "128  f0743ddea15cadc2      2\n",
       "129  f1d8cf0a7aa3cda6      4\n",
       "130  f8d8798d9aeb4875      8\n",
       "131  fc211d11bfc3cc84      8\n",
       "132  fd87102fe31eedcd      2\n",
       "\n",
       "[133 rows x 2 columns]"
      ]
     },
     "metadata": {},
     "output_type": "display_data"
    }
   ],
   "source": [
    "b4_mql = match_brizo[match_brizo['latest_mql_timestamp'] > match_brizo['landing_start_date']]\n",
    "\n",
    "b4_mql_id_phone = b4_mql[['brizo_id']]\n",
    "\n",
    "b4_mql_id_phone_counts = (\n",
    "    b4_mql_id_phone\n",
    "      .groupby(['brizo_id'])\n",
    "      .size()\n",
    "      .reset_index(name='count')\n",
    ")\n",
    "display(b4_mql_id_phone_counts)\n",
    "\n",
    "\n",
    "\n",
    "b4_mql_id_phone_counts.to_csv('data/exported_data/b4_mql_id_phone_counts.csv', index=False)\n"
   ]
  },
  {
   "cell_type": "code",
   "execution_count": 40,
   "id": "bd7e2423",
   "metadata": {},
   "outputs": [
    {
     "name": "stderr",
     "output_type": "stream",
     "text": [
      "/var/folders/8c/z2jj76jx2wq4dxt7jlmgxknm0000gn/T/ipykernel_803/1826904608.py:1: UserWarning: Boolean Series key will be reindexed to match DataFrame index.\n",
      "  b4_mel = b4_mql[match_brizo['first_mel_timestamp'] > match_brizo['landing_start_date']]\n"
     ]
    },
    {
     "data": {
      "application/vnd.microsoft.datawrangler.viewer.v0+json": {
       "columns": [
        {
         "name": "index",
         "rawType": "int64",
         "type": "integer"
        },
        {
         "name": "brizo_id",
         "rawType": "object",
         "type": "string"
        },
        {
         "name": "count",
         "rawType": "int64",
         "type": "integer"
        }
       ],
       "ref": "4017a991-c2b8-4dd1-b4a0-4e5b7ab6e3a6",
       "rows": [
        [
         "0",
         "02cf7f8f4f6d36f0",
         "3"
        ],
        [
         "1",
         "05c988dd31b8a82d",
         "8"
        ],
        [
         "2",
         "06297172ff7cfa89",
         "3"
        ],
        [
         "3",
         "067e482f037261dc",
         "3"
        ],
        [
         "4",
         "09f45c50e2bb45a9",
         "1"
        ],
        [
         "5",
         "125bb2f6a5b0309f",
         "5"
        ],
        [
         "6",
         "127784269c84601e",
         "3"
        ],
        [
         "7",
         "14844c900649d2d7",
         "5"
        ],
        [
         "8",
         "153e190276a8008d",
         "7"
        ],
        [
         "9",
         "188696209acaa27b",
         "2"
        ],
        [
         "10",
         "1a0af4c9ae415fc2",
         "1"
        ],
        [
         "11",
         "1aabee93ec911eeb",
         "1"
        ],
        [
         "12",
         "1bee3fbcc97ec1a2",
         "2"
        ],
        [
         "13",
         "200ebbbde0b5a103",
         "3"
        ],
        [
         "14",
         "213968aacc6f2c76",
         "3"
        ],
        [
         "15",
         "225aa790c4a4dcea",
         "3"
        ],
        [
         "16",
         "26bc52764ae416e3",
         "4"
        ],
        [
         "17",
         "2b7426a79d582cb4",
         "9"
        ],
        [
         "18",
         "2d861d3605e2c119",
         "1"
        ],
        [
         "19",
         "2e0350026de61364",
         "3"
        ],
        [
         "20",
         "2e260c201cf6c75f",
         "3"
        ],
        [
         "21",
         "2f0d60c5c74c1d9e",
         "7"
        ],
        [
         "22",
         "30682cd8bd9b17fd",
         "2"
        ],
        [
         "23",
         "30efee4ef0c77292",
         "9"
        ],
        [
         "24",
         "34855985e1365ea4",
         "7"
        ],
        [
         "25",
         "36e46a83c7972faf",
         "3"
        ],
        [
         "26",
         "383d3cd72edb0d3a",
         "4"
        ],
        [
         "27",
         "39b780363a4da240",
         "4"
        ],
        [
         "28",
         "3a8b44acad026b2c",
         "5"
        ],
        [
         "29",
         "3bece9c02f299394",
         "4"
        ],
        [
         "30",
         "3cfcf6239f3e93d3",
         "2"
        ],
        [
         "31",
         "3d919be0be7580e8",
         "3"
        ],
        [
         "32",
         "3e09b5d061af943a",
         "3"
        ],
        [
         "33",
         "3ee9926a5fd802dc",
         "4"
        ],
        [
         "34",
         "42078202491b2a13",
         "7"
        ],
        [
         "35",
         "45b72a04f5a42d09",
         "2"
        ],
        [
         "36",
         "48b4034f58e07c5f",
         "7"
        ],
        [
         "37",
         "4b71edbaef494fd9",
         "1"
        ],
        [
         "38",
         "4c96b3fdd943bb8d",
         "2"
        ],
        [
         "39",
         "4d85be4d8f4f7ef9",
         "2"
        ],
        [
         "40",
         "4e722c5b8f409b96",
         "6"
        ],
        [
         "41",
         "4f2b6d7e423e5526",
         "8"
        ],
        [
         "42",
         "4f4c8b95c28f64c7",
         "1"
        ],
        [
         "43",
         "508e1947a995ce51",
         "3"
        ],
        [
         "44",
         "523cebc2a80186cd",
         "2"
        ],
        [
         "45",
         "528de266898f6c51",
         "3"
        ],
        [
         "46",
         "550315a96cc91ff0",
         "9"
        ],
        [
         "47",
         "58a0d531771c2e33",
         "5"
        ],
        [
         "48",
         "59ff82b86d0e8938",
         "7"
        ],
        [
         "49",
         "60e0c8279a045956",
         "6"
        ]
       ],
       "shape": {
        "columns": 2,
        "rows": 104
       }
      },
      "text/html": [
       "<div>\n",
       "<style scoped>\n",
       "    .dataframe tbody tr th:only-of-type {\n",
       "        vertical-align: middle;\n",
       "    }\n",
       "\n",
       "    .dataframe tbody tr th {\n",
       "        vertical-align: top;\n",
       "    }\n",
       "\n",
       "    .dataframe thead th {\n",
       "        text-align: right;\n",
       "    }\n",
       "</style>\n",
       "<table border=\"1\" class=\"dataframe\">\n",
       "  <thead>\n",
       "    <tr style=\"text-align: right;\">\n",
       "      <th></th>\n",
       "      <th>brizo_id</th>\n",
       "      <th>count</th>\n",
       "    </tr>\n",
       "  </thead>\n",
       "  <tbody>\n",
       "    <tr>\n",
       "      <th>0</th>\n",
       "      <td>02cf7f8f4f6d36f0</td>\n",
       "      <td>3</td>\n",
       "    </tr>\n",
       "    <tr>\n",
       "      <th>1</th>\n",
       "      <td>05c988dd31b8a82d</td>\n",
       "      <td>8</td>\n",
       "    </tr>\n",
       "    <tr>\n",
       "      <th>2</th>\n",
       "      <td>06297172ff7cfa89</td>\n",
       "      <td>3</td>\n",
       "    </tr>\n",
       "    <tr>\n",
       "      <th>3</th>\n",
       "      <td>067e482f037261dc</td>\n",
       "      <td>3</td>\n",
       "    </tr>\n",
       "    <tr>\n",
       "      <th>4</th>\n",
       "      <td>09f45c50e2bb45a9</td>\n",
       "      <td>1</td>\n",
       "    </tr>\n",
       "    <tr>\n",
       "      <th>...</th>\n",
       "      <td>...</td>\n",
       "      <td>...</td>\n",
       "    </tr>\n",
       "    <tr>\n",
       "      <th>99</th>\n",
       "      <td>f0743ddea15cadc2</td>\n",
       "      <td>1</td>\n",
       "    </tr>\n",
       "    <tr>\n",
       "      <th>100</th>\n",
       "      <td>f1d8cf0a7aa3cda6</td>\n",
       "      <td>2</td>\n",
       "    </tr>\n",
       "    <tr>\n",
       "      <th>101</th>\n",
       "      <td>f8d8798d9aeb4875</td>\n",
       "      <td>8</td>\n",
       "    </tr>\n",
       "    <tr>\n",
       "      <th>102</th>\n",
       "      <td>fc211d11bfc3cc84</td>\n",
       "      <td>8</td>\n",
       "    </tr>\n",
       "    <tr>\n",
       "      <th>103</th>\n",
       "      <td>fd87102fe31eedcd</td>\n",
       "      <td>1</td>\n",
       "    </tr>\n",
       "  </tbody>\n",
       "</table>\n",
       "<p>104 rows × 2 columns</p>\n",
       "</div>"
      ],
      "text/plain": [
       "             brizo_id  count\n",
       "0    02cf7f8f4f6d36f0      3\n",
       "1    05c988dd31b8a82d      8\n",
       "2    06297172ff7cfa89      3\n",
       "3    067e482f037261dc      3\n",
       "4    09f45c50e2bb45a9      1\n",
       "..                ...    ...\n",
       "99   f0743ddea15cadc2      1\n",
       "100  f1d8cf0a7aa3cda6      2\n",
       "101  f8d8798d9aeb4875      8\n",
       "102  fc211d11bfc3cc84      8\n",
       "103  fd87102fe31eedcd      1\n",
       "\n",
       "[104 rows x 2 columns]"
      ]
     },
     "metadata": {},
     "output_type": "display_data"
    }
   ],
   "source": [
    "b4_mel = b4_mql[match_brizo['first_mel_timestamp'] > match_brizo['landing_start_date']]\n",
    "\n",
    "b4_mel_id_phone = b4_mel[['brizo_id']]\n",
    "\n",
    "b4_mel_id_phone_counts = (\n",
    "    b4_mel_id_phone\n",
    "      .groupby(['brizo_id'])\n",
    "      .size()\n",
    "      .reset_index(name='count')\n",
    ")\n",
    "display(b4_mel_id_phone_counts)\n",
    "\n",
    "b4_mel_id_phone_counts.to_csv('data/exported_data/b4_mel_id_phone_counts.csv', index=False)\n"
   ]
  }
 ],
 "metadata": {
  "kernelspec": {
   "display_name": "venv-marketing-operation",
   "language": "python",
   "name": "python3"
  },
  "language_info": {
   "codemirror_mode": {
    "name": "ipython",
    "version": 3
   },
   "file_extension": ".py",
   "mimetype": "text/x-python",
   "name": "python",
   "nbconvert_exporter": "python",
   "pygments_lexer": "ipython3",
   "version": "3.10.10"
  }
 },
 "nbformat": 4,
 "nbformat_minor": 5
}
