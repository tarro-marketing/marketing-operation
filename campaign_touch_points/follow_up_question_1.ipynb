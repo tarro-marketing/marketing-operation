{
 "cells": [
  {
   "cell_type": "code",
   "execution_count": 11,
   "id": "bce85933",
   "metadata": {},
   "outputs": [
    {
     "name": "stdout",
     "output_type": "stream",
     "text": [
      "80th percentile of DM sends for closed-won/onboarded leads: 13\n"
     ]
    },
    {
     "data": {
      "image/png": "[encoded data removed]",
      "text/plain": [
       "<Figure size 800x400 with 1 Axes>"
      ]
     },
     "metadata": {},
     "output_type": "display_data"
    }
   ],
   "source": [
    "import pandas as pd\n",
    "import matplotlib.pyplot as plt\n",
    "\n",
    "# 1) Load your leads summary (adjust path to wherever you saved it)\n",
    "leads = pd.read_csv(\n",
    "    \"/Users/yukachen/marketing-operation/campaign_touch_points/data/Brizo __ Leads - data.csv\",\n",
    "    dtype={\"brizo_id\": str, \"count\": float},\n",
    "    low_memory=False\n",
    ")\n",
    "\n",
    "# 2) Filter to only the CW group\n",
    "cw = leads[ leads[\"stage\"].str.lower().isin([\"closed won\", \"onboarded\"]) ]\n",
    "\n",
    "# 3) Compute the 80th percentile of their DM counts\n",
    "pct80 = cw[\"count\"].quantile(0.8)\n",
    "print(f\"80th percentile of DM sends for closed-won/onboarded leads: {pct80:.0f}\")\n",
    "\n",
    "# 4) Plot the distribution and mark the 80th percentile\n",
    "plt.figure(figsize=(8,4))\n",
    "plt.hist(cw[\"count\"], bins=30, alpha=0.7, edgecolor='black')\n",
    "plt.axvline(pct80, color='red', linestyle='--', linewidth=2,\n",
    "            label=f'80th percentile = {pct80:.0f}')\n",
    "plt.title(\"Distribution of DM Counts for CW Leads\")\n",
    "plt.xlabel(\"Number of DMs sent\")\n",
    "plt.ylabel(\"Number of Leads\")\n",
    "plt.legend()\n",
    "plt.show()"
   ]
  },
  {
   "cell_type": "code",
   "execution_count": 17,
   "id": "9a0e3c8d",
   "metadata": {},
   "outputs": [],
   "source": [
    "import pandas as pd\n",
    "import janitor\n",
    "\n",
    "leads = pd.read_csv('data/deduped_leads_long.csv').clean_names()\n",
    "landing_date = pd.read_csv('data/brizo_list_landing_date.csv').clean_names()\n",
    "brizo = pd.read_csv('data/combined.csv').clean_names()"
   ]
  },
  {
   "cell_type": "code",
   "execution_count": 18,
   "id": "207d028b",
   "metadata": {},
   "outputs": [],
   "source": [
    "selected_leads = leads[['lead_id','mobile_primary',\n",
    "                        'business_phone_line_1','brizo_id', \n",
    "                        'created_date',\n",
    "                        'first_mel_timestamp','latest_mql_timestamp',\n",
    "                        'assigned_time_ae_',\n",
    "                        'opportunity_created_date',\n",
    "                        'closed_won_date',\n",
    "                        'stage','unqualified_reason', 'closed_lost_reason']].drop_duplicates()"
   ]
  },
  {
   "cell_type": "code",
   "execution_count": 21,
   "id": "9e306d97",
   "metadata": {},
   "outputs": [],
   "source": [
    "brizo_landing_date = brizo.merge(landing_date, on='list_source', how='left')\n",
    "\n",
    "import re\n",
    "import pandas as pd\n",
    "\n",
    "def clean_to_10(s):\n",
    "    # 1) remove any non-digits\n",
    "    digits = re.sub(r'\\D+', '', str(s))\n",
    "    # 2) if >10 digits and starts with \"1\", drop the leading \"1\"\n",
    "    if len(digits) > 10 and digits.startswith('1'):\n",
    "        digits = digits[1:]\n",
    "    # 3) only keep if exactly 10 digits\n",
    "    return digits if len(digits) == 10 else None\n",
    "\n",
    "for col in ['phone_number']:\n",
    "    brizo_landing_date[col] = brizo_landing_date[col].apply(clean_to_10)"
   ]
  },
  {
   "cell_type": "code",
   "execution_count": 42,
   "id": "89bd0a96",
   "metadata": {},
   "outputs": [
    {
     "name": "stdout",
     "output_type": "stream",
     "text": [
      "           lead_id mobile_primary business_phone_line_1          brizo_id  \\\n",
      "0  00Q8b00001xKLPF    70495715470           70482288300  d615ce74fd940a54   \n",
      "1  00Q8b00001xKLPF    70495715470           70482288300  d615ce74fd940a54   \n",
      "2  00Q8b00001xKLPF    70495715470           70482288300  d615ce74fd940a54   \n",
      "3  00Q8b00001xKLPF    70495715470           70482288300  d615ce74fd940a54   \n",
      "4  00Q8b00001xKLPF    70495715470           70482288300  d615ce74fd940a54   \n",
      "\n",
      "  created_date first_mel_timestamp latest_mql_timestamp assigned_time_ae_  \\\n",
      "0   2022-10-31          2025-07-07           2025-07-07        2025-07-07   \n",
      "1   2022-10-31          2025-07-07           2025-07-07        2025-07-07   \n",
      "2   2022-10-31          2025-07-07           2025-07-07        2025-07-07   \n",
      "3   2022-10-31          2025-07-07           2025-07-07        2025-07-07   \n",
      "4   2022-10-31          2025-07-07           2025-07-07        2025-07-07   \n",
      "\n",
      "  opportunity_created_date closed_won_date  ... unqualified_reason  \\\n",
      "0               2025-07-07      2025-07-07  ...                NaN   \n",
      "1               2025-07-07      2025-07-07  ...                NaN   \n",
      "2               2025-07-07      2025-07-07  ...                NaN   \n",
      "3               2025-07-07      2025-07-07  ...                NaN   \n",
      "4               2025-07-07      2025-07-07  ...                NaN   \n",
      "\n",
      "  closed_lost_reason phone_number  \\\n",
      "0                NaN   7048228830   \n",
      "1                NaN   7048228830   \n",
      "2                NaN   7048228830   \n",
      "3                NaN   7048228830   \n",
      "4                NaN   7048228830   \n",
      "\n",
      "                                   list_source year_month landing_start_date  \\\n",
      "0         2024-04—Group C: CW Gift_SMS (Brizo)    2024-04          3/27/2024   \n",
      "1     2024-06—Group B: 50% (Brizo) 28315-57074    2024-06          5/28/2024   \n",
      "2  2024-05—Group B: Bifold (Brizo) 28315-57074    2024-05          4/26/2024   \n",
      "3                    2024-11—Chinese (1-20118)    2024-11         11/18/2024   \n",
      "4                 2024-12—A - Chinese _Unknown    2024-12          12/2/2024   \n",
      "\n",
      "  landing_end_date match_key brizo_id_x brizo_id_y  \n",
      "0         4/9/2024  brizo_id        NaN        NaN  \n",
      "1        6/10/2024  brizo_id        NaN        NaN  \n",
      "2         5/9/2024  brizo_id        NaN        NaN  \n",
      "3       11/14/2024  brizo_id        NaN        NaN  \n",
      "4        12/4/2024  brizo_id        NaN        NaN  \n",
      "\n",
      "[5 rows x 21 columns]\n"
     ]
    }
   ],
   "source": [
    "# ————————————————\n",
    "# Prep: convert dates & clean phones\n",
    "# ————————————————\n",
    "date_cols = [\n",
    "    'closed_won_date',\n",
    "    'opportunity_created_date',\n",
    "    'assigned_time_ae_',\n",
    "    'latest_mql_timestamp',\n",
    "    'first_mel_timestamp',\n",
    "    'created_date'\n",
    "]\n",
    "\n",
    "# 1) parse your date columns once\n",
    "for col in date_cols:\n",
    "    selected_leads[col] = pd.to_datetime(\n",
    "        selected_leads[col],\n",
    "        errors='coerce'\n",
    "    )\n",
    "\n",
    "# 2) normalize phone strings\n",
    "for col in ['mobile_primary', 'business_phone_line_1']:\n",
    "    selected_leads[col] = (\n",
    "        selected_leads[col]\n",
    "          .astype(str)\n",
    "          .str.replace(r'\\D+', '', regex=True)\n",
    "    )\n",
    "    \n",
    "match_brizo = selected_leads.merge(\n",
    "    brizo_landing_date,\n",
    "    on='brizo_id',\n",
    "    how='inner'\n",
    ").assign(match_key='brizo_id')\n",
    "\n",
    "\n",
    "# ————————————————\n",
    "# 2) Match by business_phone_line_1\n",
    "# ————————————————\n",
    "match_business = selected_leads.merge(\n",
    "    brizo_landing_date,\n",
    "    left_on='business_phone_line_1',\n",
    "    right_on='phone_number',\n",
    "    how='inner'\n",
    ").assign(match_key='business_phone_line_1')\n",
    "\n",
    "\n",
    "# ————————————————\n",
    "# 3) Match by mobile_primary\n",
    "# ————————————————\n",
    "match_mobile = selected_leads.merge(\n",
    "    brizo_landing_date,\n",
    "    left_on='mobile_primary',\n",
    "    right_on='phone_number',\n",
    "    how='inner'\n",
    ").assign(match_key='mobile_primary')\n",
    "\n",
    "\n",
    "# ————————————————\n",
    "# 4) Combine all matches into one DataFrame\n",
    "# ————————————————\n",
    "matched = pd.concat(\n",
    "    [match_brizo, match_business, match_mobile],\n",
    "    ignore_index=True\n",
    ")\n",
    "\n",
    "\n",
    "# ————————————————\n",
    "# 5) Dedupe by brizo_id, keeping the most recent by your date‐priority\n",
    "# ————————————————\n",
    "# sort descending so “most recent” appears first for each brizo_id\n",
    "matched = matched.sort_values(\n",
    "    by=date_cols,\n",
    "    ascending=False,\n",
    "    na_position='last'\n",
    ")\n",
    "\n",
    "# 2) drop duplicates on BOTH brizo_id AND list_source\n",
    "final_matched = (\n",
    "    matched\n",
    "      .drop_duplicates(\n",
    "         subset=['brizo_id', 'list_source'],\n",
    "         keep='first'\n",
    "      )\n",
    "      .reset_index(drop=True)\n",
    ")\n",
    "\n",
    "\n",
    "# ————————————————\n",
    "# Inspect or save\n",
    "# ————————————————\n",
    "print(final_matched.head())\n",
    "\n",
    "\n"
   ]
  },
  {
   "cell_type": "code",
   "execution_count": 43,
   "id": "2ca4a570",
   "metadata": {},
   "outputs": [
    {
     "name": "stdout",
     "output_type": "stream",
     "text": [
      "Index(['lead_id', 'mobile_primary', 'business_phone_line_1', 'brizo_id',\n",
      "       'created_date', 'first_mel_timestamp', 'latest_mql_timestamp',\n",
      "       'assigned_time_ae_', 'opportunity_created_date', 'closed_won_date',\n",
      "       'stage', 'unqualified_reason', 'closed_lost_reason', 'phone_number',\n",
      "       'list_source', 'year_month', 'landing_start_date', 'landing_end_date',\n",
      "       'match_key', 'brizo_id_x', 'brizo_id_y'],\n",
      "      dtype='object')\n"
     ]
    }
   ],
   "source": [
    "print(final_matched.columns)"
   ]
  },
  {
   "cell_type": "code",
   "execution_count": 44,
   "id": "a6207e41",
   "metadata": {},
   "outputs": [
    {
     "data": {
      "application/vnd.microsoft.datawrangler.viewer.v0+json": {
       "columns": [
        {
         "name": "index",
         "rawType": "int64",
         "type": "integer"
        },
        {
         "name": "landing_start_date",
         "rawType": "object",
         "type": "string"
        },
        {
         "name": "landing_end_date",
         "rawType": "object",
         "type": "string"
        },
        {
         "name": "created_date",
         "rawType": "object",
         "type": "string"
        },
        {
         "name": "first_mel_timestamp",
         "rawType": "object",
         "type": "string"
        },
        {
         "name": "latest_mql_timestamp",
         "rawType": "object",
         "type": "string"
        },
        {
         "name": "assigned_time_ae_",
         "rawType": "object",
         "type": "string"
        },
        {
         "name": "opportunity_created_date",
         "rawType": "object",
         "type": "string"
        },
        {
         "name": "closed_won_date",
         "rawType": "object",
         "type": "string"
        }
       ],
       "ref": "aa005805-b715-448e-8111-9e32bda49b93",
       "rows": [
        [
         "0",
         "2024-03-27",
         "2024-04-09",
         "2022-10-31",
         "2025-07-07",
         "2025-07-07",
         "2025-07-07",
         "2025-07-07",
         "2025-07-07"
        ],
        [
         "1",
         "2024-05-28",
         "2024-06-10",
         "2022-10-31",
         "2025-07-07",
         "2025-07-07",
         "2025-07-07",
         "2025-07-07",
         "2025-07-07"
        ],
        [
         "2",
         "2024-04-26",
         "2024-05-09",
         "2022-10-31",
         "2025-07-07",
         "2025-07-07",
         "2025-07-07",
         "2025-07-07",
         "2025-07-07"
        ],
        [
         "3",
         "2024-11-18",
         "2024-11-14",
         "2022-10-31",
         "2025-07-07",
         "2025-07-07",
         "2025-07-07",
         "2025-07-07",
         "2025-07-07"
        ],
        [
         "4",
         "2024-12-02",
         "2024-12-04",
         "2022-10-31",
         "2025-07-07",
         "2025-07-07",
         "2025-07-07",
         "2025-07-07",
         "2025-07-07"
        ]
       ],
       "shape": {
        "columns": 8,
        "rows": 5
       }
      },
      "text/html": [
       "<div>\n",
       "<style scoped>\n",
       "    .dataframe tbody tr th:only-of-type {\n",
       "        vertical-align: middle;\n",
       "    }\n",
       "\n",
       "    .dataframe tbody tr th {\n",
       "        vertical-align: top;\n",
       "    }\n",
       "\n",
       "    .dataframe thead th {\n",
       "        text-align: right;\n",
       "    }\n",
       "</style>\n",
       "<table border=\"1\" class=\"dataframe\">\n",
       "  <thead>\n",
       "    <tr style=\"text-align: right;\">\n",
       "      <th></th>\n",
       "      <th>landing_start_date</th>\n",
       "      <th>landing_end_date</th>\n",
       "      <th>created_date</th>\n",
       "      <th>first_mel_timestamp</th>\n",
       "      <th>latest_mql_timestamp</th>\n",
       "      <th>assigned_time_ae_</th>\n",
       "      <th>opportunity_created_date</th>\n",
       "      <th>closed_won_date</th>\n",
       "    </tr>\n",
       "  </thead>\n",
       "  <tbody>\n",
       "    <tr>\n",
       "      <th>0</th>\n",
       "      <td>2024-03-27</td>\n",
       "      <td>2024-04-09</td>\n",
       "      <td>2022-10-31</td>\n",
       "      <td>2025-07-07</td>\n",
       "      <td>2025-07-07</td>\n",
       "      <td>2025-07-07</td>\n",
       "      <td>2025-07-07</td>\n",
       "      <td>2025-07-07</td>\n",
       "    </tr>\n",
       "    <tr>\n",
       "      <th>1</th>\n",
       "      <td>2024-05-28</td>\n",
       "      <td>2024-06-10</td>\n",
       "      <td>2022-10-31</td>\n",
       "      <td>2025-07-07</td>\n",
       "      <td>2025-07-07</td>\n",
       "      <td>2025-07-07</td>\n",
       "      <td>2025-07-07</td>\n",
       "      <td>2025-07-07</td>\n",
       "    </tr>\n",
       "    <tr>\n",
       "      <th>2</th>\n",
       "      <td>2024-04-26</td>\n",
       "      <td>2024-05-09</td>\n",
       "      <td>2022-10-31</td>\n",
       "      <td>2025-07-07</td>\n",
       "      <td>2025-07-07</td>\n",
       "      <td>2025-07-07</td>\n",
       "      <td>2025-07-07</td>\n",
       "      <td>2025-07-07</td>\n",
       "    </tr>\n",
       "    <tr>\n",
       "      <th>3</th>\n",
       "      <td>2024-11-18</td>\n",
       "      <td>2024-11-14</td>\n",
       "      <td>2022-10-31</td>\n",
       "      <td>2025-07-07</td>\n",
       "      <td>2025-07-07</td>\n",
       "      <td>2025-07-07</td>\n",
       "      <td>2025-07-07</td>\n",
       "      <td>2025-07-07</td>\n",
       "    </tr>\n",
       "    <tr>\n",
       "      <th>4</th>\n",
       "      <td>2024-12-02</td>\n",
       "      <td>2024-12-04</td>\n",
       "      <td>2022-10-31</td>\n",
       "      <td>2025-07-07</td>\n",
       "      <td>2025-07-07</td>\n",
       "      <td>2025-07-07</td>\n",
       "      <td>2025-07-07</td>\n",
       "      <td>2025-07-07</td>\n",
       "    </tr>\n",
       "  </tbody>\n",
       "</table>\n",
       "</div>"
      ],
      "text/plain": [
       "  landing_start_date landing_end_date created_date first_mel_timestamp  \\\n",
       "0         2024-03-27       2024-04-09   2022-10-31          2025-07-07   \n",
       "1         2024-05-28       2024-06-10   2022-10-31          2025-07-07   \n",
       "2         2024-04-26       2024-05-09   2022-10-31          2025-07-07   \n",
       "3         2024-11-18       2024-11-14   2022-10-31          2025-07-07   \n",
       "4         2024-12-02       2024-12-04   2022-10-31          2025-07-07   \n",
       "\n",
       "  latest_mql_timestamp assigned_time_ae_ opportunity_created_date  \\\n",
       "0           2025-07-07        2025-07-07               2025-07-07   \n",
       "1           2025-07-07        2025-07-07               2025-07-07   \n",
       "2           2025-07-07        2025-07-07               2025-07-07   \n",
       "3           2025-07-07        2025-07-07               2025-07-07   \n",
       "4           2025-07-07        2025-07-07               2025-07-07   \n",
       "\n",
       "  closed_won_date  \n",
       "0      2025-07-07  \n",
       "1      2025-07-07  \n",
       "2      2025-07-07  \n",
       "3      2025-07-07  \n",
       "4      2025-07-07  "
      ]
     },
     "execution_count": 44,
     "metadata": {},
     "output_type": "execute_result"
    }
   ],
   "source": [
    "# 1) List the columns you want to standardize\n",
    "date_cols = [\n",
    "    'landing_start_date',\n",
    "    'landing_end_date',\n",
    "    'created_date',\n",
    "    'first_mel_timestamp',\n",
    "    'latest_mql_timestamp',\n",
    "    'assigned_time_ae_',\n",
    "    'opportunity_created_date',\n",
    "    'closed_won_date'\n",
    "]\n",
    "\n",
    "# 2) Loop through and normalize each to 'YYYY-MM-DD'\n",
    "for col in date_cols:\n",
    "    # a) Parse the diverse formats into Timestamps\n",
    "    final_matched[col] = pd.to_datetime(final_matched[col], errors='coerce')\n",
    "    # b) Convert to uniform 'YYYY-MM-DD' strings\n",
    "    final_matched[col] = final_matched[col].dt.strftime('%Y-%m-%d')\n",
    "\n",
    "# 3) Quick check\n",
    "final_matched[date_cols].head()"
   ]
  },
  {
   "cell_type": "code",
   "execution_count": null,
   "id": "4775384b",
   "metadata": {},
   "outputs": [
    {
     "data": {
      "application/vnd.microsoft.datawrangler.viewer.v0+json": {
       "columns": [
        {
         "name": "index",
         "rawType": "int64",
         "type": "integer"
        },
        {
         "name": "brizo_id",
         "rawType": "object",
         "type": "string"
        },
        {
         "name": "phone_number",
         "rawType": "object",
         "type": "string"
        },
        {
         "name": "count",
         "rawType": "int64",
         "type": "integer"
        }
       ],
       "ref": "b555cb72-1ece-4559-926f-906ae21e2b42",
       "rows": [
        [
         "0",
         "02cf7f8f4f6d36f0",
         "6417879988",
         "6"
        ],
        [
         "1",
         "05c988dd31b8a82d",
         "7342540616",
         "18"
        ],
        [
         "2",
         "06297172ff7cfa89",
         "3147718880",
         "12"
        ],
        [
         "3",
         "067e482f037261dc",
         "6517743853",
         "11"
        ],
        [
         "4",
         "074d8604509fff21",
         "3523691688",
         "2"
        ],
        [
         "5",
         "07af958d753e5c15",
         "7176844375",
         "7"
        ],
        [
         "6",
         "09f45c50e2bb45a9",
         "8475876733",
         "6"
        ],
        [
         "7",
         "0efecae877152bb2",
         "9198697894",
         "3"
        ],
        [
         "8",
         "125bb2f6a5b0309f",
         "8137152919",
         "14"
        ],
        [
         "9",
         "127784269c84601e",
         "5708005437",
         "3"
        ],
        [
         "10",
         "135a1d5ca40c1db6",
         "3366255537",
         "2"
        ],
        [
         "11",
         "14844c900649d2d7",
         "3369920088",
         "13"
        ],
        [
         "12",
         "153e190276a8008d",
         "2163986363",
         "15"
        ],
        [
         "13",
         "188696209acaa27b",
         "3347720088",
         "2"
        ],
        [
         "14",
         "1a0af4c9ae415fc2",
         "9736279188",
         "2"
        ],
        [
         "15",
         "1a213d4c152038f3",
         "2017031888",
         "8"
        ],
        [
         "16",
         "1a884062e095e904",
         "7602950627",
         "9"
        ],
        [
         "17",
         "1aabee93ec911eeb",
         "9122626505",
         "6"
        ],
        [
         "18",
         "1bee3fbcc97ec1a2",
         "7172569932",
         "10"
        ],
        [
         "19",
         "1e22ddcd529f6edd",
         "2163978282",
         "2"
        ],
        [
         "20",
         "200ebbbde0b5a103",
         "2257528688",
         "8"
        ],
        [
         "21",
         "20e4ae26650e8cc4",
         "5633555573",
         "1"
        ],
        [
         "22",
         "212192c8506132a0",
         "8642819583",
         "7"
        ],
        [
         "23",
         "213968aacc6f2c76",
         "7575398266",
         "8"
        ],
        [
         "24",
         "225aa790c4a4dcea",
         "5614186800",
         "1"
        ],
        [
         "25",
         "22c9b7a542393111",
         "4107728888",
         "1"
        ],
        [
         "26",
         "2496e3ce8d550075",
         "9737901288",
         "9"
        ],
        [
         "27",
         "2b7426a79d582cb4",
         "6087420001",
         "16"
        ],
        [
         "28",
         "2d861d3605e2c119",
         "7043996737",
         "7"
        ],
        [
         "29",
         "2e0350026de61364",
         "9148352424",
         "6"
        ],
        [
         "30",
         "2e260c201cf6c75f",
         "5023634259",
         "8"
        ],
        [
         "31",
         "2f0d60c5c74c1d9e",
         "8568638888",
         "14"
        ],
        [
         "32",
         "3006cecc042cb443",
         "4012471800",
         "2"
        ],
        [
         "33",
         "302de995f0c1fbc8",
         "3039853040",
         "5"
        ],
        [
         "34",
         "304abbed247b9ef6",
         "5164858888",
         "8"
        ],
        [
         "35",
         "30682cd8bd9b17fd",
         "3214333033",
         "10"
        ],
        [
         "36",
         "30efee4ef0c77292",
         "2034533355",
         "17"
        ],
        [
         "37",
         "32a1a6ddd83e21d4",
         "8642710900",
         "6"
        ],
        [
         "38",
         "34855985e1365ea4",
         "9373907818",
         "14"
        ],
        [
         "39",
         "36e46a83c7972faf",
         "3162636833",
         "8"
        ],
        [
         "40",
         "383d3cd72edb0d3a",
         "8567683900",
         "10"
        ],
        [
         "41",
         "39342e819d2779b7",
         "9044064266",
         "3"
        ],
        [
         "42",
         "396ff6269bfc009a",
         "7273911881",
         "6"
        ],
        [
         "43",
         "39b780363a4da240",
         "7574423300",
         "9"
        ],
        [
         "44",
         "3a8b44acad026b2c",
         "8502438400",
         "13"
        ],
        [
         "45",
         "3bece9c02f299394",
         "2259242205",
         "9"
        ],
        [
         "46",
         "3cfcf6239f3e93d3",
         "7328700807",
         "10"
        ],
        [
         "47",
         "3d919be0be7580e8",
         "2155499388",
         "6"
        ],
        [
         "48",
         "3e09b5d061af943a",
         "9087040808",
         "8"
        ],
        [
         "49",
         "3ee9926a5fd802dc",
         "3159469665",
         "13"
        ]
       ],
       "shape": {
        "columns": 3,
        "rows": 185
       }
      },
      "text/html": [
       "<div>\n",
       "<style scoped>\n",
       "    .dataframe tbody tr th:only-of-type {\n",
       "        vertical-align: middle;\n",
       "    }\n",
       "\n",
       "    .dataframe tbody tr th {\n",
       "        vertical-align: top;\n",
       "    }\n",
       "\n",
       "    .dataframe thead th {\n",
       "        text-align: right;\n",
       "    }\n",
       "</style>\n",
       "<table border=\"1\" class=\"dataframe\">\n",
       "  <thead>\n",
       "    <tr style=\"text-align: right;\">\n",
       "      <th></th>\n",
       "      <th>brizo_id</th>\n",
       "      <th>phone_number</th>\n",
       "      <th>count</th>\n",
       "    </tr>\n",
       "  </thead>\n",
       "  <tbody>\n",
       "    <tr>\n",
       "      <th>0</th>\n",
       "      <td>02cf7f8f4f6d36f0</td>\n",
       "      <td>6417879988</td>\n",
       "      <td>6</td>\n",
       "    </tr>\n",
       "    <tr>\n",
       "      <th>1</th>\n",
       "      <td>05c988dd31b8a82d</td>\n",
       "      <td>7342540616</td>\n",
       "      <td>18</td>\n",
       "    </tr>\n",
       "    <tr>\n",
       "      <th>2</th>\n",
       "      <td>06297172ff7cfa89</td>\n",
       "      <td>3147718880</td>\n",
       "      <td>12</td>\n",
       "    </tr>\n",
       "    <tr>\n",
       "      <th>3</th>\n",
       "      <td>067e482f037261dc</td>\n",
       "      <td>6517743853</td>\n",
       "      <td>11</td>\n",
       "    </tr>\n",
       "    <tr>\n",
       "      <th>4</th>\n",
       "      <td>074d8604509fff21</td>\n",
       "      <td>3523691688</td>\n",
       "      <td>2</td>\n",
       "    </tr>\n",
       "    <tr>\n",
       "      <th>...</th>\n",
       "      <td>...</td>\n",
       "      <td>...</td>\n",
       "      <td>...</td>\n",
       "    </tr>\n",
       "    <tr>\n",
       "      <th>180</th>\n",
       "      <td>fc05c9cc577242cf</td>\n",
       "      <td>8132249888</td>\n",
       "      <td>2</td>\n",
       "    </tr>\n",
       "    <tr>\n",
       "      <th>181</th>\n",
       "      <td>fc211d11bfc3cc84</td>\n",
       "      <td>9897928888</td>\n",
       "      <td>18</td>\n",
       "    </tr>\n",
       "    <tr>\n",
       "      <th>182</th>\n",
       "      <td>fd74c5661bc90b04</td>\n",
       "      <td>7573668993</td>\n",
       "      <td>2</td>\n",
       "    </tr>\n",
       "    <tr>\n",
       "      <th>183</th>\n",
       "      <td>fd87102fe31eedcd</td>\n",
       "      <td>2106811593</td>\n",
       "      <td>2</td>\n",
       "    </tr>\n",
       "    <tr>\n",
       "      <th>184</th>\n",
       "      <td>fdf175d8f3705583</td>\n",
       "      <td>9548852088</td>\n",
       "      <td>9</td>\n",
       "    </tr>\n",
       "  </tbody>\n",
       "</table>\n",
       "<p>185 rows × 3 columns</p>\n",
       "</div>"
      ],
      "text/plain": [
       "             brizo_id phone_number  count\n",
       "0    02cf7f8f4f6d36f0   6417879988      6\n",
       "1    05c988dd31b8a82d   7342540616     18\n",
       "2    06297172ff7cfa89   3147718880     12\n",
       "3    067e482f037261dc   6517743853     11\n",
       "4    074d8604509fff21   3523691688      2\n",
       "..                ...          ...    ...\n",
       "180  fc05c9cc577242cf   8132249888      2\n",
       "181  fc211d11bfc3cc84   9897928888     18\n",
       "182  fd74c5661bc90b04   7573668993      2\n",
       "183  fd87102fe31eedcd   2106811593      2\n",
       "184  fdf175d8f3705583   9548852088      9\n",
       "\n",
       "[185 rows x 3 columns]"
      ]
     },
     "metadata": {},
     "output_type": "display_data"
    }
   ],
   "source": [
    "after_closed_won = final_matched[final_matched['closed_won_date'] > final_matched['landing_start_date']]\n",
    "\n",
    "after_closed_won_id_phone = after_closed_won[['brizo_id', 'phone_number']]\n",
    "\n",
    "after_closed_won_id_phone_counts = (\n",
    "    after_closed_won_id_phone\n",
    "      .groupby(['brizo_id', 'phone_number'])\n",
    "      .size()\n",
    "      .reset_index(name='count')\n",
    ")\n",
    "display(b4_closed_won_id_phone_counts)"
   ]
  },
  {
   "cell_type": "code",
   "execution_count": 46,
   "id": "d022fc46",
   "metadata": {},
   "outputs": [],
   "source": [
    "check = final_matched[['brizo_id', 'phone_number', 'landing_start_date', 'closed_won_date']].drop_duplicates().dropna(subset=['closed_won_date'])\n",
    "check.to_csv('data/check.csv', index=False)"
   ]
  },
  {
   "cell_type": "code",
   "execution_count": null,
   "id": "f9c6682d",
   "metadata": {},
   "outputs": [],
   "source": [
    "b4_closed_won = final_matched[final_matched['closed_won_date'] > final_matched['landing_start_date']]\n",
    "\n",
    "b4_closed_won_id_phone = b4_closed_won[['brizo_id', 'phone_number']]\n",
    "\n",
    "b4_closed_won_id_phone_counts = (\n",
    "    b4_closed_won_id_phone\n",
    "      .groupby(['brizo_id', 'phone_number'])\n",
    "      .size()\n",
    "      .reset_index(name='count')\n",
    ")\n",
    "display(b4_closed_won_id_phone_counts)\n",
    "match_brizo = b4_closed_won_id_phone_counts.merge(\n",
    "    final_matched,\n",
    "    on='brizo_id',\n",
    "    how='inner'\n",
    ").assign(match_key='brizo_id')\n",
    "\n",
    "\n",
    "# ————————————————\n",
    "# 2) Match by business_phone_line_1\n",
    "# ————————————————\n",
    "match_business = b4_closed_won_id_phone_counts.merge(\n",
    "    final_matched.drop(columns=['mobile_primary']),\n",
    "    left_on='phone_number',\n",
    "    right_on='business_phone_line_1',\n",
    "    how='inner',\n",
    "    suffixes=('', '_matched')\n",
    ").assign(match_key='business_phone_line_1')\n",
    "\n",
    "\n",
    "\n",
    "\n",
    "# ————————————————\n",
    "# 3) Match by mobile_primary\n",
    "# ————————————————\n",
    "match_mobile = b4_closed_won_id_phone_counts.merge(\n",
    "    final_matched,\n",
    "    right_on='mobile_primary',\n",
    "    left_on='phone_number',\n",
    "    how='inner',\n",
    "    suffixes=('', '_matched')\n",
    ").assign(match_key='mobile_primary')\n",
    "\n",
    "\n",
    "# ————————————————\n",
    "# 4) Combine all matches into one DataFrame\n",
    "# ————————————————\n",
    "matched = pd.concat(\n",
    "    [match_brizo, match_business, match_mobile],\n",
    "    ignore_index=True\n",
    ")\n",
    "\n",
    "\n",
    "# ————————————————\n",
    "# 5) Dedupe by brizo_id, keeping the most recent by your date‐priority\n",
    "# ————————————————\n",
    "# sort descending so “most recent” appears first for each brizo_id\n",
    "matched = matched.sort_values(\n",
    "    by=date_cols,\n",
    "    ascending=False,\n",
    "    na_position='last'\n",
    ")\n",
    "\n",
    "before_becoming_closed_won = matched.drop_duplicates(\n",
    "    subset='brizo_id',\n",
    "    keep='first'\n",
    ").reset_index(drop=True)\n",
    "\n",
    "before_becoming_closed_won.to_csv('data/before_becoming_closed_won.csv', index=False)"
   ]
  },
  {
   "cell_type": "code",
   "execution_count": 48,
   "id": "a71b6f9e",
   "metadata": {},
   "outputs": [
    {
     "data": {
      "application/vnd.microsoft.datawrangler.viewer.v0+json": {
       "columns": [
        {
         "name": "index",
         "rawType": "int64",
         "type": "integer"
        },
        {
         "name": "brizo_id",
         "rawType": "object",
         "type": "string"
        },
        {
         "name": "phone_number",
         "rawType": "object",
         "type": "string"
        },
        {
         "name": "count",
         "rawType": "int64",
         "type": "integer"
        }
       ],
       "ref": "559c3bcd-65ec-4d5b-91d3-d56e6fa999a8",
       "rows": [
        [
         "0",
         "01e43677fc2db22f",
         "7542004968",
         "1"
        ],
        [
         "1",
         "020cc38031d71c90",
         "8067716964",
         "9"
        ],
        [
         "2",
         "02cf7f8f4f6d36f0",
         "6417879988",
         "1"
        ],
        [
         "3",
         "067e482f037261dc",
         "6517743853",
         "1"
        ],
        [
         "4",
         "070456444fc36fd6",
         "2183467941",
         "1"
        ],
        [
         "5",
         "07b7618417f3870b",
         "9198618858",
         "1"
        ],
        [
         "6",
         "09f45c50e2bb45a9",
         "8475876733",
         "1"
        ],
        [
         "7",
         "0b117c7781f14872",
         "6189434888",
         "10"
        ],
        [
         "8",
         "0ea2507b0b18f53c",
         "2175233333",
         "1"
        ],
        [
         "9",
         "0efecae877152bb2",
         "9198697894",
         "1"
        ],
        [
         "10",
         "127784269c84601e",
         "5708005437",
         "1"
        ],
        [
         "11",
         "188696209acaa27b",
         "3347720088",
         "1"
        ],
        [
         "12",
         "1a884062e095e904",
         "7602950627",
         "9"
        ],
        [
         "13",
         "1ac9bc11453679fb",
         "9893551799",
         "1"
        ],
        [
         "14",
         "1bee3fbcc97ec1a2",
         "7172569932",
         "3"
        ],
        [
         "15",
         "200ebbbde0b5a103",
         "2257528688",
         "1"
        ],
        [
         "16",
         "213968aacc6f2c76",
         "7575398266",
         "1"
        ],
        [
         "17",
         "225aa790c4a4dcea",
         "5614186800",
         "3"
        ],
        [
         "18",
         "226e6cf8a09fb9ba",
         "3374602004",
         "1"
        ],
        [
         "19",
         "22a7c0d5952843d7",
         "2257494197",
         "1"
        ],
        [
         "20",
         "26bc52764ae416e3",
         "5167986888",
         "10"
        ],
        [
         "21",
         "29fa02f193d095e7",
         "8645420048",
         "1"
        ],
        [
         "22",
         "2e0350026de61364",
         "9148352424",
         "1"
        ],
        [
         "23",
         "2e260c201cf6c75f",
         "5023634259",
         "1"
        ],
        [
         "24",
         "302de995f0c1fbc8",
         "3039853040",
         "1"
        ],
        [
         "25",
         "325deae133693ef9",
         "3156826868",
         "1"
        ],
        [
         "26",
         "32a1a6ddd83e21d4",
         "8642710900",
         "1"
        ],
        [
         "27",
         "36e46a83c7972faf",
         "3162636833",
         "1"
        ],
        [
         "28",
         "39b780363a4da240",
         "7574423300",
         "1"
        ],
        [
         "29",
         "3bece9c02f299394",
         "2259242205",
         "1"
        ],
        [
         "30",
         "3d919be0be7580e8",
         "2155499388",
         "1"
        ],
        [
         "31",
         "3e09b5d061af943a",
         "9087040808",
         "1"
        ],
        [
         "32",
         "3ee9926a5fd802dc",
         "3159469665",
         "1"
        ],
        [
         "33",
         "3eec96662e25d8f7",
         "5852375500",
         "2"
        ],
        [
         "34",
         "40d050246de52ccc",
         "4109450980",
         "1"
        ],
        [
         "35",
         "42011e1543c803e6",
         "3173900688",
         "1"
        ],
        [
         "36",
         "441196b5c0aab661",
         "8032664199",
         "1"
        ],
        [
         "37",
         "442925976056f87b",
         "4029348898",
         "1"
        ],
        [
         "38",
         "4845200ddee959f6",
         "2095330622",
         "1"
        ],
        [
         "39",
         "4ad525b512d47765",
         "7187798177",
         "1"
        ],
        [
         "40",
         "4c96b3fdd943bb8d",
         "7709602555",
         "2"
        ],
        [
         "41",
         "4dc5ec6a2c835198",
         "2152883811",
         "1"
        ],
        [
         "42",
         "4e722c5b8f409b96",
         "7574560541",
         "2"
        ],
        [
         "43",
         "4f2b6d7e423e5526",
         "6316423769",
         "1"
        ],
        [
         "44",
         "4f4c8b95c28f64c7",
         "9172616989",
         "13"
        ],
        [
         "45",
         "508e1947a995ce51",
         "3138373771",
         "1"
        ],
        [
         "46",
         "523cebc2a80186cd",
         "9149648808",
         "1"
        ],
        [
         "47",
         "550315a96cc91ff0",
         "9192350589",
         "1"
        ],
        [
         "48",
         "55342de285a43eca",
         "8172815988",
         "1"
        ],
        [
         "49",
         "597c31a4ac34f77c",
         "2624561875",
         "1"
        ]
       ],
       "shape": {
        "columns": 3,
        "rows": 129
       }
      },
      "text/html": [
       "<div>\n",
       "<style scoped>\n",
       "    .dataframe tbody tr th:only-of-type {\n",
       "        vertical-align: middle;\n",
       "    }\n",
       "\n",
       "    .dataframe tbody tr th {\n",
       "        vertical-align: top;\n",
       "    }\n",
       "\n",
       "    .dataframe thead th {\n",
       "        text-align: right;\n",
       "    }\n",
       "</style>\n",
       "<table border=\"1\" class=\"dataframe\">\n",
       "  <thead>\n",
       "    <tr style=\"text-align: right;\">\n",
       "      <th></th>\n",
       "      <th>brizo_id</th>\n",
       "      <th>phone_number</th>\n",
       "      <th>count</th>\n",
       "    </tr>\n",
       "  </thead>\n",
       "  <tbody>\n",
       "    <tr>\n",
       "      <th>0</th>\n",
       "      <td>01e43677fc2db22f</td>\n",
       "      <td>7542004968</td>\n",
       "      <td>1</td>\n",
       "    </tr>\n",
       "    <tr>\n",
       "      <th>1</th>\n",
       "      <td>020cc38031d71c90</td>\n",
       "      <td>8067716964</td>\n",
       "      <td>9</td>\n",
       "    </tr>\n",
       "    <tr>\n",
       "      <th>2</th>\n",
       "      <td>02cf7f8f4f6d36f0</td>\n",
       "      <td>6417879988</td>\n",
       "      <td>1</td>\n",
       "    </tr>\n",
       "    <tr>\n",
       "      <th>3</th>\n",
       "      <td>067e482f037261dc</td>\n",
       "      <td>6517743853</td>\n",
       "      <td>1</td>\n",
       "    </tr>\n",
       "    <tr>\n",
       "      <th>4</th>\n",
       "      <td>070456444fc36fd6</td>\n",
       "      <td>2183467941</td>\n",
       "      <td>1</td>\n",
       "    </tr>\n",
       "    <tr>\n",
       "      <th>...</th>\n",
       "      <td>...</td>\n",
       "      <td>...</td>\n",
       "      <td>...</td>\n",
       "    </tr>\n",
       "    <tr>\n",
       "      <th>124</th>\n",
       "      <td>ee5629904f00a389</td>\n",
       "      <td>3368521900</td>\n",
       "      <td>1</td>\n",
       "    </tr>\n",
       "    <tr>\n",
       "      <th>125</th>\n",
       "      <td>f07324f11020e38a</td>\n",
       "      <td>7705037338</td>\n",
       "      <td>1</td>\n",
       "    </tr>\n",
       "    <tr>\n",
       "      <th>126</th>\n",
       "      <td>f87723747cd7a4f4</td>\n",
       "      <td>9205680888</td>\n",
       "      <td>1</td>\n",
       "    </tr>\n",
       "    <tr>\n",
       "      <th>127</th>\n",
       "      <td>f8d8798d9aeb4875</td>\n",
       "      <td>5307627289</td>\n",
       "      <td>13</td>\n",
       "    </tr>\n",
       "    <tr>\n",
       "      <th>128</th>\n",
       "      <td>fdf175d8f3705583</td>\n",
       "      <td>9548852088</td>\n",
       "      <td>1</td>\n",
       "    </tr>\n",
       "  </tbody>\n",
       "</table>\n",
       "<p>129 rows × 3 columns</p>\n",
       "</div>"
      ],
      "text/plain": [
       "             brizo_id phone_number  count\n",
       "0    01e43677fc2db22f   7542004968      1\n",
       "1    020cc38031d71c90   8067716964      9\n",
       "2    02cf7f8f4f6d36f0   6417879988      1\n",
       "3    067e482f037261dc   6517743853      1\n",
       "4    070456444fc36fd6   2183467941      1\n",
       "..                ...          ...    ...\n",
       "124  ee5629904f00a389   3368521900      1\n",
       "125  f07324f11020e38a   7705037338      1\n",
       "126  f87723747cd7a4f4   9205680888      1\n",
       "127  f8d8798d9aeb4875   5307627289     13\n",
       "128  fdf175d8f3705583   9548852088      1\n",
       "\n",
       "[129 rows x 3 columns]"
      ]
     },
     "metadata": {},
     "output_type": "display_data"
    }
   ],
   "source": [
    "after_closed_won = final_matched[final_matched['closed_won_date'] < final_matched['landing_start_date']]\n",
    "\n",
    "after_closed_won_id_phone = after_closed_won[['brizo_id', 'phone_number']]\n",
    "\n",
    "after_closed_won_id_phone_counts = (\n",
    "    after_closed_won_id_phone\n",
    "      .groupby(['brizo_id', 'phone_number'])\n",
    "      .size()\n",
    "      .reset_index(name='count')\n",
    ")\n",
    "display(after_closed_won_id_phone_counts)\n",
    "match_brizo = after_closed_won_id_phone_counts.merge(\n",
    "    final_matched,\n",
    "    on='brizo_id',\n",
    "    how='inner'\n",
    ").assign(match_key='brizo_id')\n",
    "\n",
    "\n",
    "# ————————————————\n",
    "# 2) Match by business_phone_line_1\n",
    "# ————————————————\n",
    "match_business = after_closed_won_id_phone_counts.merge(\n",
    "    final_matched.drop(columns=['mobile_primary']),\n",
    "    left_on='phone_number',\n",
    "    right_on='business_phone_line_1',\n",
    "    how='inner',\n",
    "    suffixes=('', '_matched')\n",
    ").assign(match_key='business_phone_line_1')\n",
    "\n",
    "\n",
    "\n",
    "\n",
    "# ————————————————\n",
    "# 3) Match by mobile_primary\n",
    "# ————————————————\n",
    "match_mobile = after_closed_won_id_phone_counts.merge(\n",
    "    final_matched,\n",
    "    right_on='mobile_primary',\n",
    "    left_on='phone_number',\n",
    "    how='inner',\n",
    "    suffixes=('', '_matched')\n",
    ").assign(match_key='mobile_primary')\n",
    "\n",
    "\n",
    "# ————————————————\n",
    "# 4) Combine all matches into one DataFrame\n",
    "# ————————————————\n",
    "matched = pd.concat(\n",
    "    [match_brizo, match_business, match_mobile],\n",
    "    ignore_index=True\n",
    ")\n",
    "\n",
    "\n",
    "# ————————————————\n",
    "# 5) Dedupe by brizo_id, keeping the most recent by your date‐priority\n",
    "# ————————————————\n",
    "# sort descending so “most recent” appears first for each brizo_id\n",
    "matched = matched.sort_values(\n",
    "    by=date_cols,\n",
    "    ascending=False,\n",
    "    na_position='last'\n",
    ")\n",
    "\n",
    "after_becoming_closed_won = matched.drop_duplicates(\n",
    "    subset='brizo_id',\n",
    "    keep='first'\n",
    ").reset_index(drop=True)\n",
    "\n",
    "after_becoming_closed_won.to_csv('data/after_becoming_closed_won.csv', index=False)"
   ]
  },
  {
   "cell_type": "code",
   "execution_count": 51,
   "id": "ec5bad3c",
   "metadata": {},
   "outputs": [
    {
     "data": {
      "application/vnd.microsoft.datawrangler.viewer.v0+json": {
       "columns": [
        {
         "name": "index",
         "rawType": "int64",
         "type": "integer"
        },
        {
         "name": "brizo_id",
         "rawType": "object",
         "type": "string"
        },
        {
         "name": "phone_number",
         "rawType": "object",
         "type": "string"
        },
        {
         "name": "count",
         "rawType": "int64",
         "type": "integer"
        }
       ],
       "ref": "2e72fd76-f434-4bb3-b07e-d88241140845",
       "rows": [
        [
         "0",
         "00370ffaea501b02",
         "4106509949",
         "13"
        ],
        [
         "1",
         "003bf5ec93f0b157",
         "7326571616",
         "5"
        ],
        [
         "2",
         "021c7944d16d125b",
         "4135980033",
         "10"
        ],
        [
         "3",
         "025f27c28a153a88",
         "7188663295",
         "3"
        ],
        [
         "4",
         "0265532a180cdbe7",
         "8282943909",
         "5"
        ],
        [
         "5",
         "02cf7f8f4f6d36f0",
         "6417879988",
         "6"
        ],
        [
         "6",
         "05c988dd31b8a82d",
         "7342540616",
         "18"
        ],
        [
         "7",
         "06297172ff7cfa89",
         "3147718880",
         "12"
        ],
        [
         "8",
         "067e482f037261dc",
         "6517743853",
         "11"
        ],
        [
         "9",
         "074d8604509fff21",
         "3523691688",
         "1"
        ],
        [
         "10",
         "07af958d753e5c15",
         "7176844375",
         "7"
        ],
        [
         "11",
         "07c4fd7cf8952c55",
         "9149397776",
         "7"
        ],
        [
         "12",
         "08763f0c42306b6d",
         "8453374013",
         "1"
        ],
        [
         "13",
         "08b26f131231cedc",
         "3462515886",
         "16"
        ],
        [
         "14",
         "09f45c50e2bb45a9",
         "8475876733",
         "6"
        ],
        [
         "15",
         "0aae74fdf3a920b8",
         "7089249877",
         "1"
        ],
        [
         "16",
         "0bd07d684c23deee",
         "2014513433",
         "3"
        ],
        [
         "17",
         "0cc3598dc16bb1ff",
         "6074328889",
         "18"
        ],
        [
         "18",
         "0d0cdd2441d51071",
         "5128196222",
         "15"
        ],
        [
         "19",
         "0efecae877152bb2",
         "9198697894",
         "3"
        ],
        [
         "20",
         "0faa132d70faac3f",
         "9739009264",
         "3"
        ],
        [
         "21",
         "10a39302021adc56",
         "7758856996",
         "4"
        ],
        [
         "22",
         "125bb2f6a5b0309f",
         "8137152919",
         "14"
        ],
        [
         "23",
         "127784269c84601e",
         "5708005437",
         "3"
        ],
        [
         "24",
         "1358e8756bd3d851",
         "5125278888",
         "11"
        ],
        [
         "25",
         "135a1d5ca40c1db6",
         "3366255537",
         "2"
        ],
        [
         "26",
         "14844c900649d2d7",
         "3369920088",
         "9"
        ],
        [
         "27",
         "15247bb467c53378",
         "9785348877",
         "7"
        ],
        [
         "28",
         "153e190276a8008d",
         "2163986363",
         "15"
        ],
        [
         "29",
         "159d06fe5db1950c",
         "3012960885",
         "1"
        ],
        [
         "30",
         "15e7e44eeb9e2d9f",
         "8604483336",
         "16"
        ],
        [
         "31",
         "163fe1cf2eefb57b",
         "7195349588",
         "15"
        ],
        [
         "32",
         "1690a1250fb82a6d",
         "9372245566",
         "7"
        ],
        [
         "33",
         "1796637fef74f144",
         "7189839854",
         "6"
        ],
        [
         "34",
         "182f2c8666f46296",
         "3019824888",
         "9"
        ],
        [
         "35",
         "188696209acaa27b",
         "3347720088",
         "2"
        ],
        [
         "36",
         "19a707f125294a41",
         "4075228798",
         "3"
        ],
        [
         "37",
         "19a819ef4d8c3d7e",
         "9182867798",
         "2"
        ],
        [
         "38",
         "1a0af4c9ae415fc2",
         "9736279188",
         "2"
        ],
        [
         "39",
         "1a213d4c152038f3",
         "2017031888",
         "8"
        ],
        [
         "40",
         "1a884062e095e904",
         "7602950627",
         "9"
        ],
        [
         "41",
         "1aabee93ec911eeb",
         "9122626505",
         "5"
        ],
        [
         "42",
         "1bee3fbcc97ec1a2",
         "7172569932",
         "10"
        ],
        [
         "43",
         "1d17911079c18a94",
         "8602838113",
         "7"
        ],
        [
         "44",
         "1d4149af20fd3ee5",
         "6239372299",
         "1"
        ],
        [
         "45",
         "1e22ddcd529f6edd",
         "2163978282",
         "2"
        ],
        [
         "46",
         "200ebbbde0b5a103",
         "2257528688",
         "8"
        ],
        [
         "47",
         "20e4ae26650e8cc4",
         "5633555573",
         "1"
        ],
        [
         "48",
         "212192c8506132a0",
         "8642819583",
         "7"
        ],
        [
         "49",
         "213968aacc6f2c76",
         "7575398266",
         "8"
        ]
       ],
       "shape": {
        "columns": 3,
        "rows": 458
       }
      },
      "text/html": [
       "<div>\n",
       "<style scoped>\n",
       "    .dataframe tbody tr th:only-of-type {\n",
       "        vertical-align: middle;\n",
       "    }\n",
       "\n",
       "    .dataframe tbody tr th {\n",
       "        vertical-align: top;\n",
       "    }\n",
       "\n",
       "    .dataframe thead th {\n",
       "        text-align: right;\n",
       "    }\n",
       "</style>\n",
       "<table border=\"1\" class=\"dataframe\">\n",
       "  <thead>\n",
       "    <tr style=\"text-align: right;\">\n",
       "      <th></th>\n",
       "      <th>brizo_id</th>\n",
       "      <th>phone_number</th>\n",
       "      <th>count</th>\n",
       "    </tr>\n",
       "  </thead>\n",
       "  <tbody>\n",
       "    <tr>\n",
       "      <th>0</th>\n",
       "      <td>00370ffaea501b02</td>\n",
       "      <td>4106509949</td>\n",
       "      <td>13</td>\n",
       "    </tr>\n",
       "    <tr>\n",
       "      <th>1</th>\n",
       "      <td>003bf5ec93f0b157</td>\n",
       "      <td>7326571616</td>\n",
       "      <td>5</td>\n",
       "    </tr>\n",
       "    <tr>\n",
       "      <th>2</th>\n",
       "      <td>021c7944d16d125b</td>\n",
       "      <td>4135980033</td>\n",
       "      <td>10</td>\n",
       "    </tr>\n",
       "    <tr>\n",
       "      <th>3</th>\n",
       "      <td>025f27c28a153a88</td>\n",
       "      <td>7188663295</td>\n",
       "      <td>3</td>\n",
       "    </tr>\n",
       "    <tr>\n",
       "      <th>4</th>\n",
       "      <td>0265532a180cdbe7</td>\n",
       "      <td>8282943909</td>\n",
       "      <td>5</td>\n",
       "    </tr>\n",
       "    <tr>\n",
       "      <th>...</th>\n",
       "      <td>...</td>\n",
       "      <td>...</td>\n",
       "      <td>...</td>\n",
       "    </tr>\n",
       "    <tr>\n",
       "      <th>453</th>\n",
       "      <td>fc211d11bfc3cc84</td>\n",
       "      <td>9897928888</td>\n",
       "      <td>18</td>\n",
       "    </tr>\n",
       "    <tr>\n",
       "      <th>454</th>\n",
       "      <td>fd74c5661bc90b04</td>\n",
       "      <td>7573668993</td>\n",
       "      <td>2</td>\n",
       "    </tr>\n",
       "    <tr>\n",
       "      <th>455</th>\n",
       "      <td>fd87102fe31eedcd</td>\n",
       "      <td>2106811593</td>\n",
       "      <td>2</td>\n",
       "    </tr>\n",
       "    <tr>\n",
       "      <th>456</th>\n",
       "      <td>fdf175d8f3705583</td>\n",
       "      <td>9548852088</td>\n",
       "      <td>8</td>\n",
       "    </tr>\n",
       "    <tr>\n",
       "      <th>457</th>\n",
       "      <td>fef51941dfe340aa</td>\n",
       "      <td>2039332822</td>\n",
       "      <td>9</td>\n",
       "    </tr>\n",
       "  </tbody>\n",
       "</table>\n",
       "<p>458 rows × 3 columns</p>\n",
       "</div>"
      ],
      "text/plain": [
       "             brizo_id phone_number  count\n",
       "0    00370ffaea501b02   4106509949     13\n",
       "1    003bf5ec93f0b157   7326571616      5\n",
       "2    021c7944d16d125b   4135980033     10\n",
       "3    025f27c28a153a88   7188663295      3\n",
       "4    0265532a180cdbe7   8282943909      5\n",
       "..                ...          ...    ...\n",
       "453  fc211d11bfc3cc84   9897928888     18\n",
       "454  fd74c5661bc90b04   7573668993      2\n",
       "455  fd87102fe31eedcd   2106811593      2\n",
       "456  fdf175d8f3705583   9548852088      8\n",
       "457  fef51941dfe340aa   2039332822      9\n",
       "\n",
       "[458 rows x 3 columns]"
      ]
     },
     "metadata": {},
     "output_type": "display_data"
    }
   ],
   "source": [
    "b4_sql = final_matched[final_matched['opportunity_created_date'] > final_matched['landing_start_date']]\n",
    "\n",
    "b4_sql_id_phone = b4_sql[['brizo_id', 'phone_number']]\n",
    "\n",
    "b4_sql_id_phone_counts = (\n",
    "    b4_sql_id_phone\n",
    "      .groupby(['brizo_id', 'phone_number'])\n",
    "      .size()\n",
    "      .reset_index(name='count')\n",
    ")\n",
    "display(b4_sql_id_phone_counts)\n",
    "match_brizo = b4_sql_id_phone_counts.merge(\n",
    "    final_matched,\n",
    "    on='brizo_id',\n",
    "    how='inner'\n",
    ").assign(match_key='brizo_id')\n",
    "\n",
    "\n",
    "# ————————————————\n",
    "# 2) Match by business_phone_line_1\n",
    "# ————————————————\n",
    "match_business = b4_sql_id_phone_counts.merge(\n",
    "    final_matched.drop(columns=['mobile_primary']),\n",
    "    left_on='phone_number',\n",
    "    right_on='business_phone_line_1',\n",
    "    how='inner',\n",
    "    suffixes=('', '_matched')\n",
    ").assign(match_key='business_phone_line_1')\n",
    "\n",
    "\n",
    "\n",
    "\n",
    "# ————————————————\n",
    "# 3) Match by mobile_primary\n",
    "# ————————————————\n",
    "match_mobile = b4_sql_id_phone_counts.merge(\n",
    "    final_matched,\n",
    "    right_on='mobile_primary',\n",
    "    left_on='phone_number',\n",
    "    how='inner',\n",
    "    suffixes=('', '_matched')\n",
    ").assign(match_key='mobile_primary')\n",
    "\n",
    "\n",
    "# ————————————————\n",
    "# 4) Combine all matches into one DataFrame\n",
    "# ————————————————\n",
    "matched = pd.concat(\n",
    "    [match_brizo, match_business, match_mobile],\n",
    "    ignore_index=True\n",
    ")\n",
    "\n",
    "\n",
    "# ————————————————\n",
    "# 5) Dedupe by brizo_id, keeping the most recent by your date‐priority\n",
    "# ————————————————\n",
    "# sort descending so “most recent” appears first for each brizo_id\n",
    "matched = matched.sort_values(\n",
    "    by=date_cols,\n",
    "    ascending=False,\n",
    "    na_position='last'\n",
    ")\n",
    "\n",
    "before_becoming_sql = matched.drop_duplicates(\n",
    "    subset='brizo_id',\n",
    "    keep='first'\n",
    ").reset_index(drop=True)\n",
    "\n",
    "before_becoming_sql.to_csv('data/before_becoming_sql.csv', index=False)"
   ]
  },
  {
   "cell_type": "code",
   "execution_count": 52,
   "id": "3d18d4d0",
   "metadata": {},
   "outputs": [
    {
     "data": {
      "application/vnd.microsoft.datawrangler.viewer.v0+json": {
       "columns": [
        {
         "name": "index",
         "rawType": "int64",
         "type": "integer"
        },
        {
         "name": "brizo_id",
         "rawType": "object",
         "type": "string"
        },
        {
         "name": "phone_number",
         "rawType": "object",
         "type": "string"
        },
        {
         "name": "count",
         "rawType": "int64",
         "type": "integer"
        }
       ],
       "ref": "21c71442-c463-4b7b-89e5-4381ea1841ef",
       "rows": [
        [
         "0",
         "00370ffaea501b02",
         "4106509949",
         "13"
        ],
        [
         "1",
         "003bf5ec93f0b157",
         "7326571616",
         "5"
        ],
        [
         "2",
         "00bc3c5c2c1a3e46",
         "2127249700",
         "10"
        ],
        [
         "3",
         "021c7944d16d125b",
         "4135980033",
         "10"
        ],
        [
         "4",
         "025c0ab89b2b02c0",
         "3193381038",
         "6"
        ],
        [
         "5",
         "025f27c28a153a88",
         "7188663295",
         "3"
        ],
        [
         "6",
         "0265532a180cdbe7",
         "8282943909",
         "5"
        ],
        [
         "7",
         "02b4f7490c169f06",
         "3094357015",
         "10"
        ],
        [
         "8",
         "02cf7f8f4f6d36f0",
         "6417879988",
         "6"
        ],
        [
         "9",
         "0396ebddbc1a2c31",
         "7728772188",
         "2"
        ],
        [
         "10",
         "046acca55ee3b03c",
         "9543683452",
         "1"
        ],
        [
         "11",
         "04cdade46a5cc227",
         "5702973066",
         "4"
        ],
        [
         "12",
         "0525b9f84d134bcf",
         "4254560010",
         "1"
        ],
        [
         "13",
         "05c988dd31b8a82d",
         "7342540616",
         "18"
        ],
        [
         "14",
         "06297172ff7cfa89",
         "3147718880",
         "12"
        ],
        [
         "15",
         "067e482f037261dc",
         "6517743853",
         "11"
        ],
        [
         "16",
         "074d8604509fff21",
         "3523691688",
         "1"
        ],
        [
         "17",
         "07af958d753e5c15",
         "7176844375",
         "6"
        ],
        [
         "18",
         "07dac1a8640e3e66",
         "5204598449",
         "5"
        ],
        [
         "19",
         "08763f0c42306b6d",
         "8453374013",
         "1"
        ],
        [
         "20",
         "08b26f131231cedc",
         "3462515886",
         "16"
        ],
        [
         "21",
         "09f45c50e2bb45a9",
         "8475876733",
         "6"
        ],
        [
         "22",
         "0a38d8995670f149",
         "3186399020",
         "2"
        ],
        [
         "23",
         "0aae74fdf3a920b8",
         "7089249877",
         "1"
        ],
        [
         "24",
         "0c6d9a8f4ccbddf2",
         "3053613818",
         "1"
        ],
        [
         "25",
         "0d0cdd2441d51071",
         "5128196222",
         "15"
        ],
        [
         "26",
         "0d168fa43275f304",
         "7743108696",
         "13"
        ],
        [
         "27",
         "0da4833aaa5b8fba",
         "2017986078",
         "7"
        ],
        [
         "28",
         "0dad952d54aadd46",
         "2065228888",
         "1"
        ],
        [
         "29",
         "0daf6ec022b9fd28",
         "9254302993",
         "1"
        ],
        [
         "30",
         "0efecae877152bb2",
         "9198697894",
         "3"
        ],
        [
         "31",
         "0faa132d70faac3f",
         "9739009264",
         "3"
        ],
        [
         "32",
         "0fb4753d80590072",
         "8287597226",
         "16"
        ],
        [
         "33",
         "10a39302021adc56",
         "7758856996",
         "4"
        ],
        [
         "34",
         "116acbb16c49a673",
         "3103256674",
         "6"
        ],
        [
         "35",
         "11b4a06a2e2f419c",
         "3604558899",
         "3"
        ],
        [
         "36",
         "12014da1249d3743",
         "5186084809",
         "4"
        ],
        [
         "37",
         "12038dd34e8f0b82",
         "3367317510",
         "10"
        ],
        [
         "38",
         "125bb2f6a5b0309f",
         "8137152919",
         "14"
        ],
        [
         "39",
         "127784269c84601e",
         "5708005437",
         "3"
        ],
        [
         "40",
         "1358e8756bd3d851",
         "5125278888",
         "11"
        ],
        [
         "41",
         "135a1d5ca40c1db6",
         "3366255537",
         "2"
        ],
        [
         "42",
         "14844c900649d2d7",
         "3369920088",
         "9"
        ],
        [
         "43",
         "15165a4586d95d4b",
         "2129210233",
         "4"
        ],
        [
         "44",
         "15247bb467c53378",
         "9785348877",
         "7"
        ],
        [
         "45",
         "153e190276a8008d",
         "2163986363",
         "15"
        ],
        [
         "46",
         "155db8569762f12e",
         "6263455291",
         "4"
        ],
        [
         "47",
         "159d06fe5db1950c",
         "3012960885",
         "1"
        ],
        [
         "48",
         "15e7e44eeb9e2d9f",
         "8604483336",
         "16"
        ],
        [
         "49",
         "163fe1cf2eefb57b",
         "7195349588",
         "15"
        ]
       ],
       "shape": {
        "columns": 3,
        "rows": 722
       }
      },
      "text/html": [
       "<div>\n",
       "<style scoped>\n",
       "    .dataframe tbody tr th:only-of-type {\n",
       "        vertical-align: middle;\n",
       "    }\n",
       "\n",
       "    .dataframe tbody tr th {\n",
       "        vertical-align: top;\n",
       "    }\n",
       "\n",
       "    .dataframe thead th {\n",
       "        text-align: right;\n",
       "    }\n",
       "</style>\n",
       "<table border=\"1\" class=\"dataframe\">\n",
       "  <thead>\n",
       "    <tr style=\"text-align: right;\">\n",
       "      <th></th>\n",
       "      <th>brizo_id</th>\n",
       "      <th>phone_number</th>\n",
       "      <th>count</th>\n",
       "    </tr>\n",
       "  </thead>\n",
       "  <tbody>\n",
       "    <tr>\n",
       "      <th>0</th>\n",
       "      <td>00370ffaea501b02</td>\n",
       "      <td>4106509949</td>\n",
       "      <td>13</td>\n",
       "    </tr>\n",
       "    <tr>\n",
       "      <th>1</th>\n",
       "      <td>003bf5ec93f0b157</td>\n",
       "      <td>7326571616</td>\n",
       "      <td>5</td>\n",
       "    </tr>\n",
       "    <tr>\n",
       "      <th>2</th>\n",
       "      <td>00bc3c5c2c1a3e46</td>\n",
       "      <td>2127249700</td>\n",
       "      <td>10</td>\n",
       "    </tr>\n",
       "    <tr>\n",
       "      <th>3</th>\n",
       "      <td>021c7944d16d125b</td>\n",
       "      <td>4135980033</td>\n",
       "      <td>10</td>\n",
       "    </tr>\n",
       "    <tr>\n",
       "      <th>4</th>\n",
       "      <td>025c0ab89b2b02c0</td>\n",
       "      <td>3193381038</td>\n",
       "      <td>6</td>\n",
       "    </tr>\n",
       "    <tr>\n",
       "      <th>...</th>\n",
       "      <td>...</td>\n",
       "      <td>...</td>\n",
       "      <td>...</td>\n",
       "    </tr>\n",
       "    <tr>\n",
       "      <th>717</th>\n",
       "      <td>fd87102fe31eedcd</td>\n",
       "      <td>2106811593</td>\n",
       "      <td>2</td>\n",
       "    </tr>\n",
       "    <tr>\n",
       "      <th>718</th>\n",
       "      <td>fdaffb81c97ad131</td>\n",
       "      <td>7175098488</td>\n",
       "      <td>14</td>\n",
       "    </tr>\n",
       "    <tr>\n",
       "      <th>719</th>\n",
       "      <td>fdce78e6f34e21cc</td>\n",
       "      <td>7812286427</td>\n",
       "      <td>13</td>\n",
       "    </tr>\n",
       "    <tr>\n",
       "      <th>720</th>\n",
       "      <td>fdf175d8f3705583</td>\n",
       "      <td>9548852088</td>\n",
       "      <td>8</td>\n",
       "    </tr>\n",
       "    <tr>\n",
       "      <th>721</th>\n",
       "      <td>ffe55581156c0a56</td>\n",
       "      <td>3022669333</td>\n",
       "      <td>1</td>\n",
       "    </tr>\n",
       "  </tbody>\n",
       "</table>\n",
       "<p>722 rows × 3 columns</p>\n",
       "</div>"
      ],
      "text/plain": [
       "             brizo_id phone_number  count\n",
       "0    00370ffaea501b02   4106509949     13\n",
       "1    003bf5ec93f0b157   7326571616      5\n",
       "2    00bc3c5c2c1a3e46   2127249700     10\n",
       "3    021c7944d16d125b   4135980033     10\n",
       "4    025c0ab89b2b02c0   3193381038      6\n",
       "..                ...          ...    ...\n",
       "717  fd87102fe31eedcd   2106811593      2\n",
       "718  fdaffb81c97ad131   7175098488     14\n",
       "719  fdce78e6f34e21cc   7812286427     13\n",
       "720  fdf175d8f3705583   9548852088      8\n",
       "721  ffe55581156c0a56   3022669333      1\n",
       "\n",
       "[722 rows x 3 columns]"
      ]
     },
     "metadata": {},
     "output_type": "display_data"
    }
   ],
   "source": [
    "b4_mql = final_matched[final_matched['latest_mql_timestamp'] > final_matched['landing_start_date']]\n",
    "\n",
    "b4_mql_id_phone = b4_mql[['brizo_id', 'phone_number']]\n",
    "\n",
    "b4_mql_id_phone_counts = (\n",
    "    b4_mql_id_phone\n",
    "      .groupby(['brizo_id', 'phone_number'])\n",
    "      .size()\n",
    "      .reset_index(name='count')\n",
    ")\n",
    "display(b4_mql_id_phone_counts)\n",
    "match_brizo = b4_mql_id_phone_counts.merge(\n",
    "    final_matched,\n",
    "    on='brizo_id',\n",
    "    how='inner'\n",
    ").assign(match_key='brizo_id')\n",
    "\n",
    "\n",
    "# ————————————————\n",
    "# 2) Match by business_phone_line_1\n",
    "# ————————————————\n",
    "match_business = b4_mql_id_phone_counts.merge(\n",
    "    final_matched.drop(columns=['mobile_primary']),\n",
    "    left_on='phone_number',\n",
    "    right_on='business_phone_line_1',\n",
    "    how='inner',\n",
    "    suffixes=('', '_matched')\n",
    ").assign(match_key='business_phone_line_1')\n",
    "\n",
    "\n",
    "\n",
    "\n",
    "# ————————————————\n",
    "# 3) Match by mobile_primary\n",
    "# ————————————————\n",
    "match_mobile = b4_mql_id_phone_counts.merge(\n",
    "    final_matched,\n",
    "    right_on='mobile_primary',\n",
    "    left_on='phone_number',\n",
    "    how='inner',\n",
    "    suffixes=('', '_matched')\n",
    ").assign(match_key='mobile_primary')\n",
    "\n",
    "\n",
    "# ————————————————\n",
    "# 4) Combine all matches into one DataFrame\n",
    "# ————————————————\n",
    "matched = pd.concat(\n",
    "    [match_brizo, match_business, match_mobile],\n",
    "    ignore_index=True\n",
    ")\n",
    "\n",
    "\n",
    "# ————————————————\n",
    "# 5) Dedupe by brizo_id, keeping the most recent by your date‐priority\n",
    "# ————————————————\n",
    "# sort descending so “most recent” appears first for each brizo_id\n",
    "matched = matched.sort_values(\n",
    "    by=date_cols,\n",
    "    ascending=False,\n",
    "    na_position='last'\n",
    ")\n",
    "\n",
    "before_becoming_mql = matched.drop_duplicates(\n",
    "    subset='brizo_id',\n",
    "    keep='first'\n",
    ").reset_index(drop=True)\n",
    "\n",
    "before_becoming_mql.to_csv('data/before_becoming_mql.csv', index=False)"
   ]
  },
  {
   "cell_type": "code",
   "execution_count": 53,
   "id": "bd7e2423",
   "metadata": {},
   "outputs": [
    {
     "data": {
      "application/vnd.microsoft.datawrangler.viewer.v0+json": {
       "columns": [
        {
         "name": "index",
         "rawType": "int64",
         "type": "integer"
        },
        {
         "name": "brizo_id",
         "rawType": "object",
         "type": "string"
        },
        {
         "name": "phone_number",
         "rawType": "object",
         "type": "string"
        },
        {
         "name": "count",
         "rawType": "int64",
         "type": "integer"
        }
       ],
       "ref": "8031552b-806c-4d1b-a812-3ca3e76e7368",
       "rows": [
        [
         "0",
         "00282d2fa2df2c18",
         "6312183888",
         "1"
        ],
        [
         "1",
         "00370ffaea501b02",
         "4106509949",
         "9"
        ],
        [
         "2",
         "003bf5ec93f0b157",
         "7326571616",
         "5"
        ],
        [
         "3",
         "00bc3c5c2c1a3e46",
         "2127249700",
         "10"
        ],
        [
         "4",
         "0144f13b6f7fa2f9",
         "2012721085",
         "7"
        ],
        [
         "5",
         "01477c5172bc3122",
         "5704246086",
         "4"
        ],
        [
         "6",
         "014e43727fe038ed",
         "6305952288",
         "11"
        ],
        [
         "7",
         "015cfb519841b782",
         "9545306521",
         "1"
        ],
        [
         "8",
         "01d42cec78147ed7",
         "6239352357",
         "11"
        ],
        [
         "9",
         "01e368b42ef4affc",
         "4142736688",
         "14"
        ],
        [
         "10",
         "021dcd252474dbbb",
         "4173320260",
         "7"
        ],
        [
         "11",
         "025c0ab89b2b02c0",
         "3193381038",
         "6"
        ],
        [
         "12",
         "02729566e2fa2e2f",
         "9292343500",
         "1"
        ],
        [
         "13",
         "02b4f7490c169f06",
         "3094357015",
         "10"
        ],
        [
         "14",
         "02cf7f8f4f6d36f0",
         "6417879988",
         "6"
        ],
        [
         "15",
         "0396ebddbc1a2c31",
         "7728772188",
         "2"
        ],
        [
         "16",
         "03e6126d3ccbb3a4",
         "9017078886",
         "11"
        ],
        [
         "17",
         "0441b84fec8d2016",
         "4705450278",
         "7"
        ],
        [
         "18",
         "0465dfb07a984afe",
         "8323976342",
         "1"
        ],
        [
         "19",
         "046acca55ee3b03c",
         "9543683452",
         "1"
        ],
        [
         "20",
         "04ae34730657daa5",
         "3127078780",
         "1"
        ],
        [
         "21",
         "04b5ac8dd40c97f0",
         "2147749701",
         "11"
        ],
        [
         "22",
         "04cdade46a5cc227",
         "5702973066",
         "4"
        ],
        [
         "23",
         "04df8b206bb84c96",
         "9545890221",
         "1"
        ],
        [
         "24",
         "0525b9f84d134bcf",
         "4254560010",
         "1"
        ],
        [
         "25",
         "054aa610aac08cd9",
         "4082623988",
         "7"
        ],
        [
         "26",
         "056408924c65e49e",
         "7736543369",
         "6"
        ],
        [
         "27",
         "05c988dd31b8a82d",
         "7342540616",
         "18"
        ],
        [
         "28",
         "06297172ff7cfa89",
         "3147718880",
         "12"
        ],
        [
         "29",
         "067e482f037261dc",
         "6517743853",
         "11"
        ],
        [
         "30",
         "072fda6c0cac8d55",
         "5018120055",
         "11"
        ],
        [
         "31",
         "074d8604509fff21",
         "3523691688",
         "1"
        ],
        [
         "32",
         "077899e57c1d8244",
         "8132482333",
         "1"
        ],
        [
         "33",
         "0791082dcd8bc7ca",
         "9107910280",
         "1"
        ],
        [
         "34",
         "07af958d753e5c15",
         "7176844375",
         "6"
        ],
        [
         "35",
         "07be11cffcf4c8ab",
         "8596930607",
         "14"
        ],
        [
         "36",
         "07dac1a8640e3e66",
         "5204598449",
         "5"
        ],
        [
         "37",
         "08763f0c42306b6d",
         "8453374013",
         "1"
        ],
        [
         "38",
         "0888fd9b4d484ccd",
         "5083625522",
         "10"
        ],
        [
         "39",
         "08aaf5637d986eb1",
         "4048555488",
         "13"
        ],
        [
         "40",
         "08b26f131231cedc",
         "3462515886",
         "16"
        ],
        [
         "41",
         "08b394859d1652e0",
         "7074560688",
         "13"
        ],
        [
         "42",
         "090758252ca2498e",
         "8039310700",
         "14"
        ],
        [
         "43",
         "09328d8e0484214c",
         "8054821444",
         "11"
        ],
        [
         "44",
         "09b2a74e1450f74f",
         "9719789375",
         "7"
        ],
        [
         "45",
         "09f45c50e2bb45a9",
         "8475876733",
         "3"
        ],
        [
         "46",
         "09f61b64663cfbbb",
         "6019399209",
         "4"
        ],
        [
         "47",
         "0a38d8995670f149",
         "3186399020",
         "2"
        ],
        [
         "48",
         "0a8227ee208cdcea",
         "3082302114",
         "2"
        ],
        [
         "49",
         "0aae74fdf3a920b8",
         "7089249877",
         "1"
        ]
       ],
       "shape": {
        "columns": 3,
        "rows": 1375
       }
      },
      "text/html": [
       "<div>\n",
       "<style scoped>\n",
       "    .dataframe tbody tr th:only-of-type {\n",
       "        vertical-align: middle;\n",
       "    }\n",
       "\n",
       "    .dataframe tbody tr th {\n",
       "        vertical-align: top;\n",
       "    }\n",
       "\n",
       "    .dataframe thead th {\n",
       "        text-align: right;\n",
       "    }\n",
       "</style>\n",
       "<table border=\"1\" class=\"dataframe\">\n",
       "  <thead>\n",
       "    <tr style=\"text-align: right;\">\n",
       "      <th></th>\n",
       "      <th>brizo_id</th>\n",
       "      <th>phone_number</th>\n",
       "      <th>count</th>\n",
       "    </tr>\n",
       "  </thead>\n",
       "  <tbody>\n",
       "    <tr>\n",
       "      <th>0</th>\n",
       "      <td>00282d2fa2df2c18</td>\n",
       "      <td>6312183888</td>\n",
       "      <td>1</td>\n",
       "    </tr>\n",
       "    <tr>\n",
       "      <th>1</th>\n",
       "      <td>00370ffaea501b02</td>\n",
       "      <td>4106509949</td>\n",
       "      <td>9</td>\n",
       "    </tr>\n",
       "    <tr>\n",
       "      <th>2</th>\n",
       "      <td>003bf5ec93f0b157</td>\n",
       "      <td>7326571616</td>\n",
       "      <td>5</td>\n",
       "    </tr>\n",
       "    <tr>\n",
       "      <th>3</th>\n",
       "      <td>00bc3c5c2c1a3e46</td>\n",
       "      <td>2127249700</td>\n",
       "      <td>10</td>\n",
       "    </tr>\n",
       "    <tr>\n",
       "      <th>4</th>\n",
       "      <td>0144f13b6f7fa2f9</td>\n",
       "      <td>2012721085</td>\n",
       "      <td>7</td>\n",
       "    </tr>\n",
       "    <tr>\n",
       "      <th>...</th>\n",
       "      <td>...</td>\n",
       "      <td>...</td>\n",
       "      <td>...</td>\n",
       "    </tr>\n",
       "    <tr>\n",
       "      <th>1370</th>\n",
       "      <td>ff3cdf7bdb8a90e7</td>\n",
       "      <td>2125771153</td>\n",
       "      <td>2</td>\n",
       "    </tr>\n",
       "    <tr>\n",
       "      <th>1371</th>\n",
       "      <td>ff812365481df979</td>\n",
       "      <td>4159627400</td>\n",
       "      <td>13</td>\n",
       "    </tr>\n",
       "    <tr>\n",
       "      <th>1372</th>\n",
       "      <td>ff9e9dfd9685f8ed</td>\n",
       "      <td>2132780198</td>\n",
       "      <td>2</td>\n",
       "    </tr>\n",
       "    <tr>\n",
       "      <th>1373</th>\n",
       "      <td>ffa9b739d80c379e</td>\n",
       "      <td>6093018527</td>\n",
       "      <td>1</td>\n",
       "    </tr>\n",
       "    <tr>\n",
       "      <th>1374</th>\n",
       "      <td>ffe55581156c0a56</td>\n",
       "      <td>3022669333</td>\n",
       "      <td>1</td>\n",
       "    </tr>\n",
       "  </tbody>\n",
       "</table>\n",
       "<p>1375 rows × 3 columns</p>\n",
       "</div>"
      ],
      "text/plain": [
       "              brizo_id phone_number  count\n",
       "0     00282d2fa2df2c18   6312183888      1\n",
       "1     00370ffaea501b02   4106509949      9\n",
       "2     003bf5ec93f0b157   7326571616      5\n",
       "3     00bc3c5c2c1a3e46   2127249700     10\n",
       "4     0144f13b6f7fa2f9   2012721085      7\n",
       "...                ...          ...    ...\n",
       "1370  ff3cdf7bdb8a90e7   2125771153      2\n",
       "1371  ff812365481df979   4159627400     13\n",
       "1372  ff9e9dfd9685f8ed   2132780198      2\n",
       "1373  ffa9b739d80c379e   6093018527      1\n",
       "1374  ffe55581156c0a56   3022669333      1\n",
       "\n",
       "[1375 rows x 3 columns]"
      ]
     },
     "metadata": {},
     "output_type": "display_data"
    }
   ],
   "source": [
    "b4_mel = final_matched[final_matched['first_mel_timestamp'] > final_matched['landing_start_date']]\n",
    "\n",
    "b4_mel_id_phone = b4_mel[['brizo_id', 'phone_number']]\n",
    "\n",
    "b4_mel_id_phone_counts = (\n",
    "    b4_mel_id_phone\n",
    "      .groupby(['brizo_id', 'phone_number'])\n",
    "      .size()\n",
    "      .reset_index(name='count')\n",
    ")\n",
    "display(b4_mel_id_phone_counts)\n",
    "match_brizo = b4_mel_id_phone_counts.merge(\n",
    "    final_matched,\n",
    "    on='brizo_id',\n",
    "    how='inner'\n",
    ").assign(match_key='brizo_id')\n",
    "\n",
    "\n",
    "# ————————————————\n",
    "# 2) Match by business_phone_line_1\n",
    "# ————————————————\n",
    "match_business = b4_mel_id_phone_counts.merge(\n",
    "    final_matched.drop(columns=['mobile_primary']),\n",
    "    left_on='phone_number',\n",
    "    right_on='business_phone_line_1',\n",
    "    how='inner',\n",
    "    suffixes=('', '_matched')\n",
    ").assign(match_key='business_phone_line_1')\n",
    "\n",
    "\n",
    "\n",
    "\n",
    "# ————————————————\n",
    "# 3) Match by mobile_primary\n",
    "# ————————————————\n",
    "match_mobile = b4_mel_id_phone_counts.merge(\n",
    "    final_matched,\n",
    "    right_on='mobile_primary',\n",
    "    left_on='phone_number',\n",
    "    how='inner',\n",
    "    suffixes=('', '_matched')\n",
    ").assign(match_key='mobile_primary')\n",
    "\n",
    "\n",
    "# ————————————————\n",
    "# 4) Combine all matches into one DataFrame\n",
    "# ————————————————\n",
    "matched = pd.concat(\n",
    "    [match_brizo, match_business, match_mobile],\n",
    "    ignore_index=True\n",
    ")\n",
    "\n",
    "\n",
    "# ————————————————\n",
    "# 5) Dedupe by brizo_id, keeping the most recent by your date‐priority\n",
    "# ————————————————\n",
    "# sort descending so “most recent” appears first for each brizo_id\n",
    "matched = matched.sort_values(\n",
    "    by=date_cols,\n",
    "    ascending=False,\n",
    "    na_position='last'\n",
    ")\n",
    "\n",
    "before_becoming_mel = matched.drop_duplicates(\n",
    "    subset='brizo_id',\n",
    "    keep='first'\n",
    ").reset_index(drop=True)\n",
    "\n",
    "before_becoming_mel.to_csv('data/before_becoming_mel.csv', index=False)"
   ]
  }
 ],
 "metadata": {
  "kernelspec": {
   "display_name": "venv-marketing-operation",
   "language": "python",
   "name": "python3"
  },
  "language_info": {
   "codemirror_mode": {
    "name": "ipython",
    "version": 3
   },
   "file_extension": ".py",
   "mimetype": "text/x-python",
   "name": "python",
   "nbconvert_exporter": "python",
   "pygments_lexer": "ipython3",
   "version": "3.10.10"
  }
 },
 "nbformat": 4,
 "nbformat_minor": 5
}
