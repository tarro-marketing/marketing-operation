{
 "cells": [
  {
   "cell_type": "markdown",
   "id": "e5279b0a",
   "metadata": {},
   "source": [
    "Combine all csv"
   ]
  },
  {
   "cell_type": "markdown",
   "id": "ca311ab0",
   "metadata": {},
   "source": [
    "check columns names in each data"
   ]
  },
  {
   "cell_type": "code",
   "execution_count": 1,
   "id": "19d78b24",
   "metadata": {},
   "outputs": [
    {
     "name": "stdout",
     "output_type": "stream",
     "text": [
      "Empty DataFrame\n",
      "Columns: []\n",
      "Index: []\n"
     ]
    }
   ],
   "source": [
    "import os\n",
    "import pandas as pd\n",
    "\n",
    "# 1) Point this at your export directory\n",
    "folder = \"/Users/yukachen/marketing-operation/campaign_touch_points/list_exports\"\n",
    "\n",
    "# 2) Find all CSV files\n",
    "csv_files = [\n",
    "    f for f in os.listdir(folder)\n",
    "    if f.lower().endswith(\".csv\")\n",
    "]\n",
    "\n",
    "# 3) Collect headers\n",
    "records = []\n",
    "for fname in csv_files:\n",
    "    path = os.path.join(folder, fname)\n",
    "    # read only the header row\n",
    "    df = pd.read_csv(path, nrows=0)\n",
    "    # record the file name + list of columns\n",
    "    records.append({\n",
    "        \"CSV File\": fname,\n",
    "        \"Columns\": list(df.columns)\n",
    "    })\n",
    "\n",
    "# 4) Build a DataFrame\n",
    "summary = pd.DataFrame(records)\n",
    "\n",
    "# 5) (Optional) pretty‐print in console\n",
    "print(summary.to_string(index=False))\n",
    "\n",
    "# 6) (Optional) write out to a new CSV\n",
    "summary.to_csv(\"data/csv_columns_summary.csv\", index=False)"
   ]
  },
  {
   "cell_type": "markdown",
   "id": "3511f63b",
   "metadata": {},
   "source": [
    "rename ID in any files that contains ID to brizo_id"
   ]
  },
  {
   "cell_type": "code",
   "execution_count": 2,
   "id": "da061554",
   "metadata": {},
   "outputs": [],
   "source": [
    "import os\n",
    "import pandas as pd\n",
    "\n",
    "# 1) Point this at your real export directory on your machine:\n",
    "folder = '/Users/yukachen/marketing-operation/campaign_touch_points/list_exports'\n",
    "\n",
    "# 2) Loop through every CSV, rename ID→brizo_id, and save\n",
    "for filename in os.listdir(folder):\n",
    "    if filename.lower().endswith('.csv'):\n",
    "        path = os.path.join(folder, filename)\n",
    "        df = pd.read_csv(path)\n",
    "        if 'ID' in df.columns:\n",
    "            df = df.rename(columns={'ID': 'brizo_id'})\n",
    "            df.to_csv(path, index=False)\n",
    "            print(f\"✅ Renamed in {filename}\")\n",
    "        else:\n",
    "            print(f\"– no ID column in {filename}\")"
   ]
  },
  {
   "cell_type": "markdown",
   "id": "dcd80cdb",
   "metadata": {},
   "source": [
    "check if the names have sucessfully renamed"
   ]
  },
  {
   "cell_type": "code",
   "execution_count": 3,
   "id": "3890af98",
   "metadata": {},
   "outputs": [
    {
     "data": {
      "application/vnd.microsoft.datawrangler.viewer.v0+json": {
       "columns": [
        {
         "name": "index",
         "rawType": "int64",
         "type": "integer"
        }
       ],
       "ref": "52c76fe6-0ca9-403d-a76f-adb97b4e1107",
       "rows": [],
       "shape": {
        "columns": 0,
        "rows": 0
       }
      },
      "text/html": [
       "<div>\n",
       "<style scoped>\n",
       "    .dataframe tbody tr th:only-of-type {\n",
       "        vertical-align: middle;\n",
       "    }\n",
       "\n",
       "    .dataframe tbody tr th {\n",
       "        vertical-align: top;\n",
       "    }\n",
       "\n",
       "    .dataframe thead th {\n",
       "        text-align: right;\n",
       "    }\n",
       "</style>\n",
       "<table border=\"1\" class=\"dataframe\">\n",
       "  <thead>\n",
       "    <tr style=\"text-align: right;\">\n",
       "      <th></th>\n",
       "    </tr>\n",
       "  </thead>\n",
       "  <tbody>\n",
       "  </tbody>\n",
       "</table>\n",
       "</div>"
      ],
      "text/plain": [
       "Empty DataFrame\n",
       "Columns: []\n",
       "Index: []"
      ]
     },
     "metadata": {},
     "output_type": "display_data"
    }
   ],
   "source": [
    "import os\n",
    "import pandas as pd\n",
    "from IPython.display import display\n",
    "\n",
    "records = []\n",
    "for filename in os.listdir(folder):\n",
    "    if filename.lower().endswith('.csv'):\n",
    "        df = pd.read_csv(os.path.join(folder, filename), nrows=0)\n",
    "        records.append({\n",
    "            'CSV File': filename,\n",
    "            'Columns': df.columns.tolist()\n",
    "        })\n",
    "\n",
    "display(pd.DataFrame(records))"
   ]
  },
  {
   "cell_type": "markdown",
   "id": "39b67355",
   "metadata": {},
   "source": [
    "move the files to different folder"
   ]
  },
  {
   "cell_type": "code",
   "execution_count": 4,
   "id": "1fecfc3c",
   "metadata": {},
   "outputs": [
    {
     "name": "stdout",
     "output_type": "stream",
     "text": [
      "\n",
      "Remaining files in main folder:\n",
      "  .DS_Store\n",
      "  brizo\n",
      "  non_brizo\n",
      "\n",
      "Files in 'non_brizo' subfolder:\n",
      "  .DS_Store\n",
      "  2024-01—Old List - CAN (78113-81103).csv\n",
      "  2024-01—Old List - US (59384-69820).csv\n",
      "  2024-01—Print Shop - CAN (81104-81183).csv\n",
      "  2024-01—Print Shop - US (56003-59383).csv\n",
      "  2024-04—Group A: Free Trial_SMS (WLQ).csv\n",
      "  2024-04—Group B: SMS Only (WLQ).csv\n",
      "  2024-04—Group C: CW Gift_SMS (WLQ).csv\n",
      "  2024-05—Group A: Post-Card (WLQ) 57075-65403.csv\n",
      "  2024-05—Group B: Bifold (WLQ) 65404-73566.csv\n",
      "  2024-06—Group A: SQL_Trial (MNQ) 57075-63073.csv\n",
      "  2024-06—Group B: 50% (MNQ) 65404-69842.csv\n",
      "  2024-07—MNQ A - Copy1 (51744-61388).csv\n",
      "  2024-07—MNQ B - Copy2 (61389-71951).csv\n"
     ]
    }
   ],
   "source": [
    "import os\n",
    "import shutil\n",
    "from pathlib import Path\n",
    "\n",
    "# 1) Define the directory and the desired subfolder name\n",
    "folder_path = Path('/Users/yukachen/marketing-operation/campaign_touch_points/list_exports')\n",
    "subfolder_path = folder_path / 'non_brizo'\n",
    "\n",
    "# Create the subfolder if it doesn't exist (including any missing parents)\n",
    "subfolder_path.mkdir(parents=True, exist_ok=True)\n",
    "\n",
    "# 2) Keywords to match (case-insensitive)\n",
    "keywords = [\"old list\", \"print shop\", \"wlq\", \"mnq\"]\n",
    "\n",
    "# 3) Loop through files and move those matching any keyword\n",
    "for file_path in folder_path.iterdir():\n",
    "    if file_path.is_file():\n",
    "        name_lower = file_path.name.lower()\n",
    "        if any(keyword in name_lower for keyword in keywords):\n",
    "            shutil.move(str(file_path), str(subfolder_path / file_path.name))\n",
    "            print(f\"Moved: {file_path.name}\")\n",
    "\n",
    "# 4) Display final state\n",
    "print(\"\\nRemaining files in main folder:\")\n",
    "for f in sorted(folder_path.iterdir()):\n",
    "    print(\" \", f.name)\n",
    "print(\"\\nFiles in 'non_brizo' subfolder:\")\n",
    "for f in sorted(subfolder_path.iterdir()):\n",
    "    print(\" \", f.name)"
   ]
  },
  {
   "cell_type": "code",
   "execution_count": 5,
   "id": "45c13f58",
   "metadata": {},
   "outputs": [
    {
     "name": "stdout",
     "output_type": "stream",
     "text": [
      "\n",
      "Remaining files in main folder:\n",
      "['.DS_Store', 'brizo', 'non_brizo']\n",
      "\n",
      "Files in 'brizo' subfolder:\n",
      "['.DS_Store', '2024-01—Brizo - CAN (69821-78112).csv', '2024-01—Brizo - US (1-56002).csv', '2024-01—E.C. Mapping.csv', '2024-02—Active Account_Contact.csv', '2024-02—Brizo - CW Gift (G2).csv', '2024-02—Brizo - No Promo(G3).csv', '2024-02—Brizo - SQL Gift (G1).csv', '2024-03—Active Account_Contact.csv', '2024-03—Group A - SQL Gift_No Trial.csv', '2024-03—Group B - Trial Only.csv', '2024-03—Group C - SQL Gift and Trial.csv', '2024-04—Active Contact_Acc.csv', '2024-04—Group A: Free Trial_SMS (Brizo).csv', '2024-04—Group B: SMS Only (Brizo).csv', '2024-04—Group C: CW Gift_SMS (Brizo).csv', '2024-04—Lariat Test.csv', '2024-04—Unqualified.csv', '2024-05—Active Contact_Acc.csv', '2024-05—Group A: Post-Card (Brizo) 1-28314.csv', '2024-05—Group B: Bifold (Brizo) 28315-57074.csv', '2024-05—Unqualified.csv', '2024-06—Active Contact_Acc.csv', '2024-06—Group A: SQL_Trial (Brizo) 1-28314.csv', '2024-06—Group B: 50% (Brizo) 28315-57074.csv', '2024-06—Unqualified.csv', '2024-07—Brizo A - Copy1  (1-25280).csv', '2024-07—Brizo B - Copy2 (25281-51743).csv', '2024-07—Seattle.csv', '2024-08—Brizo - A ($100) 1-18487.csv', '2024-08—Brizo - B ($200) 18488-35526.csv', '2024-08—Brizo - C ($300) 35527-51230.csv', '2024-09—Brizo A (Creative) 1-24229.csv', '2024-09—Brizo B (Evergreen) 24230-49312.csv', '2024-10—A - Western 1-26130.csv', '2024-10—B - Chinese 26131-51680.csv', '2024-11—20k States.csv', '2024-11—2nd DM - Chinese.csv', '2024-11—2nd DM - English_Other.csv', '2024-11—Chinese (1-20118).csv', '2024-11—English (20119-28986).csv', '2024-11—Unknown (28987-50734).csv', '2024-12—A - Chinese _Unknown.csv', '2024-12—B - English.csv', '2025-01—A - Chinese (High GMV).csv', '2025-01—B - Chinese (Low GMV).csv', '2025-01—C - Bilingual.csv', '2025-01—D - English.csv', '2025-02—Drop1A - Chinese VO.csv', '2025-02—Drop1B - Chinese DE.csv', '2025-02—Drop1C - Bilingual VO.csv', '2025-02—Drop1D - Bilingual DE.csv', '2025-02—Drop2A - Chinese VO.csv', '2025-02—Drop2B - Chinese DE.csv', '2025-02—Drop2C - Bilingual VO.csv', '2025-02—Drop2D - Bilingual DE.csv', '2025-03—A - Credibility (1-22406).csv', '2025-03—B - Heartfelt (22407-44812).csv', '2025-04—Group A - Giftcard (1-25601).csv', '2025-04—Group B - Air Purifier (25602-51230).csv', '2025-05—Group A - High GMV.csv', '2025-05—Group B - Low GMV.csv', '2025-06—Brizo Full List .csv', '2025-06—Group A - Chinese.csv', '2025-06—Group B - Japanese.csv', '2025-07—A-LaborHighGMV.csv', '2025-07—B-RevenueHighGMV.csv', '2025-07—C-LaborLowGMV.csv', '2025-07—D-RevenueLowGMV.csv']\n"
     ]
    }
   ],
   "source": [
    "import os\n",
    "import shutil\n",
    "from pathlib import Path\n",
    "\n",
    "# 1) Source directory and \"brizo\" subfolder\n",
    "folder_path = Path('/Users/yukachen/marketing-operation/campaign_touch_points/list_exports')\n",
    "brizo_folder = folder_path / 'brizo'\n",
    "\n",
    "# Create \"brizo\" subfolder (create any missing parents)\n",
    "brizo_folder.mkdir(parents=True, exist_ok=True)\n",
    "\n",
    "# 2) Keywords to exclude from moving to brizo\n",
    "keywords = [\"old list\", \"print shop\", \"wlq\", \"mnq\"]\n",
    "\n",
    "# 3) Move CSV files that do NOT contain any keyword into \"brizo\"\n",
    "for file_path in folder_path.iterdir():\n",
    "    if file_path.is_file() and file_path.suffix.lower() == '.csv':\n",
    "        name_lower = file_path.name.lower()\n",
    "        if not any(keyword in name_lower for keyword in keywords):\n",
    "            shutil.move(\n",
    "                str(file_path),\n",
    "                str(brizo_folder / file_path.name)\n",
    "            )\n",
    "            print(f\"Moved to brizo: {file_path.name}\")\n",
    "\n",
    "# 4) Verify contents\n",
    "print(\"\\nRemaining files in main folder:\")\n",
    "print(sorted(p.name for p in folder_path.iterdir()))\n",
    "\n",
    "print(\"\\nFiles in 'brizo' subfolder:\")\n",
    "print(sorted(p.name for p in brizo_folder.iterdir()))"
   ]
  }
 ],
 "metadata": {
  "kernelspec": {
   "display_name": "venv-marketing-operation",
   "language": "python",
   "name": "python3"
  },
  "language_info": {
   "codemirror_mode": {
    "name": "ipython",
    "version": 3
   },
   "file_extension": ".py",
   "mimetype": "text/x-python",
   "name": "python",
   "nbconvert_exporter": "python",
   "pygments_lexer": "ipython3",
   "version": "3.10.10"
  }
 },
 "nbformat": 4,
 "nbformat_minor": 5
}
