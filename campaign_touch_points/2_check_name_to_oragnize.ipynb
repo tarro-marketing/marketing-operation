{
 "cells": [
  {
   "cell_type": "markdown",
   "id": "e5279b0a",
   "metadata": {},
   "source": [
    "Combine all csv"
   ]
  },
  {
   "cell_type": "markdown",
   "id": "ca311ab0",
   "metadata": {},
   "source": [
    "check columns names in each data"
   ]
  },
  {
   "cell_type": "code",
   "execution_count": 3,
   "id": "19d78b24",
   "metadata": {},
   "outputs": [
    {
     "name": "stdout",
     "output_type": "stream",
     "text": [
      "                                        CSV File                                                                                                                                                                                                                                                                                                                                                                                   Columns\n",
      "              2024-03—Active Account_Contact.csv                                                                                                                                                                                                           [Account Name, Billing Street, Billing City, Billing Zip/Postal Code, Mailing State/Province (text only), Mailing Country (text only), Business Phone, Mobile - Primary, Email]\n",
      "2024-06—Group A: SQL_Trial (MNQ) 57075-63073.csv                                                                                                                                                               [Check Map, Check B#, Check M#, Snowball Map, Map, Group, Create Date, Last Name, Company / Account, Street, Zip/Postal Code, State/Province (text only), Mobile - Primary, Business Phone, Rejected Reason, Rejected Time]\n",
      "              2024-11—2nd DM - English_Other.csv                                                                                                [Snowball Map, Brizo ID, Language Preference, Name, Street, City/Town, Zip/Postal Code, State/Province Code, Country, Cuisines (Regional), Price Range, Opening Hours, Vitality Score, Established, Phone, Most Common Email, Density @5mi, Time Zone Name, Median Price, Full Name, Role]\n",
      "        2024-04—Group C: CW Gift_SMS (Brizo).csv                                                     [Check Map, Check B#, Check M#, Snowball Map, Group, brizo_id, Mapping, Name, First Seen, Street, City/Town, State/Province Code, Zip/Postal Code, Country, First Name, Last Name, Contact LinkedIn, Phone, Contact Count, Most Common Email, Cuisines (Regional), Price Range, Vitality Score, Reputation Score, Technology Vendors]\n",
      "                         2024-04—Lariat Test.csv                                                                                                                   [Name, First Seen, Street, City/Town, State/Province Code, Zip/Postal Code, Country, First Name, Last Name, Contact LinkedIn, Business Phone, Contact Count, Most Common Email, Cuisines (Regional), Price Range, Vitality Score, Reputation Score, Technology Vendors]\n",
      "                       2025-07—C-LaborLowGMV.csv                                                                                                                                                                                                                                         [Snowball Map, Temp_Lead Score, BRIZO_ID, NAME_ESTABLISHMENT, PHONE_ESTABLISHMENT, STREET, UNIT, CITYTOWN, ZIPCODE, STATE_CODE, COUNTRY, CUISINE]\n",
      "                         2025-01—D - English.csv                                                                                                                                               [Snowball ID, BRIZO_ID, STATUS, ESTABLISHMENT_NAME, STREET, CITY, ZIPCODE, STATE, COUNTRY, CUISINES_REGIONAL, PRICE_RANGE, VITALITY_SCORE, ESTABLISHED, ESTABLISHMENT_PHONE, EMAIL, FULL_NAME, ROLE_TITLE, Language Preference, Lead Score]\n",
      "  2024-06—Group A: SQL_Trial (Brizo) 1-28314.csv                                                                                          [Check Map, Check B#, Check M#, Snowball Map, Group, brizo_id, Mapping, Name, First Seen, Street, City/Town, State/Province Code, Zip/Postal Code, Country, First Name, Last Name, Contact LinkedIn, Phone, Phone Type, Most Common Email, Cuisines (Regional), Price Range, Technology Vendors]\n",
      "                         2024-06—Unqualified.csv                                                                                                                                       [Created Date, Lead Source, Lead Channel, Company / Account, Business Phone, Mobile - Primary, Street, Zip/Postal Code, State/Province (text only), Lead Status, Lead Owner, Unqualified Reason, Converted Date, Opportunity Name, Oppt Close Date]\n",
      "         2025-03—B - Heartfelt (22407-44812).csv                                                                                                                                       [Snowball Map, BRIZO_ID, STATUS, ESTABLISHMENT_NAME, STREET, CITY, ZIPCODE, STATE, COUNTRY, CUISINES_REGIONAL, PRICE_RANGE, VITALITY_SCORE, ESTABLISHED, ESTABLISHMENT_PHONE, EMAIL, FULL_NAME, ROLE_TITLE, Language Preference, Lead Score, Group]\n",
      "                  2025-05—Group A - High GMV.csv                                                                                                                                                                                                                [Snowball Map, Mapping, Lead Score, BRIZO_ID, NAME_ESTABLISHMENT, PHONE_ESTABLISHMENT, STREET, UNIT, CITYTOWN, ZIPCODE, STATE, COUNTRY, TIME_ZONE_NAME, CUISINES_REGIONAL]\n",
      "    2024-06—Group B: 50% (Brizo) 28315-57074.csv                                                                                          [Check Map, Check B#, Check M#, Snowball Map, Group, brizo_id, Mapping, Name, First Seen, Street, City/Town, State/Province Code, Zip/Postal Code, Country, First Name, Last Name, Contact LinkedIn, Phone, Phone Type, Most Common Email, Cuisines (Regional), Price Range, Technology Vendors]\n",
      "        2024-01—Old List - CAN (78113-81103).csv                                                                                                                                                                                  [Snowball Map, Name, CBE Contact Last Name, CBE Contact First Name, Price, Category, Phone Number, Street, City, State, Zip, CBE Location Employment Size Description, CBE Vendor Ethnicity Description]\n",
      "               2024-11—Unknown (28987-50734).csv                                                                                         [Snowball Map, Brizo ID, Language Preference, Name, Street, City/Town, Zip/Postal Code, State/Province Code, Country, Cuisines (Regional), Price Range, Opening Hours, Vitality Score, Established, Phone, Most Common Email, Density @5mi, Time Zone Name, Median Price, Full Name, Role, state]\n",
      " 2024-05—Group B: Bifold (Brizo) 28315-57074.csv                                                                                          [Check Map, Check B#, Check M#, Snowball Map, Group, brizo_id, Mapping, Name, First Seen, Street, City/Town, State/Province Code, Zip/Postal Code, Country, First Name, Last Name, Contact LinkedIn, Phone, Phone Type, Most Common Email, Cuisines (Regional), Price Range, Technology Vendors]\n",
      "               2024-02—Brizo - SQL Gift (G1).csv                                                                                                                           [Snowball Map, Dedupe Key, brizo_id, Name, Street, City/Town, State/Province Code, Zip/Postal Code, Country, First Name, Last Name, Title, Role, Contact Email, Contact Phone, Established, Phone, Most Common Email, Cuisines (Regional), Price Range, Dishes]\n",
      "          2024-09—Brizo A (Creative) 1-24229.csv                                                                                                                       [Snowball Map, Brizo ID, Name, Street, City, Zipcode, State, Cuisines (Regional), Price Range, Total Reviews, Average Review Score, Established, Vitality Score Change, Vitality Score, Full Name, Role, Phone, Email, Email Type, Email Test Result, Company Name]\n",
      "                   2024-11—Chinese (1-20118).csv                                                                                   [Snowball Map, Brizo ID, Language Preference, Name, Street, City/Town, Zip/Postal Code, State/Province Code, Country, Cuisines (Regional), Price Range, Opening Hours, Vitality Score, Established, Phone, Most Common Email, Density @5mi, Time Zone Name, Median Price, Full Name, Role, State Group]\n",
      "          2024-04—Group C: CW Gift_SMS (WLQ).csv                                                                                                                                                                         [Check Map, Check B#, Check M#, Snowball Map, Group, Create Date, Mapping, Company / Account, Street, City, Zip/Postal Code, State/Province (text only), Lead Source, Lead Channel, BusinessPhone, MobilePrimary]\n",
      "               2025-01—B - Chinese (Low GMV).csv                                                                                                                                               [Snowball ID, BRIZO_ID, STATUS, ESTABLISHMENT_NAME, STREET, CITY, ZIPCODE, STATE, COUNTRY, CUISINES_REGIONAL, PRICE_RANGE, VITALITY_SCORE, ESTABLISHED, ESTABLISHMENT_PHONE, EMAIL, FULL_NAME, ROLE_TITLE, Language Preference, Lead Score]\n",
      "         2024-01—Old List - US (59384-69820).csv                                                                                                                                         [Snowball Map, List Source, Restaurant Name, Mailing Address, City Name, State, TELEPHONENUMBER, Zip Code, Contact First Name, Contact Last Name, Employee Count Est., Small Business Entrepreneur Indicator, Year Established, Ethnic Code Desc]\n",
      "                2024-03—Group B - Trial Only.csv                                                                                                                           [Snowball Map, Dedupe Key, brizo_id, Name, Street, City/Town, State/Province Code, Zip/Postal Code, Country, First Name, Last Name, Title, Role, Contact Email, Contact Phone, Established, Phone, Most Common Email, Cuisines (Regional), Price Range, Dishes]\n",
      "                2024-12—A - Chinese _Unknown.csv                                                                                                [Snowball Map, Brizo ID, Language Preference, Name, Street, City/Town, Zip/Postal Code, State/Province Code, Country, Cuisines (Regional), Price Range, Opening Hours, Vitality Score, Established, Phone, Most Common Email, Density @5mi, Time Zone Name, Median Price, Full Name, Role]\n",
      "                             2024-07—Seattle.csv                                                                                                                                                                                                                   [Snowball Map, Name, Street, City/Town, State/Province Code, Zip/Postal Code, Phone, Cuisines (Regional), Menu Type, Agent Tier, Able to take?, Agent Tiering after NW]\n",
      "            2024-08—Brizo - A ($100) 1-18487.csv                                                                                                                       [Snowball Map, Brizo ID, Name, Street, City, Zipcode, State, Cuisines (Regional), Price Range, Total Reviews, Average Review Score, Established, Vitality Score Change, Vitality Score, Full Name, Role, Phone, Email, Email Type, Email Test Result, Company Name]\n",
      "              2025-01—A - Chinese (High GMV).csv                                                                                                                                               [Snowball ID, BRIZO_ID, STATUS, ESTABLISHMENT_NAME, STREET, CITY, ZIPCODE, STATE, COUNTRY, CUISINES_REGIONAL, PRICE_RANGE, VITALITY_SCORE, ESTABLISHED, ESTABLISHMENT_PHONE, EMAIL, FULL_NAME, ROLE_TITLE, Language Preference, Lead Score]\n",
      "        2025-04—Group A - Giftcard (1-25601).csv                                                                                                                                                                                                                                      [Snowball ID, BRIZO_ID, NAME_ESTABLISHMENT, PHONE_ESTABLISHMENT, STREET, UNIT, CITYTOWN, ZIPCODE, STATE, COUNTRY, TIME_ZONE_NAME, CUISINES_REGIONAL]\n",
      "        2024-08—Brizo - C ($300) 35527-51230.csv                                                                                                                       [Snowball Map, Brizo ID, Name, Street, City, Zipcode, State, Cuisines (Regional), Price Range, Total Reviews, Average Review Score, Established, Vitality Score Change, Vitality Score, Full Name, Role, Phone, Email, Email Type, Email Test Result, Company Name]\n",
      "              2024-02—Active Account_Contact.csv                                                                                                                                                                                                          [Restaurant ID, Account Name, Billing Street, Billing Zip/Postal Code, Mailing State/Province (text only), Mailing Country (text only), Business Phone, Mobile - Primary, Email]\n",
      "               2024-11—English (20119-28986).csv                                                                                         [Snowball Map, Brizo ID, Language Preference, Name, Street, City/Town, Zip/Postal Code, State/Province Code, Country, Cuisines (Regional), Price Range, Opening Hours, Vitality Score, Established, Phone, Most Common Email, Density @5mi, Time Zone Name, Median Price, Full Name, Role, state]\n",
      "   2024-05—Group B: Bifold (WLQ) 65404-73566.csv                                                                                                                                                                         [Check Map, Check B#, Check M#, Snowball Map, Group, Create Date, Mapping, Company / Account, Street, City, Zip/Postal Code, State/Province (text only), Lead Source, Lead Channel, BusinessPhone, MobilePrimary]\n",
      "          2024-07—Brizo A - Copy1  (1-25280).csv                                                                                                              [Snowball Map, Brizo ID, Name, Street, City, Zipcode, State, Cuisines (Regional), Price Range, Total Reviews, Average Review Score, Established, Vitality Score Change, Vitality Score, Full Name, Role, Phone, Email, Email Type, Email Test Result, Company Name, Sources]\n",
      "                 2024-10—A - Western 1-26130.csv                                                                                                             [Snowball Map, Brizo ID, Name, Street, City/Town, Zip/Postal Code, State/Province Code, Country, Cuisines (Regional), Price Range, Opening Hours, Vitality Score, Established, Status, Phone, Most Common Email, Density @5mi, Time Zone Name, Median Price, Full Name, Role]\n",
      "                    2025-07—B-RevenueHighGMV.csv                                                                                                                                                                                                                                         [Snowball Map, Temp_Lead Score, BRIZO_ID, NAME_ESTABLISHMENT, PHONE_ESTABLISHMENT, STREET, UNIT, CITYTOWN, ZIPCODE, STATE_CODE, COUNTRY, CUISINE]\n",
      "                       2025-01—C - Bilingual.csv                                                                                                                                               [Snowball ID, BRIZO_ID, STATUS, ESTABLISHMENT_NAME, STREET, CITY, ZIPCODE, STATE, COUNTRY, CUISINES_REGIONAL, PRICE_RANGE, VITALITY_SCORE, ESTABLISHED, ESTABLISHMENT_PHONE, EMAIL, FULL_NAME, ROLE_TITLE, Language Preference, Lead Score]\n",
      "                  2025-06—Group B - Japanese.csv                                                                                                                                                                                                                                                            [BRIZO_ID, NAME_ESTABLISHMENT, PHONE_ESTABLISHMENT, STREET, UNIT, CITYTOWN, ZIPCODE, STATE_CODE, COUNTRY, CUISINE, Lead Score]\n",
      "      2024-06—Group B: 50% (MNQ) 65404-69842.csv                                                                                                                                                               [Check Map, Check B#, Check M#, Snowball Map, Map, Group, Create Date, Last Name, Company / Account, Street, Zip/Postal Code, State/Province (text only), Mobile - Primary, Business Phone, Rejected Reason, Rejected Time]\n",
      "               2025-02—Drop1C - Bilingual VO.csv                                                                                                                                      [Snowball ID, BRIZO_ID, STATUS, ESTABLISHMENT_NAME, STREET, CITY, ZIPCODE, STATE, COUNTRY, CUISINES_REGIONAL, PRICE_RANGE, VITALITY_SCORE, ESTABLISHED, ESTABLISHMENT_PHONE, EMAIL, FULL_NAME, ROLE_TITLE, Language Preference, Lead Score, Version]\n",
      "                          2024-11—20k States.csv                                                                                                                                                                                                                                                                                                                                                                                      [DE]\n",
      "       2024-07—Brizo B - Copy2 (25281-51743).csv                                                                                                              [Snowball Map, Brizo ID, Name, Street, City, Zipcode, State, Cuisines (Regional), Price Range, Total Reviews, Average Review Score, Established, Vitality Score Change, Vitality Score, Full Name, Role, Phone, Email, Email Type, Email Test Result, Company Name, Sources]\n",
      "                  2024-04—Active Contact_Acc.csv                                                                                                                                                    [Account Name, Mailing Street, Billing Street, Mailing City, Billing City, Mailing Zip/Postal Code, Billing Zip/Postal Code, Mailing State/Province (text only), Mailing Country (text only), Business Phone, Mobile - Primary, Email]\n",
      "           2024-01—Brizo - CAN (69821-78112).csv                                                                                   [Snowball Map, Dedupe Key, ID, Name, Street, Business Type, Amenities, City/Town, State/Province Code, Zip/Postal Code, Country, First Name, Last Name, Title, Role, Contact Email, Contact Phone, Established, Phone, Most Common Email, Cuisines (Regional), Price Range, Dishes, Technology Vendors]\n",
      "         2024-07—MNQ A - Copy1 (51744-61388).csv [Snowball Map, State Group, datediff_queue_entered_date, datediff_rejected_date, datediff_created_date, Queue Enter Date, Rejected Time, Dead Date, Create Date, Last Name, Company / Account, Street, Zip/Postal Code, State/Province (text only), Mobile - Primary, Business Phone, Lead Owner, Assigned SDR, Lead Status, Rejected Reason, Created By, Unqualified Reason, Lead Stage]\n",
      "           2025-03—A - Credibility (1-22406).csv                                                                                                                                       [Snowball Map, BRIZO_ID, STATUS, ESTABLISHMENT_NAME, STREET, CITY, ZIPCODE, STATE, COUNTRY, CUISINES_REGIONAL, PRICE_RANGE, VITALITY_SCORE, ESTABLISHED, ESTABLISHMENT_PHONE, EMAIL, FULL_NAME, ROLE_TITLE, Language Preference, Lead Score, Group]\n",
      "                 2025-02—Drop1B - Chinese DE.csv                                                                                                                                      [Snowball ID, BRIZO_ID, STATUS, ESTABLISHMENT_NAME, STREET, CITY, ZIPCODE, STATE, COUNTRY, CUISINES_REGIONAL, PRICE_RANGE, VITALITY_SCORE, ESTABLISHED, ESTABLISHMENT_PHONE, EMAIL, FULL_NAME, ROLE_TITLE, Language Preference, Lead Score, Version]\n",
      "       2024-04—Group A: Free Trial_SMS (WLQ).csv                                                                                                                                                                         [Check Map, Check B#, Check M#, Snowball Map, Group, Create Date, Mapping, Company / Account, Street, City, Zip/Postal Code, State/Province (text only), Lead Source, Lead Channel, BusinessPhone, MobilePrimary]\n",
      "                 2025-02—Drop2A - Chinese VO.csv                                                                                                                                      [Snowball ID, BRIZO_ID, STATUS, ESTABLISHMENT_NAME, STREET, CITY, ZIPCODE, STATE, COUNTRY, CUISINES_REGIONAL, PRICE_RANGE, VITALITY_SCORE, ESTABLISHED, ESTABLISHMENT_PHONE, EMAIL, FULL_NAME, ROLE_TITLE, Language Preference, Lead Score, Version]\n",
      "               2025-02—Drop2C - Bilingual VO.csv                                                                                                                                      [Snowball ID, BRIZO_ID, STATUS, ESTABLISHMENT_NAME, STREET, CITY, ZIPCODE, STATE, COUNTRY, CUISINES_REGIONAL, PRICE_RANGE, VITALITY_SCORE, ESTABLISHED, ESTABLISHMENT_PHONE, EMAIL, FULL_NAME, ROLE_TITLE, Language Preference, Lead Score, Version]\n",
      "2024-05—Group A: Post-Card (WLQ) 57075-65403.csv                                                                                                                                                                         [Check Map, Check B#, Check M#, Snowball Map, Group, Create Date, Mapping, Company / Account, Street, City, Zip/Postal Code, State/Province (text only), Lead Source, Lead Channel, BusinessPhone, MobilePrimary]\n",
      "             2024-04—Group B: SMS Only (WLQ).csv                                                                                                                                                                         [Check Map, Check B#, Check M#, Snowball Map, Group, Create Date, Mapping, Company / Account, Street, City, Zip/Postal Code, State/Province (text only), Lead Source, Lead Channel, BusinessPhone, MobilePrimary]\n",
      "                2024-01—Brizo - US (1-56002).csv                                                                                   [Snowball Map, Dedupe Key, ID, Name, Street, Business Type, Amenities, City/Town, State/Province Code, Zip/Postal Code, Country, First Name, Last Name, Title, Role, Contact Email, Contact Phone, Established, Phone, Most Common Email, Cuisines (Regional), Price Range, Dishes, Technology Vendors]\n",
      "               2025-02—Drop1D - Bilingual DE.csv                                                                                                                                      [Snowball ID, BRIZO_ID, STATUS, ESTABLISHMENT_NAME, STREET, CITY, ZIPCODE, STATE, COUNTRY, CUISINES_REGIONAL, PRICE_RANGE, VITALITY_SCORE, ESTABLISHED, ESTABLISHMENT_PHONE, EMAIL, FULL_NAME, ROLE_TITLE, Language Preference, Lead Score, Version]\n",
      "           2024-04—Group B: SMS Only (Brizo).csv                                                           [Check Map, Check B#, Check M#, Snowball Map, Group, ID, Mapping, Name, First Seen, Street, City/Town, State/Province Code, Zip/Postal Code, Country, First Name, Last Name, Contact LinkedIn, Phone, Contact Count, Most Common Email, Cuisines (Regional), Price Range, Vitality Score, Reputation Score, Technology Vendors]\n",
      "        2024-08—Brizo - B ($200) 18488-35526.csv                                                                                                                       [Snowball Map, Brizo ID, Name, Street, City, Zipcode, State, Cuisines (Regional), Price Range, Total Reviews, Average Review Score, Established, Vitality Score Change, Vitality Score, Full Name, Role, Phone, Email, Email Type, Email Test Result, Company Name]\n",
      "     2024-04—Group A: Free Trial_SMS (Brizo).csv                                                           [Check Map, Check B#, Check M#, Snowball Map, Group, ID, Mapping, Name, First Seen, Street, City/Town, State/Province Code, Zip/Postal Code, Country, First Name, Last Name, Contact LinkedIn, Phone, Contact Count, Most Common Email, Cuisines (Regional), Price Range, Vitality Score, Reputation Score, Technology Vendors]\n",
      "               2025-02—Drop2D - Bilingual DE.csv                                                                                                                                      [Snowball ID, BRIZO_ID, STATUS, ESTABLISHMENT_NAME, STREET, CITY, ZIPCODE, STATE, COUNTRY, CUISINES_REGIONAL, PRICE_RANGE, VITALITY_SCORE, ESTABLISHED, ESTABLISHMENT_PHONE, EMAIL, FULL_NAME, ROLE_TITLE, Language Preference, Lead Score, Version]\n",
      "                         2024-05—Unqualified.csv                                                                                                                                                     [Created Date, Lead Source, Company / Account, Business Phone, Mobile - Primary, Street, Zip/Postal Code, State/Province (text only), Lead Status, Lead Owner, Unqualified Reason, Converted Date, Opportunity Name, Oppt Close Date]\n",
      "         2024-07—MNQ B - Copy2 (61389-71951).csv [Snowball Map, State Group, datediff_queue_entered_date, datediff_rejected_date, datediff_created_date, Queue Enter Date, Rejected Time, Dead Date, Create Date, Last Name, Company / Account, Street, Zip/Postal Code, State/Province (text only), Mobile - Primary, Business Phone, Lead Owner, Assigned SDR, Lead Status, Rejected Reason, Created By, Unqualified Reason, Lead Stage]\n",
      "      2024-01—Print Shop - CAN (81104-81183).csv                                                                                                                                                                        [Snowball Map, Restaurant Name, Address, City, Zipcode, State, Country, Cuisine Type, Phone Number(s), Phone Number(s)1, Phone Number(s)2, Phone Number(s)3, Phone Number(s)4, Phone Number(s)5, Phone Number(s)6]\n",
      "                  2024-06—Active Contact_Acc.csv                                                                                                                                                                                                                                     [Restaurant ID, Account Name, Account: Business Phone, Mobile - Primary, Billing Street, Billing Zip/Postal Code, Billing State/Province (text only)]\n",
      "                    2024-11—2nd DM - Chinese.csv                                                                                                [Snowball Map, Brizo ID, Language Preference, Name, Street, City/Town, Zip/Postal Code, State/Province Code, Country, Cuisines (Regional), Price Range, Opening Hours, Vitality Score, Established, Phone, Most Common Email, Density @5mi, Time Zone Name, Median Price, Full Name, Role]\n",
      "             2024-10—B - Chinese 26131-51680.csv                                                                                                             [Snowball Map, Brizo ID, Name, Street, City/Town, Zip/Postal Code, State/Province Code, Country, Cuisines (Regional), Price Range, Opening Hours, Vitality Score, Established, Status, Phone, Most Common Email, Density @5mi, Time Zone Name, Median Price, Full Name, Role]\n",
      "                   2025-06—Group A - Chinese.csv                                                                                                                                                                                                                                                            [BRIZO_ID, NAME_ESTABLISHMENT, PHONE_ESTABLISHMENT, STREET, UNIT, CITYTOWN, ZIPCODE, STATE_CODE, COUNTRY, CUISINE, Lead Score]\n",
      "                         2024-12—B - English.csv                                                                                                [Snowball Map, Brizo ID, Language Preference, Name, Street, City/Town, Zip/Postal Code, State/Province Code, Country, Cuisines (Regional), Price Range, Opening Hours, Vitality Score, Established, Phone, Most Common Email, Density @5mi, Time Zone Name, Median Price, Full Name, Role]\n",
      "                      2025-07—A-LaborHighGMV.csv                                                                                                                                                                                                                                         [Snowball Map, Temp_Lead Score, BRIZO_ID, NAME_ESTABLISHMENT, PHONE_ESTABLISHMENT, STREET, UNIT, CITYTOWN, ZIPCODE, STATE_CODE, COUNTRY, CUISINE]\n",
      "     2024-09—Brizo B (Evergreen) 24230-49312.csv                                                                                                                       [Snowball Map, Brizo ID, Name, Street, City, Zipcode, State, Cuisines (Regional), Price Range, Total Reviews, Average Review Score, Established, Vitality Score Change, Vitality Score, Full Name, Role, Phone, Email, Email Type, Email Test Result, Company Name]\n",
      "  2024-05—Group A: Post-Card (Brizo) 1-28314.csv                                                                                                         [Check Map, Check B#, Check M#,    , Group, ID, Mapping, Name, First Seen, Street, City/Town, State/Province Code, Zip/Postal Code, Country, First Name, Last Name, Contact LinkedIn, Phone, Phone Type, Most Common Email, Cuisines (Regional), Price Range, Technology Vendors]\n",
      "                2024-02—Brizo - CW Gift (G2).csv                                                                                                                                 [Snowball Map, Dedupe Key, ID, Name, Street, City/Town, State/Province Code, Zip/Postal Code, Country, First Name, Last Name, Title, Role, Contact Email, Contact Phone, Established, Phone, Most Common Email, Cuisines (Regional), Price Range, Dishes]\n",
      "                        2024-01—E.C. Mapping.csv                                                                                                                                                                                                                      [EXNAME, ENNAME, ADDRESS1, STATE, FORWARDEDPHONE, CONTACTPHONE2, BUSINESS_PHONE__C, STATUS, Found in List (Y/N), Matching Address?, Updated Address, Business Phone]\n",
      "                         2024-04—Unqualified.csv                                                                                                                                  [Created Date, Lead Source, Mobile - Primary, Business Phone, Street, Zip/Postal Code, State/Province (text only), Company / Account, Lead Status, Lead Owner, Unqualified Reason, Converted Date, Opportunity Name, Oppt Close Date, Oppt Close Date.1]\n",
      "        2024-03—Group C - SQL Gift and Trial.csv                                                                                                                                 [Snowball Map, Dedupe Key, ID, Name, Street, City/Town, State/Province Code, Zip/Postal Code, Country, First Name, Last Name, Title, Role, Contact Email, Contact Phone, Established, Phone, Most Common Email, Cuisines (Regional), Price Range, Dishes]\n",
      "                   2025-05—Group B - Low GMV.csv                                                                                                                                                                                                                [Snowball Map, Mapping, Lead Score, BRIZO_ID, NAME_ESTABLISHMENT, PHONE_ESTABLISHMENT, STREET, UNIT, CITYTOWN, ZIPCODE, STATE, COUNTRY, TIME_ZONE_NAME, CUISINES_REGIONAL]\n",
      "                2024-02—Brizo - No Promo(G3).csv                                                                                                                                 [Snowball Map, Dedupe Key, ID, Name, Street, City/Town, State/Province Code, Zip/Postal Code, Country, First Name, Last Name, Title, Role, Contact Email, Contact Phone, Established, Phone, Most Common Email, Cuisines (Regional), Price Range, Dishes]\n",
      "         2024-03—Group A - SQL Gift_No Trial.csv                                                                                                                                 [Snowball Map, Dedupe Key, ID, Name, Street, City/Town, State/Province Code, Zip/Postal Code, Country, First Name, Last Name, Title, Role, Contact Email, Contact Phone, Established, Phone, Most Common Email, Cuisines (Regional), Price Range, Dishes]\n",
      "                     2025-07—D-RevenueLowGMV.csv                                                                                                                                                                                                                                         [Snowball Map, Temp_Lead Score, BRIZO_ID, NAME_ESTABLISHMENT, PHONE_ESTABLISHMENT, STREET, UNIT, CITYTOWN, ZIPCODE, STATE_CODE, COUNTRY, CUISINE]\n",
      "2025-04—Group B - Air Purifier (25602-51230).csv                                                                                                                                                                                                                                      [Snowball ID, BRIZO_ID, NAME_ESTABLISHMENT, PHONE_ESTABLISHMENT, STREET, UNIT, CITYTOWN, ZIPCODE, STATE, COUNTRY, TIME_ZONE_NAME, CUISINES_REGIONAL]\n",
      "                  2024-05—Active Contact_Acc.csv                                                                                                                                                                                                                                     [Restaurant ID, Account Name, Account: Business Phone, Mobile - Primary, Billing Street, Billing Zip/Postal Code, Billing State/Province (text only)]\n",
      "                 2025-02—Drop1A - Chinese VO.csv                                                                                                                                      [Snowball ID, BRIZO_ID, STATUS, ESTABLISHMENT_NAME, STREET, CITY, ZIPCODE, STATE, COUNTRY, CUISINES_REGIONAL, PRICE_RANGE, VITALITY_SCORE, ESTABLISHED, ESTABLISHMENT_PHONE, EMAIL, FULL_NAME, ROLE_TITLE, Language Preference, Lead Score, Version]\n",
      "                 2025-02—Drop2B - Chinese DE.csv                                                                                                                                      [Snowball ID, BRIZO_ID, STATUS, ESTABLISHMENT_NAME, STREET, CITY, ZIPCODE, STATE, COUNTRY, CUISINES_REGIONAL, PRICE_RANGE, VITALITY_SCORE, ESTABLISHED, ESTABLISHMENT_PHONE, EMAIL, FULL_NAME, ROLE_TITLE, Language Preference, Lead Score, Version]\n",
      "                    2025-06—Brizo Full List .csv                                                                                                                                                                                                                 [URL ID, BRIZO_ID, NAME_ESTABLISHMENT, PHONE_ESTABLISHMENT, STREET, UNIT, CITYTOWN, ZIPCODE, STATE_CODE, COUNTRY, CUISINE, Lead Score, 50 Char?, Cuisine Filtered, Group]\n",
      "       2024-01—Print Shop - US (56003-59383).csv                                                                                                                                          [Snowball Map, Dedupe Key, Restaurant Name, Address, City, Zipcode, State, Country, Cuisine Type, Phone Number(s), Phone Number(s)1, Phone Number(s)2, Phone Number(s)3, Phone Number(s)4, Phone Number(s)5, Phone Number(s)6, Phone Number(s)7]\n"
     ]
    }
   ],
   "source": [
    "import os\n",
    "import pandas as pd\n",
    "\n",
    "# 1) Point this at your export directory\n",
    "folder = \"/Users/yukachen/marketing-operation/campaign_touch_points/list_exports\"\n",
    "\n",
    "# 2) Find all CSV files\n",
    "csv_files = [\n",
    "    f for f in os.listdir(folder)\n",
    "    if f.lower().endswith(\".csv\")\n",
    "]\n",
    "\n",
    "# 3) Collect headers\n",
    "records = []\n",
    "for fname in csv_files:\n",
    "    path = os.path.join(folder, fname)\n",
    "    # read only the header row\n",
    "    df = pd.read_csv(path, nrows=0)\n",
    "    # record the file name + list of columns\n",
    "    records.append({\n",
    "        \"CSV File\": fname,\n",
    "        \"Columns\": list(df.columns)\n",
    "    })\n",
    "\n",
    "# 4) Build a DataFrame\n",
    "summary = pd.DataFrame(records)\n",
    "\n",
    "# 5) (Optional) pretty‐print in console\n",
    "print(summary.to_string(index=False))\n",
    "\n",
    "# 6) (Optional) write out to a new CSV\n",
    "summary.to_csv(\"data/csv_columns_summary.csv\", index=False)"
   ]
  },
  {
   "cell_type": "markdown",
   "id": "3511f63b",
   "metadata": {},
   "source": [
    "rename ID in any files that contains ID to brizo_id"
   ]
  },
  {
   "cell_type": "code",
   "execution_count": 4,
   "id": "da061554",
   "metadata": {},
   "outputs": [
    {
     "name": "stdout",
     "output_type": "stream",
     "text": [
      "– no ID column in 2024-03—Active Account_Contact.csv\n",
      "– no ID column in 2024-06—Group A: SQL_Trial (MNQ) 57075-63073.csv\n",
      "– no ID column in 2024-11—2nd DM - English_Other.csv\n",
      "– no ID column in 2024-04—Group C: CW Gift_SMS (Brizo).csv\n",
      "– no ID column in 2024-04—Lariat Test.csv\n",
      "– no ID column in 2025-07—C-LaborLowGMV.csv\n",
      "– no ID column in 2025-01—D - English.csv\n",
      "– no ID column in 2024-06—Group A: SQL_Trial (Brizo) 1-28314.csv\n",
      "– no ID column in 2024-06—Unqualified.csv\n",
      "– no ID column in 2025-03—B - Heartfelt (22407-44812).csv\n",
      "– no ID column in 2025-05—Group A - High GMV.csv\n",
      "– no ID column in 2024-06—Group B: 50% (Brizo) 28315-57074.csv\n",
      "– no ID column in 2024-01—Old List - CAN (78113-81103).csv\n",
      "– no ID column in 2024-11—Unknown (28987-50734).csv\n",
      "– no ID column in 2024-05—Group B: Bifold (Brizo) 28315-57074.csv\n",
      "– no ID column in 2024-02—Brizo - SQL Gift (G1).csv\n",
      "– no ID column in 2024-09—Brizo A (Creative) 1-24229.csv\n",
      "– no ID column in 2024-11—Chinese (1-20118).csv\n",
      "– no ID column in 2024-04—Group C: CW Gift_SMS (WLQ).csv\n",
      "– no ID column in 2025-01—B - Chinese (Low GMV).csv\n",
      "– no ID column in 2024-01—Old List - US (59384-69820).csv\n",
      "– no ID column in 2024-03—Group B - Trial Only.csv\n"
     ]
    },
    {
     "name": "stderr",
     "output_type": "stream",
     "text": [
      "/var/folders/8c/z2jj76jx2wq4dxt7jlmgxknm0000gn/T/ipykernel_310/125773995.py:11: DtypeWarning: Columns (18) have mixed types. Specify dtype option on import or set low_memory=False.\n",
      "  df = pd.read_csv(path)\n"
     ]
    },
    {
     "name": "stdout",
     "output_type": "stream",
     "text": [
      "– no ID column in 2024-12—A - Chinese _Unknown.csv\n",
      "– no ID column in 2024-07—Seattle.csv\n",
      "– no ID column in 2024-08—Brizo - A ($100) 1-18487.csv\n",
      "– no ID column in 2025-01—A - Chinese (High GMV).csv\n",
      "– no ID column in 2025-04—Group A - Giftcard (1-25601).csv\n",
      "– no ID column in 2024-08—Brizo - C ($300) 35527-51230.csv\n",
      "– no ID column in 2024-02—Active Account_Contact.csv\n",
      "– no ID column in 2024-11—English (20119-28986).csv\n",
      "– no ID column in 2024-05—Group B: Bifold (WLQ) 65404-73566.csv\n",
      "– no ID column in 2024-07—Brizo A - Copy1  (1-25280).csv\n",
      "– no ID column in 2024-10—A - Western 1-26130.csv\n",
      "– no ID column in 2025-07—B-RevenueHighGMV.csv\n",
      "– no ID column in 2025-01—C - Bilingual.csv\n",
      "– no ID column in 2025-06—Group B - Japanese.csv\n",
      "– no ID column in 2024-06—Group B: 50% (MNQ) 65404-69842.csv\n",
      "– no ID column in 2025-02—Drop1C - Bilingual VO.csv\n",
      "– no ID column in 2024-11—20k States.csv\n",
      "– no ID column in 2024-07—Brizo B - Copy2 (25281-51743).csv\n",
      "– no ID column in 2024-04—Active Contact_Acc.csv\n",
      "✅ Renamed in 2024-01—Brizo - CAN (69821-78112).csv\n",
      "– no ID column in 2024-07—MNQ A - Copy1 (51744-61388).csv\n",
      "– no ID column in 2025-03—A - Credibility (1-22406).csv\n",
      "– no ID column in 2025-02—Drop1B - Chinese DE.csv\n",
      "– no ID column in 2024-04—Group A: Free Trial_SMS (WLQ).csv\n",
      "– no ID column in 2025-02—Drop2A - Chinese VO.csv\n",
      "– no ID column in 2025-02—Drop2C - Bilingual VO.csv\n",
      "– no ID column in 2024-05—Group A: Post-Card (WLQ) 57075-65403.csv\n",
      "– no ID column in 2024-04—Group B: SMS Only (WLQ).csv\n",
      "✅ Renamed in 2024-01—Brizo - US (1-56002).csv\n",
      "– no ID column in 2025-02—Drop1D - Bilingual DE.csv\n",
      "✅ Renamed in 2024-04—Group B: SMS Only (Brizo).csv\n",
      "– no ID column in 2024-08—Brizo - B ($200) 18488-35526.csv\n",
      "✅ Renamed in 2024-04—Group A: Free Trial_SMS (Brizo).csv\n",
      "– no ID column in 2025-02—Drop2D - Bilingual DE.csv\n",
      "– no ID column in 2024-05—Unqualified.csv\n",
      "– no ID column in 2024-07—MNQ B - Copy2 (61389-71951).csv\n",
      "– no ID column in 2024-01—Print Shop - CAN (81104-81183).csv\n",
      "– no ID column in 2024-06—Active Contact_Acc.csv\n",
      "– no ID column in 2024-11—2nd DM - Chinese.csv\n",
      "– no ID column in 2024-10—B - Chinese 26131-51680.csv\n",
      "– no ID column in 2025-06—Group A - Chinese.csv\n",
      "– no ID column in 2024-12—B - English.csv\n",
      "– no ID column in 2025-07—A-LaborHighGMV.csv\n",
      "– no ID column in 2024-09—Brizo B (Evergreen) 24230-49312.csv\n",
      "✅ Renamed in 2024-05—Group A: Post-Card (Brizo) 1-28314.csv\n",
      "✅ Renamed in 2024-02—Brizo - CW Gift (G2).csv\n",
      "– no ID column in 2024-01—E.C. Mapping.csv\n",
      "– no ID column in 2024-04—Unqualified.csv\n",
      "✅ Renamed in 2024-03—Group C - SQL Gift and Trial.csv\n",
      "– no ID column in 2025-05—Group B - Low GMV.csv\n",
      "✅ Renamed in 2024-02—Brizo - No Promo(G3).csv\n",
      "✅ Renamed in 2024-03—Group A - SQL Gift_No Trial.csv\n",
      "– no ID column in 2025-07—D-RevenueLowGMV.csv\n",
      "– no ID column in 2025-04—Group B - Air Purifier (25602-51230).csv\n",
      "– no ID column in 2024-05—Active Contact_Acc.csv\n",
      "– no ID column in 2025-02—Drop1A - Chinese VO.csv\n",
      "– no ID column in 2025-02—Drop2B - Chinese DE.csv\n",
      "– no ID column in 2025-06—Brizo Full List .csv\n",
      "– no ID column in 2024-01—Print Shop - US (56003-59383).csv\n"
     ]
    }
   ],
   "source": [
    "import os\n",
    "import pandas as pd\n",
    "\n",
    "# 1) Point this at your real export directory on your machine:\n",
    "folder = '/Users/yukachen/marketing-operation/campaign_touch_points/list_exports'\n",
    "\n",
    "# 2) Loop through every CSV, rename ID→brizo_id, and save\n",
    "for filename in os.listdir(folder):\n",
    "    if filename.lower().endswith('.csv'):\n",
    "        path = os.path.join(folder, filename)\n",
    "        df = pd.read_csv(path)\n",
    "        if 'ID' in df.columns:\n",
    "            df = df.rename(columns={'ID': 'brizo_id'})\n",
    "            df.to_csv(path, index=False)\n",
    "            print(f\"✅ Renamed in {filename}\")\n",
    "        else:\n",
    "            print(f\"– no ID column in {filename}\")"
   ]
  },
  {
   "cell_type": "markdown",
   "id": "dcd80cdb",
   "metadata": {},
   "source": [
    "check if the names have sucessfully renamed"
   ]
  },
  {
   "cell_type": "code",
   "execution_count": 5,
   "id": "3890af98",
   "metadata": {},
   "outputs": [
    {
     "data": {
      "application/vnd.microsoft.datawrangler.viewer.v0+json": {
       "columns": [
        {
         "name": "index",
         "rawType": "int64",
         "type": "integer"
        },
        {
         "name": "CSV File",
         "rawType": "object",
         "type": "string"
        },
        {
         "name": "Columns",
         "rawType": "object",
         "type": "unknown"
        }
       ],
       "ref": "3aca4c07-a29f-4b32-9a88-6d441f05a741",
       "rows": [
        [
         "0",
         "2024-03—Active Account_Contact.csv",
         "['Account Name', 'Billing Street', 'Billing City', 'Billing Zip/Postal Code', 'Mailing State/Province (text only)', 'Mailing Country (text only)', 'Business Phone', 'Mobile - Primary', 'Email']"
        ],
        [
         "1",
         "2024-06—Group A: SQL_Trial (MNQ) 57075-63073.csv",
         "['Check Map', 'Check B#', 'Check M#', 'Snowball Map', 'Map', 'Group', 'Create Date', 'Last Name', 'Company / Account', 'Street', 'Zip/Postal Code', 'State/Province (text only)', 'Mobile - Primary', 'Business Phone', 'Rejected Reason', 'Rejected Time']"
        ],
        [
         "2",
         "2024-11—2nd DM - English_Other.csv",
         "['Snowball Map', 'Brizo ID', 'Language Preference', 'Name', 'Street', 'City/Town', 'Zip/Postal Code', 'State/Province Code', 'Country', 'Cuisines (Regional)', 'Price Range', 'Opening Hours', 'Vitality Score', 'Established', 'Phone', 'Most Common Email', 'Density @5mi', 'Time Zone Name', 'Median Price', 'Full Name', 'Role']"
        ],
        [
         "3",
         "2024-04—Group C: CW Gift_SMS (Brizo).csv",
         "['Check Map', 'Check B#', 'Check M#', 'Snowball Map', 'Group', 'brizo_id', 'Mapping', 'Name', 'First Seen', 'Street', 'City/Town', 'State/Province Code', 'Zip/Postal Code', 'Country', 'First Name', 'Last Name', 'Contact LinkedIn', 'Phone', 'Contact Count', 'Most Common Email', 'Cuisines (Regional)', 'Price Range', 'Vitality Score', 'Reputation Score', 'Technology Vendors']"
        ],
        [
         "4",
         "2024-04—Lariat Test.csv",
         "['Name', 'First Seen', 'Street', 'City/Town', 'State/Province Code', 'Zip/Postal Code', 'Country', 'First Name', 'Last Name', 'Contact LinkedIn', 'Business Phone', 'Contact Count', 'Most Common Email', 'Cuisines (Regional)', 'Price Range', 'Vitality Score', 'Reputation Score', 'Technology Vendors']"
        ],
        [
         "5",
         "2025-07—C-LaborLowGMV.csv",
         "['Snowball Map', 'Temp_Lead Score', 'BRIZO_ID', 'NAME_ESTABLISHMENT', 'PHONE_ESTABLISHMENT', 'STREET', 'UNIT', 'CITYTOWN', 'ZIPCODE', 'STATE_CODE', 'COUNTRY', 'CUISINE']"
        ],
        [
         "6",
         "2025-01—D - English.csv",
         "['Snowball ID', 'BRIZO_ID', 'STATUS', 'ESTABLISHMENT_NAME', 'STREET', 'CITY', 'ZIPCODE', 'STATE', 'COUNTRY', 'CUISINES_REGIONAL', 'PRICE_RANGE', 'VITALITY_SCORE', 'ESTABLISHED', 'ESTABLISHMENT_PHONE', 'EMAIL', 'FULL_NAME', 'ROLE_TITLE', 'Language Preference', 'Lead Score']"
        ],
        [
         "7",
         "2024-06—Group A: SQL_Trial (Brizo) 1-28314.csv",
         "['Check Map', 'Check B#', 'Check M#', 'Snowball Map', 'Group', 'brizo_id', 'Mapping', 'Name', 'First Seen', 'Street', 'City/Town', 'State/Province Code', 'Zip/Postal Code', 'Country', 'First Name', 'Last Name', 'Contact LinkedIn', 'Phone', 'Phone Type', 'Most Common Email', 'Cuisines (Regional)', 'Price Range', 'Technology Vendors']"
        ],
        [
         "8",
         "2024-06—Unqualified.csv",
         "['Created Date', 'Lead Source', 'Lead Channel', 'Company / Account', 'Business Phone', 'Mobile - Primary', 'Street', 'Zip/Postal Code', 'State/Province (text only)', 'Lead Status', 'Lead Owner', 'Unqualified Reason', 'Converted Date', 'Opportunity Name', 'Oppt Close Date']"
        ],
        [
         "9",
         "2025-03—B - Heartfelt (22407-44812).csv",
         "['Snowball Map', 'BRIZO_ID', 'STATUS', 'ESTABLISHMENT_NAME', 'STREET', 'CITY', 'ZIPCODE', 'STATE', 'COUNTRY', 'CUISINES_REGIONAL', 'PRICE_RANGE', 'VITALITY_SCORE', 'ESTABLISHED', 'ESTABLISHMENT_PHONE', 'EMAIL', 'FULL_NAME', 'ROLE_TITLE', 'Language Preference', 'Lead Score', 'Group']"
        ],
        [
         "10",
         "2025-05—Group A - High GMV.csv",
         "['Snowball Map', 'Mapping', 'Lead Score', 'BRIZO_ID', 'NAME_ESTABLISHMENT', 'PHONE_ESTABLISHMENT', 'STREET', 'UNIT', 'CITYTOWN', 'ZIPCODE', 'STATE', 'COUNTRY', 'TIME_ZONE_NAME', 'CUISINES_REGIONAL']"
        ],
        [
         "11",
         "2024-06—Group B: 50% (Brizo) 28315-57074.csv",
         "['Check Map', 'Check B#', 'Check M#', 'Snowball Map', 'Group', 'brizo_id', 'Mapping', 'Name', 'First Seen', 'Street', 'City/Town', 'State/Province Code', 'Zip/Postal Code', 'Country', 'First Name', 'Last Name', 'Contact LinkedIn', 'Phone', 'Phone Type', 'Most Common Email', 'Cuisines (Regional)', 'Price Range', 'Technology Vendors']"
        ],
        [
         "12",
         "2024-01—Old List - CAN (78113-81103).csv",
         "['Snowball Map', 'Name', 'CBE Contact Last Name', 'CBE Contact First Name', 'Price', 'Category', 'Phone Number', 'Street', 'City', 'State', 'Zip', 'CBE Location Employment Size Description', 'CBE Vendor Ethnicity Description']"
        ],
        [
         "13",
         "2024-11—Unknown (28987-50734).csv",
         "['Snowball Map', 'Brizo ID', 'Language Preference', 'Name', 'Street', 'City/Town', 'Zip/Postal Code', 'State/Province Code', 'Country', 'Cuisines (Regional)', 'Price Range', 'Opening Hours', 'Vitality Score', 'Established', 'Phone', 'Most Common Email', 'Density @5mi', 'Time Zone Name', 'Median Price', 'Full Name', 'Role', 'state']"
        ],
        [
         "14",
         "2024-05—Group B: Bifold (Brizo) 28315-57074.csv",
         "['Check Map', 'Check B#', 'Check M#', 'Snowball Map', 'Group', 'brizo_id', 'Mapping', 'Name', 'First Seen', 'Street', 'City/Town', 'State/Province Code', 'Zip/Postal Code', 'Country', 'First Name', 'Last Name', 'Contact LinkedIn', 'Phone', 'Phone Type', 'Most Common Email', 'Cuisines (Regional)', 'Price Range', 'Technology Vendors']"
        ],
        [
         "15",
         "2024-02—Brizo - SQL Gift (G1).csv",
         "['Snowball Map', 'Dedupe Key', 'brizo_id', 'Name', 'Street', 'City/Town', 'State/Province Code', 'Zip/Postal Code', 'Country', 'First Name', 'Last Name', 'Title', 'Role', 'Contact Email', 'Contact Phone', 'Established', 'Phone', 'Most Common Email', 'Cuisines (Regional)', 'Price Range', 'Dishes']"
        ],
        [
         "16",
         "2024-09—Brizo A (Creative) 1-24229.csv",
         "['Snowball Map', 'Brizo ID', 'Name', 'Street', 'City', 'Zipcode', 'State', 'Cuisines (Regional)', 'Price Range', 'Total Reviews', 'Average Review Score', 'Established', 'Vitality Score Change', 'Vitality Score', 'Full Name', 'Role', 'Phone', 'Email', 'Email Type', 'Email Test Result', 'Company Name']"
        ],
        [
         "17",
         "2024-11—Chinese (1-20118).csv",
         "['Snowball Map', 'Brizo ID', 'Language Preference', 'Name', 'Street', 'City/Town', 'Zip/Postal Code', 'State/Province Code', 'Country', 'Cuisines (Regional)', 'Price Range', 'Opening Hours', 'Vitality Score', 'Established', 'Phone', 'Most Common Email', 'Density @5mi', 'Time Zone Name', 'Median Price', 'Full Name', 'Role', 'State Group']"
        ],
        [
         "18",
         "2024-04—Group C: CW Gift_SMS (WLQ).csv",
         "['Check Map', 'Check B#', 'Check M#', 'Snowball Map', 'Group', 'Create Date', 'Mapping', 'Company / Account', 'Street', 'City', 'Zip/Postal Code', 'State/Province (text only)', 'Lead Source', 'Lead Channel', 'BusinessPhone', 'MobilePrimary']"
        ],
        [
         "19",
         "2025-01—B - Chinese (Low GMV).csv",
         "['Snowball ID', 'BRIZO_ID', 'STATUS', 'ESTABLISHMENT_NAME', 'STREET', 'CITY', 'ZIPCODE', 'STATE', 'COUNTRY', 'CUISINES_REGIONAL', 'PRICE_RANGE', 'VITALITY_SCORE', 'ESTABLISHED', 'ESTABLISHMENT_PHONE', 'EMAIL', 'FULL_NAME', 'ROLE_TITLE', 'Language Preference', 'Lead Score']"
        ],
        [
         "20",
         "2024-01—Old List - US (59384-69820).csv",
         "['Snowball Map', 'List Source', 'Restaurant Name', 'Mailing Address', 'City Name', 'State', 'TELEPHONENUMBER', 'Zip Code', 'Contact First Name', 'Contact Last Name', 'Employee Count Est.', 'Small Business Entrepreneur Indicator', 'Year Established', 'Ethnic Code Desc']"
        ],
        [
         "21",
         "2024-03—Group B - Trial Only.csv",
         "['Snowball Map', 'Dedupe Key', 'brizo_id', 'Name', 'Street', 'City/Town', 'State/Province Code', 'Zip/Postal Code', 'Country', 'First Name', 'Last Name', 'Title', 'Role', 'Contact Email', 'Contact Phone', 'Established', 'Phone', 'Most Common Email', 'Cuisines (Regional)', 'Price Range', 'Dishes']"
        ],
        [
         "22",
         "2024-12—A - Chinese _Unknown.csv",
         "['Snowball Map', 'Brizo ID', 'Language Preference', 'Name', 'Street', 'City/Town', 'Zip/Postal Code', 'State/Province Code', 'Country', 'Cuisines (Regional)', 'Price Range', 'Opening Hours', 'Vitality Score', 'Established', 'Phone', 'Most Common Email', 'Density @5mi', 'Time Zone Name', 'Median Price', 'Full Name', 'Role']"
        ],
        [
         "23",
         "2024-07—Seattle.csv",
         "['Snowball Map', 'Name', 'Street', 'City/Town', 'State/Province Code', 'Zip/Postal Code', 'Phone', 'Cuisines (Regional)', 'Menu Type', 'Agent Tier', 'Able to take?', 'Agent Tiering after NW']"
        ],
        [
         "24",
         "2024-08—Brizo - A ($100) 1-18487.csv",
         "['Snowball Map', 'Brizo ID', 'Name', 'Street', 'City', 'Zipcode', 'State', 'Cuisines (Regional)', 'Price Range', 'Total Reviews', 'Average Review Score', 'Established', 'Vitality Score Change', 'Vitality Score', 'Full Name', 'Role', 'Phone', 'Email', 'Email Type', 'Email Test Result', 'Company Name']"
        ],
        [
         "25",
         "2025-01—A - Chinese (High GMV).csv",
         "['Snowball ID', 'BRIZO_ID', 'STATUS', 'ESTABLISHMENT_NAME', 'STREET', 'CITY', 'ZIPCODE', 'STATE', 'COUNTRY', 'CUISINES_REGIONAL', 'PRICE_RANGE', 'VITALITY_SCORE', 'ESTABLISHED', 'ESTABLISHMENT_PHONE', 'EMAIL', 'FULL_NAME', 'ROLE_TITLE', 'Language Preference', 'Lead Score']"
        ],
        [
         "26",
         "2025-04—Group A - Giftcard (1-25601).csv",
         "['Snowball ID', 'BRIZO_ID', 'NAME_ESTABLISHMENT', 'PHONE_ESTABLISHMENT', 'STREET', 'UNIT', 'CITYTOWN', 'ZIPCODE', 'STATE', 'COUNTRY', 'TIME_ZONE_NAME', 'CUISINES_REGIONAL']"
        ],
        [
         "27",
         "2024-08—Brizo - C ($300) 35527-51230.csv",
         "['Snowball Map', 'Brizo ID', 'Name', 'Street', 'City', 'Zipcode', 'State', 'Cuisines (Regional)', 'Price Range', 'Total Reviews', 'Average Review Score', 'Established', 'Vitality Score Change', 'Vitality Score', 'Full Name', 'Role', 'Phone', 'Email', 'Email Type', 'Email Test Result', 'Company Name']"
        ],
        [
         "28",
         "2024-02—Active Account_Contact.csv",
         "['Restaurant ID', 'Account Name', 'Billing Street', 'Billing Zip/Postal Code', 'Mailing State/Province (text only)', 'Mailing Country (text only)', 'Business Phone', 'Mobile - Primary', 'Email']"
        ],
        [
         "29",
         "2024-11—English (20119-28986).csv",
         "['Snowball Map', 'Brizo ID', 'Language Preference', 'Name', 'Street', 'City/Town', 'Zip/Postal Code', 'State/Province Code', 'Country', 'Cuisines (Regional)', 'Price Range', 'Opening Hours', 'Vitality Score', 'Established', 'Phone', 'Most Common Email', 'Density @5mi', 'Time Zone Name', 'Median Price', 'Full Name', 'Role', 'state']"
        ],
        [
         "30",
         "2024-05—Group B: Bifold (WLQ) 65404-73566.csv",
         "['Check Map', 'Check B#', 'Check M#', 'Snowball Map', 'Group', 'Create Date', 'Mapping', 'Company / Account', 'Street', 'City', 'Zip/Postal Code', 'State/Province (text only)', 'Lead Source', 'Lead Channel', 'BusinessPhone', 'MobilePrimary']"
        ],
        [
         "31",
         "2024-07—Brizo A - Copy1  (1-25280).csv",
         "['Snowball Map', 'Brizo ID', 'Name', 'Street', 'City', 'Zipcode', 'State', 'Cuisines (Regional)', 'Price Range', 'Total Reviews', 'Average Review Score', 'Established', 'Vitality Score Change', 'Vitality Score', 'Full Name', 'Role', 'Phone', 'Email', 'Email Type', 'Email Test Result', 'Company Name', 'Sources']"
        ],
        [
         "32",
         "2024-10—A - Western 1-26130.csv",
         "['Snowball Map', 'Brizo ID', 'Name', 'Street', 'City/Town', 'Zip/Postal Code', 'State/Province Code', 'Country', 'Cuisines (Regional)', 'Price Range', 'Opening Hours', 'Vitality Score', 'Established', 'Status', 'Phone', 'Most Common Email', 'Density @5mi', 'Time Zone Name', 'Median Price', 'Full Name', 'Role']"
        ],
        [
         "33",
         "2025-07—B-RevenueHighGMV.csv",
         "['Snowball Map', 'Temp_Lead Score', 'BRIZO_ID', 'NAME_ESTABLISHMENT', 'PHONE_ESTABLISHMENT', 'STREET', 'UNIT', 'CITYTOWN', 'ZIPCODE', 'STATE_CODE', 'COUNTRY', 'CUISINE']"
        ],
        [
         "34",
         "2025-01—C - Bilingual.csv",
         "['Snowball ID', 'BRIZO_ID', 'STATUS', 'ESTABLISHMENT_NAME', 'STREET', 'CITY', 'ZIPCODE', 'STATE', 'COUNTRY', 'CUISINES_REGIONAL', 'PRICE_RANGE', 'VITALITY_SCORE', 'ESTABLISHED', 'ESTABLISHMENT_PHONE', 'EMAIL', 'FULL_NAME', 'ROLE_TITLE', 'Language Preference', 'Lead Score']"
        ],
        [
         "35",
         "2025-06—Group B - Japanese.csv",
         "['BRIZO_ID', 'NAME_ESTABLISHMENT', 'PHONE_ESTABLISHMENT', 'STREET', 'UNIT', 'CITYTOWN', 'ZIPCODE', 'STATE_CODE', 'COUNTRY', 'CUISINE', 'Lead Score']"
        ],
        [
         "36",
         "2024-06—Group B: 50% (MNQ) 65404-69842.csv",
         "['Check Map', 'Check B#', 'Check M#', 'Snowball Map', 'Map', 'Group', 'Create Date', 'Last Name', 'Company / Account', 'Street', 'Zip/Postal Code', 'State/Province (text only)', 'Mobile - Primary', 'Business Phone', 'Rejected Reason', 'Rejected Time']"
        ],
        [
         "37",
         "2025-02—Drop1C - Bilingual VO.csv",
         "['Snowball ID', 'BRIZO_ID', 'STATUS', 'ESTABLISHMENT_NAME', 'STREET', 'CITY', 'ZIPCODE', 'STATE', 'COUNTRY', 'CUISINES_REGIONAL', 'PRICE_RANGE', 'VITALITY_SCORE', 'ESTABLISHED', 'ESTABLISHMENT_PHONE', 'EMAIL', 'FULL_NAME', 'ROLE_TITLE', 'Language Preference', 'Lead Score', 'Version']"
        ],
        [
         "38",
         "2024-11—20k States.csv",
         "['DE']"
        ],
        [
         "39",
         "2024-07—Brizo B - Copy2 (25281-51743).csv",
         "['Snowball Map', 'Brizo ID', 'Name', 'Street', 'City', 'Zipcode', 'State', 'Cuisines (Regional)', 'Price Range', 'Total Reviews', 'Average Review Score', 'Established', 'Vitality Score Change', 'Vitality Score', 'Full Name', 'Role', 'Phone', 'Email', 'Email Type', 'Email Test Result', 'Company Name', 'Sources']"
        ],
        [
         "40",
         "2024-04—Active Contact_Acc.csv",
         "['Account Name', 'Mailing Street', 'Billing Street', 'Mailing City', 'Billing City', 'Mailing Zip/Postal Code', 'Billing Zip/Postal Code', 'Mailing State/Province (text only)', 'Mailing Country (text only)', 'Business Phone', 'Mobile - Primary', 'Email']"
        ],
        [
         "41",
         "2024-01—Brizo - CAN (69821-78112).csv",
         "['Snowball Map', 'Dedupe Key', 'brizo_id', 'Name', 'Street', 'Business Type', 'Amenities', 'City/Town', 'State/Province Code', 'Zip/Postal Code', 'Country', 'First Name', 'Last Name', 'Title', 'Role', 'Contact Email', 'Contact Phone', 'Established', 'Phone', 'Most Common Email', 'Cuisines (Regional)', 'Price Range', 'Dishes', 'Technology Vendors']"
        ],
        [
         "42",
         "2024-07—MNQ A - Copy1 (51744-61388).csv",
         "['Snowball Map', 'State Group', 'datediff_queue_entered_date', 'datediff_rejected_date', 'datediff_created_date', 'Queue Enter Date', 'Rejected Time', 'Dead Date', 'Create Date', 'Last Name', 'Company / Account', 'Street', 'Zip/Postal Code', 'State/Province (text only)', 'Mobile - Primary', 'Business Phone', 'Lead Owner', 'Assigned SDR', 'Lead Status', 'Rejected Reason', 'Created By', 'Unqualified Reason', 'Lead Stage']"
        ],
        [
         "43",
         "2025-03—A - Credibility (1-22406).csv",
         "['Snowball Map', 'BRIZO_ID', 'STATUS', 'ESTABLISHMENT_NAME', 'STREET', 'CITY', 'ZIPCODE', 'STATE', 'COUNTRY', 'CUISINES_REGIONAL', 'PRICE_RANGE', 'VITALITY_SCORE', 'ESTABLISHED', 'ESTABLISHMENT_PHONE', 'EMAIL', 'FULL_NAME', 'ROLE_TITLE', 'Language Preference', 'Lead Score', 'Group']"
        ],
        [
         "44",
         "2025-02—Drop1B - Chinese DE.csv",
         "['Snowball ID', 'BRIZO_ID', 'STATUS', 'ESTABLISHMENT_NAME', 'STREET', 'CITY', 'ZIPCODE', 'STATE', 'COUNTRY', 'CUISINES_REGIONAL', 'PRICE_RANGE', 'VITALITY_SCORE', 'ESTABLISHED', 'ESTABLISHMENT_PHONE', 'EMAIL', 'FULL_NAME', 'ROLE_TITLE', 'Language Preference', 'Lead Score', 'Version']"
        ],
        [
         "45",
         "2024-04—Group A: Free Trial_SMS (WLQ).csv",
         "['Check Map', 'Check B#', 'Check M#', 'Snowball Map', 'Group', 'Create Date', 'Mapping', 'Company / Account', 'Street', 'City', 'Zip/Postal Code', 'State/Province (text only)', 'Lead Source', 'Lead Channel', 'BusinessPhone', 'MobilePrimary']"
        ],
        [
         "46",
         "2025-02—Drop2A - Chinese VO.csv",
         "['Snowball ID', 'BRIZO_ID', 'STATUS', 'ESTABLISHMENT_NAME', 'STREET', 'CITY', 'ZIPCODE', 'STATE', 'COUNTRY', 'CUISINES_REGIONAL', 'PRICE_RANGE', 'VITALITY_SCORE', 'ESTABLISHED', 'ESTABLISHMENT_PHONE', 'EMAIL', 'FULL_NAME', 'ROLE_TITLE', 'Language Preference', 'Lead Score', 'Version']"
        ],
        [
         "47",
         "2025-02—Drop2C - Bilingual VO.csv",
         "['Snowball ID', 'BRIZO_ID', 'STATUS', 'ESTABLISHMENT_NAME', 'STREET', 'CITY', 'ZIPCODE', 'STATE', 'COUNTRY', 'CUISINES_REGIONAL', 'PRICE_RANGE', 'VITALITY_SCORE', 'ESTABLISHED', 'ESTABLISHMENT_PHONE', 'EMAIL', 'FULL_NAME', 'ROLE_TITLE', 'Language Preference', 'Lead Score', 'Version']"
        ],
        [
         "48",
         "2024-05—Group A: Post-Card (WLQ) 57075-65403.csv",
         "['Check Map', 'Check B#', 'Check M#', 'Snowball Map', 'Group', 'Create Date', 'Mapping', 'Company / Account', 'Street', 'City', 'Zip/Postal Code', 'State/Province (text only)', 'Lead Source', 'Lead Channel', 'BusinessPhone', 'MobilePrimary']"
        ],
        [
         "49",
         "2024-04—Group B: SMS Only (WLQ).csv",
         "['Check Map', 'Check B#', 'Check M#', 'Snowball Map', 'Group', 'Create Date', 'Mapping', 'Company / Account', 'Street', 'City', 'Zip/Postal Code', 'State/Province (text only)', 'Lead Source', 'Lead Channel', 'BusinessPhone', 'MobilePrimary']"
        ]
       ],
       "shape": {
        "columns": 2,
        "rows": 81
       }
      },
      "text/html": [
       "<div>\n",
       "<style scoped>\n",
       "    .dataframe tbody tr th:only-of-type {\n",
       "        vertical-align: middle;\n",
       "    }\n",
       "\n",
       "    .dataframe tbody tr th {\n",
       "        vertical-align: top;\n",
       "    }\n",
       "\n",
       "    .dataframe thead th {\n",
       "        text-align: right;\n",
       "    }\n",
       "</style>\n",
       "<table border=\"1\" class=\"dataframe\">\n",
       "  <thead>\n",
       "    <tr style=\"text-align: right;\">\n",
       "      <th></th>\n",
       "      <th>CSV File</th>\n",
       "      <th>Columns</th>\n",
       "    </tr>\n",
       "  </thead>\n",
       "  <tbody>\n",
       "    <tr>\n",
       "      <th>0</th>\n",
       "      <td>2024-03—Active Account_Contact.csv</td>\n",
       "      <td>[Account Name, Billing Street, Billing City, B...</td>\n",
       "    </tr>\n",
       "    <tr>\n",
       "      <th>1</th>\n",
       "      <td>2024-06—Group A: SQL_Trial (MNQ) 57075-63073.csv</td>\n",
       "      <td>[Check Map, Check B#, Check M#, Snowball Map, ...</td>\n",
       "    </tr>\n",
       "    <tr>\n",
       "      <th>2</th>\n",
       "      <td>2024-11—2nd DM - English_Other.csv</td>\n",
       "      <td>[Snowball Map, Brizo ID, Language Preference, ...</td>\n",
       "    </tr>\n",
       "    <tr>\n",
       "      <th>3</th>\n",
       "      <td>2024-04—Group C: CW Gift_SMS (Brizo).csv</td>\n",
       "      <td>[Check Map, Check B#, Check M#, Snowball Map, ...</td>\n",
       "    </tr>\n",
       "    <tr>\n",
       "      <th>4</th>\n",
       "      <td>2024-04—Lariat Test.csv</td>\n",
       "      <td>[Name, First Seen, Street, City/Town, State/Pr...</td>\n",
       "    </tr>\n",
       "    <tr>\n",
       "      <th>...</th>\n",
       "      <td>...</td>\n",
       "      <td>...</td>\n",
       "    </tr>\n",
       "    <tr>\n",
       "      <th>76</th>\n",
       "      <td>2024-05—Active Contact_Acc.csv</td>\n",
       "      <td>[Restaurant ID, Account Name, Account: Busines...</td>\n",
       "    </tr>\n",
       "    <tr>\n",
       "      <th>77</th>\n",
       "      <td>2025-02—Drop1A - Chinese VO.csv</td>\n",
       "      <td>[Snowball ID, BRIZO_ID, STATUS, ESTABLISHMENT_...</td>\n",
       "    </tr>\n",
       "    <tr>\n",
       "      <th>78</th>\n",
       "      <td>2025-02—Drop2B - Chinese DE.csv</td>\n",
       "      <td>[Snowball ID, BRIZO_ID, STATUS, ESTABLISHMENT_...</td>\n",
       "    </tr>\n",
       "    <tr>\n",
       "      <th>79</th>\n",
       "      <td>2025-06—Brizo Full List .csv</td>\n",
       "      <td>[URL ID, BRIZO_ID, NAME_ESTABLISHMENT, PHONE_E...</td>\n",
       "    </tr>\n",
       "    <tr>\n",
       "      <th>80</th>\n",
       "      <td>2024-01—Print Shop - US (56003-59383).csv</td>\n",
       "      <td>[Snowball Map, Dedupe Key, Restaurant Name, Ad...</td>\n",
       "    </tr>\n",
       "  </tbody>\n",
       "</table>\n",
       "<p>81 rows × 2 columns</p>\n",
       "</div>"
      ],
      "text/plain": [
       "                                            CSV File  \\\n",
       "0                 2024-03—Active Account_Contact.csv   \n",
       "1   2024-06—Group A: SQL_Trial (MNQ) 57075-63073.csv   \n",
       "2                 2024-11—2nd DM - English_Other.csv   \n",
       "3           2024-04—Group C: CW Gift_SMS (Brizo).csv   \n",
       "4                            2024-04—Lariat Test.csv   \n",
       "..                                               ...   \n",
       "76                    2024-05—Active Contact_Acc.csv   \n",
       "77                   2025-02—Drop1A - Chinese VO.csv   \n",
       "78                   2025-02—Drop2B - Chinese DE.csv   \n",
       "79                      2025-06—Brizo Full List .csv   \n",
       "80         2024-01—Print Shop - US (56003-59383).csv   \n",
       "\n",
       "                                              Columns  \n",
       "0   [Account Name, Billing Street, Billing City, B...  \n",
       "1   [Check Map, Check B#, Check M#, Snowball Map, ...  \n",
       "2   [Snowball Map, Brizo ID, Language Preference, ...  \n",
       "3   [Check Map, Check B#, Check M#, Snowball Map, ...  \n",
       "4   [Name, First Seen, Street, City/Town, State/Pr...  \n",
       "..                                                ...  \n",
       "76  [Restaurant ID, Account Name, Account: Busines...  \n",
       "77  [Snowball ID, BRIZO_ID, STATUS, ESTABLISHMENT_...  \n",
       "78  [Snowball ID, BRIZO_ID, STATUS, ESTABLISHMENT_...  \n",
       "79  [URL ID, BRIZO_ID, NAME_ESTABLISHMENT, PHONE_E...  \n",
       "80  [Snowball Map, Dedupe Key, Restaurant Name, Ad...  \n",
       "\n",
       "[81 rows x 2 columns]"
      ]
     },
     "metadata": {},
     "output_type": "display_data"
    }
   ],
   "source": [
    "import os\n",
    "import pandas as pd\n",
    "from IPython.display import display\n",
    "\n",
    "records = []\n",
    "for filename in os.listdir(folder):\n",
    "    if filename.lower().endswith('.csv'):\n",
    "        df = pd.read_csv(os.path.join(folder, filename), nrows=0)\n",
    "        records.append({\n",
    "            'CSV File': filename,\n",
    "            'Columns': df.columns.tolist()\n",
    "        })\n",
    "\n",
    "display(pd.DataFrame(records))"
   ]
  },
  {
   "cell_type": "markdown",
   "id": "39b67355",
   "metadata": {},
   "source": [
    "move the files to different folder"
   ]
  },
  {
   "cell_type": "code",
   "execution_count": 6,
   "id": "1fecfc3c",
   "metadata": {},
   "outputs": [
    {
     "name": "stdout",
     "output_type": "stream",
     "text": [
      "Moved: 2024-06—Group A: SQL_Trial (MNQ) 57075-63073.csv\n",
      "Moved: 2024-01—Old List - CAN (78113-81103).csv\n",
      "Moved: 2024-04—Group C: CW Gift_SMS (WLQ).csv\n",
      "Moved: 2024-01—Old List - US (59384-69820).csv\n",
      "Moved: 2024-05—Group B: Bifold (WLQ) 65404-73566.csv\n",
      "Moved: 2024-06—Group B: 50% (MNQ) 65404-69842.csv\n",
      "Moved: 2024-07—MNQ A - Copy1 (51744-61388).csv\n",
      "Moved: 2024-04—Group A: Free Trial_SMS (WLQ).csv\n",
      "Moved: 2024-05—Group A: Post-Card (WLQ) 57075-65403.csv\n",
      "Moved: 2024-04—Group B: SMS Only (WLQ).csv\n",
      "Moved: 2024-07—MNQ B - Copy2 (61389-71951).csv\n",
      "Moved: 2024-01—Print Shop - CAN (81104-81183).csv\n",
      "Moved: 2024-01—Print Shop - US (56003-59383).csv\n",
      "\n",
      "Remaining files in main folder:\n",
      "  .DS_Store\n",
      "  2024-01—Brizo - CAN (69821-78112).csv\n",
      "  2024-01—Brizo - US (1-56002).csv\n",
      "  2024-01—E.C. Mapping.csv\n",
      "  2024-02—Active Account_Contact.csv\n",
      "  2024-02—Brizo - CW Gift (G2).csv\n",
      "  2024-02—Brizo - No Promo(G3).csv\n",
      "  2024-02—Brizo - SQL Gift (G1).csv\n",
      "  2024-03—Active Account_Contact.csv\n",
      "  2024-03—Group A - SQL Gift_No Trial.csv\n",
      "  2024-03—Group B - Trial Only.csv\n",
      "  2024-03—Group C - SQL Gift and Trial.csv\n",
      "  2024-04—Active Contact_Acc.csv\n",
      "  2024-04—Group A: Free Trial_SMS (Brizo).csv\n",
      "  2024-04—Group B: SMS Only (Brizo).csv\n",
      "  2024-04—Group C: CW Gift_SMS (Brizo).csv\n",
      "  2024-04—Lariat Test.csv\n",
      "  2024-04—Unqualified.csv\n",
      "  2024-05—Active Contact_Acc.csv\n",
      "  2024-05—Group A: Post-Card (Brizo) 1-28314.csv\n",
      "  2024-05—Group B: Bifold (Brizo) 28315-57074.csv\n",
      "  2024-05—Unqualified.csv\n",
      "  2024-06—Active Contact_Acc.csv\n",
      "  2024-06—Group A: SQL_Trial (Brizo) 1-28314.csv\n",
      "  2024-06—Group B: 50% (Brizo) 28315-57074.csv\n",
      "  2024-06—Unqualified.csv\n",
      "  2024-07—Brizo A - Copy1  (1-25280).csv\n",
      "  2024-07—Brizo B - Copy2 (25281-51743).csv\n",
      "  2024-07—Seattle.csv\n",
      "  2024-08—Brizo - A ($100) 1-18487.csv\n",
      "  2024-08—Brizo - B ($200) 18488-35526.csv\n",
      "  2024-08—Brizo - C ($300) 35527-51230.csv\n",
      "  2024-09—Brizo A (Creative) 1-24229.csv\n",
      "  2024-09—Brizo B (Evergreen) 24230-49312.csv\n",
      "  2024-10—A - Western 1-26130.csv\n",
      "  2024-10—B - Chinese 26131-51680.csv\n",
      "  2024-11—20k States.csv\n",
      "  2024-11—2nd DM - Chinese.csv\n",
      "  2024-11—2nd DM - English_Other.csv\n",
      "  2024-11—Chinese (1-20118).csv\n",
      "  2024-11—English (20119-28986).csv\n",
      "  2024-11—Unknown (28987-50734).csv\n",
      "  2024-12—A - Chinese _Unknown.csv\n",
      "  2024-12—B - English.csv\n",
      "  2025-01—A - Chinese (High GMV).csv\n",
      "  2025-01—B - Chinese (Low GMV).csv\n",
      "  2025-01—C - Bilingual.csv\n",
      "  2025-01—D - English.csv\n",
      "  2025-02—Drop1A - Chinese VO.csv\n",
      "  2025-02—Drop1B - Chinese DE.csv\n",
      "  2025-02—Drop1C - Bilingual VO.csv\n",
      "  2025-02—Drop1D - Bilingual DE.csv\n",
      "  2025-02—Drop2A - Chinese VO.csv\n",
      "  2025-02—Drop2B - Chinese DE.csv\n",
      "  2025-02—Drop2C - Bilingual VO.csv\n",
      "  2025-02—Drop2D - Bilingual DE.csv\n",
      "  2025-03—A - Credibility (1-22406).csv\n",
      "  2025-03—B - Heartfelt (22407-44812).csv\n",
      "  2025-04—Group A - Giftcard (1-25601).csv\n",
      "  2025-04—Group B - Air Purifier (25602-51230).csv\n",
      "  2025-05—Group A - High GMV.csv\n",
      "  2025-05—Group B - Low GMV.csv\n",
      "  2025-06—Brizo Full List .csv\n",
      "  2025-06—Group A - Chinese.csv\n",
      "  2025-06—Group B - Japanese.csv\n",
      "  2025-07—A-LaborHighGMV.csv\n",
      "  2025-07—B-RevenueHighGMV.csv\n",
      "  2025-07—C-LaborLowGMV.csv\n",
      "  2025-07—D-RevenueLowGMV.csv\n",
      "  brizo\n",
      "  non_brizo\n",
      "\n",
      "Files in 'non_brizo' subfolder:\n",
      "  .DS_Store\n",
      "  2024-01—Old List - CAN (78113-81103).csv\n",
      "  2024-01—Old List - US (59384-69820).csv\n",
      "  2024-01—Print Shop - CAN (81104-81183).csv\n",
      "  2024-01—Print Shop - US (56003-59383).csv\n",
      "  2024-04—Group A: Free Trial_SMS (WLQ).csv\n",
      "  2024-04—Group B: SMS Only (WLQ).csv\n",
      "  2024-04—Group C: CW Gift_SMS (WLQ).csv\n",
      "  2024-05—Group A: Post-Card (WLQ) 57075-65403.csv\n",
      "  2024-05—Group B: Bifold (WLQ) 65404-73566.csv\n",
      "  2024-06—Group A: SQL_Trial (MNQ) 57075-63073.csv\n",
      "  2024-06—Group B: 50% (MNQ) 65404-69842.csv\n",
      "  2024-07—MNQ A - Copy1 (51744-61388).csv\n",
      "  2024-07—MNQ B - Copy2 (61389-71951).csv\n"
     ]
    }
   ],
   "source": [
    "import os\n",
    "import shutil\n",
    "from pathlib import Path\n",
    "\n",
    "# 1) Define the directory and the desired subfolder name\n",
    "folder_path = Path('/Users/yukachen/marketing-operation/campaign_touch_points/list_exports')\n",
    "subfolder_path = folder_path / 'non_brizo'\n",
    "\n",
    "# Create the subfolder if it doesn't exist (including any missing parents)\n",
    "subfolder_path.mkdir(parents=True, exist_ok=True)\n",
    "\n",
    "# 2) Keywords to match (case-insensitive)\n",
    "keywords = [\"old list\", \"print shop\", \"wlq\", \"mnq\"]\n",
    "\n",
    "# 3) Loop through files and move those matching any keyword\n",
    "for file_path in folder_path.iterdir():\n",
    "    if file_path.is_file():\n",
    "        name_lower = file_path.name.lower()\n",
    "        if any(keyword in name_lower for keyword in keywords):\n",
    "            shutil.move(str(file_path), str(subfolder_path / file_path.name))\n",
    "            print(f\"Moved: {file_path.name}\")\n",
    "\n",
    "# 4) Display final state\n",
    "print(\"\\nRemaining files in main folder:\")\n",
    "for f in sorted(folder_path.iterdir()):\n",
    "    print(\" \", f.name)\n",
    "print(\"\\nFiles in 'non_brizo' subfolder:\")\n",
    "for f in sorted(subfolder_path.iterdir()):\n",
    "    print(\" \", f.name)"
   ]
  },
  {
   "cell_type": "code",
   "execution_count": 7,
   "id": "45c13f58",
   "metadata": {},
   "outputs": [
    {
     "name": "stdout",
     "output_type": "stream",
     "text": [
      "Moved to brizo: 2024-03—Active Account_Contact.csv\n",
      "Moved to brizo: 2024-11—2nd DM - English_Other.csv\n",
      "Moved to brizo: 2024-04—Group C: CW Gift_SMS (Brizo).csv\n",
      "Moved to brizo: 2024-04—Lariat Test.csv\n",
      "Moved to brizo: 2025-07—C-LaborLowGMV.csv\n",
      "Moved to brizo: 2025-01—D - English.csv\n",
      "Moved to brizo: 2024-06—Group A: SQL_Trial (Brizo) 1-28314.csv\n",
      "Moved to brizo: 2024-06—Unqualified.csv\n",
      "Moved to brizo: 2025-03—B - Heartfelt (22407-44812).csv\n",
      "Moved to brizo: 2025-05—Group A - High GMV.csv\n",
      "Moved to brizo: 2024-06—Group B: 50% (Brizo) 28315-57074.csv\n",
      "Moved to brizo: 2024-11—Unknown (28987-50734).csv\n",
      "Moved to brizo: 2024-05—Group B: Bifold (Brizo) 28315-57074.csv\n",
      "Moved to brizo: 2024-02—Brizo - SQL Gift (G1).csv\n",
      "Moved to brizo: 2024-09—Brizo A (Creative) 1-24229.csv\n",
      "Moved to brizo: 2024-11—Chinese (1-20118).csv\n",
      "Moved to brizo: 2025-01—B - Chinese (Low GMV).csv\n",
      "Moved to brizo: 2024-03—Group B - Trial Only.csv\n",
      "Moved to brizo: 2024-12—A - Chinese _Unknown.csv\n",
      "Moved to brizo: 2024-07—Seattle.csv\n",
      "Moved to brizo: 2024-08—Brizo - A ($100) 1-18487.csv\n",
      "Moved to brizo: 2025-01—A - Chinese (High GMV).csv\n",
      "Moved to brizo: 2025-04—Group A - Giftcard (1-25601).csv\n",
      "Moved to brizo: 2024-08—Brizo - C ($300) 35527-51230.csv\n",
      "Moved to brizo: 2024-02—Active Account_Contact.csv\n",
      "Moved to brizo: 2024-11—English (20119-28986).csv\n",
      "Moved to brizo: 2024-07—Brizo A - Copy1  (1-25280).csv\n",
      "Moved to brizo: 2024-10—A - Western 1-26130.csv\n",
      "Moved to brizo: 2025-07—B-RevenueHighGMV.csv\n",
      "Moved to brizo: 2025-01—C - Bilingual.csv\n",
      "Moved to brizo: 2025-06—Group B - Japanese.csv\n",
      "Moved to brizo: 2025-02—Drop1C - Bilingual VO.csv\n",
      "Moved to brizo: 2024-11—20k States.csv\n",
      "Moved to brizo: 2024-07—Brizo B - Copy2 (25281-51743).csv\n",
      "Moved to brizo: 2024-04—Active Contact_Acc.csv\n",
      "Moved to brizo: 2024-01—Brizo - CAN (69821-78112).csv\n",
      "Moved to brizo: 2025-03—A - Credibility (1-22406).csv\n",
      "Moved to brizo: 2025-02—Drop1B - Chinese DE.csv\n",
      "Moved to brizo: 2025-02—Drop2A - Chinese VO.csv\n",
      "Moved to brizo: 2025-02—Drop2C - Bilingual VO.csv\n",
      "Moved to brizo: 2024-01—Brizo - US (1-56002).csv\n",
      "Moved to brizo: 2025-02—Drop1D - Bilingual DE.csv\n",
      "Moved to brizo: 2024-04—Group B: SMS Only (Brizo).csv\n",
      "Moved to brizo: 2024-08—Brizo - B ($200) 18488-35526.csv\n",
      "Moved to brizo: 2024-04—Group A: Free Trial_SMS (Brizo).csv\n",
      "Moved to brizo: 2025-02—Drop2D - Bilingual DE.csv\n",
      "Moved to brizo: 2024-05—Unqualified.csv\n",
      "Moved to brizo: 2024-06—Active Contact_Acc.csv\n",
      "Moved to brizo: 2024-11—2nd DM - Chinese.csv\n",
      "Moved to brizo: 2024-10—B - Chinese 26131-51680.csv\n",
      "Moved to brizo: 2025-06—Group A - Chinese.csv\n",
      "Moved to brizo: 2024-12—B - English.csv\n",
      "Moved to brizo: 2025-07—A-LaborHighGMV.csv\n",
      "Moved to brizo: 2024-09—Brizo B (Evergreen) 24230-49312.csv\n",
      "Moved to brizo: 2024-05—Group A: Post-Card (Brizo) 1-28314.csv\n",
      "Moved to brizo: 2024-02—Brizo - CW Gift (G2).csv\n",
      "Moved to brizo: 2024-01—E.C. Mapping.csv\n",
      "Moved to brizo: 2024-04—Unqualified.csv\n",
      "Moved to brizo: 2024-03—Group C - SQL Gift and Trial.csv\n",
      "Moved to brizo: 2025-05—Group B - Low GMV.csv\n",
      "Moved to brizo: 2024-02—Brizo - No Promo(G3).csv\n",
      "Moved to brizo: 2024-03—Group A - SQL Gift_No Trial.csv\n",
      "Moved to brizo: 2025-07—D-RevenueLowGMV.csv\n",
      "Moved to brizo: 2025-04—Group B - Air Purifier (25602-51230).csv\n",
      "Moved to brizo: 2024-05—Active Contact_Acc.csv\n",
      "Moved to brizo: 2025-02—Drop1A - Chinese VO.csv\n",
      "Moved to brizo: 2025-02—Drop2B - Chinese DE.csv\n",
      "Moved to brizo: 2025-06—Brizo Full List .csv\n",
      "\n",
      "Remaining files in main folder:\n",
      "['.DS_Store', 'brizo', 'non_brizo']\n",
      "\n",
      "Files in 'brizo' subfolder:\n",
      "['.DS_Store', '2024-01—Brizo - CAN (69821-78112).csv', '2024-01—Brizo - US (1-56002).csv', '2024-01—E.C. Mapping.csv', '2024-02—Active Account_Contact.csv', '2024-02—Brizo - CW Gift (G2).csv', '2024-02—Brizo - No Promo(G3).csv', '2024-02—Brizo - SQL Gift (G1).csv', '2024-03—Active Account_Contact.csv', '2024-03—Group A - SQL Gift_No Trial.csv', '2024-03—Group B - Trial Only.csv', '2024-03—Group C - SQL Gift and Trial.csv', '2024-04—Active Contact_Acc.csv', '2024-04—Group A: Free Trial_SMS (Brizo).csv', '2024-04—Group B: SMS Only (Brizo).csv', '2024-04—Group C: CW Gift_SMS (Brizo).csv', '2024-04—Lariat Test.csv', '2024-04—Unqualified.csv', '2024-05—Active Contact_Acc.csv', '2024-05—Group A: Post-Card (Brizo) 1-28314.csv', '2024-05—Group B: Bifold (Brizo) 28315-57074.csv', '2024-05—Unqualified.csv', '2024-06—Active Contact_Acc.csv', '2024-06—Group A: SQL_Trial (Brizo) 1-28314.csv', '2024-06—Group B: 50% (Brizo) 28315-57074.csv', '2024-06—Unqualified.csv', '2024-07—Brizo A - Copy1  (1-25280).csv', '2024-07—Brizo B - Copy2 (25281-51743).csv', '2024-07—Seattle.csv', '2024-08—Brizo - A ($100) 1-18487.csv', '2024-08—Brizo - B ($200) 18488-35526.csv', '2024-08—Brizo - C ($300) 35527-51230.csv', '2024-09—Brizo A (Creative) 1-24229.csv', '2024-09—Brizo B (Evergreen) 24230-49312.csv', '2024-10—A - Western 1-26130.csv', '2024-10—B - Chinese 26131-51680.csv', '2024-11—20k States.csv', '2024-11—2nd DM - Chinese.csv', '2024-11—2nd DM - English_Other.csv', '2024-11—Chinese (1-20118).csv', '2024-11—English (20119-28986).csv', '2024-11—Unknown (28987-50734).csv', '2024-12—A - Chinese _Unknown.csv', '2024-12—B - English.csv', '2025-01—A - Chinese (High GMV).csv', '2025-01—B - Chinese (Low GMV).csv', '2025-01—C - Bilingual.csv', '2025-01—D - English.csv', '2025-02—Drop1A - Chinese VO.csv', '2025-02—Drop1B - Chinese DE.csv', '2025-02—Drop1C - Bilingual VO.csv', '2025-02—Drop1D - Bilingual DE.csv', '2025-02—Drop2A - Chinese VO.csv', '2025-02—Drop2B - Chinese DE.csv', '2025-02—Drop2C - Bilingual VO.csv', '2025-02—Drop2D - Bilingual DE.csv', '2025-03—A - Credibility (1-22406).csv', '2025-03—B - Heartfelt (22407-44812).csv', '2025-04—Group A - Giftcard (1-25601).csv', '2025-04—Group B - Air Purifier (25602-51230).csv', '2025-05—Group A - High GMV.csv', '2025-05—Group B - Low GMV.csv', '2025-06—Brizo Full List .csv', '2025-06—Group A - Chinese.csv', '2025-06—Group B - Japanese.csv', '2025-07—A-LaborHighGMV.csv', '2025-07—B-RevenueHighGMV.csv', '2025-07—C-LaborLowGMV.csv', '2025-07—D-RevenueLowGMV.csv']\n"
     ]
    }
   ],
   "source": [
    "import os\n",
    "import shutil\n",
    "from pathlib import Path\n",
    "\n",
    "# 1) Source directory and \"brizo\" subfolder\n",
    "folder_path = Path('/Users/yukachen/marketing-operation/campaign_touch_points/list_exports')\n",
    "brizo_folder = folder_path / 'brizo'\n",
    "\n",
    "# Create \"brizo\" subfolder (create any missing parents)\n",
    "brizo_folder.mkdir(parents=True, exist_ok=True)\n",
    "\n",
    "# 2) Keywords to exclude from moving to brizo\n",
    "keywords = [\"old list\", \"print shop\", \"wlq\", \"mnq\"]\n",
    "\n",
    "# 3) Move CSV files that do NOT contain any keyword into \"brizo\"\n",
    "for file_path in folder_path.iterdir():\n",
    "    if file_path.is_file() and file_path.suffix.lower() == '.csv':\n",
    "        name_lower = file_path.name.lower()\n",
    "        if not any(keyword in name_lower for keyword in keywords):\n",
    "            shutil.move(\n",
    "                str(file_path),\n",
    "                str(brizo_folder / file_path.name)\n",
    "            )\n",
    "            print(f\"Moved to brizo: {file_path.name}\")\n",
    "\n",
    "# 4) Verify contents\n",
    "print(\"\\nRemaining files in main folder:\")\n",
    "print(sorted(p.name for p in folder_path.iterdir()))\n",
    "\n",
    "print(\"\\nFiles in 'brizo' subfolder:\")\n",
    "print(sorted(p.name for p in brizo_folder.iterdir()))"
   ]
  }
 ],
 "metadata": {
  "kernelspec": {
   "display_name": "venv-marketing-operation",
   "language": "python",
   "name": "python3"
  },
  "language_info": {
   "codemirror_mode": {
    "name": "ipython",
    "version": 3
   },
   "file_extension": ".py",
   "mimetype": "text/x-python",
   "name": "python",
   "nbconvert_exporter": "python",
   "pygments_lexer": "ipython3",
   "version": "3.10.10"
  }
 },
 "nbformat": 4,
 "nbformat_minor": 5
}
