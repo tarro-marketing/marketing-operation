{
 "cells": [
  {
   "cell_type": "code",
   "execution_count": 1,
   "id": "a6e6a72b",
   "metadata": {},
   "outputs": [
    {
     "name": "stdout",
     "output_type": "stream",
     "text": [
      "Processed 56 files → 1009111 total phone records\n"
     ]
    }
   ],
   "source": [
    "import re\n",
    "import pandas as pd\n",
    "import janitor               # brings .clean_names()\n",
    "from pathlib import Path\n",
    "\n",
    "folder = Path('list_exports') / 'brizo'\n",
    "frames = []\n",
    "\n",
    "for csv_path in folder.glob('*.csv'):\n",
    "    df = pd.read_csv(csv_path, dtype=str, skipinitialspace=True).clean_names()\n",
    "\n",
    "    # Normalize 'id' → 'brizo_id'\n",
    "    if 'id' in df.columns and 'brizo_id' not in df.columns:\n",
    "        df = df.rename(columns={'id': 'brizo_id'})\n",
    "\n",
    "    # Pick up only true phone/mobile columns (exclude any *_type)\n",
    "    phone_cols = [\n",
    "        c for c in df.columns\n",
    "        if re.search(r'(phone|mobile)', c)\n",
    "           and not c.endswith('_type')\n",
    "    ]\n",
    "\n",
    "    if 'brizo_id' in df.columns and phone_cols:\n",
    "        df_melted = (\n",
    "            df[['brizo_id'] + phone_cols]\n",
    "              .melt(\n",
    "                 id_vars=['brizo_id'],\n",
    "                 value_vars=phone_cols,\n",
    "                 var_name='phone_field',\n",
    "                 value_name='phone_number'\n",
    "              )\n",
    "              .dropna(subset=['phone_number'])\n",
    "        )\n",
    "        df_melted['list_source'] = csv_path.stem\n",
    "        frames.append(df_melted[['brizo_id', 'phone_number', 'list_source']])\n",
    "\n",
    "combined = pd.concat(frames, ignore_index=True)\n",
    "print(f\"Processed {len(frames)} files → {len(combined)} total phone records\")"
   ]
  },
  {
   "cell_type": "code",
   "execution_count": 2,
   "id": "93391578",
   "metadata": {},
   "outputs": [
    {
     "data": {
      "application/vnd.microsoft.datawrangler.viewer.v0+json": {
       "columns": [
        {
         "name": "index",
         "rawType": "int64",
         "type": "integer"
        },
        {
         "name": "brizo_id",
         "rawType": "object",
         "type": "string"
        },
        {
         "name": "count",
         "rawType": "int64",
         "type": "integer"
        }
       ],
       "ref": "a44aac8a-d03d-4d63-85b3-1b930ccf6909",
       "rows": [
        [
         "0",
         "00007b5fcec398ab",
         "3"
        ],
        [
         "1",
         "000144264e8456f6",
         "4"
        ],
        [
         "2",
         "0001aa412e069ffa",
         "1"
        ],
        [
         "3",
         "00022a7453654b49",
         "5"
        ],
        [
         "4",
         "000243c264f11715",
         "6"
        ],
        [
         "5",
         "0002741c5ef69aee",
         "9"
        ],
        [
         "6",
         "00029816f4114a62",
         "13"
        ],
        [
         "7",
         "0003aba06ccf49f8",
         "20"
        ],
        [
         "8",
         "0003d657a3caa6c3",
         "15"
        ],
        [
         "9",
         "00040d2a358f29ac",
         "3"
        ],
        [
         "10",
         "0004be01ccfd90c2",
         "6"
        ],
        [
         "11",
         "00050a062e1548d9",
         "17"
        ],
        [
         "12",
         "0007383c495b2257",
         "15"
        ],
        [
         "13",
         "0008ee0d78b18c92",
         "1"
        ],
        [
         "14",
         "00090b73d60e4a15",
         "17"
        ],
        [
         "15",
         "00093eaf976cbbe0",
         "8"
        ],
        [
         "16",
         "00098eed626fe857",
         "18"
        ],
        [
         "17",
         "000a7f8673ea99be",
         "3"
        ],
        [
         "18",
         "000aad001062c15f",
         "20"
        ],
        [
         "19",
         "000cceb32e66aff2",
         "2"
        ],
        [
         "20",
         "000d027ba3f7281a",
         "1"
        ],
        [
         "21",
         "000dab38dbaf09e1",
         "20"
        ],
        [
         "22",
         "000f3b7af1b50c56",
         "6"
        ],
        [
         "23",
         "000f43fe92cbf124",
         "1"
        ],
        [
         "24",
         "000f623140200b90",
         "20"
        ],
        [
         "25",
         "000faf1d085e5299",
         "20"
        ],
        [
         "26",
         "000fb8e93ce5c040",
         "4"
        ],
        [
         "27",
         "00105d1128dbbf4e",
         "18"
        ],
        [
         "28",
         "001095108432dc9e",
         "3"
        ],
        [
         "29",
         "001402d688f359ba",
         "6"
        ],
        [
         "30",
         "00140a440e1e2759",
         "8"
        ],
        [
         "31",
         "00143b158e6cad75",
         "5"
        ],
        [
         "32",
         "0014658fadbcd88d",
         "8"
        ],
        [
         "33",
         "00147fccd962ca33",
         "4"
        ],
        [
         "34",
         "0015c87800b14e03",
         "9"
        ],
        [
         "35",
         "00166df5d7024c23",
         "3"
        ],
        [
         "36",
         "0016c6b64d219380",
         "1"
        ],
        [
         "37",
         "001726706f86f0f2",
         "18"
        ],
        [
         "38",
         "00174285a1677953",
         "3"
        ],
        [
         "39",
         "0017dbf56bc5169c",
         "10"
        ],
        [
         "40",
         "0018598ac9ed4db2",
         "14"
        ],
        [
         "41",
         "001933179893dfd6",
         "17"
        ],
        [
         "42",
         "00193fd5ce38004b",
         "21"
        ],
        [
         "43",
         "0019e4ef40680e1f",
         "12"
        ],
        [
         "44",
         "0019ea5af10484b6",
         "17"
        ],
        [
         "45",
         "0019f79bc145df52",
         "3"
        ],
        [
         "46",
         "001b4f7728b659bb",
         "3"
        ],
        [
         "47",
         "001c67859317aee9",
         "1"
        ],
        [
         "48",
         "001ceaba473998e1",
         "9"
        ],
        [
         "49",
         "001d5e51a68be5ed",
         "21"
        ]
       ],
       "shape": {
        "columns": 2,
        "rows": 103214
       }
      },
      "text/html": [
       "<div>\n",
       "<style scoped>\n",
       "    .dataframe tbody tr th:only-of-type {\n",
       "        vertical-align: middle;\n",
       "    }\n",
       "\n",
       "    .dataframe tbody tr th {\n",
       "        vertical-align: top;\n",
       "    }\n",
       "\n",
       "    .dataframe thead th {\n",
       "        text-align: right;\n",
       "    }\n",
       "</style>\n",
       "<table border=\"1\" class=\"dataframe\">\n",
       "  <thead>\n",
       "    <tr style=\"text-align: right;\">\n",
       "      <th></th>\n",
       "      <th>brizo_id</th>\n",
       "      <th>count</th>\n",
       "    </tr>\n",
       "  </thead>\n",
       "  <tbody>\n",
       "    <tr>\n",
       "      <th>0</th>\n",
       "      <td>00007b5fcec398ab</td>\n",
       "      <td>3</td>\n",
       "    </tr>\n",
       "    <tr>\n",
       "      <th>1</th>\n",
       "      <td>000144264e8456f6</td>\n",
       "      <td>4</td>\n",
       "    </tr>\n",
       "    <tr>\n",
       "      <th>2</th>\n",
       "      <td>0001aa412e069ffa</td>\n",
       "      <td>1</td>\n",
       "    </tr>\n",
       "    <tr>\n",
       "      <th>3</th>\n",
       "      <td>00022a7453654b49</td>\n",
       "      <td>5</td>\n",
       "    </tr>\n",
       "    <tr>\n",
       "      <th>4</th>\n",
       "      <td>000243c264f11715</td>\n",
       "      <td>6</td>\n",
       "    </tr>\n",
       "    <tr>\n",
       "      <th>...</th>\n",
       "      <td>...</td>\n",
       "      <td>...</td>\n",
       "    </tr>\n",
       "    <tr>\n",
       "      <th>103209</th>\n",
       "      <td>fffd16a3a13966b8</td>\n",
       "      <td>11</td>\n",
       "    </tr>\n",
       "    <tr>\n",
       "      <th>103210</th>\n",
       "      <td>fffe113114e7c1e5</td>\n",
       "      <td>21</td>\n",
       "    </tr>\n",
       "    <tr>\n",
       "      <th>103211</th>\n",
       "      <td>fffebad4ae63da74</td>\n",
       "      <td>21</td>\n",
       "    </tr>\n",
       "    <tr>\n",
       "      <th>103212</th>\n",
       "      <td>fffedd63e21115a3</td>\n",
       "      <td>1</td>\n",
       "    </tr>\n",
       "    <tr>\n",
       "      <th>103213</th>\n",
       "      <td>ffffd993f576e008</td>\n",
       "      <td>8</td>\n",
       "    </tr>\n",
       "  </tbody>\n",
       "</table>\n",
       "<p>103214 rows × 2 columns</p>\n",
       "</div>"
      ],
      "text/plain": [
       "                brizo_id  count\n",
       "0       00007b5fcec398ab      3\n",
       "1       000144264e8456f6      4\n",
       "2       0001aa412e069ffa      1\n",
       "3       00022a7453654b49      5\n",
       "4       000243c264f11715      6\n",
       "...                  ...    ...\n",
       "103209  fffd16a3a13966b8     11\n",
       "103210  fffe113114e7c1e5     21\n",
       "103211  fffebad4ae63da74     21\n",
       "103212  fffedd63e21115a3      1\n",
       "103213  ffffd993f576e008      8\n",
       "\n",
       "[103214 rows x 2 columns]"
      ]
     },
     "metadata": {},
     "output_type": "display_data"
    }
   ],
   "source": [
    "counts   = combined.groupby('brizo_id') \\\n",
    "                   .size() \\\n",
    "                   .reset_index(name='count')\n",
    "display(counts)"
   ]
  },
  {
   "cell_type": "code",
   "execution_count": null,
   "id": "ba3d4f19",
   "metadata": {},
   "outputs": [],
   "source": [
    "counts.to_csv('data/exported_data/counts.csv', index=False)\n",
    "combined.to_csv('data/exported_data/combined.csv', index=False)\n",
    "\n"
   ]
  }
 ],
 "metadata": {
  "kernelspec": {
   "display_name": "venv-marketing-operation",
   "language": "python",
   "name": "python3"
  },
  "language_info": {
   "codemirror_mode": {
    "name": "ipython",
    "version": 3
   },
   "file_extension": ".py",
   "mimetype": "text/x-python",
   "name": "python",
   "nbconvert_exporter": "python",
   "pygments_lexer": "ipython3",
   "version": "3.10.10"
  }
 },
 "nbformat": 4,
 "nbformat_minor": 5
}
