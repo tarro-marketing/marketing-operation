{
 "cells": [
  {
   "cell_type": "code",
   "execution_count": 2,
   "id": "2bab8cf3",
   "metadata": {},
   "outputs": [],
   "source": [
    "import janitor\n",
    "import pandas as pd\n",
    "import re\n",
    "\n",
    "leads = pd.read_csv('data/all_time_leads.csv').clean_names()\n",
    "\n",
    "\n",
    "selected_leads = leads[['lead_id','mobile_primary',\n",
    "                        'business_phone_line_1','brizo_id', \n",
    "                        'created_date',\n",
    "                        'first_mel_timestamp','latest_mql_timestamp',\n",
    "                        'assigned_time_ae_',\n",
    "                        'opportunity_created_date',\n",
    "                        'closed_won_date',\n",
    "                        'stage','unqualified_reason', 'closed_lost_reason']].drop_duplicates()\n",
    "\n",
    "\n",
    "selected_leads['mobile_primary'] = selected_leads['mobile_primary'].astype(str)\n",
    "selected_leads['business_phone_line_1'] = selected_leads['business_phone_line_1'].astype(str)\n",
    "\n",
    "selected_leads['mobile_primary'] = selected_leads['mobile_primary'].str.replace(r'\\D+', '', regex=True)\n",
    "selected_leads['business_phone_line_1'] = selected_leads['business_phone_line_1'].str.replace(r'\\D+', '', regex=True)\n",
    "\n",
    "\n",
    "\n",
    "def clean_to_10(s):\n",
    "    # 1) remove any non-digits\n",
    "    digits = re.sub(r'\\D+', '', str(s))\n",
    "    # 2) if >10 digits and starts with \"1\", drop the leading \"1\"\n",
    "    if len(digits) > 10 and digits.startswith('1'):\n",
    "        digits = digits[1:]\n",
    "    # 3) only keep if exactly 10 digits\n",
    "    return digits if len(digits) == 10 else None\n",
    "\n",
    "for col in ['mobile_primary', 'business_phone_line_1']:\n",
    "    selected_leads[col] = selected_leads[col].apply(clean_to_10)\n"
   ]
  },
  {
   "cell_type": "code",
   "execution_count": 6,
   "id": "fbb0679f",
   "metadata": {},
   "outputs": [],
   "source": [
    "date_cols = [\n",
    "    'created_date',\n",
    "    'first_mel_timestamp',\n",
    "    'latest_mql_timestamp',\n",
    "    'assigned_time_ae_',\n",
    "    'opportunity_created_date',\n",
    "    'closed_won_date'\n",
    "]\n",
    "\n",
    "\n",
    "date_cols = selected_leads[date_cols]\n",
    "date_cols.to_csv('data/date_cols.csv', index=False)\n",
    "\n"
   ]
  },
  {
   "cell_type": "code",
   "execution_count": null,
   "id": "314c18d8",
   "metadata": {},
   "outputs": [],
   "source": []
  },
  {
   "cell_type": "code",
   "execution_count": null,
   "id": "0a9aba32",
   "metadata": {},
   "outputs": [],
   "source": [
    "\n",
    "import warnings\n",
    "\n",
    "warnings.filterwarnings(\n",
    "    \"ignore\",\n",
    "    category=UserWarning,\n",
    "    message=r\".*infer_datetime_format.*\"\n",
    ")\n",
    "\n",
    "for col in date_cols:\n",
    "    selected_leads[col] = (\n",
    "        pd.to_datetime(\n",
    "            selected_leads[col],\n",
    "            infer_datetime_format=True,\n",
    "            errors='coerce'\n",
    "        )\n",
    "        .dt.strftime('%Y-%m-%d')\n",
    "    )"
   ]
  },
  {
   "cell_type": "code",
   "execution_count": 3,
   "id": "a614dc5b",
   "metadata": {},
   "outputs": [],
   "source": [
    "\n",
    "# 3. Sort by recency (newest first)\n",
    "df_sorted = selected_leads.sort_values(\n",
    "    by=date_cols,\n",
    "    ascending=False,\n",
    "    na_position='last'   # treat NaT as oldest\n",
    ")\n"
   ]
  },
  {
   "cell_type": "code",
   "execution_count": null,
   "id": "c97b6af2",
   "metadata": {},
   "outputs": [],
   "source": []
  },
  {
   "cell_type": "code",
   "execution_count": 6,
   "id": "25837b92",
   "metadata": {},
   "outputs": [
    {
     "name": "stdout",
     "output_type": "stream",
     "text": [
      "            lead_id mobile_primary business_phone_line_1 brizo_id  \\\n",
      "1   00QUo00000SvBGL     5599745392                  None      NaN   \n",
      "15  00QUo00000SqruX     3477022771            8563388897      NaN   \n",
      "24  00QUo00000Spu6U     9177709615            6318424333      NaN   \n",
      "53  00QUo00000Sg06l     4709815185            8437592868      NaN   \n",
      "51  00QUo00000SgIQF     3474102634            5678680082      NaN   \n",
      "\n",
      "   created_date first_mel_timestamp latest_mql_timestamp assigned_time_ae_  \\\n",
      "1    2025-07-08          2025-07-08           2025-07-08               NaN   \n",
      "15   2025-07-07          2025-07-07           2025-07-08        2025-07-07   \n",
      "24   2025-07-07          2025-07-07           2025-07-07        2025-07-07   \n",
      "53   2025-07-04          2025-07-04           2025-07-04        2025-07-04   \n",
      "51   2025-07-04          2025-07-04           2025-07-04               NaN   \n",
      "\n",
      "   opportunity_created_date closed_won_date           stage  \\\n",
      "1                       NaN             NaN             NaN   \n",
      "15               2025-07-08             NaN  Discovery/Demo   \n",
      "24                      NaN             NaN             NaN   \n",
      "53               2025-07-04             NaN  Discovery/Demo   \n",
      "51                      NaN             NaN             NaN   \n",
      "\n",
      "   unqualified_reason closed_lost_reason  \n",
      "1                 NaN                NaN  \n",
      "15                NaN                NaN  \n",
      "24                NaN                NaN  \n",
      "53                NaN                NaN  \n",
      "51                NaN                NaN  \n"
     ]
    }
   ],
   "source": [
    "\n",
    "\n",
    "# Inspect or save\n",
    "print(result.head())\n",
    "result.to_csv('data/deduped_leads_long.csv', index=False)"
   ]
  }
 ],
 "metadata": {
  "kernelspec": {
   "display_name": "venv-marketing-operation",
   "language": "python",
   "name": "python3"
  },
  "language_info": {
   "codemirror_mode": {
    "name": "ipython",
    "version": 3
   },
   "file_extension": ".py",
   "mimetype": "text/x-python",
   "name": "python",
   "nbconvert_exporter": "python",
   "pygments_lexer": "ipython3",
   "version": "3.10.10"
  }
 },
 "nbformat": 4,
 "nbformat_minor": 5
}
