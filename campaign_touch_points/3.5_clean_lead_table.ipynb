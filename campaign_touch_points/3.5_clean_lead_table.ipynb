{
 "cells": [
  {
   "cell_type": "code",
   "execution_count": 4,
   "id": "2bab8cf3",
   "metadata": {},
   "outputs": [],
   "source": [
    "import janitor\n",
    "import pandas as pd\n",
    "import re\n",
    "from datetime import datetime\n"
   ]
  },
  {
   "cell_type": "code",
   "execution_count": 5,
   "id": "a72dae7f",
   "metadata": {},
   "outputs": [],
   "source": [
    "\n",
    "leads = pd.read_csv('data/all_time_leads.csv').clean_names()\n",
    "\n",
    "\n",
    "selected_leads = leads[['lead_id','mobile_primary',\n",
    "                        'business_phone_line_1','brizo_id', \n",
    "                        'created_date',\n",
    "                        'first_mel_timestamp','latest_mql_timestamp',\n",
    "                        'assigned_time_ae_',\n",
    "                        'opportunity_created_date',\n",
    "                        'closed_won_date',\n",
    "                        'stage','unqualified_reason', 'closed_lost_reason']].drop_duplicates()\n",
    "\n",
    "\n",
    "selected_leads['mobile_primary'] = selected_leads['mobile_primary'].astype(str)\n",
    "selected_leads['business_phone_line_1'] = selected_leads['business_phone_line_1'].astype(str)\n",
    "\n",
    "selected_leads['mobile_primary'] = selected_leads['mobile_primary'].str.replace(r'\\D+', '', regex=True)\n",
    "selected_leads['business_phone_line_1'] = selected_leads['business_phone_line_1'].str.replace(r'\\D+', '', regex=True)\n",
    "\n",
    "\n",
    "\n",
    "def clean_to_10(s):\n",
    "    # 1) remove any non-digits\n",
    "    digits = re.sub(r'\\D+', '', str(s))\n",
    "    # 2) if >10 digits and starts with \"1\", drop the leading \"1\"\n",
    "    if len(digits) > 10 and digits.startswith('1'):\n",
    "        digits = digits[1:]\n",
    "    # 3) only keep if exactly 10 digits\n",
    "    return digits if len(digits) == 10 else None\n",
    "\n",
    "for col in ['mobile_primary', 'business_phone_line_1']:\n",
    "    selected_leads[col] = selected_leads[col].apply(clean_to_10)\n"
   ]
  },
  {
   "cell_type": "markdown",
   "id": "4756ed67",
   "metadata": {},
   "source": [
    "Change timestamp format into date"
   ]
  },
  {
   "cell_type": "code",
   "execution_count": 6,
   "id": "fbb0679f",
   "metadata": {},
   "outputs": [
    {
     "name": "stderr",
     "output_type": "stream",
     "text": [
      "/var/folders/8c/z2jj76jx2wq4dxt7jlmgxknm0000gn/T/ipykernel_2667/2072314949.py:20: UserWarning: Could not infer format, so each element will be parsed individually, falling back to `dateutil`. To ensure parsing is consistent and as-expected, please specify a format.\n",
      "  selected_leads[col] = pd.to_datetime(selected_leads[col], errors='coerce').dt.date\n",
      "/var/folders/8c/z2jj76jx2wq4dxt7jlmgxknm0000gn/T/ipykernel_2667/2072314949.py:20: UserWarning: Could not infer format, so each element will be parsed individually, falling back to `dateutil`. To ensure parsing is consistent and as-expected, please specify a format.\n",
      "  selected_leads[col] = pd.to_datetime(selected_leads[col], errors='coerce').dt.date\n",
      "/var/folders/8c/z2jj76jx2wq4dxt7jlmgxknm0000gn/T/ipykernel_2667/2072314949.py:20: UserWarning: Could not infer format, so each element will be parsed individually, falling back to `dateutil`. To ensure parsing is consistent and as-expected, please specify a format.\n",
      "  selected_leads[col] = pd.to_datetime(selected_leads[col], errors='coerce').dt.date\n"
     ]
    }
   ],
   "source": [
    "# date_cols = [\n",
    "#     'created_date',\n",
    "#     'first_mel_timestamp',\n",
    "#     'latest_mql_timestamp',\n",
    "#     'assigned_time_ae_',\n",
    "#     'opportunity_created_date',\n",
    "#     'closed_won_date'\n",
    "# ]\n",
    "\n",
    "# date_cols = selected_leads[date_cols]\n",
    "# date_cols.to_csv('data/exported_data/date_cols.csv', index=False)\n",
    "\n",
    "timestamp_col = [\n",
    "    'first_mel_timestamp',\n",
    "    'latest_mql_timestamp',\n",
    "    'assigned_time_ae_',\n",
    "]\n",
    "\n",
    "for col in timestamp_col:\n",
    "    selected_leads[col] = pd.to_datetime(selected_leads[col], errors='coerce').dt.date\n"
   ]
  },
  {
   "cell_type": "code",
   "execution_count": 7,
   "id": "a614dc5b",
   "metadata": {},
   "outputs": [],
   "source": [
    "# Sort the DataFrame by first_mel_timestamp (newest first)\n",
    "selected_leads = selected_leads.sort_values(by='first_mel_timestamp', ascending=False)\n",
    "\n",
    "# Assign row number within each ID group\n",
    "selected_leads['row_num'] = selected_leads.groupby('brizo_id').cumcount() + 1\n",
    "\n",
    "# Keep only the top row (like QUALIFY row_number = 1)\n",
    "top_leads = selected_leads[selected_leads['row_num'] == 1].copy()\n"
   ]
  },
  {
   "cell_type": "code",
   "execution_count": 8,
   "id": "c97b6af2",
   "metadata": {},
   "outputs": [
    {
     "name": "stdout",
     "output_type": "stream",
     "text": [
      "               lead_id mobile_primary business_phone_line_1          brizo_id  \\\n",
      "11623  00QUo00000SrWhZ     6179975325            8574040199  c2638ca51cce596d   \n",
      "20861  00QUo00000Sr1ac     7272398834            7274479663  a862fd2975ec7c44   \n",
      "19238  00Q8b00001xKLPF     7049571547            7048228830  d615ce74fd940a54   \n",
      "12144  00QUo00000SmMKi     7202263389            3032371133  62800acf4b06529e   \n",
      "19845  00QUo00000STVhp     8599072053            8598232888  7aba6d8ee839fe7a   \n",
      "\n",
      "      created_date first_mel_timestamp latest_mql_timestamp assigned_time_ae_  \\\n",
      "11623     4/4/2023          2025-07-08           2025-07-08        2025-07-08   \n",
      "20861   10/31/2022          2025-07-07           2025-07-08        2025-07-07   \n",
      "19238   10/31/2022          2025-07-07           2025-07-07        2025-07-07   \n",
      "12144    3/22/2023          2025-07-06                  NaT               NaT   \n",
      "19845   10/31/2022          2025-07-01           2025-07-01        2025-07-01   \n",
      "\n",
      "      opportunity_created_date closed_won_date           stage  \\\n",
      "11623                      NaN             NaN             NaN   \n",
      "20861                 7/8/2025             NaN  Discovery/Demo   \n",
      "19238                 7/7/2025        7/7/2025      Closed Won   \n",
      "12144                      NaN             NaN             NaN   \n",
      "19845                      NaN             NaN             NaN   \n",
      "\n",
      "      unqualified_reason closed_lost_reason  row_num  \n",
      "11623                NaN                NaN      1.0  \n",
      "20861                NaN                NaN      1.0  \n",
      "19238                NaN                NaN      1.0  \n",
      "12144                NaN                NaN      1.0  \n",
      "19845                NaN                NaN      1.0  \n"
     ]
    }
   ],
   "source": [
    "# inspect\n",
    "print(top_leads.head(5))"
   ]
  },
  {
   "cell_type": "code",
   "execution_count": 9,
   "id": "25837b92",
   "metadata": {},
   "outputs": [],
   "source": [
    "# save\n",
    "top_leads.to_csv('data/exported_data/deduped_leads_long.csv', index=False)"
   ]
  }
 ],
 "metadata": {
  "kernelspec": {
   "display_name": "venv-marketing-operation",
   "language": "python",
   "name": "python3"
  },
  "language_info": {
   "codemirror_mode": {
    "name": "ipython",
    "version": 3
   },
   "file_extension": ".py",
   "mimetype": "text/x-python",
   "name": "python",
   "nbconvert_exporter": "python",
   "pygments_lexer": "ipython3",
   "version": "3.10.10"
  }
 },
 "nbformat": 4,
 "nbformat_minor": 5
}
