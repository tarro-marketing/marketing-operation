{
 "cells": [
  {
   "cell_type": "code",
   "execution_count": 5,
   "id": "dc804e55",
   "metadata": {},
   "outputs": [],
   "source": [
    "import pandas as pd\n",
    "import janitor\n",
    "import numpy as np\n",
    "\n",
    "leads = pd.read_csv('data/exported_data/deduped_leads_long.csv').clean_names()\n",
    "brizo = pd.read_csv('data/exported_data/combined.csv').clean_names()"
   ]
  },
  {
   "cell_type": "code",
   "execution_count": 6,
   "id": "f10383a9",
   "metadata": {},
   "outputs": [
    {
     "name": "stdout",
     "output_type": "stream",
     "text": [
      "                                  list_source year_month\n",
      "0              2024-11—2nd DM - English_Other    2024-11\n",
      "1        2024-04—Group C: CW Gift_SMS (Brizo)    2024-04\n",
      "2                       2025-07—C-LaborLowGMV    2025-07\n",
      "3                         2025-01—D - English    2025-01\n",
      "4  2024-06—Group A: SQL_Trial (Brizo) 1-28314    2024-06\n"
     ]
    }
   ],
   "source": [
    "### get the date for campaign list sources\n",
    "brizo_list = brizo['list_source'].unique().tolist()\n",
    "\n",
    "df = pd.DataFrame(brizo_list, columns=['list_source'])\n",
    "\n",
    "df['year_month'] = df['list_source'].str.extract(r'(\\d{4}-\\d{2})')\n",
    "\n",
    "df.to_csv('data/exported_data/brizo_list_with_ym.csv', index=False)\n",
    "\n",
    "# 4) Inspect\n",
    "print(df.head())\n"
   ]
  },
  {
   "cell_type": "code",
   "execution_count": 7,
   "id": "202c46c0",
   "metadata": {},
   "outputs": [
    {
     "data": {
      "application/vnd.microsoft.datawrangler.viewer.v0+json": {
       "columns": [
        {
         "name": "index",
         "rawType": "int64",
         "type": "integer"
        },
        {
         "name": "brizo_id",
         "rawType": "object",
         "type": "string"
        },
        {
         "name": "phone_number",
         "rawType": "object",
         "type": "string"
        },
        {
         "name": "count",
         "rawType": "int64",
         "type": "integer"
        }
       ],
       "ref": "8fbc7880-e8cd-45a2-bd58-cb0e0477d79f",
       "rows": [
        [
         "0",
         "00007b5fcec398ab",
         "7133644575",
         "3"
        ],
        [
         "1",
         "000144264e8456f6",
         "7163504199",
         "4"
        ],
        [
         "2",
         "0001aa412e069ffa",
         "9024220245",
         "1"
        ],
        [
         "3",
         "00022a7453654b49",
         "8056437277",
         "5"
        ],
        [
         "4",
         "000243c264f11715",
         "7864097151",
         "6"
        ],
        [
         "5",
         "0002741c5ef69aee",
         "8133736000",
         "9"
        ],
        [
         "6",
         "00029816f4114a62",
         "3154715289",
         "13"
        ],
        [
         "7",
         "0003aba06ccf49f8",
         "6362813230",
         "20"
        ],
        [
         "8",
         "0003d657a3caa6c3",
         "7187886789",
         "5"
        ],
        [
         "9",
         "0003d657a3caa6c3",
         "9293361469",
         "10"
        ],
        [
         "10",
         "00040d2a358f29ac",
         "7205842161",
         "3"
        ],
        [
         "11",
         "0004be01ccfd90c2",
         "9196771190",
         "6"
        ],
        [
         "12",
         "00050a062e1548d9",
         "7133340888",
         "17"
        ],
        [
         "13",
         "0007383c495b2257",
         "9174515356",
         "10"
        ],
        [
         "14",
         "0007383c495b2257",
         "9804472913",
         "5"
        ],
        [
         "15",
         "0008ee0d78b18c92",
         "7097268688",
         "1"
        ],
        [
         "16",
         "00090b73d60e4a15",
         "6175880889",
         "17"
        ],
        [
         "17",
         "00093eaf976cbbe0",
         "8139338191",
         "8"
        ],
        [
         "18",
         "00098eed626fe857",
         "4122611292",
         "18"
        ],
        [
         "19",
         "000a7f8673ea99be",
         "3472466441",
         "3"
        ],
        [
         "20",
         "000aad001062c15f",
         "9786630100",
         "20"
        ],
        [
         "21",
         "000cceb32e66aff2",
         "4105281711",
         "2"
        ],
        [
         "22",
         "000d027ba3f7281a",
         "6049878633",
         "1"
        ],
        [
         "23",
         "000dab38dbaf09e1",
         "9099494600",
         "20"
        ],
        [
         "24",
         "000f3b7af1b50c56",
         "2092216648",
         "6"
        ],
        [
         "25",
         "000f43fe92cbf124",
         "6043048288",
         "1"
        ],
        [
         "26",
         "000f623140200b90",
         "3096929227",
         "20"
        ],
        [
         "27",
         "000faf1d085e5299",
         "6024319189",
         "20"
        ],
        [
         "28",
         "000fb8e93ce5c040",
         "8174682888",
         "4"
        ],
        [
         "29",
         "00105d1128dbbf4e",
         "7244596590",
         "18"
        ],
        [
         "30",
         "001095108432dc9e",
         "7272646742",
         "3"
        ],
        [
         "31",
         "001402d688f359ba",
         "3523476119",
         "6"
        ],
        [
         "32",
         "00140a440e1e2759",
         "4153331199",
         "8"
        ],
        [
         "33",
         "00143b158e6cad75",
         "6066338388",
         "5"
        ],
        [
         "34",
         "0014658fadbcd88d",
         "7704320035",
         "8"
        ],
        [
         "35",
         "00147fccd962ca33",
         "7327929653",
         "4"
        ],
        [
         "36",
         "0015c87800b14e03",
         "7813218600",
         "9"
        ],
        [
         "37",
         "00166df5d7024c23",
         "8083791144",
         "3"
        ],
        [
         "38",
         "0016c6b64d219380",
         "7032235529",
         "1"
        ],
        [
         "39",
         "001726706f86f0f2",
         "3366598868",
         "18"
        ],
        [
         "40",
         "00174285a1677953",
         "8593711231",
         "3"
        ],
        [
         "41",
         "0017dbf56bc5169c",
         "7182109989",
         "10"
        ],
        [
         "42",
         "0018598ac9ed4db2",
         "4024206228",
         "14"
        ],
        [
         "43",
         "001933179893dfd6",
         "7704275599",
         "17"
        ],
        [
         "44",
         "00193fd5ce38004b",
         "5403717562",
         "21"
        ],
        [
         "45",
         "0019e4ef40680e1f",
         "7177328886",
         "12"
        ],
        [
         "46",
         "0019ea5af10484b6",
         "9257185479",
         "17"
        ],
        [
         "47",
         "0019f79bc145df52",
         "7185225619",
         "3"
        ],
        [
         "48",
         "001b4f7728b659bb",
         "6267143888",
         "3"
        ],
        [
         "49",
         "001c67859317aee9",
         "5305800888",
         "1"
        ]
       ],
       "shape": {
        "columns": 3,
        "rows": 106867
       }
      },
      "text/html": [
       "<div>\n",
       "<style scoped>\n",
       "    .dataframe tbody tr th:only-of-type {\n",
       "        vertical-align: middle;\n",
       "    }\n",
       "\n",
       "    .dataframe tbody tr th {\n",
       "        vertical-align: top;\n",
       "    }\n",
       "\n",
       "    .dataframe thead th {\n",
       "        text-align: right;\n",
       "    }\n",
       "</style>\n",
       "<table border=\"1\" class=\"dataframe\">\n",
       "  <thead>\n",
       "    <tr style=\"text-align: right;\">\n",
       "      <th></th>\n",
       "      <th>brizo_id</th>\n",
       "      <th>phone_number</th>\n",
       "      <th>count</th>\n",
       "    </tr>\n",
       "  </thead>\n",
       "  <tbody>\n",
       "    <tr>\n",
       "      <th>0</th>\n",
       "      <td>00007b5fcec398ab</td>\n",
       "      <td>7133644575</td>\n",
       "      <td>3</td>\n",
       "    </tr>\n",
       "    <tr>\n",
       "      <th>1</th>\n",
       "      <td>000144264e8456f6</td>\n",
       "      <td>7163504199</td>\n",
       "      <td>4</td>\n",
       "    </tr>\n",
       "    <tr>\n",
       "      <th>2</th>\n",
       "      <td>0001aa412e069ffa</td>\n",
       "      <td>9024220245</td>\n",
       "      <td>1</td>\n",
       "    </tr>\n",
       "    <tr>\n",
       "      <th>3</th>\n",
       "      <td>00022a7453654b49</td>\n",
       "      <td>8056437277</td>\n",
       "      <td>5</td>\n",
       "    </tr>\n",
       "    <tr>\n",
       "      <th>4</th>\n",
       "      <td>000243c264f11715</td>\n",
       "      <td>7864097151</td>\n",
       "      <td>6</td>\n",
       "    </tr>\n",
       "    <tr>\n",
       "      <th>...</th>\n",
       "      <td>...</td>\n",
       "      <td>...</td>\n",
       "      <td>...</td>\n",
       "    </tr>\n",
       "    <tr>\n",
       "      <th>106862</th>\n",
       "      <td>fffd16a3a13966b8</td>\n",
       "      <td>4106022208</td>\n",
       "      <td>11</td>\n",
       "    </tr>\n",
       "    <tr>\n",
       "      <th>106863</th>\n",
       "      <td>fffe113114e7c1e5</td>\n",
       "      <td>7188363083</td>\n",
       "      <td>21</td>\n",
       "    </tr>\n",
       "    <tr>\n",
       "      <th>106864</th>\n",
       "      <td>fffebad4ae63da74</td>\n",
       "      <td>4193558281</td>\n",
       "      <td>21</td>\n",
       "    </tr>\n",
       "    <tr>\n",
       "      <th>106865</th>\n",
       "      <td>fffedd63e21115a3</td>\n",
       "      <td>7573012384</td>\n",
       "      <td>1</td>\n",
       "    </tr>\n",
       "    <tr>\n",
       "      <th>106866</th>\n",
       "      <td>ffffd993f576e008</td>\n",
       "      <td>8015236022</td>\n",
       "      <td>8</td>\n",
       "    </tr>\n",
       "  </tbody>\n",
       "</table>\n",
       "<p>106867 rows × 3 columns</p>\n",
       "</div>"
      ],
      "text/plain": [
       "                brizo_id phone_number  count\n",
       "0       00007b5fcec398ab   7133644575      3\n",
       "1       000144264e8456f6   7163504199      4\n",
       "2       0001aa412e069ffa   9024220245      1\n",
       "3       00022a7453654b49   8056437277      5\n",
       "4       000243c264f11715   7864097151      6\n",
       "...                  ...          ...    ...\n",
       "106862  fffd16a3a13966b8   4106022208     11\n",
       "106863  fffe113114e7c1e5   7188363083     21\n",
       "106864  fffebad4ae63da74   4193558281     21\n",
       "106865  fffedd63e21115a3   7573012384      1\n",
       "106866  ffffd993f576e008   8015236022      8\n",
       "\n",
       "[106867 rows x 3 columns]"
      ]
     },
     "metadata": {},
     "output_type": "display_data"
    }
   ],
   "source": [
    "# ensure phone_number is string\n",
    "brizo['phone_number'] = brizo['phone_number'].astype(str)\n",
    "# remove any non-digit (spaces, punctuation, letters, etc.)\n",
    "brizo['phone_number'] = brizo['phone_number'].str.replace(r'\\D+', '', regex=True)\n",
    "\n",
    "brizo_counts = (\n",
    "    brizo\n",
    "      .groupby(['brizo_id', 'phone_number'])\n",
    "      .size()\n",
    "      .reset_index(name='count')\n",
    ")\n",
    "display(brizo_counts)"
   ]
  },
  {
   "cell_type": "code",
   "execution_count": 8,
   "id": "7301ad70",
   "metadata": {},
   "outputs": [],
   "source": [
    "selected_leads = leads[['lead_id','mobile_primary',\n",
    "                        'business_phone_line_1','brizo_id', \n",
    "                        'created_date',\n",
    "                        'first_mel_timestamp','latest_mql_timestamp',\n",
    "                        'assigned_time_ae_',\n",
    "                        'opportunity_created_date',\n",
    "                        'closed_won_date',\n",
    "                        'stage','unqualified_reason', 'closed_lost_reason']].drop_duplicates()\n",
    "\n"
   ]
  },
  {
   "cell_type": "code",
   "execution_count": 9,
   "id": "7a9db76a",
   "metadata": {},
   "outputs": [
    {
     "name": "stdout",
     "output_type": "stream",
     "text": [
      "Empty DataFrame\n",
      "Columns: [brizo_id, n_matches]\n",
      "Index: []\n"
     ]
    }
   ],
   "source": [
    "# Count how many times each brizo_id appears\n",
    "dup_counts = (\n",
    "    selected_leads\n",
    "      .groupby('brizo_id')\n",
    "      .size()\n",
    "      .reset_index(name='n_matches')\n",
    ")\n",
    "\n",
    "# See which IDs appear more than once\n",
    "print( dup_counts.query('n_matches > 1') )"
   ]
  },
  {
   "cell_type": "code",
   "execution_count": 10,
   "id": "e41b6371",
   "metadata": {},
   "outputs": [
    {
     "name": "stdout",
     "output_type": "stream",
     "text": [
      "           brizo_id phone_number  count          lead_id  mobile_primary  \\\n",
      "0  00147fccd962ca33   7327929653      4  00Q8b00001xKJGh             NaN   \n",
      "1  00282d2fa2df2c18   6312183888     21  00Q8b000021p6WV             NaN   \n",
      "2  00370ffaea501b02   4106509949     15  00QUo00000RWj47    6.462091e+09   \n",
      "3  003bf5ec93f0b157   7326571616     21  00QUo000009gYJS    7.329305e+09   \n",
      "4  005be3f96749e3e1   2057987288      4  00Q8b00001xKGX1             NaN   \n",
      "\n",
      "   business_phone_line_1 created_date first_mel_timestamp  \\\n",
      "0           7.327930e+09   10/31/2022          2023-11-01   \n",
      "1           6.312184e+09     4/4/2023          2023-12-28   \n",
      "2           4.106510e+09    2/25/2025          2025-02-25   \n",
      "3           7.326572e+09   10/31/2022          2024-04-23   \n",
      "4           2.057987e+09   10/31/2022          2023-12-19   \n",
      "\n",
      "  latest_mql_timestamp assigned_time_ae_ opportunity_created_date  \\\n",
      "0                  NaN               NaN                      NaN   \n",
      "1                  NaN               NaN                      NaN   \n",
      "2           2025-06-17        2025-06-17                6/17/2025   \n",
      "3           2024-04-23        2024-04-23                4/23/2024   \n",
      "4                  NaN               NaN                      NaN   \n",
      "\n",
      "  closed_won_date           stage unqualified_reason closed_lost_reason  \\\n",
      "0             NaN             NaN          Duplicate                NaN   \n",
      "1             NaN             NaN                NaN                NaN   \n",
      "2             NaN  Discovery/Demo                NaN                NaN   \n",
      "3             NaN     Closed Lost                NaN              Price   \n",
      "4             NaN             NaN          Duplicate                NaN   \n",
      "\n",
      "  match_key  \n",
      "0  brizo_id  \n",
      "1  brizo_id  \n",
      "2  brizo_id  \n",
      "3  brizo_id  \n",
      "4  brizo_id  \n"
     ]
    }
   ],
   "source": [
    "match_brizo = brizo_counts.merge(\n",
    "    selected_leads,\n",
    "    on='brizo_id',\n",
    "    how='inner'\n",
    ").assign(match_key='brizo_id')\n",
    "\n",
    "\n",
    "print(match_brizo.head())\n"
   ]
  },
  {
   "cell_type": "code",
   "execution_count": 11,
   "id": "fa33bea8",
   "metadata": {},
   "outputs": [],
   "source": [
    "match_brizo.to_csv('data/exported_data/match_brizo.csv', index=False)"
   ]
  }
 ],
 "metadata": {
  "kernelspec": {
   "display_name": "venv-marketing-operation",
   "language": "python",
   "name": "python3"
  },
  "language_info": {
   "codemirror_mode": {
    "name": "ipython",
    "version": 3
   },
   "file_extension": ".py",
   "mimetype": "text/x-python",
   "name": "python",
   "nbconvert_exporter": "python",
   "pygments_lexer": "ipython3",
   "version": "3.10.10"
  }
 },
 "nbformat": 4,
 "nbformat_minor": 5
}
