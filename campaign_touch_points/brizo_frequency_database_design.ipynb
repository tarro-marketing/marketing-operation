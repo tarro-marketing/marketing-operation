{
 "cells": [
  {
   "cell_type": "code",
   "execution_count": 1,
   "id": "85df2907",
   "metadata": {},
   "outputs": [],
   "source": [
    "import pandas as pd\n",
    "import numpy as np\n",
    "\n",
    "import re, unicodedata\n",
    "import pandas as pd"
   ]
  },
  {
   "cell_type": "code",
   "execution_count": 2,
   "id": "1ef75d02",
   "metadata": {},
   "outputs": [],
   "source": [
    "\n",
    "\n",
    "brizo_id_campaign_log = pd.read_csv('/Users/yukachen/marketing-operation/campaign_touch_points/brizo_id_campaign_log.csv')"
   ]
  },
  {
   "cell_type": "code",
   "execution_count": 3,
   "id": "2fcc786e",
   "metadata": {},
   "outputs": [
    {
     "data": {
      "application/vnd.microsoft.datawrangler.viewer.v0+json": {
       "columns": [
        {
         "name": "index",
         "rawType": "int64",
         "type": "integer"
        },
        {
         "name": "brizo_id",
         "rawType": "object",
         "type": "string"
        },
        {
         "name": "list_source",
         "rawType": "object",
         "type": "string"
        }
       ],
       "ref": "2157498b-75bd-4a8d-9811-e3b9b0987332",
       "rows": [
        [
         "0",
         "b16872c1695c8f3d",
         "2024-11—2nd DM - English_Other"
        ],
        [
         "1",
         "fd839c0293eeafbf",
         "2024-11—2nd DM - English_Other"
        ],
        [
         "2",
         "06f64ace3ee27934",
         "2024-11—2nd DM - English_Other"
        ],
        [
         "3",
         "6711eba132ab3e4b",
         "2024-11—2nd DM - English_Other"
        ],
        [
         "4",
         "d6fae7175b6522d8",
         "2024-11—2nd DM - English_Other"
        ]
       ],
       "shape": {
        "columns": 2,
        "rows": 5
       }
      },
      "text/html": [
       "<div>\n",
       "<style scoped>\n",
       "    .dataframe tbody tr th:only-of-type {\n",
       "        vertical-align: middle;\n",
       "    }\n",
       "\n",
       "    .dataframe tbody tr th {\n",
       "        vertical-align: top;\n",
       "    }\n",
       "\n",
       "    .dataframe thead th {\n",
       "        text-align: right;\n",
       "    }\n",
       "</style>\n",
       "<table border=\"1\" class=\"dataframe\">\n",
       "  <thead>\n",
       "    <tr style=\"text-align: right;\">\n",
       "      <th></th>\n",
       "      <th>brizo_id</th>\n",
       "      <th>list_source</th>\n",
       "    </tr>\n",
       "  </thead>\n",
       "  <tbody>\n",
       "    <tr>\n",
       "      <th>0</th>\n",
       "      <td>b16872c1695c8f3d</td>\n",
       "      <td>2024-11—2nd DM - English_Other</td>\n",
       "    </tr>\n",
       "    <tr>\n",
       "      <th>1</th>\n",
       "      <td>fd839c0293eeafbf</td>\n",
       "      <td>2024-11—2nd DM - English_Other</td>\n",
       "    </tr>\n",
       "    <tr>\n",
       "      <th>2</th>\n",
       "      <td>06f64ace3ee27934</td>\n",
       "      <td>2024-11—2nd DM - English_Other</td>\n",
       "    </tr>\n",
       "    <tr>\n",
       "      <th>3</th>\n",
       "      <td>6711eba132ab3e4b</td>\n",
       "      <td>2024-11—2nd DM - English_Other</td>\n",
       "    </tr>\n",
       "    <tr>\n",
       "      <th>4</th>\n",
       "      <td>d6fae7175b6522d8</td>\n",
       "      <td>2024-11—2nd DM - English_Other</td>\n",
       "    </tr>\n",
       "  </tbody>\n",
       "</table>\n",
       "</div>"
      ],
      "text/plain": [
       "           brizo_id                     list_source\n",
       "0  b16872c1695c8f3d  2024-11—2nd DM - English_Other\n",
       "1  fd839c0293eeafbf  2024-11—2nd DM - English_Other\n",
       "2  06f64ace3ee27934  2024-11—2nd DM - English_Other\n",
       "3  6711eba132ab3e4b  2024-11—2nd DM - English_Other\n",
       "4  d6fae7175b6522d8  2024-11—2nd DM - English_Other"
      ]
     },
     "metadata": {},
     "output_type": "display_data"
    }
   ],
   "source": [
    "display(brizo_id_campaign_log.head(5))"
   ]
  },
  {
   "cell_type": "code",
   "execution_count": 4,
   "id": "b41c8b78",
   "metadata": {},
   "outputs": [
    {
     "name": "stdout",
     "output_type": "stream",
     "text": [
      "['2024-11—2nd DM - English_Other' '2024-04—Group C: CW Gift_SMS (Brizo)'\n",
      " '2025-07—C-LaborLowGMV' '2025-01—D - English'\n",
      " '2024-06—Group A: SQL_Trial (Brizo) 1-28314'\n",
      " '2025-03—B - Heartfelt (22407-44812)' '2025-05—Group A - High GMV'\n",
      " '2024-06—Group B: 50% (Brizo) 28315-57074'\n",
      " '2024-11—Unknown (28987-50734)'\n",
      " '2024-05—Group B: Bifold (Brizo) 28315-57074'\n",
      " '2024-02—Brizo - SQL Gift (G1)' '2024-09—Brizo A (Creative) 1-24229'\n",
      " '2024-11—Chinese (1-20118)' '2025-01—B - Chinese (Low GMV)'\n",
      " '2024-03—Group B - Trial Only' '2024-12—A - Chinese _Unknown'\n",
      " '2024-08—Brizo - A ($100) 1-18487' '2025-01—A - Chinese (High GMV)'\n",
      " '2025-04—Group A - Giftcard (1-25601)'\n",
      " '2024-08—Brizo - C ($300) 35527-51230' '2024-11—English (20119-28986)'\n",
      " '2024-07—Brizo A - Copy1  (1-25280)' '2024-10—A - Western 1-26130'\n",
      " '2025-07—B-RevenueHighGMV' '2025-01—C - Bilingual'\n",
      " '2025-06—Group B - Japanese' '2025-02—Drop1C - Bilingual VO'\n",
      " '2024-07—Brizo B - Copy2 (25281-51743)'\n",
      " '2024-01—Brizo - CAN (69821-78112)' '2025-03—A - Credibility (1-22406)'\n",
      " '2025-02—Drop1B - Chinese DE' '2025-02—Drop2A - Chinese VO'\n",
      " '2025-02—Drop2C - Bilingual VO' '2024-01—Brizo - US (1-56002)'\n",
      " '2025-02—Drop1D - Bilingual DE' '2024-04—Group B: SMS Only (Brizo)'\n",
      " '2024-08—Brizo - B ($200) 18488-35526'\n",
      " '2024-04—Group A: Free Trial_SMS (Brizo)' '2025-02—Drop2D - Bilingual DE'\n",
      " '2024-11—2nd DM - Chinese' '2024-10—B - Chinese 26131-51680'\n",
      " '2025-06—Group A - Chinese' '2024-12—B - English'\n",
      " '2025-07—A-LaborHighGMV' '2024-09—Brizo B (Evergreen) 24230-49312'\n",
      " '2024-05—Group A: Post-Card (Brizo) 1-28314'\n",
      " '2024-02—Brizo - CW Gift (G2)' '2024-03—Group C - SQL Gift and Trial'\n",
      " '2025-05—Group B - Low GMV' '2024-02—Brizo - No Promo(G3)'\n",
      " '2024-03—Group A - SQL Gift_No Trial' '2025-07—D-RevenueLowGMV'\n",
      " '2025-04—Group B - Air Purifier (25602-51230)'\n",
      " '2025-02—Drop1A - Chinese VO' '2025-02—Drop2B - Chinese DE'\n",
      " '2025-06—Brizo Full List ']\n"
     ]
    }
   ],
   "source": [
    "print(brizo_id_campaign_log['list_source'].unique())\n",
    "\n",
    "brizo_id_campaign_log['list_source'].drop_duplicates().to_csv(\n",
    "    'unique_list_source.csv', index=False, header=['list_source']\n",
    ")\n"
   ]
  },
  {
   "cell_type": "code",
   "execution_count": 5,
   "id": "7a19ecef",
   "metadata": {},
   "outputs": [],
   "source": [
    "def clean_list_source(s: str) -> str:\n",
    "    if pd.isna(s):\n",
    "        return s\n",
    "    s = unicodedata.normalize('NFKC', str(s)).strip()\n",
    "\n",
    "    # A. Normalize the date separator to \"YYYY-MM—\"\n",
    "    s = re.sub(r'^(\\d{4})[-/](\\d{2})\\s*[—-]\\s*', r'\\1-\\2—', s)\n",
    "\n",
    "    # B. Convert stray underscores to spaces\n",
    "    s = s.replace('_', ' ')\n",
    "\n",
    "    # C. Make \"Group A:\" -> \"Group A -\"\n",
    "    s = re.sub(r'(Group [A-Z])\\s*:\\s*', r'\\1 - ', s)\n",
    "\n",
    "    # D. Ensure single spaces around hyphens between words (not touching ranges)\n",
    "    s = re.sub(r'(?<=\\w)\\s*-\\s*(?=\\w)', ' - ', s)\n",
    "\n",
    "    # E. Normalize “Promo(G3)” -> “Promo (G3)” and extra spaces before parens\n",
    "    s = re.sub(r'\\s*\\(', ' (', s)      # at least one space before '('\n",
    "    s = re.sub(r'\\(\\s+', '(', s)       # no space right after '('\n",
    "    s = re.sub(r'\\s+\\)', ')', s)       # no space before ')'\n",
    "\n",
    "    # F. If a numeric range trails the string (e.g., \" 28315-57074\"), move into parens\n",
    "    s = re.sub(r'\\s(\\d+-\\d+)$', r' (\\1)', s)\n",
    "\n",
    "    # G. Collapse multiple spaces\n",
    "    s = re.sub(r'\\s{2,}', ' ', s).strip()\n",
    "\n",
    "    return s\n",
    "\n",
    "# Apply\n",
    "brizo_id_campaign_log['list_source_clean'] = brizo_id_campaign_log['list_source'].map(clean_list_source)\n"
   ]
  },
  {
   "cell_type": "code",
   "execution_count": 6,
   "id": "c73dfa9c",
   "metadata": {},
   "outputs": [],
   "source": [
    "brizo_id_campaign_log.drop(columns=['list_source'], inplace=True)"
   ]
  },
  {
   "cell_type": "code",
   "execution_count": 7,
   "id": "b3155c1b",
   "metadata": {},
   "outputs": [],
   "source": [
    "brizo_id_campaign_log = brizo_id_campaign_log.rename(columns={'list_source_clean': 'campaign_name'})"
   ]
  },
  {
   "cell_type": "code",
   "execution_count": 8,
   "id": "a1975581",
   "metadata": {},
   "outputs": [],
   "source": [
    "brizo_id_campaign_log_clean = brizo_id_campaign_log.copy()"
   ]
  },
  {
   "cell_type": "code",
   "execution_count": 9,
   "id": "3b38c310",
   "metadata": {},
   "outputs": [],
   "source": [
    "# create year and month columns from the cleaned campaign_name\n",
    "brizo_id_campaign_log_clean['year'] = brizo_id_campaign_log_clean['campaign_name'].str.extract(r'(\\d{4})')\n",
    "brizo_id_campaign_log_clean['month'] = brizo_id_campaign_log_clean['campaign_name'].str.extract(r'\\d{4}\\s*-\\s*(\\d{2})')\n",
    "\n",
    "# Optional: convert to integer\n",
    "brizo_id_campaign_log_clean['year'] = brizo_id_campaign_log_clean['year'].astype(int)\n",
    "brizo_id_campaign_log_clean['month'] = brizo_id_campaign_log_clean['month'].astype(int)"
   ]
  },
  {
   "cell_type": "code",
   "execution_count": 10,
   "id": "e33e12a0",
   "metadata": {},
   "outputs": [],
   "source": [
    "# Create 'cuisine' column\n",
    "# brizo_id_campaign_log_clean['cuisine'] = np.select(\n",
    "#     [\n",
    "#         brizo_id_campaign_log_clean['campaign_name'].str.contains('2025-06—Group A - Chinese', case=False, na=False),\n",
    "#         brizo_id_campaign_log_clean['campaign_name'].str.contains('2025-06—Group B - Japanese', case=False, na=False)\n",
    "#     ],\n",
    "#     ['Chinese', 'Japanese'],\n",
    "#     default='No Segmentation'\n",
    "# )\n",
    "\n",
    "# Create 'gmv_level' column\n",
    "brizo_id_campaign_log_clean['gmv_level'] = np.select(\n",
    "    [\n",
    "        brizo_id_campaign_log_clean['campaign_name'].str.contains('HighGMV', case=False, na=False) |\n",
    "        brizo_id_campaign_log_clean['campaign_name'].str.contains('High GMV', case=False, na=False),\n",
    "        brizo_id_campaign_log_clean['campaign_name'].str.contains('LowGMV', case=False, na=False) |\n",
    "        brizo_id_campaign_log_clean['campaign_name'].str.contains('Low GMV', case=False, na=False)\n",
    "    ],\n",
    "    ['High GMV', 'Low GMV'],\n",
    "    default='No Segmentation'\n",
    ")\n",
    "\n",
    "brizo_id_campaign_log_clean['dm_drop'] = np.select(\n",
    "    [\n",
    "        brizo_id_campaign_log_clean['campaign_name'].str.contains('Drop1', case=False, na=False),\n",
    "        brizo_id_campaign_log_clean['campaign_name'].str.contains('Drop2', case=False, na=False) |\n",
    "        brizo_id_campaign_log_clean['campaign_name'].str.contains('2nd', case=False, na=False)\n",
    "    ],\n",
    "    ['Drop 1', 'Drop 2'],\n",
    "    default='Drop 1'\n",
    ")\n",
    "\n",
    "brizo_id_campaign_log_clean['campaign_name'] = brizo_id_campaign_log_clean['campaign_name'].apply(\n",
    "    lambda x: re.sub(r'[\\s–—-]+', '_', x)\n",
    ")"
   ]
  },
  {
   "cell_type": "code",
   "execution_count": 11,
   "id": "2837f631",
   "metadata": {},
   "outputs": [],
   "source": [
    "brizo_id_campaign_log_clean.to_csv('/Users/yukachen/marketing-operation/campaign_touch_points/brizo_dm_send_log.csv', index=False)"
   ]
  },
  {
   "cell_type": "code",
   "execution_count": 12,
   "id": "e7efe42b",
   "metadata": {},
   "outputs": [],
   "source": [
    "# Sample 25 random rows\n",
    "sample_df = brizo_id_campaign_log_clean.sample(n=25, random_state=42)\n",
    "\n",
    "# Save to CSV\n",
    "sample_df.to_csv('/Users/yukachen/marketing-operation/campaign_touch_points/brizo_id_campaign_log_sample.csv', index=False)"
   ]
  },
  {
   "cell_type": "code",
   "execution_count": null,
   "id": "d85627f8",
   "metadata": {},
   "outputs": [],
   "source": []
  },
  {
   "cell_type": "code",
   "execution_count": 13,
   "id": "ba8eb947",
   "metadata": {},
   "outputs": [],
   "source": [
    "# brizo_id_campaign_log['present'] = True\n",
    "# wide = (brizo_id_campaign_log.pivot_table(index='brizo_id',\n",
    "#                        columns='list_source_clean',\n",
    "#                        values='present',\n",
    "#                        aggfunc='any',         # handles duplicates safely\n",
    "#                        fill_value=False)\n",
    "#           .reset_index()\n",
    "#           .replace({True: 'TRUE', False: 'FALSE'}))"
   ]
  },
  {
   "cell_type": "code",
   "execution_count": 14,
   "id": "42891cf2",
   "metadata": {},
   "outputs": [],
   "source": [
    "# wide.to_csv('brizo_frequency_database_design.csv', index=False, encoding='utf-8-sig')"
   ]
  }
 ],
 "metadata": {
  "kernelspec": {
   "display_name": "venv-marketing-operation",
   "language": "python",
   "name": "python3"
  },
  "language_info": {
   "codemirror_mode": {
    "name": "ipython",
    "version": 3
   },
   "file_extension": ".py",
   "mimetype": "text/x-python",
   "name": "python",
   "nbconvert_exporter": "python",
   "pygments_lexer": "ipython3",
   "version": "3.10.10"
  }
 },
 "nbformat": 4,
 "nbformat_minor": 5
}
