{
 "cells": [
  {
   "cell_type": "markdown",
   "metadata": {},
   "source": [
    "Loading the packages"
   ]
  },
  {
   "cell_type": "code",
   "execution_count": 1,
   "metadata": {},
   "outputs": [],
   "source": [
    "import numpy as np  # NumPy: For numerical and array operations.\n",
    "import pandas as pd  # Pandas: For data manipulation and analysis.\n",
    "import matplotlib.pyplot as plt  # Matplotlib: For creating various types of plots and charts.\n",
    "import seaborn as sns  # Seaborn: For making data visualizations more attractive and informative.\n",
    "import re\n",
    "import glob"
   ]
  },
  {
   "cell_type": "markdown",
   "metadata": {},
   "source": [
    "Loading data"
   ]
  },
  {
   "cell_type": "code",
   "execution_count": 15,
   "metadata": {},
   "outputs": [],
   "source": [
    "site_visit = pd.read_csv(\"../data/RAW/google_analytic_qr_scan.csv\")\n",
    "\n",
    "site_visit[\"Date\"] = pd.to_datetime(site_visit[\"Date\"], format=\"%Y%m%d\")\n",
    "site_visit[\"Date\"] = site_visit[\"Date\"].dt.strftime(\"%Y/%m/%d\")\n",
    "\n",
    "\n",
    "site_visit[\"Page location\"] = site_visit[\"Page location\"].astype(str)"
   ]
  },
  {
   "cell_type": "markdown",
   "metadata": {},
   "source": [
    "Identify which group they are from\n",
    "\n",
    "- DM: 1\n",
    "- List A + List C = Trifold\t= airfryer/ airfryer3/ airfryer5\"\n",
    "- List B + List D =\tEnvelope = airfryer2/ airfryer4\n",
    "\n",
    "- DM2 : List A = Postcard = airfryer6"
   ]
  },
  {
   "cell_type": "code",
   "execution_count": 3,
   "metadata": {},
   "outputs": [],
   "source": [
    "def categorize_drop(row):\n",
    "    lowered_row = row.lower()\n",
    "    if \"airfryer2\" in lowered_row or \"airfryer4\" in lowered_row:\n",
    "        return \"DM1_envelope\"\n",
    "    elif \"airfryer3\" in lowered_row or \"airfryer5\" in lowered_row:\n",
    "        return \"DM1_trifold\"\n",
    "    elif \"airfryer6\" in lowered_row:\n",
    "        return \"DM2_postcard\"\n",
    "    elif \"airfryer\" in lowered_row:\n",
    "        return \"DM1_trifold\"  # Update with the appropriate category for general \"airfryer\"\n",
    "    else:\n",
    "        return None\n",
    "\n",
    "\n",
    "# Apply the function to create the 'Category' column\n",
    "site_visit[\"Category\"] = site_visit[\"Page location\"].apply(categorize_drop)\n",
    "\n",
    "site_visit[\"Airfryer_Type\"] = site_visit[\"Page location\"].str.extract(\n",
    "    r\"(airfryer\\d?)\", flags=re.IGNORECASE\n",
    ")"
   ]
  },
  {
   "cell_type": "code",
   "execution_count": 4,
   "metadata": {},
   "outputs": [
    {
     "name": "stdout",
     "output_type": "stream",
     "text": [
      "119\n"
     ]
    }
   ],
   "source": [
    "print(site_visit[\"Page location\"].nunique())"
   ]
  },
  {
   "cell_type": "markdown",
   "metadata": {},
   "source": [
    "getting the id for site visit (scanned qr code, submitted the forms)"
   ]
  },
  {
   "cell_type": "code",
   "execution_count": 25,
   "metadata": {},
   "outputs": [
    {
     "name": "stdout",
     "output_type": "stream",
     "text": [
      "110\n"
     ]
    }
   ],
   "source": [
    "## getting the id for site visit (scanned qr code, submitted the forms)\n",
    "\n",
    "site_visit[\"ID\"] = site_visit[\"Page location\"].str.extract(r\"utm_id=(\\d+)\")\n",
    "site_visit.dropna(subset=[\"ID\"], inplace=True)\n",
    "\n",
    "site_visit = site_visit[site_visit[\"ID\"] != \"00000\"]\n",
    "\n",
    "id_counts = site_visit[\"ID\"].value_counts()\n",
    "site_visit[\"visit_again\"] = site_visit[\"ID\"].map(id_counts) > 1\n",
    "site_visit[\"visit_again\"] = site_visit[\"visit_again\"].fillna(False)\n",
    "\n",
    "print(site_visit[\"ID\"].nunique())\n",
    "\n",
    "site_visit.to_csv(\"../data/1site_visit_draft.csv\")"
   ]
  },
  {
   "cell_type": "code",
   "execution_count": 6,
   "metadata": {},
   "outputs": [],
   "source": [
    "site_visit_unique_ids = site_visit.drop_duplicates(subset=[\"ID\"])\n",
    "site_visit_unique_ids = site_visit.drop_duplicates(subset=[\"ID\"], keep=\"last\")"
   ]
  },
  {
   "cell_type": "code",
   "execution_count": 7,
   "metadata": {},
   "outputs": [],
   "source": [
    "form_submit = pd.read_csv(\"../data/RAW/submissions.csv\")\n",
    "form_submit[\"ID\"] = form_submit[\"Referrer\"].str.extract(r\"utm_id=(\\d+)\")\n",
    "form_submit[\"utm_id\"].fillna(\n",
    "    form_submit[\"Referrer\"]\n",
    "    .str.extract(r\"utm_id=(\\d+)\")\n",
    "    .iloc[:, 0]\n",
    "    .astype(float),\n",
    "    inplace=True,\n",
    ")\n",
    "\n",
    "form_submit.rename(columns={\"姓氏\": \"Name\", \"手机号码\": \"Phone\"}, inplace=True)\n",
    "\n",
    "\n",
    "form_submit[\"Category\"] = form_submit[\"Referrer\"].apply(categorize_drop)\n",
    "\n",
    "form_submit[\"Airfryer_Type\"] = form_submit[\"Referrer\"].str.extract(\n",
    "    r\"(airfryer\\d?)\", flags=re.IGNORECASE\n",
    ")\n",
    "form_submit[\"Phone\"] = form_submit[\"Phone\"].str.replace(\"-\", \"\", regex=True)\n",
    "\n",
    "form_submit.to_csv(\"../data/1form_submission.csv\")"
   ]
  },
  {
   "cell_type": "code",
   "execution_count": 19,
   "metadata": {},
   "outputs": [],
   "source": [
    "# Extract IDs from form_submit as a list\n",
    "form_submit2 = form_submit.dropna(subset=[\"utm_id\"])\n",
    "\n",
    "extracted_ids = form_submit2[\"utm_id\"].tolist()\n",
    "\n",
    "formatted_ids = [\n",
    "    str(int(id)).zfill(5) if isinstance(id, (int, float)) else id\n",
    "    for id in extracted_ids\n",
    "]\n",
    "\n",
    "# Use .loc to avoid the SettingWithCopyWarning\n",
    "site_visit_unique_ids.loc[:, \"form_submission\"] = (\n",
    "    site_visit_unique_ids.loc[:, \"ID\"].isin(formatted_ids).astype(str)\n",
    ")"
   ]
  },
  {
   "cell_type": "markdown",
   "metadata": {},
   "source": [
    "Compile all Brizo List"
   ]
  },
  {
   "cell_type": "code",
   "execution_count": 17,
   "metadata": {},
   "outputs": [],
   "source": []
  },
  {
   "cell_type": "code",
   "execution_count": 18,
   "metadata": {},
   "outputs": [],
   "source": []
  },
  {
   "cell_type": "code",
   "execution_count": 11,
   "metadata": {},
   "outputs": [],
   "source": [
    "site_visit_unique_ids.loc[:, \"ID\"] = site_visit_unique_ids[\"ID\"].astype(int)\n",
    "\n",
    "## change Snowball format (00000)\n",
    "all_data_brizo = all_data_brizo.dropna(subset=[\"Snowball Map\"])\n",
    "extracted_ids_brizo = all_data_brizo[\"Snowball Map\"].tolist()\n",
    "formatted_ids_brizo = [\n",
    "    str(int(id)).zfill(5) if isinstance(id, (int, float)) else id\n",
    "    for id in extracted_ids_brizo\n",
    "]\n",
    "\n",
    "site_visit_brizo = pd.merge(\n",
    "    site_visit_unique_ids,\n",
    "    all_data_brizo,\n",
    "    left_on=\"ID\",\n",
    "    right_on=\"Snowball Map\",\n",
    "    how=\"left\",\n",
    ")\n",
    "\n",
    "site_visit_brizo = site_visit_brizo[site_visit_brizo[\"Snowball Map\"].notnull()]"
   ]
  },
  {
   "cell_type": "code",
   "execution_count": 12,
   "metadata": {},
   "outputs": [],
   "source": [
    "all_data_printshop = all_data_printshop.dropna(subset=[\"Snowball Map\"])\n",
    "extracted_ids_printshop = all_data_printshop[\"Snowball Map\"].tolist()\n",
    "formatted_ids_printshop = [\n",
    "    str(int(id)).zfill(5) if isinstance(id, (int, float)) else id\n",
    "    for id in extracted_ids_printshop\n",
    "]\n",
    "\n",
    "\n",
    "site_visit_printshop = pd.merge(\n",
    "    site_visit_unique_ids,\n",
    "    all_data_printshop,\n",
    "    left_on=\"ID\",\n",
    "    right_on=\"Snowball Map\",\n",
    "    how=\"left\",\n",
    ")\n",
    "\n",
    "site_visit_printshop = site_visit_printshop[\n",
    "    site_visit_printshop[\"Snowball Map\"].notnull()\n",
    "]"
   ]
  },
  {
   "cell_type": "markdown",
   "metadata": {},
   "source": [
    "# 2023 12/01/2023 FROM HERE\n",
    "\n",
    "already have site_visit_brizo and site_visit_printshop\n",
    "\n",
    "1. create list from for both list\n",
    "2. combine them\n",
    "3. cleaning phone numbers and join with phone numbers\n",
    "4. join with form fill\n",
    "5. join with November lead"
   ]
  },
  {
   "cell_type": "code",
   "execution_count": 13,
   "metadata": {},
   "outputs": [],
   "source": [
    "site_visit_brizo[\"Business Phone\"] = site_visit_brizo[\n",
    "    \"Business Phone\"\n",
    "].str.replace(r\"\\D\", \"\", regex=True)"
   ]
  },
  {
   "cell_type": "code",
   "execution_count": 24,
   "metadata": {},
   "outputs": [],
   "source": [
    "IB_Call_Nov_Dec = pd.read_csv(\"../data/RAW/Ibcall.csv\").dropna(subset=[\"Date\"])"
   ]
  },
  {
   "cell_type": "markdown",
   "metadata": {},
   "source": [
    "checking if they have scanned the qr code more than once"
   ]
  },
  {
   "cell_type": "markdown",
   "metadata": {},
   "source": [
    "if the call is empty, then fill the phone numbers from the form submitted"
   ]
  },
  {
   "cell_type": "markdown",
   "metadata": {},
   "source": [
    "using Inbound Call Tracker to match if they scanned and have called"
   ]
  },
  {
   "cell_type": "code",
   "execution_count": 14,
   "metadata": {},
   "outputs": [
    {
     "ename": "FileNotFoundError",
     "evalue": "[Errno 2] No such file or directory: 'data/Inbound-Call-Notes.csv'",
     "output_type": "error",
     "traceback": [
      "\u001b[1;31m---------------------------------------------------------------------------\u001b[0m",
      "\u001b[1;31mFileNotFoundError\u001b[0m                         Traceback (most recent call last)",
      "\u001b[1;32mc:\\Users\\skt\\Desktop\\Data\\Nov-DM-Data\\scripts\\data_cleaning.ipynb Cell 23\u001b[0m line \u001b[0;36m1\n\u001b[1;32m----> <a href='vscode-notebook-cell:/c%3A/Users/skt/Desktop/Data/Nov-DM-Data/scripts/data_cleaning.ipynb#X31sZmlsZQ%3D%3D?line=0'>1</a>\u001b[0m inbound_call \u001b[39m=\u001b[39m pd\u001b[39m.\u001b[39;49mread_csv(\u001b[39m\"\u001b[39;49m\u001b[39mdata/Inbound-Call-Notes.csv\u001b[39;49m\u001b[39m\"\u001b[39;49m)\n\u001b[0;32m      <a href='vscode-notebook-cell:/c%3A/Users/skt/Desktop/Data/Nov-DM-Data/scripts/data_cleaning.ipynb#X31sZmlsZQ%3D%3D?line=2'>3</a>\u001b[0m \u001b[39m# Add '2023' to the 'Date' column\u001b[39;00m\n\u001b[0;32m      <a href='vscode-notebook-cell:/c%3A/Users/skt/Desktop/Data/Nov-DM-Data/scripts/data_cleaning.ipynb#X31sZmlsZQ%3D%3D?line=3'>4</a>\u001b[0m inbound_call[\u001b[39m'\u001b[39m\u001b[39mDate\u001b[39m\u001b[39m'\u001b[39m] \u001b[39m=\u001b[39m \u001b[39m'\u001b[39m\u001b[39m2023 \u001b[39m\u001b[39m'\u001b[39m \u001b[39m+\u001b[39m inbound_call[\u001b[39m'\u001b[39m\u001b[39mDate\u001b[39m\u001b[39m'\u001b[39m]\n",
      "File \u001b[1;32mc:\\Users\\skt\\AppData\\Local\\Programs\\Python\\Python312\\Lib\\site-packages\\pandas\\io\\parsers\\readers.py:948\u001b[0m, in \u001b[0;36mread_csv\u001b[1;34m(filepath_or_buffer, sep, delimiter, header, names, index_col, usecols, dtype, engine, converters, true_values, false_values, skipinitialspace, skiprows, skipfooter, nrows, na_values, keep_default_na, na_filter, verbose, skip_blank_lines, parse_dates, infer_datetime_format, keep_date_col, date_parser, date_format, dayfirst, cache_dates, iterator, chunksize, compression, thousands, decimal, lineterminator, quotechar, quoting, doublequote, escapechar, comment, encoding, encoding_errors, dialect, on_bad_lines, delim_whitespace, low_memory, memory_map, float_precision, storage_options, dtype_backend)\u001b[0m\n\u001b[0;32m    935\u001b[0m kwds_defaults \u001b[39m=\u001b[39m _refine_defaults_read(\n\u001b[0;32m    936\u001b[0m     dialect,\n\u001b[0;32m    937\u001b[0m     delimiter,\n\u001b[1;32m   (...)\u001b[0m\n\u001b[0;32m    944\u001b[0m     dtype_backend\u001b[39m=\u001b[39mdtype_backend,\n\u001b[0;32m    945\u001b[0m )\n\u001b[0;32m    946\u001b[0m kwds\u001b[39m.\u001b[39mupdate(kwds_defaults)\n\u001b[1;32m--> 948\u001b[0m \u001b[39mreturn\u001b[39;00m _read(filepath_or_buffer, kwds)\n",
      "File \u001b[1;32mc:\\Users\\skt\\AppData\\Local\\Programs\\Python\\Python312\\Lib\\site-packages\\pandas\\io\\parsers\\readers.py:611\u001b[0m, in \u001b[0;36m_read\u001b[1;34m(filepath_or_buffer, kwds)\u001b[0m\n\u001b[0;32m    608\u001b[0m _validate_names(kwds\u001b[39m.\u001b[39mget(\u001b[39m\"\u001b[39m\u001b[39mnames\u001b[39m\u001b[39m\"\u001b[39m, \u001b[39mNone\u001b[39;00m))\n\u001b[0;32m    610\u001b[0m \u001b[39m# Create the parser.\u001b[39;00m\n\u001b[1;32m--> 611\u001b[0m parser \u001b[39m=\u001b[39m TextFileReader(filepath_or_buffer, \u001b[39m*\u001b[39;49m\u001b[39m*\u001b[39;49mkwds)\n\u001b[0;32m    613\u001b[0m \u001b[39mif\u001b[39;00m chunksize \u001b[39mor\u001b[39;00m iterator:\n\u001b[0;32m    614\u001b[0m     \u001b[39mreturn\u001b[39;00m parser\n",
      "File \u001b[1;32mc:\\Users\\skt\\AppData\\Local\\Programs\\Python\\Python312\\Lib\\site-packages\\pandas\\io\\parsers\\readers.py:1448\u001b[0m, in \u001b[0;36mTextFileReader.__init__\u001b[1;34m(self, f, engine, **kwds)\u001b[0m\n\u001b[0;32m   1445\u001b[0m     \u001b[39mself\u001b[39m\u001b[39m.\u001b[39moptions[\u001b[39m\"\u001b[39m\u001b[39mhas_index_names\u001b[39m\u001b[39m\"\u001b[39m] \u001b[39m=\u001b[39m kwds[\u001b[39m\"\u001b[39m\u001b[39mhas_index_names\u001b[39m\u001b[39m\"\u001b[39m]\n\u001b[0;32m   1447\u001b[0m \u001b[39mself\u001b[39m\u001b[39m.\u001b[39mhandles: IOHandles \u001b[39m|\u001b[39m \u001b[39mNone\u001b[39;00m \u001b[39m=\u001b[39m \u001b[39mNone\u001b[39;00m\n\u001b[1;32m-> 1448\u001b[0m \u001b[39mself\u001b[39m\u001b[39m.\u001b[39m_engine \u001b[39m=\u001b[39m \u001b[39mself\u001b[39;49m\u001b[39m.\u001b[39;49m_make_engine(f, \u001b[39mself\u001b[39;49m\u001b[39m.\u001b[39;49mengine)\n",
      "File \u001b[1;32mc:\\Users\\skt\\AppData\\Local\\Programs\\Python\\Python312\\Lib\\site-packages\\pandas\\io\\parsers\\readers.py:1705\u001b[0m, in \u001b[0;36mTextFileReader._make_engine\u001b[1;34m(self, f, engine)\u001b[0m\n\u001b[0;32m   1703\u001b[0m     \u001b[39mif\u001b[39;00m \u001b[39m\"\u001b[39m\u001b[39mb\u001b[39m\u001b[39m\"\u001b[39m \u001b[39mnot\u001b[39;00m \u001b[39min\u001b[39;00m mode:\n\u001b[0;32m   1704\u001b[0m         mode \u001b[39m+\u001b[39m\u001b[39m=\u001b[39m \u001b[39m\"\u001b[39m\u001b[39mb\u001b[39m\u001b[39m\"\u001b[39m\n\u001b[1;32m-> 1705\u001b[0m \u001b[39mself\u001b[39m\u001b[39m.\u001b[39mhandles \u001b[39m=\u001b[39m get_handle(\n\u001b[0;32m   1706\u001b[0m     f,\n\u001b[0;32m   1707\u001b[0m     mode,\n\u001b[0;32m   1708\u001b[0m     encoding\u001b[39m=\u001b[39;49m\u001b[39mself\u001b[39;49m\u001b[39m.\u001b[39;49moptions\u001b[39m.\u001b[39;49mget(\u001b[39m\"\u001b[39;49m\u001b[39mencoding\u001b[39;49m\u001b[39m\"\u001b[39;49m, \u001b[39mNone\u001b[39;49;00m),\n\u001b[0;32m   1709\u001b[0m     compression\u001b[39m=\u001b[39;49m\u001b[39mself\u001b[39;49m\u001b[39m.\u001b[39;49moptions\u001b[39m.\u001b[39;49mget(\u001b[39m\"\u001b[39;49m\u001b[39mcompression\u001b[39;49m\u001b[39m\"\u001b[39;49m, \u001b[39mNone\u001b[39;49;00m),\n\u001b[0;32m   1710\u001b[0m     memory_map\u001b[39m=\u001b[39;49m\u001b[39mself\u001b[39;49m\u001b[39m.\u001b[39;49moptions\u001b[39m.\u001b[39;49mget(\u001b[39m\"\u001b[39;49m\u001b[39mmemory_map\u001b[39;49m\u001b[39m\"\u001b[39;49m, \u001b[39mFalse\u001b[39;49;00m),\n\u001b[0;32m   1711\u001b[0m     is_text\u001b[39m=\u001b[39;49mis_text,\n\u001b[0;32m   1712\u001b[0m     errors\u001b[39m=\u001b[39;49m\u001b[39mself\u001b[39;49m\u001b[39m.\u001b[39;49moptions\u001b[39m.\u001b[39;49mget(\u001b[39m\"\u001b[39;49m\u001b[39mencoding_errors\u001b[39;49m\u001b[39m\"\u001b[39;49m, \u001b[39m\"\u001b[39;49m\u001b[39mstrict\u001b[39;49m\u001b[39m\"\u001b[39;49m),\n\u001b[0;32m   1713\u001b[0m     storage_options\u001b[39m=\u001b[39;49m\u001b[39mself\u001b[39;49m\u001b[39m.\u001b[39;49moptions\u001b[39m.\u001b[39;49mget(\u001b[39m\"\u001b[39;49m\u001b[39mstorage_options\u001b[39;49m\u001b[39m\"\u001b[39;49m, \u001b[39mNone\u001b[39;49;00m),\n\u001b[0;32m   1714\u001b[0m )\n\u001b[0;32m   1715\u001b[0m \u001b[39massert\u001b[39;00m \u001b[39mself\u001b[39m\u001b[39m.\u001b[39mhandles \u001b[39mis\u001b[39;00m \u001b[39mnot\u001b[39;00m \u001b[39mNone\u001b[39;00m\n\u001b[0;32m   1716\u001b[0m f \u001b[39m=\u001b[39m \u001b[39mself\u001b[39m\u001b[39m.\u001b[39mhandles\u001b[39m.\u001b[39mhandle\n",
      "File \u001b[1;32mc:\\Users\\skt\\AppData\\Local\\Programs\\Python\\Python312\\Lib\\site-packages\\pandas\\io\\common.py:863\u001b[0m, in \u001b[0;36mget_handle\u001b[1;34m(path_or_buf, mode, encoding, compression, memory_map, is_text, errors, storage_options)\u001b[0m\n\u001b[0;32m    858\u001b[0m \u001b[39melif\u001b[39;00m \u001b[39misinstance\u001b[39m(handle, \u001b[39mstr\u001b[39m):\n\u001b[0;32m    859\u001b[0m     \u001b[39m# Check whether the filename is to be opened in binary mode.\u001b[39;00m\n\u001b[0;32m    860\u001b[0m     \u001b[39m# Binary mode does not support 'encoding' and 'newline'.\u001b[39;00m\n\u001b[0;32m    861\u001b[0m     \u001b[39mif\u001b[39;00m ioargs\u001b[39m.\u001b[39mencoding \u001b[39mand\u001b[39;00m \u001b[39m\"\u001b[39m\u001b[39mb\u001b[39m\u001b[39m\"\u001b[39m \u001b[39mnot\u001b[39;00m \u001b[39min\u001b[39;00m ioargs\u001b[39m.\u001b[39mmode:\n\u001b[0;32m    862\u001b[0m         \u001b[39m# Encoding\u001b[39;00m\n\u001b[1;32m--> 863\u001b[0m         handle \u001b[39m=\u001b[39m \u001b[39mopen\u001b[39;49m(\n\u001b[0;32m    864\u001b[0m             handle,\n\u001b[0;32m    865\u001b[0m             ioargs\u001b[39m.\u001b[39;49mmode,\n\u001b[0;32m    866\u001b[0m             encoding\u001b[39m=\u001b[39;49mioargs\u001b[39m.\u001b[39;49mencoding,\n\u001b[0;32m    867\u001b[0m             errors\u001b[39m=\u001b[39;49merrors,\n\u001b[0;32m    868\u001b[0m             newline\u001b[39m=\u001b[39;49m\u001b[39m\"\u001b[39;49m\u001b[39m\"\u001b[39;49m,\n\u001b[0;32m    869\u001b[0m         )\n\u001b[0;32m    870\u001b[0m     \u001b[39melse\u001b[39;00m:\n\u001b[0;32m    871\u001b[0m         \u001b[39m# Binary mode\u001b[39;00m\n\u001b[0;32m    872\u001b[0m         handle \u001b[39m=\u001b[39m \u001b[39mopen\u001b[39m(handle, ioargs\u001b[39m.\u001b[39mmode)\n",
      "\u001b[1;31mFileNotFoundError\u001b[0m: [Errno 2] No such file or directory: 'data/Inbound-Call-Notes.csv'"
     ]
    }
   ],
   "source": [
    "inbound_call = pd.read_csv(\"data/Inbound-Call-Notes.csv\")\n",
    "\n",
    "# Add '2023' to the 'Date' column\n",
    "inbound_call[\"Date\"] = \"2023 \" + inbound_call[\"Date\"]\n",
    "\n",
    "# Convert the 'Date' column to datetime format\n",
    "inbound_call[\"Date\"] = pd.to_datetime(\n",
    "    inbound_call[\"Date\"], format=\"%Y %a %m/%d\"\n",
    ")\n",
    "\n",
    "# Filter rows for October (month == 10)\n",
    "october_calls = inbound_call[inbound_call[\"Date\"].dt.month == 10]\n",
    "october_calls = october_calls.copy()  # Make a copy of the DataFrame\n",
    "october_calls[\"Date\"] = pd.to_datetime(\n",
    "    october_calls[\"Date\"], format=\"%Y %a %m/%d\"\n",
    ").dt.strftime(\"%Y-%m-%d\")\n",
    "\n",
    "october_dm_calls = october_calls[october_calls[\"Extension Channel\"] == \"DM\"]\n",
    "\n",
    "extracted_phone = october_dm_calls[\"Phone\"].tolist()\n",
    "pivoted_df[\"inbound_call\"] = pivoted_df[\"Phone\"].isin(extracted_phone)\n",
    "\n",
    "october_dm_calls = october_dm_calls.rename(\n",
    "    columns={october_dm_calls.columns[16]: \"Campaign\"}\n",
    ")\n",
    "october_dm_calls[\"Campaign\"].unique()\n",
    "\n",
    "october_ft_calls = october_dm_calls[\n",
    "    october_dm_calls[\"Campaign\"] == \"Mkt_DM_Snowflake_OctoberFreeTrial\"\n",
    "]\n",
    "\n",
    "df = october_ft_calls.copy()\n",
    "\n",
    "df[\"Date\"] = pd.to_datetime(df[\"Date\"])\n",
    "\n",
    "# Define the date ranges for 'drop1' and 'drop2'\n",
    "start_date_drop1 = pd.to_datetime(\"2023-10-03\")\n",
    "end_date_drop1 = pd.to_datetime(\"2023-10-05\")\n",
    "start_date_drop2 = pd.to_datetime(\"2023-10-18\")\n",
    "end_date_drop2 = pd.to_datetime(\"2023-10-20\")\n",
    "\n",
    "# Create the 'Period' column based on date ranges\n",
    "df[\"Period\"] = df.apply(\n",
    "    lambda row: (\n",
    "        \"drop1\"\n",
    "        if start_date_drop1 <= row[\"Date\"] <= end_date_drop1\n",
    "        else \"drop2\"\n",
    "    ),\n",
    "    axis=1,\n",
    ")\n",
    "# Get the column names except for the last one\n",
    "cols_except_last = df.columns[:-1].tolist()\n",
    "# Reorder the columns as desired\n",
    "new_order = [\"Date\", \"Period\"] + cols_except_last\n",
    "df = df[new_order]\n",
    "\n",
    "# Create a new DataFrame with the desired column order\n",
    "df.to_csv(\"data/october_dm_called.csv\")"
   ]
  },
  {
   "cell_type": "markdown",
   "metadata": {},
   "source": [
    "adding missing rows"
   ]
  },
  {
   "cell_type": "code",
   "execution_count": null,
   "metadata": {},
   "outputs": [],
   "source": [
    "import pandas as pd\n",
    "\n",
    "# Assuming you have your existing DataFrame 'pivoted_df'\n",
    "\n",
    "# Define the data for the two new rows\n",
    "new_rows_data = [\n",
    "    {\n",
    "        \"ID\": \"31533\",\n",
    "        \"Date\": \"10/12/23\",\n",
    "        \"drop\": \"drop1\",\n",
    "        \"submit_form\": True,\n",
    "        \"AnyFormSubmit\": 1,\n",
    "        \"click\": 0,\n",
    "        \"cta_click\": 0,\n",
    "        \"first_visit\": 0,\n",
    "        \"form_start\": 0,\n",
    "        \"page_view\": 0,\n",
    "        \"scroll\": 0,\n",
    "        \"session_start\": 0,\n",
    "        \"user_engagement\": 0,\n",
    "        \"visit_again\": False,\n",
    "        \"Phone\": \"7854919016\",\n",
    "        \"inbound_call\": True,\n",
    "    },\n",
    "    {\n",
    "        \"ID\": \"18238\",\n",
    "        \"Date\": \"10/11/23\",\n",
    "        \"drop\": \"drop1\",\n",
    "        \"submit_form\": True,\n",
    "        \"AnyFormSubmit\": 1,\n",
    "        \"click\": 0,\n",
    "        \"cta_click\": 0,\n",
    "        \"first_visit\": 0,\n",
    "        \"form_start\": 0,\n",
    "        \"page_view\": 0,\n",
    "        \"scroll\": 0,\n",
    "        \"session_start\": 0,\n",
    "        \"user_engagement\": 0,\n",
    "        \"visit_again\": False,\n",
    "        \"Phone\": \"201-523-6952\",\n",
    "        \"inbound_call\": False,\n",
    "    },\n",
    "]\n",
    "\n",
    "# Convert the list of dictionaries into a DataFrame\n",
    "new_rows_df = pd.DataFrame(new_rows_data)\n",
    "\n",
    "# Append the new rows to the 'pivoted_df' DataFrame\n",
    "pivoted_df = pd.concat([pivoted_df, new_rows_df], ignore_index=True)\n",
    "\n",
    "\n",
    "# 'ignore_index=True' resets the index of the combined DataFrame."
   ]
  },
  {
   "cell_type": "code",
   "execution_count": null,
   "metadata": {},
   "outputs": [],
   "source": [
    "pivoted_df.to_csv(\"data/clean_data.csv\")"
   ]
  }
 ],
 "metadata": {
  "kernelspec": {
   "display_name": "Python 3",
   "language": "python",
   "name": "python3"
  },
  "language_info": {
   "codemirror_mode": {
    "name": "ipython",
    "version": 3
   },
   "file_extension": ".py",
   "mimetype": "text/x-python",
   "name": "python",
   "nbconvert_exporter": "python",
   "pygments_lexer": "ipython3",
   "version": "3.12.0"
  },
  "orig_nbformat": 4
 },
 "nbformat": 4,
 "nbformat_minor": 2
}
