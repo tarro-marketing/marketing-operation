{
 "cells": [
  {
   "cell_type": "code",
   "execution_count": 1,
   "metadata": {},
   "outputs": [],
   "source": [
    "import numpy as np  # NumPy: For numerical and array operations.\n",
    "import pandas as pd  # Pandas: For data manipulation and analysis.\n",
    "import matplotlib.pyplot as plt  # Matplotlib: For creating various types of plots and charts.\n",
    "import seaborn as sns  # Seaborn: For making data visualizations more attractive and informative.\n",
    "import re \n",
    "import glob"
   ]
  },
  {
   "cell_type": "code",
   "execution_count": 2,
   "metadata": {},
   "outputs": [],
   "source": [
    "qr_scan = pd.read_csv(\"../data/Clean/unique_qr_scan_nov.csv\")\n",
    "brizo = pd.read_csv(\"../data/Clean/all_brizo.csv\", dtype={8: 'object'})\n",
    "printshop = pd.read_csv(\"../data/Clean/all_prinshop.csv\",dtype={12:'object'})\n",
    "##print(brizo.iloc[:, 8].unique())\n",
    "##print(printshop.iloc[:, 12].unique())"
   ]
  },
  {
   "cell_type": "code",
   "execution_count": 3,
   "metadata": {},
   "outputs": [],
   "source": [
    "extracted_ids = qr_scan['ID'].tolist()\n",
    "qr_scan['ID'] = [str(int(id)).zfill(5) if isinstance(id, (int, float)) else id for id in extracted_ids]\n",
    "\n",
    "\n",
    "extracted_ids = brizo['Snowball Map'].tolist()\n",
    "brizo['Snowball Map'] = [str(int(id)).zfill(5) if isinstance(id, (int, float)) else id for id in extracted_ids]"
   ]
  },
  {
   "cell_type": "code",
   "execution_count": 4,
   "metadata": {},
   "outputs": [
    {
     "name": "stdout",
     "output_type": "stream",
     "text": [
      "Columns in brizo: Index(['Snowball Map', 'Brizo ID', 'Name', 'Opening Hours', 'Street',\n",
      "       'City/Town', 'State/Province Code', 'Zip/Postal Code', 'Country',\n",
      "       'First Name', 'Last Name', 'Title', 'Role', 'Contact Email',\n",
      "       'Contact Phone', 'Established', 'Estimated Employees', 'Business Phone',\n",
      "       'Contact Count', 'Most Common Email', 'Cuisines (Regional)',\n",
      "       'Price Range'],\n",
      "      dtype='object')\n"
     ]
    }
   ],
   "source": [
    "brizo.rename(columns={'ID': 'Brizo ID'}, inplace=True)\n",
    "brizo = brizo.drop(columns='Unnamed: 0')\n",
    "print(\"Columns in brizo:\", brizo.columns)"
   ]
  },
  {
   "cell_type": "code",
   "execution_count": 5,
   "metadata": {},
   "outputs": [],
   "source": [
    "qr_brizo = pd.merge(qr_scan, brizo, left_on='ID', right_on='Snowball Map', how = 'left')\n",
    "\n",
    "qr_brizo = qr_brizo.dropna(subset=['Snowball Map'])"
   ]
  },
  {
   "cell_type": "code",
   "execution_count": 6,
   "metadata": {},
   "outputs": [],
   "source": [
    "qr_brizo.to_csv('../data/Clean/qr_brizo.csv')"
   ]
  }
 ],
 "metadata": {
  "kernelspec": {
   "display_name": "Python 3",
   "language": "python",
   "name": "python3"
  },
  "language_info": {
   "codemirror_mode": {
    "name": "ipython",
    "version": 3
   },
   "file_extension": ".py",
   "mimetype": "text/x-python",
   "name": "python",
   "nbconvert_exporter": "python",
   "pygments_lexer": "ipython3",
   "version": "3.12.0"
  }
 },
 "nbformat": 4,
 "nbformat_minor": 2
}
