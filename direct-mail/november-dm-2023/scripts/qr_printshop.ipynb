{
 "cells": [
  {
   "cell_type": "code",
   "execution_count": 2,
   "metadata": {},
   "outputs": [],
   "source": [
    "import numpy as np  # NumPy: For numerical and array operations.\n",
    "import pandas as pd  # Pandas: For data manipulation and analysis.\n",
    "import matplotlib.pyplot as plt  # Matplotlib: For creating various types of plots and charts.\n",
    "import seaborn as sns  # Seaborn: For making data visualizations more attractive and informative.\n",
    "import re\n",
    "import glob"
   ]
  },
  {
   "cell_type": "code",
   "execution_count": 11,
   "metadata": {},
   "outputs": [],
   "source": [
    "qr_scan = pd.read_csv(\"../data/Clean/unique_qr_scan_nov.csv\")\n",
    "printshop = pd.read_csv(\"../data/Clean/all_prinshop.csv\", dtype={12: \"object\"})\n",
    "##print(brizo.iloc[:, 8].unique())\n",
    "##print(printshop.iloc[:, 12].unique())"
   ]
  },
  {
   "cell_type": "code",
   "execution_count": 8,
   "metadata": {},
   "outputs": [],
   "source": [
    "extracted_ids = qr_scan[\"ID\"].tolist()\n",
    "qr_scan[\"ID\"] = [\n",
    "    str(int(id)).zfill(5) if isinstance(id, (int, float)) else id\n",
    "    for id in extracted_ids\n",
    "]\n",
    "\n",
    "qr_scan[\"ID\"] = qr_scan[\"ID\"].astype(str)"
   ]
  },
  {
   "cell_type": "code",
   "execution_count": 12,
   "metadata": {},
   "outputs": [],
   "source": [
    "printshop = printshop.drop(columns=\"Unnamed: 0\")\n",
    "printshop[\"Snowball Map\"] = printshop[\"Snowball Map\"].astype(str)"
   ]
  },
  {
   "cell_type": "code",
   "execution_count": 14,
   "metadata": {},
   "outputs": [],
   "source": [
    "qr_scan[\"ID\"] = qr_scan[\"ID\"].astype(str)\n",
    "printshop[\"Snowball Map\"] = printshop[\"Snowball Map\"].astype(str)\n",
    "\n",
    "qr_printshop = pd.merge(\n",
    "    qr_scan, printshop, left_on=\"ID\", right_on=\"Snowball Map\", how=\"left\"\n",
    ")\n",
    "\n",
    "qr_printshop = qr_printshop.dropna(subset=[\"Snowball Map\"])"
   ]
  },
  {
   "cell_type": "code",
   "execution_count": 15,
   "metadata": {},
   "outputs": [],
   "source": [
    "qr_printshop.to_csv(\"../data/Clean/qr_printshop.csv\")"
   ]
  }
 ],
 "metadata": {
  "kernelspec": {
   "display_name": "Python 3",
   "language": "python",
   "name": "python3"
  },
  "language_info": {
   "codemirror_mode": {
    "name": "ipython",
    "version": 3
   },
   "file_extension": ".py",
   "mimetype": "text/x-python",
   "name": "python",
   "nbconvert_exporter": "python",
   "pygments_lexer": "ipython3",
   "version": "3.12.0"
  }
 },
 "nbformat": 4,
 "nbformat_minor": 2
}
