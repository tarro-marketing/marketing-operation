{
 "cells": [
  {
   "cell_type": "code",
   "execution_count": 1,
   "metadata": {},
   "outputs": [],
   "source": [
    "import numpy as np  # NumPy: For numerical and array operations.\n",
    "import pandas as pd  # Pandas: For data manipulation and analysis.\n",
    "import matplotlib.pyplot as plt  # Matplotlib: For creating various types of plots and charts.\n",
    "import seaborn as sns  # Seaborn: For making data visualizations more attractive and informative.\n",
    "import re \n",
    "import glob"
   ]
  },
  {
   "cell_type": "code",
   "execution_count": 2,
   "metadata": {},
   "outputs": [],
   "source": [
    "site_visit = pd.read_csv(\"../data/RAW/google_analytic_qr_scan.csv\")\n",
    "\n",
    "site_visit['Date'] = pd.to_datetime(site_visit['Date'], format='%Y%m%d')\n",
    "site_visit['Date'] = site_visit['Date'].dt.strftime('%Y/%m/%d')\n",
    "\n",
    "\n",
    "site_visit['Page location'] = site_visit['Page location'].astype(str)"
   ]
  },
  {
   "cell_type": "markdown",
   "metadata": {},
   "source": [
    "Identify which group they are from\n",
    "\n",
    "- DM: 1\n",
    "- List A + List C = Trifold\t= airfryer/ airfryer3/ airfryer5\"\n",
    "- List B + List D =\tEnvelope = airfryer2/ airfryer4\n",
    "\n",
    "- DM2 : List A = Postcard = airfryer6"
   ]
  },
  {
   "cell_type": "code",
   "execution_count": 3,
   "metadata": {},
   "outputs": [],
   "source": [
    "def categorize_drop(row):\n",
    "    lowered_row = row.lower()\n",
    "    if \"airfryer2\" in lowered_row or \"airfryer4\" in lowered_row:\n",
    "        return \"DM1_envelope\"\n",
    "    elif \"airfryer3\" in lowered_row or \"airfryer5\" in lowered_row:\n",
    "        return \"DM1_trifold\"\n",
    "    elif \"airfryer6\" in lowered_row:\n",
    "        return \"DM2_postcard\"\n",
    "    elif \"airfryer\" in lowered_row:\n",
    "        return \"DM1_trifold\"  # Update with the appropriate category for general \"airfryer\"\n",
    "    else:\n",
    "        return None\n",
    "\n",
    "\n",
    "# Apply the function to create the 'Category' column\n",
    "site_visit['Category'] = site_visit['Page location'].apply(categorize_drop)\n",
    "\n",
    "site_visit['Airfryer_Type'] = site_visit['Page location'].str.extract(r'(airfryer\\d?)', flags=re.IGNORECASE)"
   ]
  },
  {
   "cell_type": "code",
   "execution_count": 4,
   "metadata": {},
   "outputs": [
    {
     "name": "stdout",
     "output_type": "stream",
     "text": [
      "119\n"
     ]
    }
   ],
   "source": [
    "print(site_visit['Page location'].nunique())"
   ]
  },
  {
   "cell_type": "code",
   "execution_count": 5,
   "metadata": {},
   "outputs": [
    {
     "name": "stdout",
     "output_type": "stream",
     "text": [
      "110\n"
     ]
    }
   ],
   "source": [
    "## getting the id for site visit (scanned qr code, submitted the forms)\n",
    "\n",
    "site_visit['ID'] = site_visit['Page location'].str.extract(r'utm_id=(\\d+)')\n",
    "site_visit.dropna(subset=['ID'], inplace=True)\n",
    "\n",
    "site_visit = site_visit[site_visit['ID']!='00000']\n",
    "\n",
    "id_counts = site_visit['ID'].value_counts()\n",
    "site_visit['visit_again'] = site_visit['ID'].map(id_counts) > 1\n",
    "site_visit['visit_again'] = site_visit['visit_again'].fillna(False)\n",
    "\n",
    "print(site_visit['ID'].nunique())\n",
    "\n",
    "site_visit.to_csv(\"../data/1site_visit_draft.csv\")"
   ]
  },
  {
   "cell_type": "code",
   "execution_count": 6,
   "metadata": {},
   "outputs": [],
   "source": [
    "site_visit_unique_ids = site_visit.drop_duplicates(subset=['ID'], keep='last')"
   ]
  },
  {
   "cell_type": "code",
   "execution_count": 7,
   "metadata": {},
   "outputs": [],
   "source": [
    "\n",
    "form_submit = pd.read_csv(\"../data/RAW/submissions.csv\")\n",
    "form_submit['ID'] = form_submit['Referrer'].str.extract(r'utm_id=(\\d+)')\n",
    "form_submit['utm_id'].fillna(form_submit['Referrer'].str.extract(r'utm_id=(\\d+)').iloc[:, 0].astype(float), inplace=True)\n",
    "\n",
    "form_submit.rename(columns={'姓氏': 'Name',  '手机号码': 'Phone'}, inplace=True)\n",
    "\n",
    "\n",
    "form_submit['Category'] = form_submit['Referrer'].apply(categorize_drop)\n",
    "\n",
    "form_submit['Airfryer_Type'] = form_submit['Referrer'].str.extract(r'(airfryer\\d?)', flags=re.IGNORECASE)\n",
    "form_submit['Phone'] = form_submit['Phone'].str.replace('-', '', regex=True)"
   ]
  },
  {
   "cell_type": "code",
   "execution_count": 8,
   "metadata": {},
   "outputs": [
    {
     "name": "stderr",
     "output_type": "stream",
     "text": [
      "C:\\Users\\skt\\AppData\\Local\\Temp\\ipykernel_24972\\2116837197.py:9: SettingWithCopyWarning: \n",
      "A value is trying to be set on a copy of a slice from a DataFrame.\n",
      "Try using .loc[row_indexer,col_indexer] = value instead\n",
      "\n",
      "See the caveats in the documentation: https://pandas.pydata.org/pandas-docs/stable/user_guide/indexing.html#returning-a-view-versus-a-copy\n",
      "  site_visit_unique_ids.loc[:, 'form_submission'] = site_visit_unique_ids.loc[:, 'ID'].isin(formatted_ids).astype(str)\n"
     ]
    }
   ],
   "source": [
    "# Extract IDs from form_submit as a list\n",
    "form_submit2 = form_submit.dropna(subset=['utm_id'])\n",
    "\n",
    "extracted_ids = form_submit2['utm_id'].tolist()\n",
    "\n",
    "formatted_ids = [str(int(id)).zfill(5) if isinstance(id, (int, float)) else id for id in extracted_ids]\n",
    "\n",
    "# Use .loc to avoid the SettingWithCopyWarning\n",
    "site_visit_unique_ids.loc[:, 'form_submission'] = site_visit_unique_ids.loc[:, 'ID'].isin(formatted_ids).astype(str)\n"
   ]
  },
  {
   "cell_type": "code",
   "execution_count": 9,
   "metadata": {},
   "outputs": [],
   "source": [
    "site_visit_unique_ids=site_visit_unique_ids.drop(columns = ['Sessions'])"
   ]
  },
  {
   "cell_type": "code",
   "execution_count": 10,
   "metadata": {},
   "outputs": [],
   "source": [
    "site_visit_unique_ids.to_csv(\"../data/Clean/unique_qr_scan_nov.csv\")"
   ]
  }
 ],
 "metadata": {
  "kernelspec": {
   "display_name": "Python 3",
   "language": "python",
   "name": "python3"
  },
  "language_info": {
   "codemirror_mode": {
    "name": "ipython",
    "version": 3
   },
   "file_extension": ".py",
   "mimetype": "text/x-python",
   "name": "python",
   "nbconvert_exporter": "python",
   "pygments_lexer": "ipython3",
   "version": "3.12.0"
  }
 },
 "nbformat": 4,
 "nbformat_minor": 2
}
