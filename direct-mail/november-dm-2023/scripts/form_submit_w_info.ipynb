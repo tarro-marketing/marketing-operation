{
 "cells": [
  {
   "cell_type": "code",
   "execution_count": 1,
   "metadata": {},
   "outputs": [],
   "source": [
    "import numpy as np  # NumPy: For numerical and array operations.\n",
    "import pandas as pd  # Pandas: For data manipulation and analysis.\n",
    "import matplotlib.pyplot as plt  # Matplotlib: For creating various types of plots and charts.\n",
    "import seaborn as sns  # Seaborn: For making data visualizations more attractive and informative.\n",
    "import re\n",
    "import glob"
   ]
  },
  {
   "cell_type": "code",
   "execution_count": 3,
   "metadata": {},
   "outputs": [],
   "source": [
    "def categorize_drop(row):\n",
    "    lowered_row = row.lower()\n",
    "    if \"airfryer2\" in lowered_row or \"airfryer4\" in lowered_row:\n",
    "        return \"DM1_envelope\"\n",
    "    elif \"airfryer3\" in lowered_row or \"airfryer5\" in lowered_row:\n",
    "        return \"DM1_trifold\"\n",
    "    elif \"airfryer6\" in lowered_row:\n",
    "        return \"DM2_postcard\"\n",
    "    elif \"airfryer\" in lowered_row:\n",
    "        return \"DM1_trifold\"  # Update with the appropriate category for general \"airfryer\"\n",
    "    else:\n",
    "        return None"
   ]
  },
  {
   "cell_type": "code",
   "execution_count": 4,
   "metadata": {},
   "outputs": [],
   "source": [
    "form_submit = pd.read_csv(\"../data/RAW/submissions.csv\")\n",
    "form_submit[\"ID\"] = form_submit[\"Referrer\"].str.extract(r\"utm_id=(\\d+)\")\n",
    "form_submit[\"utm_id\"].fillna(\n",
    "    form_submit[\"Referrer\"]\n",
    "    .str.extract(r\"utm_id=(\\d+)\")\n",
    "    .iloc[:, 0]\n",
    "    .astype(float),\n",
    "    inplace=True,\n",
    ")\n",
    "\n",
    "form_submit.rename(columns={\"姓氏\": \"Name\", \"手机号码\": \"Phone\"}, inplace=True)\n",
    "\n",
    "\n",
    "form_submit[\"Category\"] = form_submit[\"Referrer\"].apply(categorize_drop)\n",
    "\n",
    "form_submit[\"Airfryer_Type\"] = form_submit[\"Referrer\"].str.extract(\n",
    "    r\"(airfryer\\d?)\", flags=re.IGNORECASE\n",
    ")\n",
    "form_submit[\"Phone\"] = form_submit[\"Phone\"].str.replace(\"-\", \"\", regex=True)"
   ]
  },
  {
   "cell_type": "code",
   "execution_count": 9,
   "metadata": {},
   "outputs": [],
   "source": [
    "# Extract IDs from form_submit as a list\n",
    "form_submit[\"utm_id\"] = form_submit[\"utm_id\"].astype(str).fillna(\"Unknown\")\n",
    "form_submit[\"ID\"] = form_submit[\"ID\"].astype(str).fillna(\"Unknown\")\n",
    "\n",
    "extracted_ids = form_submit[\"utm_id\"].tolist()\n",
    "\n",
    "formatted_ids = [\n",
    "    str(int(id)).zfill(5) if isinstance(id, (int, float)) else id\n",
    "    for id in extracted_ids\n",
    "]"
   ]
  },
  {
   "cell_type": "code",
   "execution_count": 10,
   "metadata": {},
   "outputs": [
    {
     "name": "stdout",
     "output_type": "stream",
     "text": [
      "Index(['Name', 'resturantname', 'Phone', 'Terms and Conditions',\n",
      "       'utm_campaign', 'utm_id', 'utm_source', 'utm_medium', 'Unnamed: 8',\n",
      "       'Form Name (ID)', 'Submission ID', 'Created At', 'User ID',\n",
      "       'User Agent', 'User IP', 'Referrer', 'ID', 'Category', 'Airfryer_Type'],\n",
      "      dtype='object')\n"
     ]
    }
   ],
   "source": [
    "print(form_submit.columns)"
   ]
  },
  {
   "cell_type": "code",
   "execution_count": 25,
   "metadata": {},
   "outputs": [],
   "source": [
    "final_form_submit = form_submit[\n",
    "    [\n",
    "        \"Name\",\n",
    "        \"Phone\",\n",
    "        \"utm_id\",\n",
    "        \"Created At\",\n",
    "        \"Referrer\",\n",
    "        \"ID\",\n",
    "        \"Category\",\n",
    "        \"Airfryer_Type\",\n",
    "    ]\n",
    "].copy()\n",
    "\n",
    "final_form_submit[\"ID\"] = final_form_submit[\"ID\"].astype(str)"
   ]
  },
  {
   "cell_type": "code",
   "execution_count": 18,
   "metadata": {},
   "outputs": [],
   "source": [
    "brizo = pd.read_csv(\"../data/Clean/all_brizo.csv\", low_memory=False)\n",
    "brizo = brizo.dropna(subset=[\"Snowball Map\"])\n",
    "extracted_ids_brizo = brizo[\"Snowball Map\"].tolist()\n",
    "brizo[\"Snowball Map\"] = [\n",
    "    str(int(id)).zfill(5) if isinstance(id, (int, float)) else id\n",
    "    for id in extracted_ids_brizo\n",
    "]"
   ]
  },
  {
   "cell_type": "code",
   "execution_count": 26,
   "metadata": {},
   "outputs": [],
   "source": [
    "form_submit_combine_brizo_info = pd.merge(\n",
    "    final_form_submit, brizo, left_on=\"ID\", right_on=\"Snowball Map\", how=\"left\"\n",
    ")"
   ]
  },
  {
   "cell_type": "code",
   "execution_count": 28,
   "metadata": {},
   "outputs": [],
   "source": [
    "form_submit_combine_brizo_info.to_csv(\"../data/Clean/form_submit_w_info.csv\")"
   ]
  }
 ],
 "metadata": {
  "kernelspec": {
   "display_name": "Python 3",
   "language": "python",
   "name": "python3"
  },
  "language_info": {
   "codemirror_mode": {
    "name": "ipython",
    "version": 3
   },
   "file_extension": ".py",
   "mimetype": "text/x-python",
   "name": "python",
   "nbconvert_exporter": "python",
   "pygments_lexer": "ipython3",
   "version": "3.12.0"
  }
 },
 "nbformat": 4,
 "nbformat_minor": 2
}
