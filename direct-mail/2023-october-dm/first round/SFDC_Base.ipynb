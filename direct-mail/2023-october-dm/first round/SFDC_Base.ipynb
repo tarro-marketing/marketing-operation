{
 "cells": [
  {
   "cell_type": "code",
   "execution_count": 9,
   "metadata": {},
   "outputs": [],
   "source": [
    "import numpy as np\n",
    "import pandas as pd\n",
    "import matplotlib.pyplot as plt\n",
    "import seaborn as sns\n",
    "import re"
   ]
  },
  {
   "cell_type": "code",
   "execution_count": 10,
   "metadata": {},
   "outputs": [],
   "source": [
    "lead = pd.read_csv(\"data/SFDC Lead.csv\")\n",
    "\n",
    "\n",
    "lead[\"Business Phone\"] = lead[\"Business Phone\"].str.replace(\n",
    "    r\"[^\\d]\", \"\", regex=True\n",
    ")\n",
    "\n",
    "lead[\"Mobile - Primary\"] = lead[\"Mobile - Primary\"].str.replace(\n",
    "    r\"[^\\d]\", \"\", regex=True\n",
    ")\n",
    "\n",
    "filtered_lead = lead[\n",
    "    lead[\"Lead Channel\"].str.contains(\"DM\", case=False, na=False)\n",
    "]"
   ]
  },
  {
   "cell_type": "code",
   "execution_count": 11,
   "metadata": {},
   "outputs": [],
   "source": [
    "clean_scan = pd.read_csv(\"data/Clean - QR Scan.csv\")\n",
    "clean_scan = clean_scan.iloc[:, :-4]\n",
    "clean_scan[\"Business Phone\"] = clean_scan[\"Business Phone\"].str.replace(\n",
    "    r\"[^\\d]\", \"\", regex=True\n",
    ")"
   ]
  },
  {
   "cell_type": "code",
   "execution_count": 12,
   "metadata": {},
   "outputs": [],
   "source": [
    "form_submit = pd.read_csv(\"data/formsubmit.csv\")\n",
    "\n",
    "clean_scan[\"submit_form\"] = clean_scan[\"Snowball Map\"].isin(\n",
    "    form_submit[\"Snowball\"]\n",
    ")\n",
    "\n",
    "clean_scan[\"submit_form\"] = clean_scan[\"submit_form\"].astype(str)\n",
    "\n",
    "scan_with_form_submition = clean_scan.copy()"
   ]
  },
  {
   "cell_type": "code",
   "execution_count": 13,
   "metadata": {},
   "outputs": [],
   "source": [
    "inbound_call = pd.read_csv(\"data/Oct_Inbound_Call.csv\")\n",
    "\n",
    "inbound_call.dropna(subset=[\"Phone\"], inplace=True)\n",
    "inbound_call = inbound_call[\n",
    "    inbound_call[\"Extension Channel\"].str.contains(\"DM\", case=False, na=False)\n",
    "]"
   ]
  },
  {
   "cell_type": "code",
   "execution_count": 14,
   "metadata": {},
   "outputs": [],
   "source": [
    "phone_to_match = clean_scan[\"Business Phone\"].tolist()\n",
    "\n",
    "lead_scan = filtered_lead[\n",
    "    filtered_lead[\"Business Phone\"].isin(phone_to_match)\n",
    "].copy()\n",
    "lead_scan_no = filtered_lead[\n",
    "    ~filtered_lead[\"Business Phone\"].isin(phone_to_match)\n",
    "].copy()\n",
    "lead_scan[\"Match By\"] = \"Business Phone\"\n",
    "lead_scan[\"Action\"] = \"Scan\""
   ]
  },
  {
   "cell_type": "code",
   "execution_count": 15,
   "metadata": {},
   "outputs": [],
   "source": [
    "add_lead_scan = pd.merge(\n",
    "    lead_scan,\n",
    "    clean_scan[\n",
    "        [\n",
    "            \"Cuisine Type\",\n",
    "            \"State\",\n",
    "            \"Session Date\",\n",
    "            \"Business Phone\",\n",
    "            \"Snowball Map\",\n",
    "            \"submit_form\",\n",
    "        ]\n",
    "    ],\n",
    "    on=\"Business Phone\",\n",
    "    how=\"left\",\n",
    ")"
   ]
  },
  {
   "cell_type": "code",
   "execution_count": 16,
   "metadata": {},
   "outputs": [],
   "source": [
    "# no matching (match = 0)\n",
    "lead_scan2 = filtered_lead[\n",
    "    filtered_lead[\"Mobile - Primary\"].isin(phone_to_match)\n",
    "].copy()\n",
    "\n",
    "lead_scan2[\"Match By\"] = \"Mobile - Primary\"\n",
    "lead_scan2[\"Action\"] = \"Scan\""
   ]
  },
  {
   "cell_type": "code",
   "execution_count": 17,
   "metadata": {},
   "outputs": [],
   "source": [
    "phone_to_match = inbound_call[\"Phone\"].tolist()\n",
    "\n",
    "lead_call = filtered_lead[\n",
    "    filtered_lead[\"Mobile - Primary\"].isin(phone_to_match)\n",
    "].copy()\n",
    "lead_call_no = filtered_lead[\n",
    "    ~filtered_lead[\"Mobile - Primary\"].isin(phone_to_match)\n",
    "].copy()\n",
    "lead_call[\"Action\"] = \"Inbound Call\"\n",
    "lead_call[\"Match By\"] = \"Mobile - Primary\""
   ]
  },
  {
   "cell_type": "code",
   "execution_count": 18,
   "metadata": {},
   "outputs": [],
   "source": [
    "## no matching (match - 0)\n",
    "\n",
    "# lead_call_2 = filtered_lead[filtered_lead['Business Phone'].isin(phone_to_match)].copy()\n",
    "\n",
    "\n",
    "# lead_call_2['Action'] = \"Inbound Call\"\n",
    "# lead_call_2['Match By'] = \"Business Phone\""
   ]
  },
  {
   "cell_type": "code",
   "execution_count": 19,
   "metadata": {},
   "outputs": [],
   "source": [
    "result = pd.concat([lead_scan, lead_call], ignore_index=True)\n",
    "phone_to_match = result[\"Business Phone\"].tolist()\n",
    "phone_to_match2 = result[\"Mobile - Primary\"].tolist()\n",
    "\n",
    "\n",
    "no_match1 = filtered_lead[\n",
    "    ~filtered_lead[\"Business Phone\"].isin(phone_to_match)\n",
    "].copy()\n",
    "no_match2 = filtered_lead[\n",
    "    ~filtered_lead[\"Mobile - Primary\"].isin(phone_to_match2)\n",
    "].copy()\n",
    "\n",
    "no_match_total = pd.concat([no_match1, no_match2], ignore_index=True)\n",
    "no_match_total[\"Action\"] = \"No Match\"\n",
    "no_match_total[\"Match By\"] = \"No Match\""
   ]
  },
  {
   "cell_type": "code",
   "execution_count": 20,
   "metadata": {},
   "outputs": [],
   "source": [
    "final_SFDC_LEAD = pd.concat([no_match_total, result], ignore_index=True)\n",
    "final_SFDC_LEAD.to_csv(\"data/matched_SFDC_LEAD.csv\")"
   ]
  },
  {
   "cell_type": "code",
   "execution_count": 21,
   "metadata": {},
   "outputs": [
    {
     "name": "stderr",
     "output_type": "stream",
     "text": [
      "C:\\Users\\skt\\AppData\\Local\\Temp\\ipykernel_8508\\3140124139.py:1: DtypeWarning: Columns (25) have mixed types. Specify dtype option on import or set low_memory=False.\n",
      "  sam_us = pd.read_csv(\"data/October_ SAM_US_All.csv\")\n"
     ]
    }
   ],
   "source": [
    "sam_us = pd.read_csv(\"data/October_ SAM_US_All.csv\")\n",
    "sam_canada = pd.read_csv(\"data/October_SAM_CAN_All.csv\")\n",
    "\n",
    "sam_list = pd.concat([sam_us, sam_canada], ignore_index=True)\n",
    "\n",
    "sam_list[\"Business Phone\"] = sam_list[\"Business Phone\"].str.replace(\n",
    "    r\"[^\\d]\", \"\", regex=True\n",
    ")\n",
    "sam_list.replace(\"\", np.nan, inplace=True)  # Replace empty strings with NaN\n",
    "\n",
    "sam_list.dropna(subset=[\"Business Phone\"], inplace=True)\n",
    "sam_list.rename(columns={\"State/Province Code\": \"State\"}, inplace=True)\n",
    "\n",
    "\n",
    "american_chinese = pd.read_csv(\"data/American_Chinese.csv\")\n",
    "american_chinese.rename(columns={\"Phone\": \"Business Phone\"}, inplace=True)\n",
    "american_chinese[\"Business Phone\"] = american_chinese[\"Business Phone\"].apply(\n",
    "    lambda x: re.sub(r\"\\D\", \"\", str(x))[-10:]\n",
    ")\n",
    "american_chinese.replace(\n",
    "    \"\", np.nan, inplace=True\n",
    ")  # Replace empty strings with NaN\n",
    "american_chinese.dropna(subset=[\"Business Phone\"], inplace=True)"
   ]
  },
  {
   "cell_type": "code",
   "execution_count": 22,
   "metadata": {},
   "outputs": [
    {
     "data": {
      "text/plain": [
       "Index(['List Version', 'Snowball Map', 'Name', 'Street', 'City/Town', 'State',\n",
       "       'Zip/Postal Code', 'Country', 'First Name', 'Last Name', 'Title',\n",
       "       'Role', 'Contact Email', 'Contact Phone', 'Established',\n",
       "       'Estimated Employees', 'Business Phone', 'All Phone (Print Shop)',\n",
       "       'Address Check', 'Name + City Check', 'Contact Count',\n",
       "       'Most Common Email', 'Cuisines (Regional)', 'Price Range',\n",
       "       'Website Technology Vendors', 'Unnamed: 25'],\n",
       "      dtype='object')"
      ]
     },
     "execution_count": 22,
     "metadata": {},
     "output_type": "execute_result"
    }
   ],
   "source": [
    "sam_list.columns"
   ]
  },
  {
   "cell_type": "code",
   "execution_count": 23,
   "metadata": {},
   "outputs": [],
   "source": [
    "# Assuming 'ID' is the common column between sam_list and american_chinese\n",
    "merged_df = pd.merge(\n",
    "    sam_list,\n",
    "    american_chinese[[\"Business Phone\"]],\n",
    "    on=\"Business Phone\",\n",
    "    how=\"left\",\n",
    ")\n",
    "\n",
    "# Create the 'Cuisine Type' column based on conditions\n",
    "merged_df[\"Cuisine Type\"] = np.where(\n",
    "    merged_df[\"Business Phone\"].notna(),\n",
    "    \"American Chinese\",\n",
    "    merged_df[\"Cuisines (Regional)\"],\n",
    ")"
   ]
  },
  {
   "cell_type": "code",
   "execution_count": 24,
   "metadata": {},
   "outputs": [],
   "source": [
    "add_lead_call = pd.merge(\n",
    "    lead_call,\n",
    "    merged_df[[\"Cuisine Type\", \"State\", \"Business Phone\", \"Snowball Map\"]],\n",
    "    left_on=\"Mobile - Primary\",\n",
    "    right_on=\"Business Phone\",\n",
    "    how=\"left\",\n",
    ")"
   ]
  },
  {
   "cell_type": "code",
   "execution_count": 25,
   "metadata": {},
   "outputs": [],
   "source": [
    "add_lead_no_match = pd.merge(\n",
    "    no_match_total,\n",
    "    merged_df[[\"Cuisine Type\", \"State\", \"Business Phone\"]],\n",
    "    left_on=\"Business Phone\",\n",
    "    right_on=\"Business Phone\",\n",
    "    how=\"left\",\n",
    ")"
   ]
  },
  {
   "cell_type": "code",
   "execution_count": 26,
   "metadata": {},
   "outputs": [],
   "source": [
    "final_SFDC_LEAD_2 = pd.concat(\n",
    "    [add_lead_call, add_lead_scan], ignore_index=True\n",
    ")\n",
    "final_SFDC_LEAD_finalfinal = pd.concat(\n",
    "    [final_SFDC_LEAD_2, add_lead_no_match], ignore_index=True\n",
    ")\n",
    "\n",
    "final_SFDC_LEAD_finalfinal.to_csv(\"data/matched_SFDC_LEAD_final.csv\")"
   ]
  },
  {
   "cell_type": "code",
   "execution_count": 27,
   "metadata": {},
   "outputs": [],
   "source": [
    "inbound_call_notes = pd.merge(\n",
    "    inbound_call,\n",
    "    merged_df[[\"Cuisine Type\", \"State\", \"Business Phone\"]],\n",
    "    left_on=\"Phone\",\n",
    "    right_on=\"Business Phone\",\n",
    "    how=\"left\",\n",
    ")\n",
    "\n",
    "inbound_call_notes.to_csv(\"data/inbound_call_notes.csv\")"
   ]
  }
 ],
 "metadata": {
  "kernelspec": {
   "display_name": "Python 3",
   "language": "python",
   "name": "python3"
  },
  "language_info": {
   "codemirror_mode": {
    "name": "ipython",
    "version": 3
   },
   "file_extension": ".py",
   "mimetype": "text/x-python",
   "name": "python",
   "nbconvert_exporter": "python",
   "pygments_lexer": "ipython3",
   "version": "3.12.0"
  }
 },
 "nbformat": 4,
 "nbformat_minor": 2
}
